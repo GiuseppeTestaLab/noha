{
 "cells": [
  {
   "cell_type": "code",
   "execution_count": 1,
   "metadata": {},
   "outputs": [],
   "source": [
    "##############\n",
    "## input: input-run-MTR_*.csv\n",
    "## output: combined_scRNA_seq_data.h5ad, combined_scRNA_seq_data_39X.h5ad\n",
    "##############"
   ]
  },
  {
   "cell_type": "markdown",
   "metadata": {},
   "source": [
    "# 1. Environment"
   ]
  },
  {
   "cell_type": "code",
   "execution_count": 2,
   "metadata": {},
   "outputs": [],
   "source": [
    "import os\n",
    "import re\n",
    "import csv\n",
    "import glob\n",
    "import numpy as np\n",
    "import pandas as pd\n",
    "import scanpy as sc\n",
    "import anndata as ad\n",
    "from functools import partial\n",
    "from concurrent.futures import ProcessPoolExecutor, as_completed"
   ]
  },
  {
   "cell_type": "code",
   "execution_count": 3,
   "metadata": {},
   "outputs": [],
   "source": [
    "output_dir = \"/group/testa/Project/EndPoints/scRNASeq/preAnalysis/output\"\n",
    "\n",
    "meta_dir = \"/group/testa/Project/EndPoints/2024_singleCell/nextflow/output/cellranger-multi\"\n",
    "data_dir = \"/group/testa/Project/EndPoints/2024_singleCell/nextflow/output/cellranger-multi/filtered_matrix\"        \n",
    "classification_dir = '/group/testa/Project/EndPoints/2024_singleCell/multiseq/classification'                      \n",
    "cmo_dir = \"/group/testa/Project/EndPoints/scRNASeq/preAnalysis/\""
   ]
  },
  {
   "cell_type": "code",
   "execution_count": null,
   "metadata": {},
   "outputs": [],
   "source": [
    "def load_csv_files(classification_dir):\n",
    "    # Get a list of all CSV files in the directory\n",
    "    csv_files = glob.glob(os.path.join(classification_dir, '*_multiseq_class.csv'))\n",
    "    \n",
    "    dataframes = {}\n",
    "    \n",
    "    for file in csv_files:\n",
    "        # Extract the file name without extension\n",
    "        file_name = os.path.basename(file).split('.')[0]\n",
    "        \n",
    "        # Extract the run number\n",
    "        run_number = file_name.split('_')[0]\n",
    "        \n",
    "        # Create the run name (e.g., run_491)\n",
    "        run_name = f\"run_{run_number}\"\n",
    "        \n",
    "        df = pd.read_csv(file, sep='\\t')\n",
    "        \n",
    "        dataframes[run_name] = df\n",
    "    \n",
    "    return dataframes"
   ]
  },
  {
   "cell_type": "code",
   "execution_count": null,
   "metadata": {},
   "outputs": [],
   "source": [
    "def extract_condition_type(file_path):\n",
    "    condition = []\n",
    "    line = []\n",
    "    replicate = []\n",
    "    cmo = []\n",
    "\n",
    "    with open(file_path, 'r') as file:\n",
    "        csv_reader = csv.reader(file)\n",
    "        in_samples_section = False\n",
    "        \n",
    "        for row in csv_reader:\n",
    "            if row and row[0] == 'sample_id':\n",
    "                in_samples_section = True\n",
    "                continue\n",
    "            \n",
    "            if in_samples_section and row:\n",
    "                condition_and_line_and_replicate = row[0]\n",
    "                parts = condition_and_line_and_replicate.split('_')\n",
    "                \n",
    "                condition.append('_'.join(parts[:-2]))\n",
    "                line.append(parts[-2])\n",
    "                replicate.append(parts[-1])\n",
    "                cmo.append(row[1])\n",
    "    \n",
    "    return [condition, line, replicate, cmo]"
   ]
  },
  {
   "cell_type": "code",
   "execution_count": null,
   "metadata": {},
   "outputs": [],
   "source": [
    "def process_run(run_dir):\n",
    "    try:\n",
    "        adata = sc.read_h5ad(os.path.join(run_dir, 'matrix.h5ad'))\n",
    "        run_name = os.path.basename(run_dir).split('_')[-1]\n",
    "        \n",
    "        adata.obs[\"run\"] = run_name\n",
    "        adata.obs = adata.obs.reset_index().rename(columns={'index': 'tags'})\n",
    "        adata.obs['index'] = adata.obs['tags'].astype(str) + '-' + adata.obs['run']\n",
    "        adata.obs.set_index('index', inplace=True)\n",
    "        adata.var_names_make_unique()\n",
    "        adata.obs_names_make_unique()\n",
    "        print(f\"Processed run: {run_name}, Shape: {adata.shape}\")\n",
    "        return adata\n",
    "    except Exception as e:\n",
    "        print(f\"Error processing {run_dir}: {str(e)}\")\n",
    "        return None\n",
    "\n",
    "def process_runs(run_dirs, max_workers=None):\n",
    "    all_data = []\n",
    "    \n",
    "    with ProcessPoolExecutor(max_workers=max_workers) as executor:\n",
    "        future_to_run = {executor.submit(process_run, run_dir): run_dir for run_dir in run_dirs}\n",
    "        \n",
    "        for future in as_completed(future_to_run):\n",
    "            run_dir = future_to_run[future]\n",
    "            try:\n",
    "                adata = future.result()\n",
    "                if adata is not None:\n",
    "                    all_data.append(adata)\n",
    "            except Exception as e:\n",
    "                print(f\"Error processing {run_dir}: {str(e)}\")\n",
    "    \n",
    "    print(f\"Number of processed runs: {len(all_data)}\")\n",
    "    return all_data"
   ]
  },
  {
   "cell_type": "markdown",
   "metadata": {},
   "source": [
    "# 2. Load Classification data"
   ]
  },
  {
   "cell_type": "markdown",
   "metadata": {},
   "source": [
    "|                       | final_call\t| RescuedStatus\t | CMO\t| tags\t                | run |\n",
    "|-----------------------|---------------|----------------|------|-----------------------|-----|\n",
    "| AAACCCAAGAAACCCG-1\t| CMO303\t    | Not_Resc\t     | 303\t| AAACCCAAGAAACCCG-1\t| 501 |\n",
    "| AAACCCAAGGACGCAT-1\t| CMO306\t    | Not_Resc\t     | 306\t| AAACCCAAGGACGCAT-1\t| 501 |\n",
    "| AAACCCAAGTTGAAAC-1\t| CMO305\t    | Not_Resc\t     | 305\t| AAACCCAAGTTGAAAC-1\t| 501 |\n",
    "| AAACCCACAACGGGTA-1\t| CMO306\t    | Not_Resc\t     | 306\t| AAACCCACAACGGGTA-1\t| 501 |\n",
    "| AAACCCACAAGATCCT-1\t| CMO303\t    | Not_Resc\t     | 303\t| AAACCCACAAGATCCT-1\t| 501 |"
   ]
  },
  {
   "cell_type": "code",
   "execution_count": 4,
   "metadata": {},
   "outputs": [],
   "source": [
    "classification_data = load_csv_files(classification_dir)"
   ]
  },
  {
   "cell_type": "code",
   "execution_count": 5,
   "metadata": {},
   "outputs": [
    {
     "name": "stdout",
     "output_type": "stream",
     "text": [
      "['run_491', 'run_492', 'run_493', 'run_494', 'run_495', 'run_496', 'run_497', 'run_498', 'run_499', 'run_500', 'run_501', 'run_502', 'run_503', 'run_504', 'run_505', 'run_506', 'run_507', 'run_509', 'run_510', 'run_511', 'run_512', 'run_513']\n"
     ]
    }
   ],
   "source": [
    "print(sorted(list(classification_data.keys())))"
   ]
  },
  {
   "cell_type": "code",
   "execution_count": 6,
   "metadata": {},
   "outputs": [
    {
     "data": {
      "text/html": [
       "<div>\n",
       "<style scoped>\n",
       "    .dataframe tbody tr th:only-of-type {\n",
       "        vertical-align: middle;\n",
       "    }\n",
       "\n",
       "    .dataframe tbody tr th {\n",
       "        vertical-align: top;\n",
       "    }\n",
       "\n",
       "    .dataframe thead th {\n",
       "        text-align: right;\n",
       "    }\n",
       "</style>\n",
       "<table border=\"1\" class=\"dataframe\">\n",
       "  <thead>\n",
       "    <tr style=\"text-align: right;\">\n",
       "      <th></th>\n",
       "      <th>final.calls.rescued</th>\n",
       "      <th>RescuedStatus</th>\n",
       "    </tr>\n",
       "  </thead>\n",
       "  <tbody>\n",
       "    <tr>\n",
       "      <th>AAACCCAAGAAACCCG-1</th>\n",
       "      <td>CMO303</td>\n",
       "      <td>Not_Resc</td>\n",
       "    </tr>\n",
       "    <tr>\n",
       "      <th>AAACCCAAGAACTGAT-1</th>\n",
       "      <td>Doublet</td>\n",
       "      <td>Not_Resc</td>\n",
       "    </tr>\n",
       "    <tr>\n",
       "      <th>AAACCCAAGCGCCGTT-1</th>\n",
       "      <td>Doublet</td>\n",
       "      <td>Not_Resc</td>\n",
       "    </tr>\n",
       "    <tr>\n",
       "      <th>AAACCCAAGGACGCAT-1</th>\n",
       "      <td>CMO306</td>\n",
       "      <td>Not_Resc</td>\n",
       "    </tr>\n",
       "    <tr>\n",
       "      <th>AAACCCAAGTACGAGC-1</th>\n",
       "      <td>Doublet</td>\n",
       "      <td>Not_Resc</td>\n",
       "    </tr>\n",
       "  </tbody>\n",
       "</table>\n",
       "</div>"
      ],
      "text/plain": [
       "                   final.calls.rescued RescuedStatus\n",
       "AAACCCAAGAAACCCG-1              CMO303      Not_Resc\n",
       "AAACCCAAGAACTGAT-1             Doublet      Not_Resc\n",
       "AAACCCAAGCGCCGTT-1             Doublet      Not_Resc\n",
       "AAACCCAAGGACGCAT-1              CMO306      Not_Resc\n",
       "AAACCCAAGTACGAGC-1             Doublet      Not_Resc"
      ]
     },
     "execution_count": 6,
     "metadata": {},
     "output_type": "execute_result"
    }
   ],
   "source": [
    "classification_data[\"run_501\"].head()"
   ]
  },
  {
   "cell_type": "code",
   "execution_count": 7,
   "metadata": {},
   "outputs": [
    {
     "name": "stdout",
     "output_type": "stream",
     "text": [
      "Warning: 'final_call' column not found in DataFrame for run_509\n"
     ]
    }
   ],
   "source": [
    "for run_name, df in classification_data.items():\n",
    "       if 'final.calls.rescued' in df.columns:\n",
    "              df = df.rename(columns={'final.calls.rescued': 'final_call'})\n",
    "              df = df[~df.final_call.isin(['Doublet' , 'Negative'])]\n",
    "              df['CMO'] = df['final_call'].str.extract('CMO(\\d+)')\n",
    "              df['CMO'] = pd.to_numeric(df['CMO'], errors='coerce').astype('Int64')\n",
    "              df['tags'] = df.index\n",
    "              df['run'] = run_name.split('_')[-1]\n",
    "              classification_data[run_name] = df\n",
    "       else:\n",
    "              print(f\"Warning: 'final_call' column not found in DataFrame for {run_name}\")"
   ]
  },
  {
   "cell_type": "code",
   "execution_count": 8,
   "metadata": {},
   "outputs": [
    {
     "data": {
      "text/html": [
       "<div>\n",
       "<style scoped>\n",
       "    .dataframe tbody tr th:only-of-type {\n",
       "        vertical-align: middle;\n",
       "    }\n",
       "\n",
       "    .dataframe tbody tr th {\n",
       "        vertical-align: top;\n",
       "    }\n",
       "\n",
       "    .dataframe thead th {\n",
       "        text-align: right;\n",
       "    }\n",
       "</style>\n",
       "<table border=\"1\" class=\"dataframe\">\n",
       "  <thead>\n",
       "    <tr style=\"text-align: right;\">\n",
       "      <th></th>\n",
       "      <th>x</th>\n",
       "    </tr>\n",
       "  </thead>\n",
       "  <tbody>\n",
       "    <tr>\n",
       "      <th>AAACCCAAGACACACG-1</th>\n",
       "      <td>Doublet</td>\n",
       "    </tr>\n",
       "    <tr>\n",
       "      <th>AAACCCAAGATTGGGC-1</th>\n",
       "      <td>CMO306</td>\n",
       "    </tr>\n",
       "    <tr>\n",
       "      <th>AAACCCAAGCACACAG-1</th>\n",
       "      <td>CMO303</td>\n",
       "    </tr>\n",
       "    <tr>\n",
       "      <th>AAACCCAAGCCGCTTG-1</th>\n",
       "      <td>CMO303</td>\n",
       "    </tr>\n",
       "    <tr>\n",
       "      <th>AAACCCAAGCCTATTG-1</th>\n",
       "      <td>CMO302</td>\n",
       "    </tr>\n",
       "  </tbody>\n",
       "</table>\n",
       "</div>"
      ],
      "text/plain": [
       "                          x\n",
       "AAACCCAAGACACACG-1  Doublet\n",
       "AAACCCAAGATTGGGC-1   CMO306\n",
       "AAACCCAAGCACACAG-1   CMO303\n",
       "AAACCCAAGCCGCTTG-1   CMO303\n",
       "AAACCCAAGCCTATTG-1   CMO302"
      ]
     },
     "execution_count": 8,
     "metadata": {},
     "output_type": "execute_result"
    }
   ],
   "source": [
    "classification_data[\"run_509\"].head()"
   ]
  },
  {
   "cell_type": "code",
   "execution_count": 9,
   "metadata": {},
   "outputs": [
    {
     "name": "stdout",
     "output_type": "stream",
     "text": [
      "run_509\n"
     ]
    }
   ],
   "source": [
    "to_fix = [\"run_509\"]\n",
    "\n",
    "for run_name in to_fix:\n",
    "       print(run_name)\n",
    "       df = classification_data[run_name]\n",
    "       if 'x' in df.columns:\n",
    "              df = df.rename(columns={'x': 'final_call'})\n",
    "              df = df[~df.final_call.isin(['Doublet' , 'Negative'])]\n",
    "              df['CMO'] = df['final_call'].str.extract('CMO(\\d+)')\n",
    "              df['CMO'] = pd.to_numeric(df['CMO'], errors='coerce').astype('Int64')\n",
    "              df['tags'] = df.index\n",
    "              df['run'] = run_name.split('_')[-1]\n",
    "              classification_data[run_name] = df\n",
    "       else:\n",
    "              print(f\"Warning: 'final_call' column not found in DataFrame for {run_name}\")"
   ]
  },
  {
   "cell_type": "code",
   "execution_count": 10,
   "metadata": {},
   "outputs": [
    {
     "data": {
      "text/html": [
       "<div>\n",
       "<style scoped>\n",
       "    .dataframe tbody tr th:only-of-type {\n",
       "        vertical-align: middle;\n",
       "    }\n",
       "\n",
       "    .dataframe tbody tr th {\n",
       "        vertical-align: top;\n",
       "    }\n",
       "\n",
       "    .dataframe thead th {\n",
       "        text-align: right;\n",
       "    }\n",
       "</style>\n",
       "<table border=\"1\" class=\"dataframe\">\n",
       "  <thead>\n",
       "    <tr style=\"text-align: right;\">\n",
       "      <th></th>\n",
       "      <th>final_call</th>\n",
       "      <th>CMO</th>\n",
       "      <th>tags</th>\n",
       "      <th>run</th>\n",
       "    </tr>\n",
       "  </thead>\n",
       "  <tbody>\n",
       "    <tr>\n",
       "      <th>AAACCCAAGATTGGGC-1</th>\n",
       "      <td>CMO306</td>\n",
       "      <td>306</td>\n",
       "      <td>AAACCCAAGATTGGGC-1</td>\n",
       "      <td>509</td>\n",
       "    </tr>\n",
       "    <tr>\n",
       "      <th>AAACCCAAGCACACAG-1</th>\n",
       "      <td>CMO303</td>\n",
       "      <td>303</td>\n",
       "      <td>AAACCCAAGCACACAG-1</td>\n",
       "      <td>509</td>\n",
       "    </tr>\n",
       "    <tr>\n",
       "      <th>AAACCCAAGCCGCTTG-1</th>\n",
       "      <td>CMO303</td>\n",
       "      <td>303</td>\n",
       "      <td>AAACCCAAGCCGCTTG-1</td>\n",
       "      <td>509</td>\n",
       "    </tr>\n",
       "    <tr>\n",
       "      <th>AAACCCAAGCCTATTG-1</th>\n",
       "      <td>CMO302</td>\n",
       "      <td>302</td>\n",
       "      <td>AAACCCAAGCCTATTG-1</td>\n",
       "      <td>509</td>\n",
       "    </tr>\n",
       "    <tr>\n",
       "      <th>AAACCCAAGGACAAGA-1</th>\n",
       "      <td>CMO304</td>\n",
       "      <td>304</td>\n",
       "      <td>AAACCCAAGGACAAGA-1</td>\n",
       "      <td>509</td>\n",
       "    </tr>\n",
       "  </tbody>\n",
       "</table>\n",
       "</div>"
      ],
      "text/plain": [
       "                   final_call  CMO                tags  run\n",
       "AAACCCAAGATTGGGC-1     CMO306  306  AAACCCAAGATTGGGC-1  509\n",
       "AAACCCAAGCACACAG-1     CMO303  303  AAACCCAAGCACACAG-1  509\n",
       "AAACCCAAGCCGCTTG-1     CMO303  303  AAACCCAAGCCGCTTG-1  509\n",
       "AAACCCAAGCCTATTG-1     CMO302  302  AAACCCAAGCCTATTG-1  509\n",
       "AAACCCAAGGACAAGA-1     CMO304  304  AAACCCAAGGACAAGA-1  509"
      ]
     },
     "execution_count": 10,
     "metadata": {},
     "output_type": "execute_result"
    }
   ],
   "source": [
    "classification_data[\"run_509\"].head()\n",
    "# del classification_data[\"run_509\"]"
   ]
  },
  {
   "cell_type": "code",
   "execution_count": 11,
   "metadata": {},
   "outputs": [
    {
     "data": {
      "text/html": [
       "<div>\n",
       "<style scoped>\n",
       "    .dataframe tbody tr th:only-of-type {\n",
       "        vertical-align: middle;\n",
       "    }\n",
       "\n",
       "    .dataframe tbody tr th {\n",
       "        vertical-align: top;\n",
       "    }\n",
       "\n",
       "    .dataframe thead th {\n",
       "        text-align: right;\n",
       "    }\n",
       "</style>\n",
       "<table border=\"1\" class=\"dataframe\">\n",
       "  <thead>\n",
       "    <tr style=\"text-align: right;\">\n",
       "      <th></th>\n",
       "      <th>final_call</th>\n",
       "      <th>RescuedStatus</th>\n",
       "      <th>CMO</th>\n",
       "      <th>tags</th>\n",
       "      <th>run</th>\n",
       "    </tr>\n",
       "  </thead>\n",
       "  <tbody>\n",
       "    <tr>\n",
       "      <th>AAACCCAAGAAACCCG-1</th>\n",
       "      <td>CMO303</td>\n",
       "      <td>Not_Resc</td>\n",
       "      <td>303</td>\n",
       "      <td>AAACCCAAGAAACCCG-1</td>\n",
       "      <td>501</td>\n",
       "    </tr>\n",
       "    <tr>\n",
       "      <th>AAACCCAAGGACGCAT-1</th>\n",
       "      <td>CMO306</td>\n",
       "      <td>Not_Resc</td>\n",
       "      <td>306</td>\n",
       "      <td>AAACCCAAGGACGCAT-1</td>\n",
       "      <td>501</td>\n",
       "    </tr>\n",
       "    <tr>\n",
       "      <th>AAACCCAAGTTGAAAC-1</th>\n",
       "      <td>CMO305</td>\n",
       "      <td>Not_Resc</td>\n",
       "      <td>305</td>\n",
       "      <td>AAACCCAAGTTGAAAC-1</td>\n",
       "      <td>501</td>\n",
       "    </tr>\n",
       "    <tr>\n",
       "      <th>AAACCCACAACGGGTA-1</th>\n",
       "      <td>CMO306</td>\n",
       "      <td>Not_Resc</td>\n",
       "      <td>306</td>\n",
       "      <td>AAACCCACAACGGGTA-1</td>\n",
       "      <td>501</td>\n",
       "    </tr>\n",
       "    <tr>\n",
       "      <th>AAACCCACAAGATCCT-1</th>\n",
       "      <td>CMO303</td>\n",
       "      <td>Not_Resc</td>\n",
       "      <td>303</td>\n",
       "      <td>AAACCCACAAGATCCT-1</td>\n",
       "      <td>501</td>\n",
       "    </tr>\n",
       "  </tbody>\n",
       "</table>\n",
       "</div>"
      ],
      "text/plain": [
       "                   final_call RescuedStatus  CMO                tags  run\n",
       "AAACCCAAGAAACCCG-1     CMO303      Not_Resc  303  AAACCCAAGAAACCCG-1  501\n",
       "AAACCCAAGGACGCAT-1     CMO306      Not_Resc  306  AAACCCAAGGACGCAT-1  501\n",
       "AAACCCAAGTTGAAAC-1     CMO305      Not_Resc  305  AAACCCAAGTTGAAAC-1  501\n",
       "AAACCCACAACGGGTA-1     CMO306      Not_Resc  306  AAACCCACAACGGGTA-1  501\n",
       "AAACCCACAAGATCCT-1     CMO303      Not_Resc  303  AAACCCACAAGATCCT-1  501"
      ]
     },
     "execution_count": 11,
     "metadata": {},
     "output_type": "execute_result"
    }
   ],
   "source": [
    "classification_data[\"run_501\"].head()"
   ]
  },
  {
   "cell_type": "markdown",
   "metadata": {},
   "source": [
    "## 2.1 Combine Classification_data"
   ]
  },
  {
   "cell_type": "code",
   "execution_count": 12,
   "metadata": {},
   "outputs": [],
   "source": [
    "classification_data = pd.concat(classification_data.values(), keys=classification_data.keys(), ignore_index=False)\n",
    "classification_data = classification_data.reset_index(drop=True)"
   ]
  },
  {
   "cell_type": "code",
   "execution_count": 13,
   "metadata": {},
   "outputs": [
    {
     "data": {
      "text/html": [
       "<div>\n",
       "<style scoped>\n",
       "    .dataframe tbody tr th:only-of-type {\n",
       "        vertical-align: middle;\n",
       "    }\n",
       "\n",
       "    .dataframe tbody tr th {\n",
       "        vertical-align: top;\n",
       "    }\n",
       "\n",
       "    .dataframe thead th {\n",
       "        text-align: right;\n",
       "    }\n",
       "</style>\n",
       "<table border=\"1\" class=\"dataframe\">\n",
       "  <thead>\n",
       "    <tr style=\"text-align: right;\">\n",
       "      <th></th>\n",
       "      <th>final_call</th>\n",
       "      <th>RescuedStatus</th>\n",
       "      <th>CMO</th>\n",
       "      <th>tags</th>\n",
       "      <th>run</th>\n",
       "    </tr>\n",
       "  </thead>\n",
       "  <tbody>\n",
       "    <tr>\n",
       "      <th>0</th>\n",
       "      <td>CMO309</td>\n",
       "      <td>Not_Resc</td>\n",
       "      <td>309</td>\n",
       "      <td>AAACCCAAGCTCAGAG-1</td>\n",
       "      <td>510</td>\n",
       "    </tr>\n",
       "    <tr>\n",
       "      <th>1</th>\n",
       "      <td>CMO310</td>\n",
       "      <td>Not_Resc</td>\n",
       "      <td>310</td>\n",
       "      <td>AAACCCAAGGAGCTGT-1</td>\n",
       "      <td>510</td>\n",
       "    </tr>\n",
       "    <tr>\n",
       "      <th>2</th>\n",
       "      <td>CMO312</td>\n",
       "      <td>Not_Resc</td>\n",
       "      <td>312</td>\n",
       "      <td>AAACCCAAGGCACAAC-1</td>\n",
       "      <td>510</td>\n",
       "    </tr>\n",
       "    <tr>\n",
       "      <th>3</th>\n",
       "      <td>CMO309</td>\n",
       "      <td>Not_Resc</td>\n",
       "      <td>309</td>\n",
       "      <td>AAACCCAAGGGTTGCA-1</td>\n",
       "      <td>510</td>\n",
       "    </tr>\n",
       "    <tr>\n",
       "      <th>4</th>\n",
       "      <td>CMO309</td>\n",
       "      <td>Not_Resc</td>\n",
       "      <td>309</td>\n",
       "      <td>AAACCCACAAGTGGAC-1</td>\n",
       "      <td>510</td>\n",
       "    </tr>\n",
       "  </tbody>\n",
       "</table>\n",
       "</div>"
      ],
      "text/plain": [
       "  final_call RescuedStatus  CMO                tags  run\n",
       "0     CMO309      Not_Resc  309  AAACCCAAGCTCAGAG-1  510\n",
       "1     CMO310      Not_Resc  310  AAACCCAAGGAGCTGT-1  510\n",
       "2     CMO312      Not_Resc  312  AAACCCAAGGCACAAC-1  510\n",
       "3     CMO309      Not_Resc  309  AAACCCAAGGGTTGCA-1  510\n",
       "4     CMO309      Not_Resc  309  AAACCCACAAGTGGAC-1  510"
      ]
     },
     "execution_count": 13,
     "metadata": {},
     "output_type": "execute_result"
    }
   ],
   "source": [
    "classification_data.head()"
   ]
  },
  {
   "cell_type": "code",
   "execution_count": 14,
   "metadata": {},
   "outputs": [],
   "source": [
    "classification_data = classification_data.rename(columns={'CONDITION': 'condition', 'CELL LINE': 'line', 'CMO': 'cmo'})"
   ]
  },
  {
   "cell_type": "code",
   "execution_count": 15,
   "metadata": {},
   "outputs": [],
   "source": [
    "classification_data['run'] = pd.to_numeric(classification_data['run'], errors='coerce').astype('Int64')"
   ]
  },
  {
   "cell_type": "code",
   "execution_count": 16,
   "metadata": {},
   "outputs": [
    {
     "data": {
      "text/plain": [
       "(492061, 5)"
      ]
     },
     "execution_count": 16,
     "metadata": {},
     "output_type": "execute_result"
    }
   ],
   "source": [
    "classification_data.shape"
   ]
  },
  {
   "cell_type": "code",
   "execution_count": 17,
   "metadata": {},
   "outputs": [
    {
     "name": "stdout",
     "output_type": "stream",
     "text": [
      "[491, 492, 493, 494, 495, 496, 497, 498, 499, 500, 501, 502, 503, 504, 505, 506, 507, 509, 510, 511, 512, 513]\n",
      "[491, 492, 493, 494, 495, 496, 497, 498, 499, 500, 501, 502, 503, 504, 505, 506, 507, 508, 509, 510, 511, 512, 513]\n"
     ]
    }
   ],
   "source": [
    "extracted_runs = sorted(list(classification_data.run.unique()))\n",
    "print(extracted_runs)\n",
    "valid_range = list(range(491, 514))\n",
    "print(valid_range)"
   ]
  },
  {
   "cell_type": "code",
   "execution_count": 18,
   "metadata": {},
   "outputs": [
    {
     "data": {
      "text/plain": [
       "<Axes: xlabel='run'>"
      ]
     },
     "execution_count": 18,
     "metadata": {},
     "output_type": "execute_result"
    },
    {
     "data": {
      "image/png": "[encoded data removed]",
      "text/plain": [
       "<Figure size 640x480 with 1 Axes>"
      ]
     },
     "metadata": {},
     "output_type": "display_data"
    }
   ],
   "source": [
    "sorted_runs = sorted(classification_data['run'].unique())\n",
    "\n",
    "classification_data['run'].value_counts().reindex(sorted_runs).plot.bar(color=['#279e68', '#d62728', '#ff7f0e', '#1f77b4'])"
   ]
  },
  {
   "cell_type": "markdown",
   "metadata": {},
   "source": [
    "## 2.2. Make tags unique"
   ]
  },
  {
   "cell_type": "code",
   "execution_count": 19,
   "metadata": {},
   "outputs": [
    {
     "data": {
      "text/html": [
       "<div>\n",
       "<style scoped>\n",
       "    .dataframe tbody tr th:only-of-type {\n",
       "        vertical-align: middle;\n",
       "    }\n",
       "\n",
       "    .dataframe tbody tr th {\n",
       "        vertical-align: top;\n",
       "    }\n",
       "\n",
       "    .dataframe thead th {\n",
       "        text-align: right;\n",
       "    }\n",
       "</style>\n",
       "<table border=\"1\" class=\"dataframe\">\n",
       "  <thead>\n",
       "    <tr style=\"text-align: right;\">\n",
       "      <th></th>\n",
       "      <th>final_call</th>\n",
       "      <th>RescuedStatus</th>\n",
       "      <th>cmo</th>\n",
       "      <th>tags</th>\n",
       "      <th>run</th>\n",
       "    </tr>\n",
       "  </thead>\n",
       "  <tbody>\n",
       "    <tr>\n",
       "      <th>0</th>\n",
       "      <td>CMO309</td>\n",
       "      <td>Not_Resc</td>\n",
       "      <td>309</td>\n",
       "      <td>AAACCCAAGCTCAGAG-1</td>\n",
       "      <td>510</td>\n",
       "    </tr>\n",
       "    <tr>\n",
       "      <th>1</th>\n",
       "      <td>CMO310</td>\n",
       "      <td>Not_Resc</td>\n",
       "      <td>310</td>\n",
       "      <td>AAACCCAAGGAGCTGT-1</td>\n",
       "      <td>510</td>\n",
       "    </tr>\n",
       "    <tr>\n",
       "      <th>2</th>\n",
       "      <td>CMO312</td>\n",
       "      <td>Not_Resc</td>\n",
       "      <td>312</td>\n",
       "      <td>AAACCCAAGGCACAAC-1</td>\n",
       "      <td>510</td>\n",
       "    </tr>\n",
       "    <tr>\n",
       "      <th>3</th>\n",
       "      <td>CMO309</td>\n",
       "      <td>Not_Resc</td>\n",
       "      <td>309</td>\n",
       "      <td>AAACCCAAGGGTTGCA-1</td>\n",
       "      <td>510</td>\n",
       "    </tr>\n",
       "    <tr>\n",
       "      <th>4</th>\n",
       "      <td>CMO309</td>\n",
       "      <td>Not_Resc</td>\n",
       "      <td>309</td>\n",
       "      <td>AAACCCACAAGTGGAC-1</td>\n",
       "      <td>510</td>\n",
       "    </tr>\n",
       "  </tbody>\n",
       "</table>\n",
       "</div>"
      ],
      "text/plain": [
       "  final_call RescuedStatus  cmo                tags  run\n",
       "0     CMO309      Not_Resc  309  AAACCCAAGCTCAGAG-1  510\n",
       "1     CMO310      Not_Resc  310  AAACCCAAGGAGCTGT-1  510\n",
       "2     CMO312      Not_Resc  312  AAACCCAAGGCACAAC-1  510\n",
       "3     CMO309      Not_Resc  309  AAACCCAAGGGTTGCA-1  510\n",
       "4     CMO309      Not_Resc  309  AAACCCACAAGTGGAC-1  510"
      ]
     },
     "execution_count": 19,
     "metadata": {},
     "output_type": "execute_result"
    }
   ],
   "source": [
    "classification_data.head()"
   ]
  },
  {
   "cell_type": "code",
   "execution_count": 20,
   "metadata": {},
   "outputs": [],
   "source": [
    "classification_data['unique_index'] = classification_data['tags'].astype(str) + '-' + classification_data['run'].astype(str)\n",
    "classification_data = classification_data.set_index('unique_index')"
   ]
  },
  {
   "cell_type": "code",
   "execution_count": 21,
   "metadata": {},
   "outputs": [],
   "source": [
    "if classification_data.index.name != 'unique_index':\n",
    "    classification_data = classification_data.set_index('unique_index')"
   ]
  },
  {
   "cell_type": "code",
   "execution_count": 22,
   "metadata": {},
   "outputs": [],
   "source": [
    "classification_data = classification_data.reset_index()"
   ]
  },
  {
   "cell_type": "code",
   "execution_count": 23,
   "metadata": {},
   "outputs": [
    {
     "data": {
      "text/html": [
       "<div>\n",
       "<style scoped>\n",
       "    .dataframe tbody tr th:only-of-type {\n",
       "        vertical-align: middle;\n",
       "    }\n",
       "\n",
       "    .dataframe tbody tr th {\n",
       "        vertical-align: top;\n",
       "    }\n",
       "\n",
       "    .dataframe thead th {\n",
       "        text-align: right;\n",
       "    }\n",
       "</style>\n",
       "<table border=\"1\" class=\"dataframe\">\n",
       "  <thead>\n",
       "    <tr style=\"text-align: right;\">\n",
       "      <th></th>\n",
       "      <th>unique_index</th>\n",
       "      <th>final_call</th>\n",
       "      <th>RescuedStatus</th>\n",
       "      <th>cmo</th>\n",
       "      <th>tags</th>\n",
       "      <th>run</th>\n",
       "    </tr>\n",
       "  </thead>\n",
       "  <tbody>\n",
       "    <tr>\n",
       "      <th>0</th>\n",
       "      <td>AAACCCAAGCTCAGAG-1-510</td>\n",
       "      <td>CMO309</td>\n",
       "      <td>Not_Resc</td>\n",
       "      <td>309</td>\n",
       "      <td>AAACCCAAGCTCAGAG-1</td>\n",
       "      <td>510</td>\n",
       "    </tr>\n",
       "    <tr>\n",
       "      <th>1</th>\n",
       "      <td>AAACCCAAGGAGCTGT-1-510</td>\n",
       "      <td>CMO310</td>\n",
       "      <td>Not_Resc</td>\n",
       "      <td>310</td>\n",
       "      <td>AAACCCAAGGAGCTGT-1</td>\n",
       "      <td>510</td>\n",
       "    </tr>\n",
       "    <tr>\n",
       "      <th>2</th>\n",
       "      <td>AAACCCAAGGCACAAC-1-510</td>\n",
       "      <td>CMO312</td>\n",
       "      <td>Not_Resc</td>\n",
       "      <td>312</td>\n",
       "      <td>AAACCCAAGGCACAAC-1</td>\n",
       "      <td>510</td>\n",
       "    </tr>\n",
       "    <tr>\n",
       "      <th>3</th>\n",
       "      <td>AAACCCAAGGGTTGCA-1-510</td>\n",
       "      <td>CMO309</td>\n",
       "      <td>Not_Resc</td>\n",
       "      <td>309</td>\n",
       "      <td>AAACCCAAGGGTTGCA-1</td>\n",
       "      <td>510</td>\n",
       "    </tr>\n",
       "    <tr>\n",
       "      <th>4</th>\n",
       "      <td>AAACCCACAAGTGGAC-1-510</td>\n",
       "      <td>CMO309</td>\n",
       "      <td>Not_Resc</td>\n",
       "      <td>309</td>\n",
       "      <td>AAACCCACAAGTGGAC-1</td>\n",
       "      <td>510</td>\n",
       "    </tr>\n",
       "  </tbody>\n",
       "</table>\n",
       "</div>"
      ],
      "text/plain": [
       "             unique_index final_call RescuedStatus  cmo                tags  \\\n",
       "0  AAACCCAAGCTCAGAG-1-510     CMO309      Not_Resc  309  AAACCCAAGCTCAGAG-1   \n",
       "1  AAACCCAAGGAGCTGT-1-510     CMO310      Not_Resc  310  AAACCCAAGGAGCTGT-1   \n",
       "2  AAACCCAAGGCACAAC-1-510     CMO312      Not_Resc  312  AAACCCAAGGCACAAC-1   \n",
       "3  AAACCCAAGGGTTGCA-1-510     CMO309      Not_Resc  309  AAACCCAAGGGTTGCA-1   \n",
       "4  AAACCCACAAGTGGAC-1-510     CMO309      Not_Resc  309  AAACCCACAAGTGGAC-1   \n",
       "\n",
       "   run  \n",
       "0  510  \n",
       "1  510  \n",
       "2  510  \n",
       "3  510  \n",
       "4  510  "
      ]
     },
     "execution_count": 23,
     "metadata": {},
     "output_type": "execute_result"
    }
   ],
   "source": [
    "classification_data.head()"
   ]
  },
  {
   "cell_type": "code",
   "execution_count": 24,
   "metadata": {},
   "outputs": [],
   "source": [
    "if classification_data.index.duplicated().any():\n",
    "    duplicate_count = classification_data.index.duplicated().sum()\n",
    "    print(f\"Warning: {duplicate_count} duplicate indices found in classification_data.\")\n",
    "    # classification_data = classification_data[~classification_data.index.duplicated(keep='first')]\n",
    "    # classification_data = classification_data[~classification_data.index.duplicated(keep=False)]\n",
    "    # print(f\"Removed {duplicate_count} rows. New shape of classification_data: {classification_data.shape}\")"
   ]
  },
  {
   "cell_type": "markdown",
   "metadata": {},
   "source": [
    "# 3. Load Cell Multiplexing Oligo - Not used"
   ]
  },
  {
   "cell_type": "markdown",
   "metadata": {},
   "source": [
    "| | CONDITION | CELL LINE | MIX Name | CMO |\n",
    "|--|-----------|-----------|----------|-----|\n",
    "| 0 | ESTROGEN AGONIST | CTL04E | MIX 1 | 301 |\n",
    "| 1 | ESTROGEN AGONIST | CTL04E | MIX 1 | 302 |\n",
    "| 2 | ESTROGEN AGONIST | CTL04E | MIX 1 | 303 |\n",
    "| 3 | ESTROGEN AGONIST | CTL08A | MIX 1 | 304 |\n",
    "| 4 | ESTROGEN AGONIST | CTL08A | MIX 1 | 305 |"
   ]
  },
  {
   "cell_type": "code",
   "execution_count": 25,
   "metadata": {},
   "outputs": [],
   "source": [
    "cmo_file_path = os.path.join(cmo_dir, \"single_cell_CMO_sheet.xlsx\")\n",
    "\n",
    "cmo_mapping = pd.read_excel(cmo_file_path)\n",
    "cmo_mapping['CMO'] = pd.to_numeric(cmo_mapping['CMO'], errors='coerce').astype('Int64')"
   ]
  },
  {
   "cell_type": "code",
   "execution_count": 26,
   "metadata": {},
   "outputs": [
    {
     "data": {
      "text/html": [
       "<div>\n",
       "<style scoped>\n",
       "    .dataframe tbody tr th:only-of-type {\n",
       "        vertical-align: middle;\n",
       "    }\n",
       "\n",
       "    .dataframe tbody tr th {\n",
       "        vertical-align: top;\n",
       "    }\n",
       "\n",
       "    .dataframe thead th {\n",
       "        text-align: right;\n",
       "    }\n",
       "</style>\n",
       "<table border=\"1\" class=\"dataframe\">\n",
       "  <thead>\n",
       "    <tr style=\"text-align: right;\">\n",
       "      <th></th>\n",
       "      <th>CONDITION</th>\n",
       "      <th>CELL LINE</th>\n",
       "      <th>MIX Name</th>\n",
       "      <th>CMO</th>\n",
       "    </tr>\n",
       "  </thead>\n",
       "  <tbody>\n",
       "    <tr>\n",
       "      <th>0</th>\n",
       "      <td>ESTROGEN AGONIST</td>\n",
       "      <td>CTL04E</td>\n",
       "      <td>MIX 1</td>\n",
       "      <td>301</td>\n",
       "    </tr>\n",
       "    <tr>\n",
       "      <th>1</th>\n",
       "      <td>ESTROGEN AGONIST</td>\n",
       "      <td>CTL04E</td>\n",
       "      <td>MIX 1</td>\n",
       "      <td>302</td>\n",
       "    </tr>\n",
       "    <tr>\n",
       "      <th>2</th>\n",
       "      <td>ESTROGEN AGONIST</td>\n",
       "      <td>CTL04E</td>\n",
       "      <td>MIX 1</td>\n",
       "      <td>303</td>\n",
       "    </tr>\n",
       "    <tr>\n",
       "      <th>3</th>\n",
       "      <td>ESTROGEN AGONIST</td>\n",
       "      <td>CTL08A</td>\n",
       "      <td>MIX 1</td>\n",
       "      <td>304</td>\n",
       "    </tr>\n",
       "    <tr>\n",
       "      <th>4</th>\n",
       "      <td>ESTROGEN AGONIST</td>\n",
       "      <td>CTL08A</td>\n",
       "      <td>MIX 1</td>\n",
       "      <td>305</td>\n",
       "    </tr>\n",
       "  </tbody>\n",
       "</table>\n",
       "</div>"
      ],
      "text/plain": [
       "          CONDITION CELL LINE MIX Name  CMO\n",
       "0  ESTROGEN AGONIST    CTL04E    MIX 1  301\n",
       "1  ESTROGEN AGONIST    CTL04E    MIX 1  302\n",
       "2  ESTROGEN AGONIST    CTL04E    MIX 1  303\n",
       "3  ESTROGEN AGONIST    CTL08A    MIX 1  304\n",
       "4  ESTROGEN AGONIST    CTL08A    MIX 1  305"
      ]
     },
     "execution_count": 26,
     "metadata": {},
     "output_type": "execute_result"
    }
   ],
   "source": [
    "cmo_mapping.head()"
   ]
  },
  {
   "cell_type": "code",
   "execution_count": 27,
   "metadata": {},
   "outputs": [
    {
     "data": {
      "text/plain": [
       "<IntegerArray>\n",
       "[301, 302, 303, 304, 305, 306, 307, 308, 309, 310, 311, 312, <NA>]\n",
       "Length: 13, dtype: Int64"
      ]
     },
     "execution_count": 27,
     "metadata": {},
     "output_type": "execute_result"
    }
   ],
   "source": [
    "cmo_mapping[\"MIX Name\"].unique()\n",
    "cmo_mapping[\"CMO\"].unique()"
   ]
  },
  {
   "cell_type": "markdown",
   "metadata": {},
   "source": [
    "# 4. Load Metadata  "
   ]
  },
  {
   "cell_type": "code",
   "execution_count": 28,
   "metadata": {},
   "outputs": [
    {
     "name": "stdout",
     "output_type": "stream",
     "text": [
      "['MTR_491.csv', 'MTR_492.csv', 'MTR_493.csv', 'MTR_494.csv', 'MTR_495.csv', 'MTR_496.csv', 'MTR_497.csv', 'MTR_498.csv', 'MTR_499.csv', 'MTR_500.csv', 'MTR_501.csv', 'MTR_502.csv', 'MTR_503.csv', 'MTR_504.csv', 'MTR_505.csv', 'MTR_506.csv', 'MTR_507.csv', 'MTR_508.csv', 'MTR_509.csv', 'MTR_510.csv', 'MTR_511.csv', 'MTR_512.csv', 'MTR_513.csv']\n"
     ]
    }
   ],
   "source": [
    "all_data = []\n",
    "\n",
    "# Find all run directories\n",
    "meta_dirs = glob.glob(os.path.join(meta_dir, 'input-run-MTR_*.csv'))\n",
    "print(sorted([file.split('/')[-1].split('-')[-1] for file in meta_dirs]))"
   ]
  },
  {
   "cell_type": "code",
   "execution_count": 30,
   "metadata": {},
   "outputs": [
    {
     "name": "stdout",
     "output_type": "stream",
     "text": [
      "Processing file: /group/testa/Project/EndPoints/2024_singleCell/nextflow/output/cellranger-multi/input-run-MTR_493.csv\n",
      "Run: 493\n",
      "Meta data: [['ANDROGEN_AGONIST', 'ANDROGEN_AGONIST', 'ANDROGEN_AGONIST', 'ANDROGEN_AGONIST', 'ANDROGEN_AGONIST', 'ANDROGEN_AGONIST'], ['CTL04E', 'CTL04E', 'CTL04E', 'CTL08A', 'CTL08A', 'CTL08A'], ['1', '2', '3', '1', '2', '3'], ['CMO301', 'CMO302', 'CMO303', 'CMO304', 'CMO305', 'CMO306']]\n",
      "Processing file: /group/testa/Project/EndPoints/2024_singleCell/nextflow/output/cellranger-multi/input-run-MTR_507.csv\n",
      "Run: 507\n",
      "Meta data: [['MEP', 'MEP', 'MEP', 'MEP', 'MEP', 'MEP'], ['CTL04E', 'CTL04E', 'CTL04E', 'CTL08A', 'CTL08A', 'CTL08A'], ['1', '2', '3', '1', '2', '3'], ['CMO301', 'CMO302', 'CMO303', 'CMO304', 'CMO305', 'CMO306']]\n",
      "Processing file: /group/testa/Project/EndPoints/2024_singleCell/nextflow/output/cellranger-multi/input-run-MTR_491.csv\n",
      "Run: 491\n",
      "Meta data: [['ESTROGEN_AGONIST', 'ESTROGEN_AGONIST', 'ESTROGEN_AGONIST', 'ESTROGEN_AGONIST', 'ESTROGEN_AGONIST', 'ESTROGEN_AGONIST'], ['CTL04E', 'CTL04E', 'CTL04E', 'CTL08A', 'CTL08A', 'CTL08A'], ['1', '2', '3', '1', '2', '3'], ['CMO301', 'CMO302', 'CMO303', 'CMO304', 'CMO305', 'CMO306']]\n",
      "Processing file: /group/testa/Project/EndPoints/2024_singleCell/nextflow/output/cellranger-multi/input-run-MTR_498.csv\n",
      "Run: 498\n",
      "Meta data: [['LIVER-X_ANTAGONIST', 'LIVER-X_ANTAGONIST', 'LIVER-X_ANTAGONIST', 'LIVER-X_ANTAGONIST', 'LIVER-X_ANTAGONIST', 'LIVER-X_ANTAGONIST'], ['CTL04E', 'CTL04E', 'CTL04E', 'CTL08A', 'CTL08A', 'CTL08A'], ['1', '2', '3', '1', '2', '3'], ['CMO307', 'CMO308', 'CMO309', 'CMO310', 'CMO311', 'CMO312']]\n",
      "Processing file: /group/testa/Project/EndPoints/2024_singleCell/nextflow/output/cellranger-multi/input-run-MTR_492.csv\n",
      "Run: 492\n",
      "Meta data: [['ESTROGEN_ANTAGONIST', 'ESTROGEN_ANTAGONIST', 'ESTROGEN_ANTAGONIST', 'ESTROGEN_ANTAGONIST', 'ESTROGEN_ANTAGONIST', 'ESTROGEN_ANTAGONIST'], ['CTL04E', 'CTL04E', 'CTL04E', 'CTL08A', 'CTL08A', 'CTL08A'], ['1', '2', '3', '1', '2', '3'], ['CMO301', 'CMO302', 'CMO303', 'CMO304', 'CMO305', 'CMO306']]\n",
      "Processing file: /group/testa/Project/EndPoints/2024_singleCell/nextflow/output/cellranger-multi/input-run-MTR_511.csv\n",
      "Run: 511\n",
      "Meta data: [['MBzP', 'MBzP', 'MBzP', 'MBzP', 'MBzP', 'MBzP'], ['CTL04E', 'CTL04E', 'CTL04E', 'CTL08A', 'CTL08A', 'CTL08A'], ['1', '2', '3', '1', '2', '3'], ['CMO307', 'CMO308', 'CMO309', 'CMO310', 'CMO311', 'CMO312']]\n",
      "Processing file: /group/testa/Project/EndPoints/2024_singleCell/nextflow/output/cellranger-multi/input-run-MTR_510.csv\n",
      "Run: 510\n",
      "Meta data: [['BPF', 'BPF', 'BPF', 'BPF', 'BPF', 'BPF'], ['CTL04E', 'CTL04E', 'CTL04E', 'CTL08A', 'CTL08A', 'CTL08A'], ['1', '2', '3', '1', '2', '3'], ['CMO307', 'CMO308', 'CMO309', 'CMO310', 'CMO311', 'CMO312']]\n",
      "Processing file: /group/testa/Project/EndPoints/2024_singleCell/nextflow/output/cellranger-multi/input-run-MTR_497.csv\n",
      "Run: 497\n",
      "Meta data: [['LIVER-X_AGONIST', 'LIVER-X_AGONIST', 'LIVER-X_AGONIST', 'LIVER-X_AGONIST', 'LIVER-X_AGONIST', 'LIVER-X_AGONIST'], ['CTL04E', 'CTL04E', 'CTL04E', 'CTL08A', 'CTL08A', 'CTL08A'], ['1', '2', '3', '1', '2', '3'], ['CMO307', 'CMO308', 'CMO309', 'CMO310', 'CMO311', 'CMO312']]\n",
      "Processing file: /group/testa/Project/EndPoints/2024_singleCell/nextflow/output/cellranger-multi/input-run-MTR_512.csv\n",
      "Run: 512\n",
      "Meta data: [['TCP', 'TCP', 'TCP', 'TCP', 'TCP', 'TCP'], ['CTL04E', 'CTL04E', 'CTL04E', 'CTL08A', 'CTL08A', 'CTL08A'], ['1', '2', '3', '1', '2', '3'], ['CMO307', 'CMO308', 'CMO309', 'CMO310', 'CMO311', 'CMO312']]\n",
      "Processing file: /group/testa/Project/EndPoints/2024_singleCell/nextflow/output/cellranger-multi/input-run-MTR_509.csv\n",
      "Run: 509\n",
      "Meta data: [['RET_ANTAGONIST', 'RET_ANTAGONIST', 'RET_ANTAGONIST', 'RET_ANTAGONIST', 'RET_ANTAGONIST', 'RET_ANTAGONIST'], ['CTL04E', 'CTL04E', 'CTL04E', 'CTL08A', 'CTL08A', 'CTL08A'], ['1', '2', '3', '1', '2', '3'], ['CMO301', 'CMO302', 'CMO303', 'CMO304', 'CMO305', 'CMO306']]\n",
      "Processing file: /group/testa/Project/EndPoints/2024_singleCell/nextflow/output/cellranger-multi/input-run-MTR_502.csv\n",
      "Run: 502\n",
      "Meta data: [['THYROID_ANTAGONIST', 'THYROID_ANTAGONIST', 'THYROID_ANTAGONIST', 'THYROID_ANTAGONIST', 'THYROID_ANTAGONIST', 'THYROID_ANTAGONIST'], ['CTL04E', 'CTL04E', 'CTL04E', 'CTL08A', 'CTL08A', 'CTL08A'], ['1', '2', '3', '1', '2', '3'], ['CMO301', 'CMO302', 'CMO303', 'CMO304', 'CMO305', 'CMO306']]\n",
      "Processing file: /group/testa/Project/EndPoints/2024_singleCell/nextflow/output/cellranger-multi/input-run-MTR_496.csv\n",
      "Run: 496\n",
      "Meta data: [['ARYL_HYD_ANTAGONIST', 'ARYL_HYD_ANTAGONIST', 'ARYL_HYD_ANTAGONIST', 'ARYL_HYD_ANTAGONIST', 'ARYL_HYD_ANTAGONIST', 'ARYL_HYD_ANTAGONIST'], ['CTL04E', 'CTL04E', 'CTL04E', 'CTL08A', 'CTL08A', 'CTL08A'], ['1', '2', '3', '1', '2', '3'], ['CMO307', 'CMO308', 'CMO309', 'CMO310', 'CMO311', 'CMO312']]\n",
      "Processing file: /group/testa/Project/EndPoints/2024_singleCell/nextflow/output/cellranger-multi/input-run-MTR_500.csv\n",
      "Run: 500\n",
      "Meta data: [['GLUCOCORT_ANTAGONIST', 'GLUCOCORT_ANTAGONIST', 'GLUCOCORT_ANTAGONIST', 'GLUCOCORT_ANTAGONIST', 'GLUCOCORT_ANTAGONIST', 'GLUCOCORT_ANTAGONIST'], ['CTL04E', 'CTL04E', 'CTL04E', 'CTL08A', 'CTL08A', 'CTL08A'], ['1', '2', '3', '1', '2', '3'], ['CMO301', 'CMO302', 'CMO303', 'CMO304', 'CMO305', 'CMO306']]\n",
      "Processing file: /group/testa/Project/EndPoints/2024_singleCell/nextflow/output/cellranger-multi/input-run-MTR_495.csv\n",
      "Run: 495\n",
      "Meta data: [['ARYL_HYD_AGONIST', 'ARYL_HYD_AGONIST', 'ARYL_HYD_AGONIST', 'ARYL_HYD_AGONIST', 'ARYL_HYD_AGONIST', 'ARYL_HYD_AGONIST'], ['CTL04E', 'CTL04E', 'CTL04E', 'CTL08A', 'CTL08A', 'CTL08A'], ['1', '2', '3', '1', '2', '3'], ['CMO307', 'CMO308', 'CMO309', 'CMO310', 'CMO311', 'CMO312']]\n",
      "Processing file: /group/testa/Project/EndPoints/2024_singleCell/nextflow/output/cellranger-multi/input-run-MTR_506.csv\n",
      "Run: 506\n",
      "Meta data: [['BPA', 'BPA', 'BPA', 'BPA', 'BPA', 'BPA'], ['CTL04E', 'CTL04E', 'CTL04E', 'CTL08A', 'CTL08A', 'CTL08A'], ['1', '2', '3', '1', '2', '3'], ['CMO301', 'CMO302', 'CMO303', 'CMO304', 'CMO305', 'CMO306']]\n",
      "Processing file: /group/testa/Project/EndPoints/2024_singleCell/nextflow/output/cellranger-multi/input-run-MTR_503.csv\n",
      "Run: 503\n",
      "Meta data: [['3-PBA', '3-PBA', '3-PBA', '3-PBA', '3-PBA', '3-PBA'], ['CTL04E', 'CTL04E', 'CTL04E', 'CTL08A', 'CTL08A', 'CTL08A'], ['1', '2', '3', '1', '2', '3'], ['CMO307', 'CMO308', 'CMO309', 'CMO310', 'CMO311', 'CMO312']]\n",
      "Processing file: /group/testa/Project/EndPoints/2024_singleCell/nextflow/output/cellranger-multi/input-run-MTR_508.csv\n",
      "Run: 508\n",
      "Meta data: [[], [], [], []]\n",
      "Warning: No condition per run\n",
      "Processing file: /group/testa/Project/EndPoints/2024_singleCell/nextflow/output/cellranger-multi/input-run-MTR_499.csv\n",
      "Run: 499\n",
      "Meta data: [['GLUCOCORT_AGONIST', 'GLUCOCORT_AGONIST', 'GLUCOCORT_AGONIST', 'GLUCOCORT_AGONIST', 'GLUCOCORT_AGONIST', 'GLUCOCORT_AGONIST'], ['CTL04E', 'CTL04E', 'CTL04E', 'CTL08A', 'CTL08A', 'CTL08A'], ['1', '2', '3', '1', '2', '3'], ['CMO301', 'CMO302', 'CMO303', 'CMO304', 'CMO305', 'CMO306']]\n",
      "Processing file: /group/testa/Project/EndPoints/2024_singleCell/nextflow/output/cellranger-multi/input-run-MTR_501.csv\n",
      "Run: 501\n",
      "Meta data: [['THYROID_AGONIST', 'THYROID_AGONIST', 'THYROID_AGONIST', 'THYROID_AGONIST', 'THYROID_AGONIST', 'THYROID_AGONIST'], ['CTL04E', 'CTL04E', 'CTL04E', 'CTL08A', 'CTL08A', 'CTL08A'], ['1', '2', '3', '1', '2', '3'], ['CMO301', 'CMO302', 'CMO303', 'CMO304', 'CMO305', 'CMO306']]\n",
      "Processing file: /group/testa/Project/EndPoints/2024_singleCell/nextflow/output/cellranger-multi/input-run-MTR_505.csv\n",
      "Run: 505\n",
      "Meta data: [['DMSO', 'DMSO', 'DMSO', 'DMSO', 'DMSO', 'DMSO'], ['CTL04E', 'CTL04E', 'CTL04E', 'CTL08A', 'CTL08A', 'CTL08A'], ['1', '2', '3', '1', '2', '3'], ['CMO307', 'CMO308', 'CMO309', 'CMO310', 'CMO311', 'CMO312']]\n",
      "Processing file: /group/testa/Project/EndPoints/2024_singleCell/nextflow/output/cellranger-multi/input-run-MTR_504.csv\n",
      "Run: 504\n",
      "Meta data: [['DPHP', 'DPHP', 'DPHP', 'DPHP', 'DPHP', 'DPHP'], ['CTL04E', 'CTL04E', 'CTL04E', 'CTL08A', 'CTL08A', 'CTL08A'], ['1', '2', '3', '1', '2', '3'], ['CMO307', 'CMO308', 'CMO309', 'CMO310', 'CMO311', 'CMO312']]\n",
      "Processing file: /group/testa/Project/EndPoints/2024_singleCell/nextflow/output/cellranger-multi/input-run-MTR_513.csv\n",
      "Run: 513\n",
      "Meta data: [['MIX', 'MIX', 'MIX', 'MIX', 'MIX', 'MIX'], ['CTL04E', 'CTL04E', 'CTL04E', 'CTL08A', 'CTL08A', 'CTL08A'], ['1', '2', '3', '1', '2', '3'], ['CMO307', 'CMO308', 'CMO309', 'CMO310', 'CMO311', 'CMO312']]\n",
      "Processing file: /group/testa/Project/EndPoints/2024_singleCell/nextflow/output/cellranger-multi/input-run-MTR_494.csv\n",
      "Run: 494\n",
      "Meta data: [['ANDROGEN_ANTAGONIST', 'ANDROGEN_ANTAGONIST', 'ANDROGEN_ANTAGONIST', 'ANDROGEN_ANTAGONIST', 'ANDROGEN_ANTAGONIST', 'ANDROGEN_ANTAGONIST'], ['CTL04E', 'CTL04E', 'CTL04E', 'CTL08A', 'CTL08A', 'CTL08A'], ['1', '2', '3', '1', '2', '3'], ['CMO301', 'CMO302', 'CMO303', 'CMO304', 'CMO305', 'CMO306']]\n",
      "     run            condition    line replicate     cmo\n",
      "0    493     ANDROGEN_AGONIST  CTL04E         1  CMO301\n",
      "1    493     ANDROGEN_AGONIST  CTL04E         2  CMO302\n",
      "2    493     ANDROGEN_AGONIST  CTL04E         3  CMO303\n",
      "3    493     ANDROGEN_AGONIST  CTL08A         1  CMO304\n",
      "4    493     ANDROGEN_AGONIST  CTL08A         2  CMO305\n",
      "..   ...                  ...     ...       ...     ...\n",
      "127  494  ANDROGEN_ANTAGONIST  CTL04E         2  CMO302\n",
      "128  494  ANDROGEN_ANTAGONIST  CTL04E         3  CMO303\n",
      "129  494  ANDROGEN_ANTAGONIST  CTL08A         1  CMO304\n",
      "130  494  ANDROGEN_ANTAGONIST  CTL08A         2  CMO305\n",
      "131  494  ANDROGEN_ANTAGONIST  CTL08A         3  CMO306\n",
      "\n",
      "[132 rows x 5 columns]\n"
     ]
    }
   ],
   "source": [
    "import pandas as pd\n",
    "\n",
    "run_condition = pd.DataFrame(columns=[\"run\", \"condition\", \"line\", \"replicate\", \"cmo\"])\n",
    "\n",
    "for meta_dir in meta_dirs:\n",
    "    print(f\"Processing file: {meta_dir}\")\n",
    "    run = meta_dir.split('_')[-1].split('.')[0]\n",
    "    print(f\"Run: {run}\")\n",
    "\n",
    "    # Read metadata and extract condition\n",
    "    meta_data = extract_condition_type(meta_dir)\n",
    "    print(f\"Meta data: {meta_data}\")\n",
    "\n",
    "    # Ensure meta_data is a list of lists\n",
    "    if isinstance(meta_data[0], str):\n",
    "        conditions, lines, replicates, cmos = [meta_data[0]], [meta_data[1]], [meta_data[2]], [meta_data[3]]\n",
    "    else:\n",
    "        conditions, lines, replicates, cmos = meta_data\n",
    "    \n",
    "    if not conditions:\n",
    "        print(\"Warning: No condition per run\")\n",
    "        continue\n",
    "    elif len(list(dict.fromkeys(conditions))) > 1:\n",
    "        print(\"Warning: More than one condition per run\")\n",
    "        conditions = [None] * len(conditions)\n",
    "\n",
    "    for c, l, r, cm in zip(conditions, lines, replicates, cmos):\n",
    "        new_row = pd.DataFrame({\"run\": [run], \"condition\": [c], \"line\": [l], \"replicate\": [r], \"cmo\": [cm]})\n",
    "        run_condition = pd.concat([run_condition, new_row], ignore_index=True)\n",
    "\n",
    "print(run_condition)"
   ]
  },
  {
   "cell_type": "code",
   "execution_count": 31,
   "metadata": {},
   "outputs": [
    {
     "data": {
      "text/html": [
       "<div>\n",
       "<style scoped>\n",
       "    .dataframe tbody tr th:only-of-type {\n",
       "        vertical-align: middle;\n",
       "    }\n",
       "\n",
       "    .dataframe tbody tr th {\n",
       "        vertical-align: top;\n",
       "    }\n",
       "\n",
       "    .dataframe thead th {\n",
       "        text-align: right;\n",
       "    }\n",
       "</style>\n",
       "<table border=\"1\" class=\"dataframe\">\n",
       "  <thead>\n",
       "    <tr style=\"text-align: right;\">\n",
       "      <th></th>\n",
       "      <th>run</th>\n",
       "      <th>condition</th>\n",
       "      <th>line</th>\n",
       "      <th>replicate</th>\n",
       "      <th>cmo</th>\n",
       "    </tr>\n",
       "  </thead>\n",
       "  <tbody>\n",
       "    <tr>\n",
       "      <th>0</th>\n",
       "      <td>493</td>\n",
       "      <td>ANDROGEN_AGONIST</td>\n",
       "      <td>CTL04E</td>\n",
       "      <td>1</td>\n",
       "      <td>CMO301</td>\n",
       "    </tr>\n",
       "    <tr>\n",
       "      <th>1</th>\n",
       "      <td>493</td>\n",
       "      <td>ANDROGEN_AGONIST</td>\n",
       "      <td>CTL04E</td>\n",
       "      <td>2</td>\n",
       "      <td>CMO302</td>\n",
       "    </tr>\n",
       "    <tr>\n",
       "      <th>2</th>\n",
       "      <td>493</td>\n",
       "      <td>ANDROGEN_AGONIST</td>\n",
       "      <td>CTL04E</td>\n",
       "      <td>3</td>\n",
       "      <td>CMO303</td>\n",
       "    </tr>\n",
       "    <tr>\n",
       "      <th>3</th>\n",
       "      <td>493</td>\n",
       "      <td>ANDROGEN_AGONIST</td>\n",
       "      <td>CTL08A</td>\n",
       "      <td>1</td>\n",
       "      <td>CMO304</td>\n",
       "    </tr>\n",
       "    <tr>\n",
       "      <th>4</th>\n",
       "      <td>493</td>\n",
       "      <td>ANDROGEN_AGONIST</td>\n",
       "      <td>CTL08A</td>\n",
       "      <td>2</td>\n",
       "      <td>CMO305</td>\n",
       "    </tr>\n",
       "  </tbody>\n",
       "</table>\n",
       "</div>"
      ],
      "text/plain": [
       "   run         condition    line replicate     cmo\n",
       "0  493  ANDROGEN_AGONIST  CTL04E         1  CMO301\n",
       "1  493  ANDROGEN_AGONIST  CTL04E         2  CMO302\n",
       "2  493  ANDROGEN_AGONIST  CTL04E         3  CMO303\n",
       "3  493  ANDROGEN_AGONIST  CTL08A         1  CMO304\n",
       "4  493  ANDROGEN_AGONIST  CTL08A         2  CMO305"
      ]
     },
     "execution_count": 31,
     "metadata": {},
     "output_type": "execute_result"
    }
   ],
   "source": [
    "run_condition.head()"
   ]
  },
  {
   "cell_type": "code",
   "execution_count": 32,
   "metadata": {},
   "outputs": [],
   "source": [
    "run_condition['cmo'] = run_condition['cmo'].str.extract('(\\d+)').astype(int)"
   ]
  },
  {
   "cell_type": "code",
   "execution_count": 33,
   "metadata": {},
   "outputs": [
    {
     "data": {
      "text/html": [
       "<div>\n",
       "<style scoped>\n",
       "    .dataframe tbody tr th:only-of-type {\n",
       "        vertical-align: middle;\n",
       "    }\n",
       "\n",
       "    .dataframe tbody tr th {\n",
       "        vertical-align: top;\n",
       "    }\n",
       "\n",
       "    .dataframe thead th {\n",
       "        text-align: right;\n",
       "    }\n",
       "</style>\n",
       "<table border=\"1\" class=\"dataframe\">\n",
       "  <thead>\n",
       "    <tr style=\"text-align: right;\">\n",
       "      <th></th>\n",
       "      <th>run</th>\n",
       "      <th>condition</th>\n",
       "      <th>line</th>\n",
       "      <th>replicate</th>\n",
       "      <th>cmo</th>\n",
       "    </tr>\n",
       "  </thead>\n",
       "  <tbody>\n",
       "    <tr>\n",
       "      <th>0</th>\n",
       "      <td>493</td>\n",
       "      <td>ANDROGEN_AGONIST</td>\n",
       "      <td>CTL04E</td>\n",
       "      <td>1</td>\n",
       "      <td>301</td>\n",
       "    </tr>\n",
       "    <tr>\n",
       "      <th>1</th>\n",
       "      <td>493</td>\n",
       "      <td>ANDROGEN_AGONIST</td>\n",
       "      <td>CTL04E</td>\n",
       "      <td>2</td>\n",
       "      <td>302</td>\n",
       "    </tr>\n",
       "    <tr>\n",
       "      <th>2</th>\n",
       "      <td>493</td>\n",
       "      <td>ANDROGEN_AGONIST</td>\n",
       "      <td>CTL04E</td>\n",
       "      <td>3</td>\n",
       "      <td>303</td>\n",
       "    </tr>\n",
       "    <tr>\n",
       "      <th>3</th>\n",
       "      <td>493</td>\n",
       "      <td>ANDROGEN_AGONIST</td>\n",
       "      <td>CTL08A</td>\n",
       "      <td>1</td>\n",
       "      <td>304</td>\n",
       "    </tr>\n",
       "    <tr>\n",
       "      <th>4</th>\n",
       "      <td>493</td>\n",
       "      <td>ANDROGEN_AGONIST</td>\n",
       "      <td>CTL08A</td>\n",
       "      <td>2</td>\n",
       "      <td>305</td>\n",
       "    </tr>\n",
       "  </tbody>\n",
       "</table>\n",
       "</div>"
      ],
      "text/plain": [
       "   run         condition    line replicate  cmo\n",
       "0  493  ANDROGEN_AGONIST  CTL04E         1  301\n",
       "1  493  ANDROGEN_AGONIST  CTL04E         2  302\n",
       "2  493  ANDROGEN_AGONIST  CTL04E         3  303\n",
       "3  493  ANDROGEN_AGONIST  CTL08A         1  304\n",
       "4  493  ANDROGEN_AGONIST  CTL08A         2  305"
      ]
     },
     "execution_count": 33,
     "metadata": {},
     "output_type": "execute_result"
    }
   ],
   "source": [
    "run_condition.head()"
   ]
  },
  {
   "cell_type": "code",
   "execution_count": 34,
   "metadata": {},
   "outputs": [
    {
     "data": {
      "text/plain": [
       "False"
      ]
     },
     "execution_count": 34,
     "metadata": {},
     "output_type": "execute_result"
    }
   ],
   "source": [
    "run_condition.isnull().values.any()"
   ]
  },
  {
   "cell_type": "code",
   "execution_count": 35,
   "metadata": {},
   "outputs": [
    {
     "name": "stdout",
     "output_type": "stream",
     "text": [
      "['491', '492', '493', '494', '495', '496', '497', '498', '499', '500', '501', '502', '503', '504', '505', '506', '507', '509', '510', '511', '512', '513']\n"
     ]
    }
   ],
   "source": [
    "print(sorted(run_condition.run.unique()))"
   ]
  },
  {
   "cell_type": "code",
   "execution_count": 36,
   "metadata": {},
   "outputs": [
    {
     "data": {
      "text/plain": [
       "(132, 5)"
      ]
     },
     "execution_count": 36,
     "metadata": {},
     "output_type": "execute_result"
    }
   ],
   "source": [
    "run_condition.shape"
   ]
  },
  {
   "cell_type": "code",
   "execution_count": 37,
   "metadata": {},
   "outputs": [],
   "source": [
    "run_condition['run'] = pd.to_numeric(run_condition['run'], errors='coerce').astype('Int64')"
   ]
  },
  {
   "cell_type": "code",
   "execution_count": 38,
   "metadata": {},
   "outputs": [
    {
     "name": "stdout",
     "output_type": "stream",
     "text": [
      "Missing runs: [508]\n"
     ]
    }
   ],
   "source": [
    "extracted_runs = sorted(list(run_condition.run.unique()))\n",
    "valid_range = list(range(491, 514))\n",
    "\n",
    "missing_runs = [run for run in valid_range if run not in extracted_runs]\n",
    "print(f\"Missing runs: {missing_runs}\")"
   ]
  },
  {
   "cell_type": "markdown",
   "metadata": {},
   "source": [
    "# 5. Check Classification-Metadata Consistency"
   ]
  },
  {
   "cell_type": "code",
   "execution_count": 39,
   "metadata": {},
   "outputs": [],
   "source": [
    "classification_data['cmo'] = classification_data['cmo'].astype(int)\n",
    "run_condition['cmo'] = run_condition['cmo'].astype(int)\n",
    "\n",
    "classification_data['run'] = classification_data['run'].astype(int)\n",
    "run_condition['run'] = run_condition['run'].astype(int)"
   ]
  },
  {
   "cell_type": "code",
   "execution_count": 40,
   "metadata": {},
   "outputs": [],
   "source": [
    "# Create lists of tuples from run_condition and classification_data\n",
    "run_condition_list = list(run_condition[['run', 'cmo']].itertuples(index=False, name=None))\n",
    "classification_data_list = list(classification_data[['run', 'cmo']].itertuples(index=False, name=None))\n",
    "\n",
    "# Find inconsistencies using a list comprehension\n",
    "inconsistencies = [item for item in classification_data_list if item not in run_condition_list]"
   ]
  },
  {
   "cell_type": "code",
   "execution_count": 41,
   "metadata": {},
   "outputs": [
    {
     "name": "stdout",
     "output_type": "stream",
     "text": [
      "No inconsistencies found. All triples are consistent between the dataframes.\n"
     ]
    }
   ],
   "source": [
    "if inconsistencies:\n",
    "    print(\"Inconsistencies found:\")\n",
    "    for inc in inconsistencies:\n",
    "        print(f\"run: {inc[0]}, CMO: {inc[1]}, Condition: {inc[2]}, Cell Line: {inc[3]}\")\n",
    "else:\n",
    "    print(\"No inconsistencies found. All triples are consistent between the dataframes.\")"
   ]
  },
  {
   "cell_type": "code",
   "execution_count": 42,
   "metadata": {},
   "outputs": [
    {
     "name": "stdout",
     "output_type": "stream",
     "text": [
      "\n",
      "All pairs in run_condition are unique.\n"
     ]
    }
   ],
   "source": [
    "# Check for non-unique pairs in run_condition\n",
    "run_condition_duplicates = run_condition[run_condition[['run', 'cmo']].duplicated()]\n",
    "if not run_condition_duplicates.empty:\n",
    "    print(\"\\nNon-unique pairs found in run_condition:\")\n",
    "    print(run_condition_duplicates)\n",
    "else:\n",
    "    print(\"\\nAll pairs in run_condition are unique.\")"
   ]
  },
  {
   "cell_type": "code",
   "execution_count": 43,
   "metadata": {},
   "outputs": [
    {
     "name": "stdout",
     "output_type": "stream",
     "text": [
      "\n",
      "All pairs in classification_data are present in run_condition.\n",
      "\n",
      "Pairs in run_condition not found in classification_data:\n",
      "Run: 509, CMO: 305\n"
     ]
    }
   ],
   "source": [
    "# Additional check: pairs in classification_data not in run_condition\n",
    "missing_pairs = [item for item in classification_data_list if item not in run_condition_list]\n",
    "if missing_pairs:\n",
    "    print(\"\\nPairs in classification_data not found in run_condition:\")\n",
    "    for pair in missing_pairs:\n",
    "        print(f\"Run: {pair[0]}, CMO: {pair[1]}\")\n",
    "else:\n",
    "    print(\"\\nAll pairs in classification_data are present in run_condition.\")\n",
    "\n",
    "# Additional check: pairs in run_condition not in classification_data\n",
    "extra_pairs = [item for item in run_condition_list if item not in classification_data_list]\n",
    "if extra_pairs:\n",
    "    print(\"\\nPairs in run_condition not found in classification_data:\")\n",
    "    for pair in extra_pairs:\n",
    "        print(f\"Run: {pair[0]}, CMO: {pair[1]}\")\n",
    "else:\n",
    "    print(\"\\nAll pairs in run_condition are present in classification_data.\")"
   ]
  },
  {
   "cell_type": "code",
   "execution_count": 44,
   "metadata": {},
   "outputs": [
    {
     "data": {
      "text/plain": [
       "[(509, 305)]"
      ]
     },
     "execution_count": 44,
     "metadata": {},
     "output_type": "execute_result"
    }
   ],
   "source": [
    "extra_pairs"
   ]
  },
  {
   "cell_type": "code",
   "execution_count": 45,
   "metadata": {},
   "outputs": [
    {
     "name": "stdout",
     "output_type": "stream",
     "text": [
      "[(509, 305)]\n"
     ]
    }
   ],
   "source": [
    "print([item for item in run_condition_list if item not in classification_data_list])"
   ]
  },
  {
   "cell_type": "code",
   "execution_count": 46,
   "metadata": {},
   "outputs": [
    {
     "name": "stdout",
     "output_type": "stream",
     "text": [
      "(132, 5)\n",
      "(131, 5)\n"
     ]
    }
   ],
   "source": [
    "print(run_condition.shape)\n",
    "run_condition = run_condition[~((run_condition.run == 509) & (run_condition.cmo == 305))]\n",
    "print(run_condition.shape)"
   ]
  },
  {
   "cell_type": "markdown",
   "metadata": {},
   "source": [
    "# 6. Combine Meta data"
   ]
  },
  {
   "cell_type": "code",
   "execution_count": 47,
   "metadata": {},
   "outputs": [],
   "source": [
    "run_condition['run_cmo'] = run_condition['run'].astype(str) + run_condition['cmo'].astype(str)\n",
    "classification_data['run_cmo'] = classification_data['run'].astype(str) + classification_data['cmo'].astype(str)"
   ]
  },
  {
   "cell_type": "code",
   "execution_count": 48,
   "metadata": {},
   "outputs": [
    {
     "data": {
      "text/html": [
       "<div>\n",
       "<style scoped>\n",
       "    .dataframe tbody tr th:only-of-type {\n",
       "        vertical-align: middle;\n",
       "    }\n",
       "\n",
       "    .dataframe tbody tr th {\n",
       "        vertical-align: top;\n",
       "    }\n",
       "\n",
       "    .dataframe thead th {\n",
       "        text-align: right;\n",
       "    }\n",
       "</style>\n",
       "<table border=\"1\" class=\"dataframe\">\n",
       "  <thead>\n",
       "    <tr style=\"text-align: right;\">\n",
       "      <th></th>\n",
       "      <th>run</th>\n",
       "      <th>condition</th>\n",
       "      <th>line</th>\n",
       "      <th>replicate</th>\n",
       "      <th>cmo</th>\n",
       "      <th>run_cmo</th>\n",
       "    </tr>\n",
       "  </thead>\n",
       "  <tbody>\n",
       "    <tr>\n",
       "      <th>0</th>\n",
       "      <td>493</td>\n",
       "      <td>ANDROGEN_AGONIST</td>\n",
       "      <td>CTL04E</td>\n",
       "      <td>1</td>\n",
       "      <td>301</td>\n",
       "      <td>493301</td>\n",
       "    </tr>\n",
       "    <tr>\n",
       "      <th>1</th>\n",
       "      <td>493</td>\n",
       "      <td>ANDROGEN_AGONIST</td>\n",
       "      <td>CTL04E</td>\n",
       "      <td>2</td>\n",
       "      <td>302</td>\n",
       "      <td>493302</td>\n",
       "    </tr>\n",
       "    <tr>\n",
       "      <th>2</th>\n",
       "      <td>493</td>\n",
       "      <td>ANDROGEN_AGONIST</td>\n",
       "      <td>CTL04E</td>\n",
       "      <td>3</td>\n",
       "      <td>303</td>\n",
       "      <td>493303</td>\n",
       "    </tr>\n",
       "    <tr>\n",
       "      <th>3</th>\n",
       "      <td>493</td>\n",
       "      <td>ANDROGEN_AGONIST</td>\n",
       "      <td>CTL08A</td>\n",
       "      <td>1</td>\n",
       "      <td>304</td>\n",
       "      <td>493304</td>\n",
       "    </tr>\n",
       "    <tr>\n",
       "      <th>4</th>\n",
       "      <td>493</td>\n",
       "      <td>ANDROGEN_AGONIST</td>\n",
       "      <td>CTL08A</td>\n",
       "      <td>2</td>\n",
       "      <td>305</td>\n",
       "      <td>493305</td>\n",
       "    </tr>\n",
       "  </tbody>\n",
       "</table>\n",
       "</div>"
      ],
      "text/plain": [
       "   run         condition    line replicate  cmo run_cmo\n",
       "0  493  ANDROGEN_AGONIST  CTL04E         1  301  493301\n",
       "1  493  ANDROGEN_AGONIST  CTL04E         2  302  493302\n",
       "2  493  ANDROGEN_AGONIST  CTL04E         3  303  493303\n",
       "3  493  ANDROGEN_AGONIST  CTL08A         1  304  493304\n",
       "4  493  ANDROGEN_AGONIST  CTL08A         2  305  493305"
      ]
     },
     "execution_count": 48,
     "metadata": {},
     "output_type": "execute_result"
    }
   ],
   "source": [
    "run_condition.head()"
   ]
  },
  {
   "cell_type": "code",
   "execution_count": 49,
   "metadata": {},
   "outputs": [
    {
     "data": {
      "text/html": [
       "<div>\n",
       "<style scoped>\n",
       "    .dataframe tbody tr th:only-of-type {\n",
       "        vertical-align: middle;\n",
       "    }\n",
       "\n",
       "    .dataframe tbody tr th {\n",
       "        vertical-align: top;\n",
       "    }\n",
       "\n",
       "    .dataframe thead th {\n",
       "        text-align: right;\n",
       "    }\n",
       "</style>\n",
       "<table border=\"1\" class=\"dataframe\">\n",
       "  <thead>\n",
       "    <tr style=\"text-align: right;\">\n",
       "      <th></th>\n",
       "      <th>unique_index</th>\n",
       "      <th>final_call</th>\n",
       "      <th>RescuedStatus</th>\n",
       "      <th>cmo</th>\n",
       "      <th>tags</th>\n",
       "      <th>run</th>\n",
       "      <th>run_cmo</th>\n",
       "    </tr>\n",
       "  </thead>\n",
       "  <tbody>\n",
       "    <tr>\n",
       "      <th>0</th>\n",
       "      <td>AAACCCAAGCTCAGAG-1-510</td>\n",
       "      <td>CMO309</td>\n",
       "      <td>Not_Resc</td>\n",
       "      <td>309</td>\n",
       "      <td>AAACCCAAGCTCAGAG-1</td>\n",
       "      <td>510</td>\n",
       "      <td>510309</td>\n",
       "    </tr>\n",
       "    <tr>\n",
       "      <th>1</th>\n",
       "      <td>AAACCCAAGGAGCTGT-1-510</td>\n",
       "      <td>CMO310</td>\n",
       "      <td>Not_Resc</td>\n",
       "      <td>310</td>\n",
       "      <td>AAACCCAAGGAGCTGT-1</td>\n",
       "      <td>510</td>\n",
       "      <td>510310</td>\n",
       "    </tr>\n",
       "    <tr>\n",
       "      <th>2</th>\n",
       "      <td>AAACCCAAGGCACAAC-1-510</td>\n",
       "      <td>CMO312</td>\n",
       "      <td>Not_Resc</td>\n",
       "      <td>312</td>\n",
       "      <td>AAACCCAAGGCACAAC-1</td>\n",
       "      <td>510</td>\n",
       "      <td>510312</td>\n",
       "    </tr>\n",
       "    <tr>\n",
       "      <th>3</th>\n",
       "      <td>AAACCCAAGGGTTGCA-1-510</td>\n",
       "      <td>CMO309</td>\n",
       "      <td>Not_Resc</td>\n",
       "      <td>309</td>\n",
       "      <td>AAACCCAAGGGTTGCA-1</td>\n",
       "      <td>510</td>\n",
       "      <td>510309</td>\n",
       "    </tr>\n",
       "    <tr>\n",
       "      <th>4</th>\n",
       "      <td>AAACCCACAAGTGGAC-1-510</td>\n",
       "      <td>CMO309</td>\n",
       "      <td>Not_Resc</td>\n",
       "      <td>309</td>\n",
       "      <td>AAACCCACAAGTGGAC-1</td>\n",
       "      <td>510</td>\n",
       "      <td>510309</td>\n",
       "    </tr>\n",
       "  </tbody>\n",
       "</table>\n",
       "</div>"
      ],
      "text/plain": [
       "             unique_index final_call RescuedStatus  cmo                tags  \\\n",
       "0  AAACCCAAGCTCAGAG-1-510     CMO309      Not_Resc  309  AAACCCAAGCTCAGAG-1   \n",
       "1  AAACCCAAGGAGCTGT-1-510     CMO310      Not_Resc  310  AAACCCAAGGAGCTGT-1   \n",
       "2  AAACCCAAGGCACAAC-1-510     CMO312      Not_Resc  312  AAACCCAAGGCACAAC-1   \n",
       "3  AAACCCAAGGGTTGCA-1-510     CMO309      Not_Resc  309  AAACCCAAGGGTTGCA-1   \n",
       "4  AAACCCACAAGTGGAC-1-510     CMO309      Not_Resc  309  AAACCCACAAGTGGAC-1   \n",
       "\n",
       "   run run_cmo  \n",
       "0  510  510309  \n",
       "1  510  510310  \n",
       "2  510  510312  \n",
       "3  510  510309  \n",
       "4  510  510309  "
      ]
     },
     "execution_count": 49,
     "metadata": {},
     "output_type": "execute_result"
    }
   ],
   "source": [
    "classification_data.head()"
   ]
  },
  {
   "cell_type": "code",
   "execution_count": 50,
   "metadata": {},
   "outputs": [],
   "source": [
    "classification_data['run_cmo'] = classification_data['run_cmo'].astype(int)\n",
    "run_condition['run_cmo'] = run_condition['run_cmo'].astype(int)"
   ]
  },
  {
   "cell_type": "code",
   "execution_count": 51,
   "metadata": {},
   "outputs": [],
   "source": [
    "classification_data_combined = classification_data.merge(\n",
    "    run_condition[['run_cmo', 'condition', 'line', 'replicate']],\n",
    "    on='run_cmo',\n",
    "    how='left'\n",
    ")"
   ]
  },
  {
   "cell_type": "code",
   "execution_count": 52,
   "metadata": {},
   "outputs": [
    {
     "data": {
      "text/plain": [
       "(492061, 10)"
      ]
     },
     "execution_count": 52,
     "metadata": {},
     "output_type": "execute_result"
    }
   ],
   "source": [
    "classification_data_combined.shape"
   ]
  },
  {
   "cell_type": "code",
   "execution_count": 53,
   "metadata": {},
   "outputs": [
    {
     "data": {
      "text/html": [
       "<div>\n",
       "<style scoped>\n",
       "    .dataframe tbody tr th:only-of-type {\n",
       "        vertical-align: middle;\n",
       "    }\n",
       "\n",
       "    .dataframe tbody tr th {\n",
       "        vertical-align: top;\n",
       "    }\n",
       "\n",
       "    .dataframe thead th {\n",
       "        text-align: right;\n",
       "    }\n",
       "</style>\n",
       "<table border=\"1\" class=\"dataframe\">\n",
       "  <thead>\n",
       "    <tr style=\"text-align: right;\">\n",
       "      <th></th>\n",
       "      <th>unique_index</th>\n",
       "      <th>final_call</th>\n",
       "      <th>RescuedStatus</th>\n",
       "      <th>cmo</th>\n",
       "      <th>tags</th>\n",
       "      <th>run</th>\n",
       "      <th>run_cmo</th>\n",
       "      <th>condition</th>\n",
       "      <th>line</th>\n",
       "      <th>replicate</th>\n",
       "    </tr>\n",
       "  </thead>\n",
       "  <tbody>\n",
       "    <tr>\n",
       "      <th>0</th>\n",
       "      <td>AAACCCAAGCTCAGAG-1-510</td>\n",
       "      <td>CMO309</td>\n",
       "      <td>Not_Resc</td>\n",
       "      <td>309</td>\n",
       "      <td>AAACCCAAGCTCAGAG-1</td>\n",
       "      <td>510</td>\n",
       "      <td>510309</td>\n",
       "      <td>BPF</td>\n",
       "      <td>CTL04E</td>\n",
       "      <td>3</td>\n",
       "    </tr>\n",
       "    <tr>\n",
       "      <th>1</th>\n",
       "      <td>AAACCCAAGGAGCTGT-1-510</td>\n",
       "      <td>CMO310</td>\n",
       "      <td>Not_Resc</td>\n",
       "      <td>310</td>\n",
       "      <td>AAACCCAAGGAGCTGT-1</td>\n",
       "      <td>510</td>\n",
       "      <td>510310</td>\n",
       "      <td>BPF</td>\n",
       "      <td>CTL08A</td>\n",
       "      <td>1</td>\n",
       "    </tr>\n",
       "    <tr>\n",
       "      <th>2</th>\n",
       "      <td>AAACCCAAGGCACAAC-1-510</td>\n",
       "      <td>CMO312</td>\n",
       "      <td>Not_Resc</td>\n",
       "      <td>312</td>\n",
       "      <td>AAACCCAAGGCACAAC-1</td>\n",
       "      <td>510</td>\n",
       "      <td>510312</td>\n",
       "      <td>BPF</td>\n",
       "      <td>CTL08A</td>\n",
       "      <td>3</td>\n",
       "    </tr>\n",
       "    <tr>\n",
       "      <th>3</th>\n",
       "      <td>AAACCCAAGGGTTGCA-1-510</td>\n",
       "      <td>CMO309</td>\n",
       "      <td>Not_Resc</td>\n",
       "      <td>309</td>\n",
       "      <td>AAACCCAAGGGTTGCA-1</td>\n",
       "      <td>510</td>\n",
       "      <td>510309</td>\n",
       "      <td>BPF</td>\n",
       "      <td>CTL04E</td>\n",
       "      <td>3</td>\n",
       "    </tr>\n",
       "    <tr>\n",
       "      <th>4</th>\n",
       "      <td>AAACCCACAAGTGGAC-1-510</td>\n",
       "      <td>CMO309</td>\n",
       "      <td>Not_Resc</td>\n",
       "      <td>309</td>\n",
       "      <td>AAACCCACAAGTGGAC-1</td>\n",
       "      <td>510</td>\n",
       "      <td>510309</td>\n",
       "      <td>BPF</td>\n",
       "      <td>CTL04E</td>\n",
       "      <td>3</td>\n",
       "    </tr>\n",
       "  </tbody>\n",
       "</table>\n",
       "</div>"
      ],
      "text/plain": [
       "             unique_index final_call RescuedStatus  cmo                tags  \\\n",
       "0  AAACCCAAGCTCAGAG-1-510     CMO309      Not_Resc  309  AAACCCAAGCTCAGAG-1   \n",
       "1  AAACCCAAGGAGCTGT-1-510     CMO310      Not_Resc  310  AAACCCAAGGAGCTGT-1   \n",
       "2  AAACCCAAGGCACAAC-1-510     CMO312      Not_Resc  312  AAACCCAAGGCACAAC-1   \n",
       "3  AAACCCAAGGGTTGCA-1-510     CMO309      Not_Resc  309  AAACCCAAGGGTTGCA-1   \n",
       "4  AAACCCACAAGTGGAC-1-510     CMO309      Not_Resc  309  AAACCCACAAGTGGAC-1   \n",
       "\n",
       "   run  run_cmo condition    line replicate  \n",
       "0  510   510309       BPF  CTL04E         3  \n",
       "1  510   510310       BPF  CTL08A         1  \n",
       "2  510   510312       BPF  CTL08A         3  \n",
       "3  510   510309       BPF  CTL04E         3  \n",
       "4  510   510309       BPF  CTL04E         3  "
      ]
     },
     "execution_count": 53,
     "metadata": {},
     "output_type": "execute_result"
    }
   ],
   "source": [
    "classification_data_combined.head()"
   ]
  },
  {
   "cell_type": "code",
   "execution_count": 54,
   "metadata": {},
   "outputs": [
    {
     "name": "stdout",
     "output_type": "stream",
     "text": [
      "All rows in classification_data_combined found a match in run_condition.\n"
     ]
    }
   ],
   "source": [
    "# Check for any rows where the merge didn't find a match\n",
    "unmatched_rows = classification_data_combined[classification_data_combined['condition'].isna()]\n",
    "\n",
    "if not unmatched_rows.empty:\n",
    "    print(\"Warning: Some rows in classification_data_combined didn't find a match in run_condition:\")\n",
    "    print(unmatched_rows[['run', 'cmo']])\n",
    "else:\n",
    "    print(\"All rows in classification_data_combined found a match in run_condition.\")"
   ]
  },
  {
   "cell_type": "code",
   "execution_count": 55,
   "metadata": {},
   "outputs": [],
   "source": [
    "classification_data = classification_data_combined"
   ]
  },
  {
   "cell_type": "markdown",
   "metadata": {},
   "source": [
    "# 7. Load Expression data - matrix.h5ad"
   ]
  },
  {
   "cell_type": "code",
   "execution_count": 56,
   "metadata": {},
   "outputs": [
    {
     "data": {
      "text/plain": [
       "'/group/testa/Project/EndPoints/2024_singleCell/nextflow/output/cellranger-multi/filtered_matrix'"
      ]
     },
     "execution_count": 56,
     "metadata": {},
     "output_type": "execute_result"
    }
   ],
   "source": [
    "data_dir"
   ]
  },
  {
   "cell_type": "code",
   "execution_count": 57,
   "metadata": {},
   "outputs": [],
   "source": [
    "all_data = []\n",
    "\n",
    "# Find all run directories\n",
    "run_dirs = glob.glob(os.path.join(data_dir, 'run-MTR_*'))"
   ]
  },
  {
   "cell_type": "code",
   "execution_count": 58,
   "metadata": {},
   "outputs": [
    {
     "name": "stdout",
     "output_type": "stream",
     "text": [
      "['491', '492', '493', '494', '495', '496', '497', '498', '499', '500', '501', '502', '503', '504', '505', '506', '507', '509', '510', '511', '512', '513']\n"
     ]
    }
   ],
   "source": [
    "runs = [run_dir.split('/')[-1].split('_')[-1] for run_dir in run_dirs]\n",
    "print(sorted(runs))"
   ]
  },
  {
   "cell_type": "code",
   "execution_count": 59,
   "metadata": {},
   "outputs": [
    {
     "name": "stdout",
     "output_type": "stream",
     "text": [
      "Processed run: 501, Shape: (30472, 36601)\n",
      "Processed run: 506, Shape: (33800, 36601)\n",
      "Processed run: 505, Shape: (31503, 36601)\n",
      "Processed run: 510, Shape: (34286, 36601)\n",
      "Processed run: 512, Shape: (30454, 36601)\n",
      "Processed run: 498, Shape: (27504, 36601)\n",
      "Processed run: 499, Shape: (37685, 36601)\n",
      "Processed run: 497, Shape: (35626, 36601)\n",
      "Processed run: 509, Shape: (38982, 36601)Processed run: 503, Shape: (38015, 36601)Processed run: 513, Shape: (35133, 36601)\n",
      "\n",
      "Processed run: 511, Shape: (34897, 36601)Processed run: 491, Shape: (35618, 36601)Processed run: 495, Shape: (36867, 36601)\n",
      "\n",
      "\n",
      "\n",
      "Processed run: 493, Shape: (38899, 36601)\n",
      "Processed run: 502, Shape: (41429, 36601)\n",
      "Processed run: 500, Shape: (43971, 36601)Processed run: 507, Shape: (36806, 36601)\n",
      "\n",
      "Processed run: 492, Shape: (39679, 36601)Processed run: 494, Shape: (42089, 36601)Processed run: 504, Shape: (42043, 36601)\n",
      "\n",
      "\n",
      "Processed run: 496, Shape: (42509, 36601)\n",
      "Number of processed runs: 22\n"
     ]
    }
   ],
   "source": [
    "all_data = process_runs(run_dirs)"
   ]
  },
  {
   "cell_type": "code",
   "execution_count": 61,
   "metadata": {},
   "outputs": [],
   "source": [
    "# Concatenate all data\n",
    "combined_data = ad.concat(all_data, join='outer')\n",
    "\n",
    "# Make observation names unique in the combined dataset\n",
    "combined_data.var_names_make_unique()\n",
    "combined_data.obs_names_make_unique()"
   ]
  },
  {
   "cell_type": "code",
   "execution_count": 62,
   "metadata": {},
   "outputs": [
    {
     "data": {
      "text/html": [
       "<div>\n",
       "<style scoped>\n",
       "    .dataframe tbody tr th:only-of-type {\n",
       "        vertical-align: middle;\n",
       "    }\n",
       "\n",
       "    .dataframe tbody tr th {\n",
       "        vertical-align: top;\n",
       "    }\n",
       "\n",
       "    .dataframe thead th {\n",
       "        text-align: right;\n",
       "    }\n",
       "</style>\n",
       "<table border=\"1\" class=\"dataframe\">\n",
       "  <thead>\n",
       "    <tr style=\"text-align: right;\">\n",
       "      <th></th>\n",
       "      <th>tags</th>\n",
       "      <th>run</th>\n",
       "    </tr>\n",
       "    <tr>\n",
       "      <th>index</th>\n",
       "      <th></th>\n",
       "      <th></th>\n",
       "    </tr>\n",
       "  </thead>\n",
       "  <tbody>\n",
       "    <tr>\n",
       "      <th>AAACCCAAGAAACCCG-1-501</th>\n",
       "      <td>AAACCCAAGAAACCCG-1</td>\n",
       "      <td>501</td>\n",
       "    </tr>\n",
       "    <tr>\n",
       "      <th>AAACCCAAGAACTGAT-1-501</th>\n",
       "      <td>AAACCCAAGAACTGAT-1</td>\n",
       "      <td>501</td>\n",
       "    </tr>\n",
       "    <tr>\n",
       "      <th>AAACCCAAGCCTGTGC-1-501</th>\n",
       "      <td>AAACCCAAGCCTGTGC-1</td>\n",
       "      <td>501</td>\n",
       "    </tr>\n",
       "    <tr>\n",
       "      <th>AAACCCAAGCGATGAC-1-501</th>\n",
       "      <td>AAACCCAAGCGATGAC-1</td>\n",
       "      <td>501</td>\n",
       "    </tr>\n",
       "    <tr>\n",
       "      <th>AAACCCAAGCGCCGTT-1-501</th>\n",
       "      <td>AAACCCAAGCGCCGTT-1</td>\n",
       "      <td>501</td>\n",
       "    </tr>\n",
       "  </tbody>\n",
       "</table>\n",
       "</div>"
      ],
      "text/plain": [
       "                                      tags  run\n",
       "index                                          \n",
       "AAACCCAAGAAACCCG-1-501  AAACCCAAGAAACCCG-1  501\n",
       "AAACCCAAGAACTGAT-1-501  AAACCCAAGAACTGAT-1  501\n",
       "AAACCCAAGCCTGTGC-1-501  AAACCCAAGCCTGTGC-1  501\n",
       "AAACCCAAGCGATGAC-1-501  AAACCCAAGCGATGAC-1  501\n",
       "AAACCCAAGCGCCGTT-1-501  AAACCCAAGCGCCGTT-1  501"
      ]
     },
     "execution_count": 62,
     "metadata": {},
     "output_type": "execute_result"
    }
   ],
   "source": [
    "combined_data.obs.head()"
   ]
  },
  {
   "cell_type": "code",
   "execution_count": 63,
   "metadata": {},
   "outputs": [],
   "source": [
    "combined_data.obs['run'] = combined_data.obs['run'].astype(int)"
   ]
  },
  {
   "cell_type": "code",
   "execution_count": 64,
   "metadata": {},
   "outputs": [],
   "source": [
    "combined_data.write_h5ad(os.path.join(output_dir, 'combined_raw_scRNA_seq_data.h5ad'))"
   ]
  },
  {
   "cell_type": "code",
   "execution_count": 65,
   "metadata": {},
   "outputs": [],
   "source": [
    "# combined_data = ad.read_h5ad(os.path.join(output_dir, 'combined_raw_scRNA_seq_data.h5ad'))"
   ]
  },
  {
   "cell_type": "code",
   "execution_count": 66,
   "metadata": {},
   "outputs": [
    {
     "name": "stdout",
     "output_type": "stream",
     "text": [
      "Number of duplicate observations: 0\n"
     ]
    }
   ],
   "source": [
    "# identify and remove duplicated tags\n",
    "duplicate_obs = combined_data.obs_names.duplicated(keep=False)\n",
    "duplicate_count = duplicate_obs.sum()\n",
    "print(f\"Number of duplicate observations: {duplicate_count}\")"
   ]
  },
  {
   "cell_type": "code",
   "execution_count": 67,
   "metadata": {},
   "outputs": [],
   "source": [
    "# Remove duplicate observations\n",
    "# combined_data = combined_data[~duplicate_obs].copy()"
   ]
  },
  {
   "cell_type": "markdown",
   "metadata": {},
   "source": [
    "# 8. Add Metadata to the Expression data"
   ]
  },
  {
   "cell_type": "code",
   "execution_count": 68,
   "metadata": {},
   "outputs": [
    {
     "data": {
      "text/html": [
       "<div>\n",
       "<style scoped>\n",
       "    .dataframe tbody tr th:only-of-type {\n",
       "        vertical-align: middle;\n",
       "    }\n",
       "\n",
       "    .dataframe tbody tr th {\n",
       "        vertical-align: top;\n",
       "    }\n",
       "\n",
       "    .dataframe thead th {\n",
       "        text-align: right;\n",
       "    }\n",
       "</style>\n",
       "<table border=\"1\" class=\"dataframe\">\n",
       "  <thead>\n",
       "    <tr style=\"text-align: right;\">\n",
       "      <th></th>\n",
       "      <th>tags</th>\n",
       "      <th>run</th>\n",
       "    </tr>\n",
       "    <tr>\n",
       "      <th>index</th>\n",
       "      <th></th>\n",
       "      <th></th>\n",
       "    </tr>\n",
       "  </thead>\n",
       "  <tbody>\n",
       "    <tr>\n",
       "      <th>AAACCCAAGAAACCCG-1-501</th>\n",
       "      <td>AAACCCAAGAAACCCG-1</td>\n",
       "      <td>501</td>\n",
       "    </tr>\n",
       "    <tr>\n",
       "      <th>AAACCCAAGAACTGAT-1-501</th>\n",
       "      <td>AAACCCAAGAACTGAT-1</td>\n",
       "      <td>501</td>\n",
       "    </tr>\n",
       "    <tr>\n",
       "      <th>AAACCCAAGCCTGTGC-1-501</th>\n",
       "      <td>AAACCCAAGCCTGTGC-1</td>\n",
       "      <td>501</td>\n",
       "    </tr>\n",
       "    <tr>\n",
       "      <th>AAACCCAAGCGATGAC-1-501</th>\n",
       "      <td>AAACCCAAGCGATGAC-1</td>\n",
       "      <td>501</td>\n",
       "    </tr>\n",
       "    <tr>\n",
       "      <th>AAACCCAAGCGCCGTT-1-501</th>\n",
       "      <td>AAACCCAAGCGCCGTT-1</td>\n",
       "      <td>501</td>\n",
       "    </tr>\n",
       "  </tbody>\n",
       "</table>\n",
       "</div>"
      ],
      "text/plain": [
       "                                      tags  run\n",
       "index                                          \n",
       "AAACCCAAGAAACCCG-1-501  AAACCCAAGAAACCCG-1  501\n",
       "AAACCCAAGAACTGAT-1-501  AAACCCAAGAACTGAT-1  501\n",
       "AAACCCAAGCCTGTGC-1-501  AAACCCAAGCCTGTGC-1  501\n",
       "AAACCCAAGCGATGAC-1-501  AAACCCAAGCGATGAC-1  501\n",
       "AAACCCAAGCGCCGTT-1-501  AAACCCAAGCGCCGTT-1  501"
      ]
     },
     "execution_count": 68,
     "metadata": {},
     "output_type": "execute_result"
    }
   ],
   "source": [
    "combined_data.obs.head()"
   ]
  },
  {
   "cell_type": "code",
   "execution_count": 69,
   "metadata": {},
   "outputs": [
    {
     "data": {
      "text/html": [
       "<div>\n",
       "<style scoped>\n",
       "    .dataframe tbody tr th:only-of-type {\n",
       "        vertical-align: middle;\n",
       "    }\n",
       "\n",
       "    .dataframe tbody tr th {\n",
       "        vertical-align: top;\n",
       "    }\n",
       "\n",
       "    .dataframe thead th {\n",
       "        text-align: right;\n",
       "    }\n",
       "</style>\n",
       "<table border=\"1\" class=\"dataframe\">\n",
       "  <thead>\n",
       "    <tr style=\"text-align: right;\">\n",
       "      <th></th>\n",
       "      <th>unique_index</th>\n",
       "      <th>final_call</th>\n",
       "      <th>RescuedStatus</th>\n",
       "      <th>cmo</th>\n",
       "      <th>tags</th>\n",
       "      <th>run</th>\n",
       "      <th>run_cmo</th>\n",
       "      <th>condition</th>\n",
       "      <th>line</th>\n",
       "      <th>replicate</th>\n",
       "    </tr>\n",
       "  </thead>\n",
       "  <tbody>\n",
       "    <tr>\n",
       "      <th>0</th>\n",
       "      <td>AAACCCAAGCTCAGAG-1-510</td>\n",
       "      <td>CMO309</td>\n",
       "      <td>Not_Resc</td>\n",
       "      <td>309</td>\n",
       "      <td>AAACCCAAGCTCAGAG-1</td>\n",
       "      <td>510</td>\n",
       "      <td>510309</td>\n",
       "      <td>BPF</td>\n",
       "      <td>CTL04E</td>\n",
       "      <td>3</td>\n",
       "    </tr>\n",
       "    <tr>\n",
       "      <th>1</th>\n",
       "      <td>AAACCCAAGGAGCTGT-1-510</td>\n",
       "      <td>CMO310</td>\n",
       "      <td>Not_Resc</td>\n",
       "      <td>310</td>\n",
       "      <td>AAACCCAAGGAGCTGT-1</td>\n",
       "      <td>510</td>\n",
       "      <td>510310</td>\n",
       "      <td>BPF</td>\n",
       "      <td>CTL08A</td>\n",
       "      <td>1</td>\n",
       "    </tr>\n",
       "    <tr>\n",
       "      <th>2</th>\n",
       "      <td>AAACCCAAGGCACAAC-1-510</td>\n",
       "      <td>CMO312</td>\n",
       "      <td>Not_Resc</td>\n",
       "      <td>312</td>\n",
       "      <td>AAACCCAAGGCACAAC-1</td>\n",
       "      <td>510</td>\n",
       "      <td>510312</td>\n",
       "      <td>BPF</td>\n",
       "      <td>CTL08A</td>\n",
       "      <td>3</td>\n",
       "    </tr>\n",
       "    <tr>\n",
       "      <th>3</th>\n",
       "      <td>AAACCCAAGGGTTGCA-1-510</td>\n",
       "      <td>CMO309</td>\n",
       "      <td>Not_Resc</td>\n",
       "      <td>309</td>\n",
       "      <td>AAACCCAAGGGTTGCA-1</td>\n",
       "      <td>510</td>\n",
       "      <td>510309</td>\n",
       "      <td>BPF</td>\n",
       "      <td>CTL04E</td>\n",
       "      <td>3</td>\n",
       "    </tr>\n",
       "    <tr>\n",
       "      <th>4</th>\n",
       "      <td>AAACCCACAAGTGGAC-1-510</td>\n",
       "      <td>CMO309</td>\n",
       "      <td>Not_Resc</td>\n",
       "      <td>309</td>\n",
       "      <td>AAACCCACAAGTGGAC-1</td>\n",
       "      <td>510</td>\n",
       "      <td>510309</td>\n",
       "      <td>BPF</td>\n",
       "      <td>CTL04E</td>\n",
       "      <td>3</td>\n",
       "    </tr>\n",
       "  </tbody>\n",
       "</table>\n",
       "</div>"
      ],
      "text/plain": [
       "             unique_index final_call RescuedStatus  cmo                tags  \\\n",
       "0  AAACCCAAGCTCAGAG-1-510     CMO309      Not_Resc  309  AAACCCAAGCTCAGAG-1   \n",
       "1  AAACCCAAGGAGCTGT-1-510     CMO310      Not_Resc  310  AAACCCAAGGAGCTGT-1   \n",
       "2  AAACCCAAGGCACAAC-1-510     CMO312      Not_Resc  312  AAACCCAAGGCACAAC-1   \n",
       "3  AAACCCAAGGGTTGCA-1-510     CMO309      Not_Resc  309  AAACCCAAGGGTTGCA-1   \n",
       "4  AAACCCACAAGTGGAC-1-510     CMO309      Not_Resc  309  AAACCCACAAGTGGAC-1   \n",
       "\n",
       "   run  run_cmo condition    line replicate  \n",
       "0  510   510309       BPF  CTL04E         3  \n",
       "1  510   510310       BPF  CTL08A         1  \n",
       "2  510   510312       BPF  CTL08A         3  \n",
       "3  510   510309       BPF  CTL04E         3  \n",
       "4  510   510309       BPF  CTL04E         3  "
      ]
     },
     "execution_count": 69,
     "metadata": {},
     "output_type": "execute_result"
    }
   ],
   "source": [
    "classification_data.head()\n"
   ]
  },
  {
   "cell_type": "code",
   "execution_count": 70,
   "metadata": {},
   "outputs": [],
   "source": [
    "classification_data = classification_data.set_index('unique_index')"
   ]
  },
  {
   "cell_type": "code",
   "execution_count": 71,
   "metadata": {},
   "outputs": [
    {
     "data": {
      "text/plain": [
       "Index(['AAACCCAAGAAACCCG-1-501', 'AAACCCAAGAACTGAT-1-501',\n",
       "       'AAACCCAAGCCTGTGC-1-501', 'AAACCCAAGCGATGAC-1-501',\n",
       "       'AAACCCAAGCGCCGTT-1-501'],\n",
       "      dtype='object', name='index')"
      ]
     },
     "execution_count": 71,
     "metadata": {},
     "output_type": "execute_result"
    }
   ],
   "source": [
    "combined_data.obs_names[:5]"
   ]
  },
  {
   "cell_type": "code",
   "execution_count": 72,
   "metadata": {},
   "outputs": [
    {
     "name": "stdout",
     "output_type": "stream",
     "text": [
      "Index(['AAACCCAAGCTCAGAG-1-510', 'AAACCCAAGGAGCTGT-1-510',\n",
      "       'AAACCCAAGGCACAAC-1-510', 'AAACCCAAGGGTTGCA-1-510',\n",
      "       'AAACCCACAAGTGGAC-1-510'],\n",
      "      dtype='object', name='unique_index')\n",
      "Index(['AAACCCAAGAAACCCG-1-501', 'AAACCCAAGAACTGAT-1-501',\n",
      "       'AAACCCAAGCCTGTGC-1-501', 'AAACCCAAGCGATGAC-1-501',\n",
      "       'AAACCCAAGCGCCGTT-1-501'],\n",
      "      dtype='object', name='index')\n"
     ]
    }
   ],
   "source": [
    "print(classification_data.index[:5])\n",
    "print(combined_data.obs.index[:5])"
   ]
  },
  {
   "cell_type": "code",
   "execution_count": 73,
   "metadata": {},
   "outputs": [],
   "source": [
    "new_obs_data = pd.DataFrame(index=combined_data.obs_names)"
   ]
  },
  {
   "cell_type": "code",
   "execution_count": 74,
   "metadata": {},
   "outputs": [],
   "source": [
    "columns_to_add = ['cmo', 'run', 'condition', 'line', 'replicate']\n",
    "for col in columns_to_add:\n",
    "    new_obs_data[col] = classification_data.loc[classification_data.index.intersection(new_obs_data.index), col]"
   ]
  },
  {
   "cell_type": "code",
   "execution_count": 75,
   "metadata": {},
   "outputs": [],
   "source": [
    "for col in columns_to_add:\n",
    "    combined_data.obs[col] = new_obs_data[col]"
   ]
  },
  {
   "cell_type": "code",
   "execution_count": 76,
   "metadata": {},
   "outputs": [
    {
     "data": {
      "text/html": [
       "<div>\n",
       "<style scoped>\n",
       "    .dataframe tbody tr th:only-of-type {\n",
       "        vertical-align: middle;\n",
       "    }\n",
       "\n",
       "    .dataframe tbody tr th {\n",
       "        vertical-align: top;\n",
       "    }\n",
       "\n",
       "    .dataframe thead th {\n",
       "        text-align: right;\n",
       "    }\n",
       "</style>\n",
       "<table border=\"1\" class=\"dataframe\">\n",
       "  <thead>\n",
       "    <tr style=\"text-align: right;\">\n",
       "      <th></th>\n",
       "      <th>tags</th>\n",
       "      <th>run</th>\n",
       "      <th>cmo</th>\n",
       "      <th>condition</th>\n",
       "      <th>line</th>\n",
       "      <th>replicate</th>\n",
       "    </tr>\n",
       "    <tr>\n",
       "      <th>index</th>\n",
       "      <th></th>\n",
       "      <th></th>\n",
       "      <th></th>\n",
       "      <th></th>\n",
       "      <th></th>\n",
       "      <th></th>\n",
       "    </tr>\n",
       "  </thead>\n",
       "  <tbody>\n",
       "    <tr>\n",
       "      <th>AAACCCAAGAAACCCG-1-501</th>\n",
       "      <td>AAACCCAAGAAACCCG-1</td>\n",
       "      <td>501.0</td>\n",
       "      <td>303.0</td>\n",
       "      <td>THYROID_AGONIST</td>\n",
       "      <td>CTL04E</td>\n",
       "      <td>3</td>\n",
       "    </tr>\n",
       "    <tr>\n",
       "      <th>AAACCCAAGAACTGAT-1-501</th>\n",
       "      <td>AAACCCAAGAACTGAT-1</td>\n",
       "      <td>NaN</td>\n",
       "      <td>NaN</td>\n",
       "      <td>NaN</td>\n",
       "      <td>NaN</td>\n",
       "      <td>NaN</td>\n",
       "    </tr>\n",
       "    <tr>\n",
       "      <th>AAACCCAAGCCTGTGC-1-501</th>\n",
       "      <td>AAACCCAAGCCTGTGC-1</td>\n",
       "      <td>NaN</td>\n",
       "      <td>NaN</td>\n",
       "      <td>NaN</td>\n",
       "      <td>NaN</td>\n",
       "      <td>NaN</td>\n",
       "    </tr>\n",
       "    <tr>\n",
       "      <th>AAACCCAAGCGATGAC-1-501</th>\n",
       "      <td>AAACCCAAGCGATGAC-1</td>\n",
       "      <td>NaN</td>\n",
       "      <td>NaN</td>\n",
       "      <td>NaN</td>\n",
       "      <td>NaN</td>\n",
       "      <td>NaN</td>\n",
       "    </tr>\n",
       "    <tr>\n",
       "      <th>AAACCCAAGCGCCGTT-1-501</th>\n",
       "      <td>AAACCCAAGCGCCGTT-1</td>\n",
       "      <td>NaN</td>\n",
       "      <td>NaN</td>\n",
       "      <td>NaN</td>\n",
       "      <td>NaN</td>\n",
       "      <td>NaN</td>\n",
       "    </tr>\n",
       "  </tbody>\n",
       "</table>\n",
       "</div>"
      ],
      "text/plain": [
       "                                      tags    run    cmo        condition  \\\n",
       "index                                                                       \n",
       "AAACCCAAGAAACCCG-1-501  AAACCCAAGAAACCCG-1  501.0  303.0  THYROID_AGONIST   \n",
       "AAACCCAAGAACTGAT-1-501  AAACCCAAGAACTGAT-1    NaN    NaN              NaN   \n",
       "AAACCCAAGCCTGTGC-1-501  AAACCCAAGCCTGTGC-1    NaN    NaN              NaN   \n",
       "AAACCCAAGCGATGAC-1-501  AAACCCAAGCGATGAC-1    NaN    NaN              NaN   \n",
       "AAACCCAAGCGCCGTT-1-501  AAACCCAAGCGCCGTT-1    NaN    NaN              NaN   \n",
       "\n",
       "                          line replicate  \n",
       "index                                     \n",
       "AAACCCAAGAAACCCG-1-501  CTL04E         3  \n",
       "AAACCCAAGAACTGAT-1-501     NaN       NaN  \n",
       "AAACCCAAGCCTGTGC-1-501     NaN       NaN  \n",
       "AAACCCAAGCGATGAC-1-501     NaN       NaN  \n",
       "AAACCCAAGCGCCGTT-1-501     NaN       NaN  "
      ]
     },
     "execution_count": 76,
     "metadata": {},
     "output_type": "execute_result"
    }
   ],
   "source": [
    "combined_data.obs.head()"
   ]
  },
  {
   "cell_type": "code",
   "execution_count": 77,
   "metadata": {},
   "outputs": [
    {
     "name": "stdout",
     "output_type": "stream",
     "text": [
      "Warning: 316206 cells in combined_data.obs didn't find a match in processed_data_combined\n",
      "First few unmatched cells:\n",
      "                        cmo  run condition line replicate\n",
      "index                                                    \n",
      "AAACCCAAGAACTGAT-1-501  NaN  NaN       NaN  NaN       NaN\n",
      "AAACCCAAGCCTGTGC-1-501  NaN  NaN       NaN  NaN       NaN\n",
      "AAACCCAAGCGATGAC-1-501  NaN  NaN       NaN  NaN       NaN\n",
      "AAACCCAAGCGCCGTT-1-501  NaN  NaN       NaN  NaN       NaN\n",
      "AAACCCAAGTACGAGC-1-501  NaN  NaN       NaN  NaN       NaN\n"
     ]
    }
   ],
   "source": [
    "unmatched_cells = new_obs_data[new_obs_data.isnull().any(axis=1)]\n",
    "if not unmatched_cells.empty:\n",
    "    print(f\"Warning: {len(unmatched_cells)} cells in combined_data.obs didn't find a match in processed_data_combined\")\n",
    "    print(\"First few unmatched cells:\")\n",
    "    print(unmatched_cells.head())\n",
    "else:\n",
    "    print(\"All cells in combined_data.obs found a match in processed_data_combined\")"
   ]
  },
  {
   "cell_type": "code",
   "execution_count": 78,
   "metadata": {},
   "outputs": [
    {
     "name": "stdout",
     "output_type": "stream",
     "text": [
      "Number of cells before removing unmapped and duplicates: 808267\n",
      "Number of unmapped cells to be removed: 316206\n"
     ]
    }
   ],
   "source": [
    "print(f\"Number of cells before removing unmapped and duplicates: {combined_data.n_obs}\")\n",
    "\n",
    "mapped_cells_mask = combined_data.obs[['cmo', 'run', 'condition', 'line', 'replicate']].notna().all(axis=1)\n",
    "\n",
    "unmapped_cells = (~mapped_cells_mask).sum()\n",
    "print(f\"Number of unmapped cells to be removed: {unmapped_cells}\")\n",
    "\n",
    "combined_data = combined_data[mapped_cells_mask]"
   ]
  },
  {
   "cell_type": "code",
   "execution_count": 79,
   "metadata": {},
   "outputs": [
    {
     "name": "stdout",
     "output_type": "stream",
     "text": [
      "All remaining cells are fully mapped with no NaN values.\n",
      "All observation names are now unique.\n"
     ]
    }
   ],
   "source": [
    "# Check if there are any remaining NaN values\n",
    "if combined_data.obs[['cmo', 'run', 'condition', 'line', 'replicate']].isna().any().any():\n",
    "    print(\"Warning: There are still some NaN values in the mapped columns.\")\n",
    "else:\n",
    "    print(\"All remaining cells are fully mapped with no NaN values.\")\n",
    "\n",
    "# Check if there are any remaining duplicates\n",
    "if combined_data.obs_names.duplicated().any():\n",
    "    print(\"Warning: There are still some duplicate observation names.\")\n",
    "else:\n",
    "    print(\"All observation names are now unique.\")"
   ]
  },
  {
   "cell_type": "code",
   "execution_count": 80,
   "metadata": {},
   "outputs": [
    {
     "data": {
      "text/plain": [
       "(492061, 36601)"
      ]
     },
     "execution_count": 80,
     "metadata": {},
     "output_type": "execute_result"
    }
   ],
   "source": [
    "combined_data.shape"
   ]
  },
  {
   "cell_type": "code",
   "execution_count": 81,
   "metadata": {},
   "outputs": [
    {
     "data": {
      "text/plain": [
       "<Axes: xlabel='run'>"
      ]
     },
     "execution_count": 81,
     "metadata": {},
     "output_type": "execute_result"
    },
    {
     "data": {
      "image/png": "[encoded data removed]",
      "text/plain": [
       "<Figure size 640x480 with 1 Axes>"
      ]
     },
     "metadata": {},
     "output_type": "display_data"
    }
   ],
   "source": [
    "combined_data.obs['run'].value_counts().plot.bar(color=['#279e68', '#d62728', '#ff7f0e', '#1f77b4'])"
   ]
  },
  {
   "cell_type": "code",
   "execution_count": 82,
   "metadata": {},
   "outputs": [
    {
     "name": "stderr",
     "output_type": "stream",
     "text": [
      "/home/michal.kubacki/miniconda3/envs/rapids-24.06/lib/python3.11/site-packages/anndata/_core/anndata.py:1820: UserWarning: Variable names are not unique. To make them unique, call `.var_names_make_unique`.\n",
      "  utils.warn_names_duplicates(\"var\")\n"
     ]
    },
    {
     "name": "stdout",
     "output_type": "stream",
     "text": [
      "Existing combined data shape: (492061, 36601)\n",
      "Additional data shape: (38652, 36601)\n"
     ]
    },
    {
     "name": "stderr",
     "output_type": "stream",
     "text": [
      "/home/michal.kubacki/miniconda3/envs/rapids-24.06/lib/python3.11/site-packages/anndata/_core/anndata.py:1820: UserWarning: Variable names are not unique. To make them unique, call `.var_names_make_unique`.\n",
      "  utils.warn_names_duplicates(\"var\")\n"
     ]
    }
   ],
   "source": [
    "dir_508 = \"/group/testa/Project/EndPoints/2024_singleCell/nextflow/output/cellranger-multi/run-MTR_508/per_sample_outs/tmp-MTR_508/count\"\n",
    "adata = sc.read_10x_h5(os.path.join(dir_508, 'sample_filtered_feature_bc_matrix.h5'))\n",
    "adata.obs[\"run\"] = 508\n",
    "adata.obs[\"condition\"] = \"RET_AGONIST\"\n",
    "adata.obs = adata.obs.reset_index().rename(columns={'index': 'tags'})\n",
    "adata.obs['index'] = adata.obs['tags'].astype(str) + '-' + adata.obs['run'].astype(str)\n",
    "adata.obs.set_index('index', inplace=True)\n",
    "adata.var_names_make_unique()\n",
    "adata.obs_names_make_unique()\n",
    "\n",
    "print(f\"Existing combined data shape: {combined_data.shape}\")\n",
    "print(f\"Additional data shape: {adata.shape}\")"
   ]
  },
  {
   "cell_type": "code",
   "execution_count": 83,
   "metadata": {},
   "outputs": [
    {
     "name": "stdout",
     "output_type": "stream",
     "text": [
      "Updated combined data shape: (530713, 36601)\n"
     ]
    }
   ],
   "source": [
    "try:\n",
    "    updated_combined_data = ad.concat(\n",
    "        [combined_data, adata], \n",
    "        join='outer', \n",
    "        merge='first'\n",
    "    )\n",
    "    print(f\"Updated combined data shape: {updated_combined_data.shape}\")\n",
    "except Exception as e:\n",
    "    print(f\"Error during data combination: {str(e)}\")"
   ]
  },
  {
   "cell_type": "code",
   "execution_count": 84,
   "metadata": {},
   "outputs": [],
   "source": [
    "combined_data = updated_combined_data"
   ]
  },
  {
   "cell_type": "code",
   "execution_count": 85,
   "metadata": {},
   "outputs": [],
   "source": [
    "combined_data.write_h5ad(os.path.join(output_dir, 'combined_scRNA_seq_data.h5ad'))"
   ]
  },
  {
   "cell_type": "code",
   "execution_count": 86,
   "metadata": {},
   "outputs": [],
   "source": [
    "combined_data = ad.read_h5ad(os.path.join(output_dir, 'combined_scRNA_seq_data.h5ad'))"
   ]
  },
  {
   "cell_type": "code",
   "execution_count": 87,
   "metadata": {},
   "outputs": [
    {
     "data": {
      "text/html": [
       "<div>\n",
       "<style scoped>\n",
       "    .dataframe tbody tr th:only-of-type {\n",
       "        vertical-align: middle;\n",
       "    }\n",
       "\n",
       "    .dataframe tbody tr th {\n",
       "        vertical-align: top;\n",
       "    }\n",
       "\n",
       "    .dataframe thead th {\n",
       "        text-align: right;\n",
       "    }\n",
       "</style>\n",
       "<table border=\"1\" class=\"dataframe\">\n",
       "  <thead>\n",
       "    <tr style=\"text-align: right;\">\n",
       "      <th></th>\n",
       "      <th>tags</th>\n",
       "      <th>run</th>\n",
       "      <th>cmo</th>\n",
       "      <th>condition</th>\n",
       "      <th>line</th>\n",
       "      <th>replicate</th>\n",
       "    </tr>\n",
       "    <tr>\n",
       "      <th>index</th>\n",
       "      <th></th>\n",
       "      <th></th>\n",
       "      <th></th>\n",
       "      <th></th>\n",
       "      <th></th>\n",
       "      <th></th>\n",
       "    </tr>\n",
       "  </thead>\n",
       "  <tbody>\n",
       "    <tr>\n",
       "      <th>AAACCCAAGAAACCCG-1-501</th>\n",
       "      <td>AAACCCAAGAAACCCG-1</td>\n",
       "      <td>501.0</td>\n",
       "      <td>303.0</td>\n",
       "      <td>THYROID_AGONIST</td>\n",
       "      <td>CTL04E</td>\n",
       "      <td>3</td>\n",
       "    </tr>\n",
       "    <tr>\n",
       "      <th>AAACCCAAGGACGCAT-1-501</th>\n",
       "      <td>AAACCCAAGGACGCAT-1</td>\n",
       "      <td>501.0</td>\n",
       "      <td>306.0</td>\n",
       "      <td>THYROID_AGONIST</td>\n",
       "      <td>CTL08A</td>\n",
       "      <td>3</td>\n",
       "    </tr>\n",
       "    <tr>\n",
       "      <th>AAACCCAAGTTGAAAC-1-501</th>\n",
       "      <td>AAACCCAAGTTGAAAC-1</td>\n",
       "      <td>501.0</td>\n",
       "      <td>305.0</td>\n",
       "      <td>THYROID_AGONIST</td>\n",
       "      <td>CTL08A</td>\n",
       "      <td>2</td>\n",
       "    </tr>\n",
       "    <tr>\n",
       "      <th>AAACCCACAACGGGTA-1-501</th>\n",
       "      <td>AAACCCACAACGGGTA-1</td>\n",
       "      <td>501.0</td>\n",
       "      <td>306.0</td>\n",
       "      <td>THYROID_AGONIST</td>\n",
       "      <td>CTL08A</td>\n",
       "      <td>3</td>\n",
       "    </tr>\n",
       "    <tr>\n",
       "      <th>AAACCCACAAGATCCT-1-501</th>\n",
       "      <td>AAACCCACAAGATCCT-1</td>\n",
       "      <td>501.0</td>\n",
       "      <td>303.0</td>\n",
       "      <td>THYROID_AGONIST</td>\n",
       "      <td>CTL04E</td>\n",
       "      <td>3</td>\n",
       "    </tr>\n",
       "  </tbody>\n",
       "</table>\n",
       "</div>"
      ],
      "text/plain": [
       "                                      tags    run    cmo        condition  \\\n",
       "index                                                                       \n",
       "AAACCCAAGAAACCCG-1-501  AAACCCAAGAAACCCG-1  501.0  303.0  THYROID_AGONIST   \n",
       "AAACCCAAGGACGCAT-1-501  AAACCCAAGGACGCAT-1  501.0  306.0  THYROID_AGONIST   \n",
       "AAACCCAAGTTGAAAC-1-501  AAACCCAAGTTGAAAC-1  501.0  305.0  THYROID_AGONIST   \n",
       "AAACCCACAACGGGTA-1-501  AAACCCACAACGGGTA-1  501.0  306.0  THYROID_AGONIST   \n",
       "AAACCCACAAGATCCT-1-501  AAACCCACAAGATCCT-1  501.0  303.0  THYROID_AGONIST   \n",
       "\n",
       "                          line replicate  \n",
       "index                                     \n",
       "AAACCCAAGAAACCCG-1-501  CTL04E         3  \n",
       "AAACCCAAGGACGCAT-1-501  CTL08A         3  \n",
       "AAACCCAAGTTGAAAC-1-501  CTL08A         2  \n",
       "AAACCCACAACGGGTA-1-501  CTL08A         3  \n",
       "AAACCCACAAGATCCT-1-501  CTL04E         3  "
      ]
     },
     "execution_count": 87,
     "metadata": {},
     "output_type": "execute_result"
    }
   ],
   "source": [
    "combined_data.obs.head()"
   ]
  },
  {
   "cell_type": "code",
   "execution_count": 88,
   "metadata": {},
   "outputs": [
    {
     "name": "stdout",
     "output_type": "stream",
     "text": [
      "Current categories: Index(['3-PBA', 'ANDROGEN_AGONIST', 'ANDROGEN_ANTAGONIST', 'ARYL_HYD_AGONIST',\n",
      "       'ARYL_HYD_ANTAGONIST', 'BPA', 'BPF', 'DMSO', 'DPHP', 'ESTROGEN_AGONIST',\n",
      "       'ESTROGEN_ANTAGONIST', 'GLUCOCORT_AGONIST', 'GLUCOCORT_ANTAGONIST',\n",
      "       'LIVER-X_AGONIST', 'LIVER-X_ANTAGONIST', 'MBzP', 'MEP', 'MIX',\n",
      "       'RET_AGONIST', 'RET_ANTAGONIST', 'TCP', 'THYROID_AGONIST',\n",
      "       'THYROID_ANTAGONIST'],\n",
      "      dtype='object')\n",
      "Number of NaN values: 0\n",
      "Conditions in alphabetical order:\n",
      "3-PBA\n",
      "ANDROGEN_AGONIST\n",
      "ANDROGEN_ANTAGONIST\n",
      "ARYL_HYD_AGONIST\n",
      "ARYL_HYD_ANTAGONIST\n",
      "BPA\n",
      "BPF\n",
      "DMSO\n",
      "DPHP\n",
      "ESTROGEN_AGONIST\n",
      "ESTROGEN_ANTAGONIST\n",
      "GLUCOCORT_AGONIST\n",
      "GLUCOCORT_ANTAGONIST\n",
      "LIVER-X_AGONIST\n",
      "LIVER-X_ANTAGONIST\n",
      "MBzP\n",
      "MEP\n",
      "MIX\n",
      "RET_AGONIST\n",
      "RET_ANTAGONIST\n",
      "TCP\n",
      "THYROID_AGONIST\n",
      "THYROID_ANTAGONIST\n"
     ]
    }
   ],
   "source": [
    "import pandas as pd\n",
    "import numpy as np\n",
    "\n",
    "print(\"Current categories:\", combined_data.obs['condition'].cat.categories)\n",
    "print(\"Number of NaN values:\", combined_data.obs['condition'].isna().sum())\n",
    "\n",
    "# Get the current categories and add 'Unknown'\n",
    "current_categories = combined_data.obs['condition'].cat.categories.tolist()\n",
    "if 'Unknown' not in current_categories:\n",
    "    current_categories.append('Unknown')\n",
    "\n",
    "# Create a new categorical column with 'Unknown' included in categories\n",
    "combined_data.obs['condition_clean'] = pd.Categorical(\n",
    "    combined_data.obs['condition'].astype(str).replace('nan', 'Unknown'),\n",
    "    categories=current_categories\n",
    ")\n",
    "\n",
    "condition_strings = combined_data.obs['condition_clean'].astype(str)\n",
    "\n",
    "# Get all unique conditions\n",
    "all_conditions = condition_strings.unique()\n",
    "\n",
    "# Convert to a list and sort alphabetically\n",
    "sorted_conditions = sorted(list(all_conditions))\n",
    "\n",
    "# Print the sorted conditions\n",
    "print(\"Conditions in alphabetical order:\")\n",
    "for condition in sorted_conditions:\n",
    "    print(condition)"
   ]
  },
  {
   "cell_type": "markdown",
   "metadata": {},
   "source": [
    "# 9. Add 393 runs (only gentic multiplexed)"
   ]
  },
  {
   "cell_type": "code",
   "execution_count": 92,
   "metadata": {},
   "outputs": [],
   "source": [
    "data_dirs = {\n",
    "    \"MTR_393_3GEX\" : \"/group/testa/Project/EndPoints/2024_singleCell/nextflow_RITM0022624/outputs_count/MTR_393_3GEX/outs\",\n",
    "    \"MTR_394_3GEX\" : \"/group/testa/Project/EndPoints/2024_singleCell/nextflow_RITM0022624/outputs_count/MTR_394_3GEX/outs\"\n",
    "}"
   ]
  },
  {
   "cell_type": "code",
   "execution_count": 93,
   "metadata": {},
   "outputs": [
    {
     "name": "stdout",
     "output_type": "stream",
     "text": [
      "Loading MTR_393_3GEX\n"
     ]
    },
    {
     "name": "stderr",
     "output_type": "stream",
     "text": [
      "/home/michal.kubacki/miniconda3/envs/rapids-24.06/lib/python3.11/site-packages/anndata/_core/anndata.py:1820: UserWarning: Variable names are not unique. To make them unique, call `.var_names_make_unique`.\n",
      "  utils.warn_names_duplicates(\"var\")\n",
      "/home/michal.kubacki/miniconda3/envs/rapids-24.06/lib/python3.11/site-packages/anndata/_core/anndata.py:1820: UserWarning: Variable names are not unique. To make them unique, call `.var_names_make_unique`.\n",
      "  utils.warn_names_duplicates(\"var\")\n"
     ]
    },
    {
     "name": "stdout",
     "output_type": "stream",
     "text": [
      "                                      tags     condition  run\n",
      "AAACCCAAGACCAAAT-1-393  AAACCCAAGACCAAAT-1  MTR_393_3GEX  393\n",
      "AAACCCAAGACCCTTA-1-393  AAACCCAAGACCCTTA-1  MTR_393_3GEX  393\n",
      "AAACCCAAGCAAGGAA-1-393  AAACCCAAGCAAGGAA-1  MTR_393_3GEX  393\n",
      "AAACCCAAGCACTCAT-1-393  AAACCCAAGCACTCAT-1  MTR_393_3GEX  393\n",
      "AAACCCAAGCCTGCCA-1-393  AAACCCAAGCCTGCCA-1  MTR_393_3GEX  393\n",
      "Number of cells: 37830\n",
      "Number of genes: 36601\n",
      "Loading MTR_394_3GEX\n"
     ]
    },
    {
     "name": "stderr",
     "output_type": "stream",
     "text": [
      "/home/michal.kubacki/miniconda3/envs/rapids-24.06/lib/python3.11/site-packages/anndata/_core/anndata.py:1820: UserWarning: Variable names are not unique. To make them unique, call `.var_names_make_unique`.\n",
      "  utils.warn_names_duplicates(\"var\")\n"
     ]
    },
    {
     "name": "stdout",
     "output_type": "stream",
     "text": [
      "                                      tags     condition  run\n",
      "AAACCCAAGACGGAAA-1-394  AAACCCAAGACGGAAA-1  MTR_394_3GEX  394\n",
      "AAACCCAAGAGGGTGG-1-394  AAACCCAAGAGGGTGG-1  MTR_394_3GEX  394\n",
      "AAACCCAAGATACCAA-1-394  AAACCCAAGATACCAA-1  MTR_394_3GEX  394\n",
      "AAACCCAAGCCTGTCG-1-394  AAACCCAAGCCTGTCG-1  MTR_394_3GEX  394\n",
      "AAACCCAAGCGCCCAT-1-394  AAACCCAAGCGCCCAT-1  MTR_394_3GEX  394\n",
      "Number of cells: 53030\n",
      "Number of genes: 36601\n"
     ]
    },
    {
     "name": "stderr",
     "output_type": "stream",
     "text": [
      "/home/michal.kubacki/miniconda3/envs/rapids-24.06/lib/python3.11/site-packages/anndata/_core/anndata.py:1820: UserWarning: Variable names are not unique. To make them unique, call `.var_names_make_unique`.\n",
      "  utils.warn_names_duplicates(\"var\")\n"
     ]
    }
   ],
   "source": [
    "all_data = []\n",
    "\n",
    "for key, data_dir in data_dirs.items():\n",
    "    print(f\"Loading {key}\")\n",
    "    file_path = os.path.join(data_dir, 'filtered_feature_bc_matrix.h5')\n",
    "    adata = sc.read_10x_h5(file_path)\n",
    "    adata.obs[\"condition\"] = key\n",
    "    adata.obs[\"run\"] = key.split('_')[1]\n",
    "    adata.obs = adata.obs.reset_index()\n",
    "    adata.obs = adata.obs.rename(columns={'index': 'tags'})\n",
    "    adata.obs['index'] = adata.obs['tags'].astype(str) + '-' + adata.obs['run'].astype(str)\n",
    "    adata.obs = adata.obs.set_index('index')\n",
    "    adata.obs = adata.obs.rename_axis(None)\n",
    "    adata.obs_names_make_unique()\n",
    "    adata.var_names_make_unique()\n",
    "    print(adata.obs.head())\n",
    "\n",
    "    n_cells, n_genes = adata.shape\n",
    "    print(f\"Number of cells: {n_cells}\")\n",
    "    print(f\"Number of genes: {n_genes}\")\n",
    "    all_data.append(adata)"
   ]
  },
  {
   "cell_type": "code",
   "execution_count": 94,
   "metadata": {},
   "outputs": [],
   "source": [
    "# Concatenate all data\n",
    "to_add_combined = ad.concat(all_data, join='outer')"
   ]
  },
  {
   "cell_type": "code",
   "execution_count": 95,
   "metadata": {},
   "outputs": [
    {
     "data": {
      "text/html": [
       "<div>\n",
       "<style scoped>\n",
       "    .dataframe tbody tr th:only-of-type {\n",
       "        vertical-align: middle;\n",
       "    }\n",
       "\n",
       "    .dataframe tbody tr th {\n",
       "        vertical-align: top;\n",
       "    }\n",
       "\n",
       "    .dataframe thead th {\n",
       "        text-align: right;\n",
       "    }\n",
       "</style>\n",
       "<table border=\"1\" class=\"dataframe\">\n",
       "  <thead>\n",
       "    <tr style=\"text-align: right;\">\n",
       "      <th></th>\n",
       "      <th>tags</th>\n",
       "      <th>condition</th>\n",
       "      <th>run</th>\n",
       "    </tr>\n",
       "  </thead>\n",
       "  <tbody>\n",
       "    <tr>\n",
       "      <th>AAACCCAAGACCAAAT-1-393</th>\n",
       "      <td>AAACCCAAGACCAAAT-1</td>\n",
       "      <td>MTR_393_3GEX</td>\n",
       "      <td>393</td>\n",
       "    </tr>\n",
       "    <tr>\n",
       "      <th>AAACCCAAGACCCTTA-1-393</th>\n",
       "      <td>AAACCCAAGACCCTTA-1</td>\n",
       "      <td>MTR_393_3GEX</td>\n",
       "      <td>393</td>\n",
       "    </tr>\n",
       "    <tr>\n",
       "      <th>AAACCCAAGCAAGGAA-1-393</th>\n",
       "      <td>AAACCCAAGCAAGGAA-1</td>\n",
       "      <td>MTR_393_3GEX</td>\n",
       "      <td>393</td>\n",
       "    </tr>\n",
       "    <tr>\n",
       "      <th>AAACCCAAGCACTCAT-1-393</th>\n",
       "      <td>AAACCCAAGCACTCAT-1</td>\n",
       "      <td>MTR_393_3GEX</td>\n",
       "      <td>393</td>\n",
       "    </tr>\n",
       "    <tr>\n",
       "      <th>AAACCCAAGCCTGCCA-1-393</th>\n",
       "      <td>AAACCCAAGCCTGCCA-1</td>\n",
       "      <td>MTR_393_3GEX</td>\n",
       "      <td>393</td>\n",
       "    </tr>\n",
       "  </tbody>\n",
       "</table>\n",
       "</div>"
      ],
      "text/plain": [
       "                                      tags     condition  run\n",
       "AAACCCAAGACCAAAT-1-393  AAACCCAAGACCAAAT-1  MTR_393_3GEX  393\n",
       "AAACCCAAGACCCTTA-1-393  AAACCCAAGACCCTTA-1  MTR_393_3GEX  393\n",
       "AAACCCAAGCAAGGAA-1-393  AAACCCAAGCAAGGAA-1  MTR_393_3GEX  393\n",
       "AAACCCAAGCACTCAT-1-393  AAACCCAAGCACTCAT-1  MTR_393_3GEX  393\n",
       "AAACCCAAGCCTGCCA-1-393  AAACCCAAGCCTGCCA-1  MTR_393_3GEX  393"
      ]
     },
     "execution_count": 95,
     "metadata": {},
     "output_type": "execute_result"
    }
   ],
   "source": [
    "to_add_combined.obs.head()"
   ]
  },
  {
   "cell_type": "code",
   "execution_count": 96,
   "metadata": {},
   "outputs": [
    {
     "data": {
      "text/html": [
       "<div>\n",
       "<style scoped>\n",
       "    .dataframe tbody tr th:only-of-type {\n",
       "        vertical-align: middle;\n",
       "    }\n",
       "\n",
       "    .dataframe tbody tr th {\n",
       "        vertical-align: top;\n",
       "    }\n",
       "\n",
       "    .dataframe thead th {\n",
       "        text-align: right;\n",
       "    }\n",
       "</style>\n",
       "<table border=\"1\" class=\"dataframe\">\n",
       "  <thead>\n",
       "    <tr style=\"text-align: right;\">\n",
       "      <th></th>\n",
       "      <th>tags</th>\n",
       "      <th>run</th>\n",
       "      <th>cmo</th>\n",
       "      <th>condition</th>\n",
       "      <th>line</th>\n",
       "      <th>replicate</th>\n",
       "      <th>condition_clean</th>\n",
       "    </tr>\n",
       "    <tr>\n",
       "      <th>index</th>\n",
       "      <th></th>\n",
       "      <th></th>\n",
       "      <th></th>\n",
       "      <th></th>\n",
       "      <th></th>\n",
       "      <th></th>\n",
       "      <th></th>\n",
       "    </tr>\n",
       "  </thead>\n",
       "  <tbody>\n",
       "    <tr>\n",
       "      <th>AAACCCAAGAAACCCG-1-501</th>\n",
       "      <td>AAACCCAAGAAACCCG-1</td>\n",
       "      <td>501.0</td>\n",
       "      <td>303.0</td>\n",
       "      <td>THYROID_AGONIST</td>\n",
       "      <td>CTL04E</td>\n",
       "      <td>3</td>\n",
       "      <td>THYROID_AGONIST</td>\n",
       "    </tr>\n",
       "    <tr>\n",
       "      <th>AAACCCAAGGACGCAT-1-501</th>\n",
       "      <td>AAACCCAAGGACGCAT-1</td>\n",
       "      <td>501.0</td>\n",
       "      <td>306.0</td>\n",
       "      <td>THYROID_AGONIST</td>\n",
       "      <td>CTL08A</td>\n",
       "      <td>3</td>\n",
       "      <td>THYROID_AGONIST</td>\n",
       "    </tr>\n",
       "    <tr>\n",
       "      <th>AAACCCAAGTTGAAAC-1-501</th>\n",
       "      <td>AAACCCAAGTTGAAAC-1</td>\n",
       "      <td>501.0</td>\n",
       "      <td>305.0</td>\n",
       "      <td>THYROID_AGONIST</td>\n",
       "      <td>CTL08A</td>\n",
       "      <td>2</td>\n",
       "      <td>THYROID_AGONIST</td>\n",
       "    </tr>\n",
       "    <tr>\n",
       "      <th>AAACCCACAACGGGTA-1-501</th>\n",
       "      <td>AAACCCACAACGGGTA-1</td>\n",
       "      <td>501.0</td>\n",
       "      <td>306.0</td>\n",
       "      <td>THYROID_AGONIST</td>\n",
       "      <td>CTL08A</td>\n",
       "      <td>3</td>\n",
       "      <td>THYROID_AGONIST</td>\n",
       "    </tr>\n",
       "    <tr>\n",
       "      <th>AAACCCACAAGATCCT-1-501</th>\n",
       "      <td>AAACCCACAAGATCCT-1</td>\n",
       "      <td>501.0</td>\n",
       "      <td>303.0</td>\n",
       "      <td>THYROID_AGONIST</td>\n",
       "      <td>CTL04E</td>\n",
       "      <td>3</td>\n",
       "      <td>THYROID_AGONIST</td>\n",
       "    </tr>\n",
       "  </tbody>\n",
       "</table>\n",
       "</div>"
      ],
      "text/plain": [
       "                                      tags    run    cmo        condition  \\\n",
       "index                                                                       \n",
       "AAACCCAAGAAACCCG-1-501  AAACCCAAGAAACCCG-1  501.0  303.0  THYROID_AGONIST   \n",
       "AAACCCAAGGACGCAT-1-501  AAACCCAAGGACGCAT-1  501.0  306.0  THYROID_AGONIST   \n",
       "AAACCCAAGTTGAAAC-1-501  AAACCCAAGTTGAAAC-1  501.0  305.0  THYROID_AGONIST   \n",
       "AAACCCACAACGGGTA-1-501  AAACCCACAACGGGTA-1  501.0  306.0  THYROID_AGONIST   \n",
       "AAACCCACAAGATCCT-1-501  AAACCCACAAGATCCT-1  501.0  303.0  THYROID_AGONIST   \n",
       "\n",
       "                          line replicate  condition_clean  \n",
       "index                                                      \n",
       "AAACCCAAGAAACCCG-1-501  CTL04E         3  THYROID_AGONIST  \n",
       "AAACCCAAGGACGCAT-1-501  CTL08A         3  THYROID_AGONIST  \n",
       "AAACCCAAGTTGAAAC-1-501  CTL08A         2  THYROID_AGONIST  \n",
       "AAACCCACAACGGGTA-1-501  CTL08A         3  THYROID_AGONIST  \n",
       "AAACCCACAAGATCCT-1-501  CTL04E         3  THYROID_AGONIST  "
      ]
     },
     "execution_count": 96,
     "metadata": {},
     "output_type": "execute_result"
    }
   ],
   "source": [
    "combined_data.obs.head()"
   ]
  },
  {
   "cell_type": "code",
   "execution_count": 97,
   "metadata": {},
   "outputs": [],
   "source": [
    "combined = ad.concat([combined_data, to_add_combined], join='outer', merge='first')"
   ]
  },
  {
   "cell_type": "code",
   "execution_count": 98,
   "metadata": {},
   "outputs": [
    {
     "data": {
      "text/plain": [
       "AnnData object with n_obs × n_vars = 621573 × 36601\n",
       "    obs: 'tags', 'run', 'cmo', 'condition', 'line', 'replicate', 'condition_clean'\n",
       "    var: 'gene_ids', 'feature_types', 'genome'"
      ]
     },
     "execution_count": 98,
     "metadata": {},
     "output_type": "execute_result"
    }
   ],
   "source": [
    "combined"
   ]
  },
  {
   "cell_type": "code",
   "execution_count": 99,
   "metadata": {},
   "outputs": [
    {
     "data": {
      "text/html": [
       "<div>\n",
       "<style scoped>\n",
       "    .dataframe tbody tr th:only-of-type {\n",
       "        vertical-align: middle;\n",
       "    }\n",
       "\n",
       "    .dataframe tbody tr th {\n",
       "        vertical-align: top;\n",
       "    }\n",
       "\n",
       "    .dataframe thead th {\n",
       "        text-align: right;\n",
       "    }\n",
       "</style>\n",
       "<table border=\"1\" class=\"dataframe\">\n",
       "  <thead>\n",
       "    <tr style=\"text-align: right;\">\n",
       "      <th></th>\n",
       "      <th>tags</th>\n",
       "      <th>run</th>\n",
       "      <th>cmo</th>\n",
       "      <th>condition</th>\n",
       "      <th>line</th>\n",
       "      <th>replicate</th>\n",
       "      <th>condition_clean</th>\n",
       "    </tr>\n",
       "  </thead>\n",
       "  <tbody>\n",
       "    <tr>\n",
       "      <th>AAACCCAAGAAACCCG-1-501</th>\n",
       "      <td>AAACCCAAGAAACCCG-1</td>\n",
       "      <td>501</td>\n",
       "      <td>303.0</td>\n",
       "      <td>THYROID_AGONIST</td>\n",
       "      <td>CTL04E</td>\n",
       "      <td>3</td>\n",
       "      <td>THYROID_AGONIST</td>\n",
       "    </tr>\n",
       "    <tr>\n",
       "      <th>AAACCCAAGGACGCAT-1-501</th>\n",
       "      <td>AAACCCAAGGACGCAT-1</td>\n",
       "      <td>501</td>\n",
       "      <td>306.0</td>\n",
       "      <td>THYROID_AGONIST</td>\n",
       "      <td>CTL08A</td>\n",
       "      <td>3</td>\n",
       "      <td>THYROID_AGONIST</td>\n",
       "    </tr>\n",
       "    <tr>\n",
       "      <th>AAACCCAAGTTGAAAC-1-501</th>\n",
       "      <td>AAACCCAAGTTGAAAC-1</td>\n",
       "      <td>501</td>\n",
       "      <td>305.0</td>\n",
       "      <td>THYROID_AGONIST</td>\n",
       "      <td>CTL08A</td>\n",
       "      <td>2</td>\n",
       "      <td>THYROID_AGONIST</td>\n",
       "    </tr>\n",
       "    <tr>\n",
       "      <th>AAACCCACAACGGGTA-1-501</th>\n",
       "      <td>AAACCCACAACGGGTA-1</td>\n",
       "      <td>501</td>\n",
       "      <td>306.0</td>\n",
       "      <td>THYROID_AGONIST</td>\n",
       "      <td>CTL08A</td>\n",
       "      <td>3</td>\n",
       "      <td>THYROID_AGONIST</td>\n",
       "    </tr>\n",
       "    <tr>\n",
       "      <th>AAACCCACAAGATCCT-1-501</th>\n",
       "      <td>AAACCCACAAGATCCT-1</td>\n",
       "      <td>501</td>\n",
       "      <td>303.0</td>\n",
       "      <td>THYROID_AGONIST</td>\n",
       "      <td>CTL04E</td>\n",
       "      <td>3</td>\n",
       "      <td>THYROID_AGONIST</td>\n",
       "    </tr>\n",
       "  </tbody>\n",
       "</table>\n",
       "</div>"
      ],
      "text/plain": [
       "                                      tags  run    cmo        condition  \\\n",
       "AAACCCAAGAAACCCG-1-501  AAACCCAAGAAACCCG-1  501  303.0  THYROID_AGONIST   \n",
       "AAACCCAAGGACGCAT-1-501  AAACCCAAGGACGCAT-1  501  306.0  THYROID_AGONIST   \n",
       "AAACCCAAGTTGAAAC-1-501  AAACCCAAGTTGAAAC-1  501  305.0  THYROID_AGONIST   \n",
       "AAACCCACAACGGGTA-1-501  AAACCCACAACGGGTA-1  501  306.0  THYROID_AGONIST   \n",
       "AAACCCACAAGATCCT-1-501  AAACCCACAAGATCCT-1  501  303.0  THYROID_AGONIST   \n",
       "\n",
       "                          line replicate  condition_clean  \n",
       "AAACCCAAGAAACCCG-1-501  CTL04E         3  THYROID_AGONIST  \n",
       "AAACCCAAGGACGCAT-1-501  CTL08A         3  THYROID_AGONIST  \n",
       "AAACCCAAGTTGAAAC-1-501  CTL08A         2  THYROID_AGONIST  \n",
       "AAACCCACAACGGGTA-1-501  CTL08A         3  THYROID_AGONIST  \n",
       "AAACCCACAAGATCCT-1-501  CTL04E         3  THYROID_AGONIST  "
      ]
     },
     "execution_count": 99,
     "metadata": {},
     "output_type": "execute_result"
    }
   ],
   "source": [
    "combined.obs.run = combined.obs.run.astype(int)\n",
    "combined.obs.head()\n"
   ]
  },
  {
   "cell_type": "code",
   "execution_count": 100,
   "metadata": {},
   "outputs": [
    {
     "data": {
      "text/html": [
       "<div>\n",
       "<style scoped>\n",
       "    .dataframe tbody tr th:only-of-type {\n",
       "        vertical-align: middle;\n",
       "    }\n",
       "\n",
       "    .dataframe tbody tr th {\n",
       "        vertical-align: top;\n",
       "    }\n",
       "\n",
       "    .dataframe thead th {\n",
       "        text-align: right;\n",
       "    }\n",
       "</style>\n",
       "<table border=\"1\" class=\"dataframe\">\n",
       "  <thead>\n",
       "    <tr style=\"text-align: right;\">\n",
       "      <th></th>\n",
       "      <th>tags</th>\n",
       "      <th>run</th>\n",
       "      <th>cmo</th>\n",
       "      <th>condition</th>\n",
       "      <th>line</th>\n",
       "      <th>replicate</th>\n",
       "      <th>condition_clean</th>\n",
       "    </tr>\n",
       "  </thead>\n",
       "  <tbody>\n",
       "    <tr>\n",
       "      <th>AAACCCAAGACCAAAT-1-393</th>\n",
       "      <td>AAACCCAAGACCAAAT-1</td>\n",
       "      <td>393</td>\n",
       "      <td>NaN</td>\n",
       "      <td>MTR_393_3GEX</td>\n",
       "      <td>NaN</td>\n",
       "      <td>NaN</td>\n",
       "      <td>NaN</td>\n",
       "    </tr>\n",
       "    <tr>\n",
       "      <th>AAACCCAAGACCCTTA-1-393</th>\n",
       "      <td>AAACCCAAGACCCTTA-1</td>\n",
       "      <td>393</td>\n",
       "      <td>NaN</td>\n",
       "      <td>MTR_393_3GEX</td>\n",
       "      <td>NaN</td>\n",
       "      <td>NaN</td>\n",
       "      <td>NaN</td>\n",
       "    </tr>\n",
       "    <tr>\n",
       "      <th>AAACCCAAGCAAGGAA-1-393</th>\n",
       "      <td>AAACCCAAGCAAGGAA-1</td>\n",
       "      <td>393</td>\n",
       "      <td>NaN</td>\n",
       "      <td>MTR_393_3GEX</td>\n",
       "      <td>NaN</td>\n",
       "      <td>NaN</td>\n",
       "      <td>NaN</td>\n",
       "    </tr>\n",
       "    <tr>\n",
       "      <th>AAACCCAAGCACTCAT-1-393</th>\n",
       "      <td>AAACCCAAGCACTCAT-1</td>\n",
       "      <td>393</td>\n",
       "      <td>NaN</td>\n",
       "      <td>MTR_393_3GEX</td>\n",
       "      <td>NaN</td>\n",
       "      <td>NaN</td>\n",
       "      <td>NaN</td>\n",
       "    </tr>\n",
       "    <tr>\n",
       "      <th>AAACCCAAGCCTGCCA-1-393</th>\n",
       "      <td>AAACCCAAGCCTGCCA-1</td>\n",
       "      <td>393</td>\n",
       "      <td>NaN</td>\n",
       "      <td>MTR_393_3GEX</td>\n",
       "      <td>NaN</td>\n",
       "      <td>NaN</td>\n",
       "      <td>NaN</td>\n",
       "    </tr>\n",
       "  </tbody>\n",
       "</table>\n",
       "</div>"
      ],
      "text/plain": [
       "                                      tags  run  cmo     condition line  \\\n",
       "AAACCCAAGACCAAAT-1-393  AAACCCAAGACCAAAT-1  393  NaN  MTR_393_3GEX  NaN   \n",
       "AAACCCAAGACCCTTA-1-393  AAACCCAAGACCCTTA-1  393  NaN  MTR_393_3GEX  NaN   \n",
       "AAACCCAAGCAAGGAA-1-393  AAACCCAAGCAAGGAA-1  393  NaN  MTR_393_3GEX  NaN   \n",
       "AAACCCAAGCACTCAT-1-393  AAACCCAAGCACTCAT-1  393  NaN  MTR_393_3GEX  NaN   \n",
       "AAACCCAAGCCTGCCA-1-393  AAACCCAAGCCTGCCA-1  393  NaN  MTR_393_3GEX  NaN   \n",
       "\n",
       "                       replicate condition_clean  \n",
       "AAACCCAAGACCAAAT-1-393       NaN             NaN  \n",
       "AAACCCAAGACCCTTA-1-393       NaN             NaN  \n",
       "AAACCCAAGCAAGGAA-1-393       NaN             NaN  \n",
       "AAACCCAAGCACTCAT-1-393       NaN             NaN  \n",
       "AAACCCAAGCCTGCCA-1-393       NaN             NaN  "
      ]
     },
     "execution_count": 100,
     "metadata": {},
     "output_type": "execute_result"
    }
   ],
   "source": [
    "combined.obs[combined.obs.run.isin([393, 394])].head()"
   ]
  },
  {
   "cell_type": "code",
   "execution_count": 101,
   "metadata": {},
   "outputs": [
    {
     "data": {
      "text/plain": [
       "<Axes: xlabel='run'>"
      ]
     },
     "execution_count": 101,
     "metadata": {},
     "output_type": "execute_result"
    },
    {
     "data": {
      "image/png": "[encoded data removed]",
      "text/plain": [
       "<Figure size 640x480 with 1 Axes>"
      ]
     },
     "metadata": {},
     "output_type": "display_data"
    }
   ],
   "source": [
    "combined.obs['run'].value_counts().plot.bar(color=['#279e68', '#d62728', '#ff7f0e', '#1f77b4'])"
   ]
  },
  {
   "cell_type": "code",
   "execution_count": 102,
   "metadata": {},
   "outputs": [
    {
     "data": {
      "text/plain": [
       "<Axes: xlabel='run'>"
      ]
     },
     "execution_count": 102,
     "metadata": {},
     "output_type": "execute_result"
    },
    {
     "data": {
      "image/png": "[encoded data removed]",
      "text/plain": [
       "<Figure size 640x480 with 1 Axes>"
      ]
     },
     "metadata": {},
     "output_type": "display_data"
    }
   ],
   "source": [
    "sorted_runs = sorted(combined.obs['run'].unique())\n",
    "\n",
    "combined.obs['run'].value_counts().reindex(sorted_runs).plot.bar(color=['#279e68', '#d62728', '#ff7f0e', '#1f77b4'])"
   ]
  },
  {
   "cell_type": "code",
   "execution_count": 103,
   "metadata": {},
   "outputs": [],
   "source": [
    "combined.write_h5ad(os.path.join(output_dir, 'combined_scRNA_seq_data_39X.h5ad'))"
   ]
  },
  {
   "cell_type": "code",
   "execution_count": 104,
   "metadata": {},
   "outputs": [
    {
     "name": "stdout",
     "output_type": "stream",
     "text": [
      "Each run is assigned to only one condition: True\n",
      "Each condition is assigned to only one run: True\n"
     ]
    },
    {
     "name": "stderr",
     "output_type": "stream",
     "text": [
      "/localscratch/13399779.michal.kubacki/ipykernel_1007946/2822496074.py:6: FutureWarning: The default of observed=False is deprecated and will be changed to True in a future version of pandas. Pass observed=False to retain current behavior or observed=True to adopt the future default and silence this warning.\n",
      "  condition_to_run = combined.obs.groupby('condition')['run'].nunique()\n"
     ]
    }
   ],
   "source": [
    "# Check if each run is assigned to only one condition\n",
    "run_to_condition = combined.obs.groupby('run')['condition'].nunique()\n",
    "single_condition_per_run = (run_to_condition == 1).all()\n",
    "\n",
    "# Check if each condition is assigned to only one run\n",
    "condition_to_run = combined.obs.groupby('condition')['run'].nunique()\n",
    "single_run_per_condition = (condition_to_run == 1).all()\n",
    "\n",
    "print(f\"Each run is assigned to only one condition: {single_condition_per_run}\")\n",
    "print(f\"Each condition is assigned to only one run: {single_run_per_condition}\")"
   ]
  },
  {
   "cell_type": "code",
   "execution_count": 105,
   "metadata": {},
   "outputs": [
    {
     "data": {
      "text/plain": [
       "AnnData object with n_obs × n_vars = 621573 × 36601\n",
       "    obs: 'tags', 'run', 'cmo', 'condition', 'line', 'replicate', 'condition_clean'\n",
       "    var: 'gene_ids', 'feature_types', 'genome'"
      ]
     },
     "execution_count": 105,
     "metadata": {},
     "output_type": "execute_result"
    }
   ],
   "source": [
    "combined"
   ]
  },
  {
   "cell_type": "markdown",
   "metadata": {},
   "source": [
    "# Legacy"
   ]
  },
  {
   "cell_type": "code",
   "execution_count": null,
   "metadata": {},
   "outputs": [],
   "source": [
    "# for run_dir in run_dirs:\n",
    "#     try:\n",
    "#         print(f\"Processing run: {run_dir}\")\n",
    "#         adata = sc.read_h5ad(os.path.join(run_dir, 'matrix.h5ad'))\n",
    "#         adata.obs[\"run\"] = run_dir.split('/')[-1].split('_')[-1]\n",
    "#         adata.obs = adata.obs.reset_index()\n",
    "#         adata.obs = adata.obs.rename(columns={'index': 'tags'})\n",
    "#         adata.obs['index'] = adata.obs['tags'].astype(str) + '-' + adata.obs['run'].astype(str)\n",
    "#         adata.obs = adata.obs.set_index('index')\n",
    "#         adata.var_names_make_unique()\n",
    "#         adata.obs_names_make_unique()\n",
    "#         print(f\"Loaded AnnData object: {adata.shape}\")\n",
    "#         all_data.append(adata)\n",
    "#     except Exception as e:\n",
    "#         print(f\"Error processing {run_dir}: {str(e)}\")\n",
    "\n",
    "# print(f\"Number of processed runs: {len(all_data)}\")"
   ]
  }
 ],
 "metadata": {
  "kernelspec": {
   "display_name": "rapids-24.06",
   "language": "python",
   "name": "rapids-24.06"
  }
 },
 "nbformat": 4,
 "nbformat_minor": 2
}
