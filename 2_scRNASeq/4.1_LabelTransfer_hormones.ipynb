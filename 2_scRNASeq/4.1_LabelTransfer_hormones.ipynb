{
 "cells": [
  {
   "cell_type": "code",
   "execution_count": 1,
   "metadata": {},
   "outputs": [],
   "source": [
    "import scanpy as sc\n",
    "import pandas as pd\n",
    "from matplotlib import pylab\n",
    "import random\n",
    "import matplotlib.pyplot as plt\n",
    "import seaborn as sns\n",
    "import plotly.express as px\n",
    "import os\n",
    "import itertools\n",
    "import plotly.express as px\n",
    "import yaml\n",
    "\n",
    "\n",
    "import numpy as np\n",
    "import random\n",
    "import anndata as ad\n",
    "from scipy.sparse import  csr_matrix, issparse\n",
    "from scipy import sparse\n",
    "\n",
    "from matplotlib.colors import TwoSlopeNorm\n",
    "\n",
    "import scanpy.external as sce\n",
    "import sys\n",
    "\n",
    "import scvelo as scv"
   ]
  },
  {
   "cell_type": "code",
   "execution_count": 2,
   "metadata": {},
   "outputs": [],
   "source": [
    "import anndata"
   ]
  },
  {
   "cell_type": "code",
   "execution_count": 3,
   "metadata": {},
   "outputs": [
    {
     "data": {
      "text/plain": [
       "'0.10.8'"
      ]
     },
     "execution_count": 3,
     "metadata": {},
     "output_type": "execute_result"
    }
   ],
   "source": [
    "anndata.__version__"
   ]
  },
  {
   "cell_type": "code",
   "execution_count": 4,
   "metadata": {},
   "outputs": [
    {
     "data": {
      "text/plain": [
       "{'cortex': {'dsname': 'Poliudakis2019_cortex',\n",
       "  'adataPath': '/group/testa/Users/davide.castaldi/Polaroids_spinoff/2_GenerateReferences/cortex.Reference.h5ad',\n",
       "  'signaturePath': '/group/testa/Users/davide.castaldi/Polaroids_spinoff/2_GenerateReferences/cortex.SignatureGenes.tsv',\n",
       "  'signaturePurityPath': '/group/testa/Users/davide.castaldi/Polaroids_spinoff/2_GenerateReferences/cortex.SignaturesPurity.tsv',\n",
       "  'LabelTtransferAggregation': {'oRG': 'Glia',\n",
       "   'IP': 'IP',\n",
       "   'ExcitatoryDeepLayer': 'ExcitatoryNeuron',\n",
       "   'Cycling': 'Cycling',\n",
       "   'ExcitatoryMigrating': 'ExcitatoryNeuron',\n",
       "   'Excitatory': 'ExcitatoryNeuron',\n",
       "   'Endothelium': 'Vascular',\n",
       "   'vRG': 'Glia',\n",
       "   'Inhibitory': 'ForebrainInhibitory',\n",
       "   'OPC': 'OPC',\n",
       "   'Mic': 'Mic'},\n",
       "  'RelevantContrasts': {'Inh_vs_Exc': ['Inhibitory', 'Excitatory'],\n",
       "   'Exc_vs_cycling': ['Excitatory', 'Cycling']}},\n",
       " 'cerebellum': {'dsname': 'Aldinger2021_cerebellum',\n",
       "  'adataPath': '/group/testa/Users/davide.castaldi/Polaroids_spinoff/2_GenerateReferences/cerebellum.Reference.h5ad',\n",
       "  'signaturePath': '/group/testa/Users/davide.castaldi/Polaroids_spinoff/2_GenerateReferences/cerebellum.SignatureGenes.tsv',\n",
       "  'signaturePurityPath': '/group/testa/Users/davide.castaldi/Polaroids_spinoff/2_GenerateReferences/cerebellum.SignaturesPurity.tsv',\n",
       "  'LabelTtransferAggregation': {'Astrocytes': 'Glia',\n",
       "   'Purkinje': 'CerebellarInhibitory',\n",
       "   'InhibitoryProgenitors': 'CerebellarInhibitory',\n",
       "   'Inhibitory': 'CerebellarInhibitory',\n",
       "   'Glia': 'Glia',\n",
       "   'GranuleNeurons': 'ExcitatoryNeuron',\n",
       "   'Endothelium': 'Vascular',\n",
       "   'ExcitatoryInterneuron': 'ExcitatoryNeuron',\n",
       "   'OPC': 'OPC',\n",
       "   'Mic': 'Mic',\n",
       "   'CyclingGranulePrecursos': 'RLCycling',\n",
       "   'ML_gabaergic': 'CerebellarInhibitory',\n",
       "   'MLgabaergic': 'CerebellarInhibitory',\n",
       "   'ML_gabaergic ': 'CerebellarInhibitory'},\n",
       "  'RelevantContrasts': {'Mlint_vs_Ihib': ['MLgabaergic', 'Inhibitory'],\n",
       "   'ExcInt_vs_Cycling': ['ExcitatoryInterneuron', 'CyclingGranulePrecursos']}},\n",
       " 'subpallium': {'dsname': 'Yu2021_subpallium',\n",
       "  'adataPath': '/group/testa/Users/davide.castaldi/Polaroids_spinoff/2_GenerateReferences/subpallium.Reference.h5ad',\n",
       "  'signaturePath': '/group/testa/Users/davide.castaldi/Polaroids_spinoff/2_GenerateReferences/subpallium.SignatureGenes.tsv',\n",
       "  'signaturePurityPath': '/group/testa/Users/davide.castaldi/Polaroids_spinoff/2_GenerateReferences/subpallium.SignaturesPurity.tsv',\n",
       "  'LabelTtransferAggregation': {'Cycling': 'Cycling',\n",
       "   'Inhibitory': 'Inhibitory',\n",
       "   'IP': 'IP',\n",
       "   'Excitatory': 'ExcitatoryNeuron',\n",
       "   'Endothelium': 'Vascular',\n",
       "   'Mic': 'Mic',\n",
       "   'OPC': 'OPC'},\n",
       "  'RelevantContrasts': {'Cycling_vs_Inh': ['Cycling', 'Inhibitory']}},\n",
       " 'thalamus': {'dsname': 'KimSecondTri2023_Thalamus',\n",
       "  'adataPath': '/group/testa/Users/davide.castaldi/Polaroids_spinoff/2_GenerateReferences/thalamus.Reference.h5ad',\n",
       "  'signaturePath': '/group/testa/Users/davide.castaldi/Polaroids_spinoff/2_GenerateReferences/thalamus.SignatureGenes.tsv',\n",
       "  'signaturePurityPath': '/group/testa/Users/davide.castaldi/Polaroids_spinoff/2_GenerateReferences/thalamus.SignaturesPurity.tsv',\n",
       "  'LabelTtransferAggregation': {'Cycling': 'Cycling',\n",
       "   'Inhibitory': 'Inhibitory',\n",
       "   'IP': 'IP',\n",
       "   'Excitatory': 'ExcitatoryNeuron',\n",
       "   'Endothelium': 'Vascular',\n",
       "   'Mic': 'Mic',\n",
       "   'OPC': 'OPC'},\n",
       "  'RelevantContrasts': {'Exc_vs_Astro': ['Excitatory', 'Astrocytes']}}}"
      ]
     },
     "execution_count": 4,
     "metadata": {},
     "output_type": "execute_result"
    }
   ],
   "source": [
    "\n",
    "sc.settings.set_figure_params(dpi=100, facecolor='white', dpi_save=500)\n",
    "pylab.rcParams['figure.figsize'] = (9, 9)\n",
    "homeDir = os.getenv(\"HOME\")\n",
    "sys.path.insert(1, homeDir+\"/utils/\")\n",
    "\n",
    "from PlotPCA_components import *\n",
    "from AtlasClasses import *\n",
    "DS=\"hormones_substudy\"\n",
    "ReferenceTissue=\"cortex\"\n",
    "\n",
    "with open(homeDir+\"/utils/ReferenceDict.yaml\", 'r') as file:\n",
    "    ReferencePaths = yaml.safe_load(file)\n",
    "    for k in list(ReferencePaths.keys()):\n",
    "        ReferencePaths[k][\"adataPath\"] = \"/group/testa/Users/davide.castaldi/Polaroids_spinoff\"+ReferencePaths[k][\"adataPath\"]\n",
    "        #ReferencePaths[k][\"signaturePath\"] = homeDir+ReferencePaths[k][\"signaturePath\"]\n",
    "        ReferencePaths[k][\"signaturePath\"] = \"/group/testa/Users/davide.castaldi/Polaroids_spinoff\"+ReferencePaths[k][\"signaturePath\"]\n",
    "        ReferencePaths[k][\"signaturePurityPath\"] = \"/group/testa/Users/davide.castaldi/Polaroids_spinoff\"+ReferencePaths[k][\"signaturePurityPath\"]\n",
    "\n",
    "\n",
    "ReferencePaths\n"
   ]
  },
  {
   "cell_type": "code",
   "execution_count": 5,
   "metadata": {},
   "outputs": [],
   "source": [
    "import anndata2ri\n",
    "import rpy2.rinterface_lib.callbacks\n",
    "import logging\n",
    "anndata2ri.activate()\n",
    "%load_ext rpy2.ipython\n",
    "rpy2.rinterface_lib.callbacks.logger.setLevel(logging.ERROR)"
   ]
  },
  {
   "cell_type": "markdown",
   "metadata": {},
   "source": [
    "# Import"
   ]
  },
  {
   "cell_type": "code",
   "execution_count": 6,
   "metadata": {},
   "outputs": [],
   "source": [
    "adata = sc.read_h5ad(\"./adatas/3.Endpoints.{}.h5ad\".format(DS))"
   ]
  },
  {
   "cell_type": "code",
   "execution_count": 8,
   "metadata": {},
   "outputs": [],
   "source": [
    "# Just placeholders for the pipeline\n",
    "adata.obs[\"harmonizedRegion\"] = \"cortex\"\n",
    "adata.obs[\"tissue\"] = \"cortex\""
   ]
  },
  {
   "cell_type": "code",
   "execution_count": 9,
   "metadata": {},
   "outputs": [
    {
     "name": "stdout",
     "output_type": "stream",
     "text": [
      "Storing Counts in .layers['counts']\n",
      "normalization\n",
      "Preparing label transfer\n",
      "Found the following tissues: ['cortex']\n",
      "\n",
      "Loading reference for tissue: cortex\n"
     ]
    },
    {
     "name": "stderr",
     "output_type": "stream",
     "text": [
      "Processing groups:   0%|          | 0/85 [00:00<?, ?it/s]"
     ]
    },
    {
     "name": "stdout",
     "output_type": "stream",
     "text": [
      "Running labelTransfer on Sample 3_CTL04E_491\n",
      "Preparing reference and query\n",
      "Found mismatch between Ref and Query vars: will unify\n",
      "Scaling: True\n",
      "Running ingestion\n",
      "Running scANVI\n",
      "GPU with the lowest utilization is:  0\n"
     ]
    },
    {
     "name": "stderr",
     "output_type": "stream",
     "text": [
      "GPU available: True (cuda), used: True\n",
      "TPU available: False, using: 0 TPU cores\n",
      "HPU available: False, using: 0 HPUs\n",
      "LOCAL_RANK: 0 - CUDA_VISIBLE_DEVICES: [0,1,2,3]\n"
     ]
    },
    {
     "name": "stdout",
     "output_type": "stream",
     "text": [
      "Epoch 60/60: 100%|██████████| 60/60 [03:10<00:00,  2.80s/it, v_num=1, train_loss_step=2.57e+3, train_loss_epoch=3.24e+3]"
     ]
    },
    {
     "name": "stderr",
     "output_type": "stream",
     "text": [
      "`Trainer.fit` stopped: `max_epochs=60` reached.\n"
     ]
    },
    {
     "name": "stdout",
     "output_type": "stream",
     "text": [
      "Epoch 60/60: 100%|██████████| 60/60 [03:10<00:00,  3.17s/it, v_num=1, train_loss_step=2.57e+3, train_loss_epoch=3.24e+3]\n",
      "\u001b[34mINFO    \u001b[0m Training for \u001b[1;36m20\u001b[0m epochs.                                                                                   \n"
     ]
    },
    {
     "name": "stderr",
     "output_type": "stream",
     "text": [
      "GPU available: True (cuda), used: True\n",
      "TPU available: False, using: 0 TPU cores\n",
      "HPU available: False, using: 0 HPUs\n",
      "LOCAL_RANK: 0 - CUDA_VISIBLE_DEVICES: [0,1,2,3]\n"
     ]
    },
    {
     "name": "stdout",
     "output_type": "stream",
     "text": [
      "Epoch 20/20: 100%|██████████| 20/20 [02:26<00:00,  6.76s/it, v_num=1, train_loss_step=2.64e+3, train_loss_epoch=3.23e+3]"
     ]
    },
    {
     "name": "stderr",
     "output_type": "stream",
     "text": [
      "`Trainer.fit` stopped: `max_epochs=20` reached.\n"
     ]
    },
    {
     "name": "stdout",
     "output_type": "stream",
     "text": [
      "Epoch 20/20: 100%|██████████| 20/20 [02:26<00:00,  7.33s/it, v_num=1, train_loss_step=2.64e+3, train_loss_epoch=3.23e+3]\n",
      "Running harmony\n"
     ]
    },
    {
     "name": "stderr",
     "output_type": "stream",
     "text": [
      "... storing 'groupCov' as categorical\n",
      "... storing 'harmonizedRegion' as categorical\n",
      "... storing 'tissue' as categorical\n",
      "... storing 'study' as categorical\n",
      "... storing 'LabelTransfer_scANVI' as categorical\n",
      "... storing 'LabelTransfer_harmony' as categorical\n",
      "... storing 'HarmonyBatch' as categorical\n",
      "2025-02-28 17:22:36,246 - harmonypy - INFO - Computing initial centroids with sklearn.KMeans...\n",
      "INFO:harmonypy:Computing initial centroids with sklearn.KMeans...\n",
      "2025-02-28 17:22:40,887 - harmonypy - INFO - sklearn.KMeans initialization complete.\n",
      "INFO:harmonypy:sklearn.KMeans initialization complete.\n",
      "2025-02-28 17:22:41,088 - harmonypy - INFO - Iteration 1 of 20\n",
      "INFO:harmonypy:Iteration 1 of 20\n",
      "2025-02-28 17:22:49,005 - harmonypy - INFO - Iteration 2 of 20\n",
      "INFO:harmonypy:Iteration 2 of 20\n",
      "2025-02-28 17:22:56,122 - harmonypy - INFO - Converged after 2 iterations\n",
      "INFO:harmonypy:Converged after 2 iterations\n"
     ]
    },
    {
     "name": "stdout",
     "output_type": "stream",
     "text": [
      "Running KNN\n",
      "Scoring cell cycle\n",
      "calculating cell cycle phase\n"
     ]
    },
    {
     "name": "stderr",
     "output_type": "stream",
     "text": [
      "Processing groups:   1%|          | 1/85 [07:06<9:57:35, 426.85s/it]"
     ]
    },
    {
     "name": "stdout",
     "output_type": "stream",
     "text": [
      "-->     'S_score' and 'G2M_score', scores of cell cycle phases (adata.obs)\n",
      "Running labelTransfer on Sample 2_CTL08A_491\n",
      "Preparing reference and query\n",
      "Found mismatch between Ref and Query vars: will unify\n",
      "Scaling: True\n",
      "Running ingestion\n",
      "Running scANVI\n",
      "GPU with the lowest utilization is:  0\n"
     ]
    },
    {
     "name": "stderr",
     "output_type": "stream",
     "text": [
      "GPU available: True (cuda), used: True\n",
      "TPU available: False, using: 0 TPU cores\n",
      "HPU available: False, using: 0 HPUs\n",
      "LOCAL_RANK: 0 - CUDA_VISIBLE_DEVICES: [0,1,2,3]\n"
     ]
    },
    {
     "name": "stdout",
     "output_type": "stream",
     "text": [
      "Epoch 60/60: 100%|██████████| 60/60 [02:50<00:00,  3.33s/it, v_num=1, train_loss_step=3.21e+3, train_loss_epoch=3.21e+3]"
     ]
    },
    {
     "name": "stderr",
     "output_type": "stream",
     "text": [
      "`Trainer.fit` stopped: `max_epochs=60` reached.\n"
     ]
    },
    {
     "name": "stdout",
     "output_type": "stream",
     "text": [
      "Epoch 60/60: 100%|██████████| 60/60 [02:50<00:00,  2.85s/it, v_num=1, train_loss_step=3.21e+3, train_loss_epoch=3.21e+3]\n",
      "\u001b[34mINFO    \u001b[0m Training for \u001b[1;36m20\u001b[0m epochs.                                                                                   \n"
     ]
    },
    {
     "name": "stderr",
     "output_type": "stream",
     "text": [
      "GPU available: True (cuda), used: True\n",
      "TPU available: False, using: 0 TPU cores\n",
      "HPU available: False, using: 0 HPUs\n",
      "LOCAL_RANK: 0 - CUDA_VISIBLE_DEVICES: [0,1,2,3]\n"
     ]
    },
    {
     "name": "stdout",
     "output_type": "stream",
     "text": [
      "Epoch 20/20: 100%|██████████| 20/20 [02:19<00:00,  6.93s/it, v_num=1, train_loss_step=3.4e+3, train_loss_epoch=3.2e+3] "
     ]
    },
    {
     "name": "stderr",
     "output_type": "stream",
     "text": [
      "`Trainer.fit` stopped: `max_epochs=20` reached.\n"
     ]
    },
    {
     "name": "stdout",
     "output_type": "stream",
     "text": [
      "Epoch 20/20: 100%|██████████| 20/20 [02:19<00:00,  6.99s/it, v_num=1, train_loss_step=3.4e+3, train_loss_epoch=3.2e+3]\n",
      "Running harmony\n"
     ]
    },
    {
     "name": "stderr",
     "output_type": "stream",
     "text": [
      "... storing 'groupCov' as categorical\n",
      "... storing 'harmonizedRegion' as categorical\n",
      "... storing 'tissue' as categorical\n",
      "... storing 'study' as categorical\n",
      "... storing 'LabelTransfer_scANVI' as categorical\n",
      "... storing 'LabelTransfer_harmony' as categorical\n",
      "... storing 'HarmonyBatch' as categorical\n",
      "2025-02-28 17:28:45,715 - harmonypy - INFO - Computing initial centroids with sklearn.KMeans...\n",
      "INFO:harmonypy:Computing initial centroids with sklearn.KMeans...\n",
      "2025-02-28 17:28:49,739 - harmonypy - INFO - sklearn.KMeans initialization complete.\n",
      "INFO:harmonypy:sklearn.KMeans initialization complete.\n",
      "2025-02-28 17:28:50,023 - harmonypy - INFO - Iteration 1 of 20\n",
      "INFO:harmonypy:Iteration 1 of 20\n",
      "2025-02-28 17:28:57,939 - harmonypy - INFO - Iteration 2 of 20\n",
      "INFO:harmonypy:Iteration 2 of 20\n",
      "2025-02-28 17:29:05,718 - harmonypy - INFO - Converged after 2 iterations\n",
      "INFO:harmonypy:Converged after 2 iterations\n"
     ]
    },
    {
     "name": "stdout",
     "output_type": "stream",
     "text": [
      "Running KNN\n",
      "Scoring cell cycle\n",
      "calculating cell cycle phase\n"
     ]
    },
    {
     "name": "stderr",
     "output_type": "stream",
     "text": [
      "Processing groups:   2%|▏         | 2/85 [13:06<8:56:09, 387.59s/it]"
     ]
    },
    {
     "name": "stdout",
     "output_type": "stream",
     "text": [
      "-->     'S_score' and 'G2M_score', scores of cell cycle phases (adata.obs)\n",
      "Running labelTransfer on Sample 3_CTL08A_491\n",
      "Preparing reference and query\n",
      "Found mismatch between Ref and Query vars: will unify\n",
      "Scaling: True\n",
      "Running ingestion\n",
      "Running scANVI\n",
      "GPU with the lowest utilization is:  0\n"
     ]
    },
    {
     "name": "stderr",
     "output_type": "stream",
     "text": [
      "GPU available: True (cuda), used: True\n",
      "TPU available: False, using: 0 TPU cores\n",
      "HPU available: False, using: 0 HPUs\n",
      "LOCAL_RANK: 0 - CUDA_VISIBLE_DEVICES: [0,1,2,3]\n"
     ]
    },
    {
     "name": "stdout",
     "output_type": "stream",
     "text": [
      "Epoch 60/60: 100%|██████████| 60/60 [02:50<00:00,  3.17s/it, v_num=1, train_loss_step=3.12e+3, train_loss_epoch=3.29e+3]"
     ]
    },
    {
     "name": "stderr",
     "output_type": "stream",
     "text": [
      "`Trainer.fit` stopped: `max_epochs=60` reached.\n"
     ]
    },
    {
     "name": "stdout",
     "output_type": "stream",
     "text": [
      "Epoch 60/60: 100%|██████████| 60/60 [02:50<00:00,  2.84s/it, v_num=1, train_loss_step=3.12e+3, train_loss_epoch=3.29e+3]\n",
      "\u001b[34mINFO    \u001b[0m Training for \u001b[1;36m20\u001b[0m epochs.                                                                                   \n"
     ]
    },
    {
     "name": "stderr",
     "output_type": "stream",
     "text": [
      "GPU available: True (cuda), used: True\n",
      "TPU available: False, using: 0 TPU cores\n",
      "HPU available: False, using: 0 HPUs\n",
      "LOCAL_RANK: 0 - CUDA_VISIBLE_DEVICES: [0,1,2,3]\n"
     ]
    },
    {
     "name": "stdout",
     "output_type": "stream",
     "text": [
      "Epoch 20/20: 100%|██████████| 20/20 [02:19<00:00,  6.92s/it, v_num=1, train_loss_step=3.33e+3, train_loss_epoch=3.29e+3]"
     ]
    },
    {
     "name": "stderr",
     "output_type": "stream",
     "text": [
      "`Trainer.fit` stopped: `max_epochs=20` reached.\n"
     ]
    },
    {
     "name": "stdout",
     "output_type": "stream",
     "text": [
      "Epoch 20/20: 100%|██████████| 20/20 [02:19<00:00,  7.00s/it, v_num=1, train_loss_step=3.33e+3, train_loss_epoch=3.29e+3]\n",
      "Running harmony\n"
     ]
    },
    {
     "name": "stderr",
     "output_type": "stream",
     "text": [
      "... storing 'groupCov' as categorical\n",
      "... storing 'harmonizedRegion' as categorical\n",
      "... storing 'tissue' as categorical\n",
      "... storing 'study' as categorical\n",
      "... storing 'LabelTransfer_scANVI' as categorical\n",
      "... storing 'LabelTransfer_harmony' as categorical\n",
      "... storing 'HarmonyBatch' as categorical\n",
      "2025-02-28 17:34:45,862 - harmonypy - INFO - Computing initial centroids with sklearn.KMeans...\n",
      "INFO:harmonypy:Computing initial centroids with sklearn.KMeans...\n",
      "2025-02-28 17:34:49,943 - harmonypy - INFO - sklearn.KMeans initialization complete.\n",
      "INFO:harmonypy:sklearn.KMeans initialization complete.\n",
      "2025-02-28 17:34:50,114 - harmonypy - INFO - Iteration 1 of 20\n",
      "INFO:harmonypy:Iteration 1 of 20\n",
      "2025-02-28 17:34:56,677 - harmonypy - INFO - Iteration 2 of 20\n",
      "INFO:harmonypy:Iteration 2 of 20\n",
      "2025-02-28 17:35:03,990 - harmonypy - INFO - Converged after 2 iterations\n",
      "INFO:harmonypy:Converged after 2 iterations\n"
     ]
    },
    {
     "name": "stdout",
     "output_type": "stream",
     "text": [
      "Running KNN\n",
      "Scoring cell cycle\n",
      "calculating cell cycle phase\n"
     ]
    },
    {
     "name": "stderr",
     "output_type": "stream",
     "text": [
      "Processing groups:   4%|▎         | 3/85 [19:05<8:31:26, 374.22s/it]"
     ]
    },
    {
     "name": "stdout",
     "output_type": "stream",
     "text": [
      "-->     'S_score' and 'G2M_score', scores of cell cycle phases (adata.obs)\n",
      "Running labelTransfer on Sample 2_CTL04E_491\n",
      "Preparing reference and query\n",
      "Found mismatch between Ref and Query vars: will unify\n",
      "Scaling: True\n",
      "Running ingestion\n",
      "Running scANVI\n",
      "GPU with the lowest utilization is:  0\n"
     ]
    },
    {
     "name": "stderr",
     "output_type": "stream",
     "text": [
      "GPU available: True (cuda), used: True\n",
      "TPU available: False, using: 0 TPU cores\n",
      "HPU available: False, using: 0 HPUs\n",
      "LOCAL_RANK: 0 - CUDA_VISIBLE_DEVICES: [0,1,2,3]\n"
     ]
    },
    {
     "name": "stdout",
     "output_type": "stream",
     "text": [
      "Epoch 1/60:   0%|          | 0/60 [00:00<?, ?it/s]"
     ]
    },
    {
     "name": "stderr",
     "output_type": "stream",
     "text": [
      "GPU available: True (cuda), used: True\n",
      "TPU available: False, using: 0 TPU cores\n",
      "HPU available: False, using: 0 HPUs\n",
      "LOCAL_RANK: 0 - CUDA_VISIBLE_DEVICES: [0,1,2,3]\n"
     ]
    },
    {
     "name": "stdout",
     "output_type": "stream",
     "text": [
      "Reducing batch size to 127 due to ValueError.\n",
      "Epoch 60/60: 100%|██████████| 60/60 [02:46<00:00,  2.81s/it, v_num=1, train_loss_step=3.56e+3, train_loss_epoch=3.3e+3] "
     ]
    },
    {
     "name": "stderr",
     "output_type": "stream",
     "text": [
      "`Trainer.fit` stopped: `max_epochs=60` reached.\n"
     ]
    },
    {
     "name": "stdout",
     "output_type": "stream",
     "text": [
      "Epoch 60/60: 100%|██████████| 60/60 [02:47<00:00,  2.78s/it, v_num=1, train_loss_step=3.56e+3, train_loss_epoch=3.3e+3]\n",
      "\u001b[34mINFO    \u001b[0m Training for \u001b[1;36m20\u001b[0m epochs.                                                                                   \n"
     ]
    },
    {
     "name": "stderr",
     "output_type": "stream",
     "text": [
      "GPU available: True (cuda), used: True\n",
      "TPU available: False, using: 0 TPU cores\n",
      "HPU available: False, using: 0 HPUs\n",
      "LOCAL_RANK: 0 - CUDA_VISIBLE_DEVICES: [0,1,2,3]\n"
     ]
    },
    {
     "name": "stdout",
     "output_type": "stream",
     "text": [
      "Epoch 20/20: 100%|██████████| 20/20 [02:15<00:00,  6.69s/it, v_num=1, train_loss_step=3.59e+3, train_loss_epoch=3.3e+3]"
     ]
    },
    {
     "name": "stderr",
     "output_type": "stream",
     "text": [
      "`Trainer.fit` stopped: `max_epochs=20` reached.\n"
     ]
    },
    {
     "name": "stdout",
     "output_type": "stream",
     "text": [
      "Epoch 20/20: 100%|██████████| 20/20 [02:15<00:00,  6.80s/it, v_num=1, train_loss_step=3.59e+3, train_loss_epoch=3.3e+3]\n",
      "Running harmony\n"
     ]
    },
    {
     "name": "stderr",
     "output_type": "stream",
     "text": [
      "... storing 'groupCov' as categorical\n",
      "... storing 'harmonizedRegion' as categorical\n",
      "... storing 'tissue' as categorical\n",
      "... storing 'study' as categorical\n",
      "... storing 'LabelTransfer_scANVI' as categorical\n",
      "... storing 'LabelTransfer_harmony' as categorical\n",
      "... storing 'HarmonyBatch' as categorical\n",
      "2025-02-28 17:40:39,642 - harmonypy - INFO - Computing initial centroids with sklearn.KMeans...\n",
      "INFO:harmonypy:Computing initial centroids with sklearn.KMeans...\n",
      "2025-02-28 17:40:44,130 - harmonypy - INFO - sklearn.KMeans initialization complete.\n",
      "INFO:harmonypy:sklearn.KMeans initialization complete.\n",
      "2025-02-28 17:40:44,318 - harmonypy - INFO - Iteration 1 of 20\n",
      "INFO:harmonypy:Iteration 1 of 20\n",
      "2025-02-28 17:40:51,587 - harmonypy - INFO - Iteration 2 of 20\n",
      "INFO:harmonypy:Iteration 2 of 20\n",
      "2025-02-28 17:40:58,578 - harmonypy - INFO - Converged after 2 iterations\n",
      "INFO:harmonypy:Converged after 2 iterations\n"
     ]
    },
    {
     "name": "stdout",
     "output_type": "stream",
     "text": [
      "Running KNN\n",
      "Epoch 1/60:   0%|          | 0/60 [05:40<?, ?it/s]\n",
      "Scoring cell cycle\n",
      "calculating cell cycle phase\n"
     ]
    },
    {
     "name": "stderr",
     "output_type": "stream",
     "text": [
      "Processing groups:   5%|▍         | 4/85 [24:59<8:14:43, 366.46s/it]"
     ]
    },
    {
     "name": "stdout",
     "output_type": "stream",
     "text": [
      "-->     'S_score' and 'G2M_score', scores of cell cycle phases (adata.obs)\n",
      "Running labelTransfer on Sample 1_CTL08A_491\n",
      "Preparing reference and query\n",
      "Found mismatch between Ref and Query vars: will unify\n",
      "Scaling: True\n",
      "Running ingestion\n",
      "Running scANVI\n",
      "GPU with the lowest utilization is:  0\n"
     ]
    },
    {
     "name": "stderr",
     "output_type": "stream",
     "text": [
      "GPU available: True (cuda), used: True\n",
      "TPU available: False, using: 0 TPU cores\n",
      "HPU available: False, using: 0 HPUs\n",
      "LOCAL_RANK: 0 - CUDA_VISIBLE_DEVICES: [0,1,2,3]\n"
     ]
    },
    {
     "name": "stdout",
     "output_type": "stream",
     "text": [
      "Epoch 60/60: 100%|██████████| 60/60 [02:45<00:00,  2.80s/it, v_num=1, train_loss_step=3.29e+3, train_loss_epoch=3.29e+3]"
     ]
    },
    {
     "name": "stderr",
     "output_type": "stream",
     "text": [
      "`Trainer.fit` stopped: `max_epochs=60` reached.\n"
     ]
    },
    {
     "name": "stdout",
     "output_type": "stream",
     "text": [
      "Epoch 60/60: 100%|██████████| 60/60 [02:45<00:00,  2.76s/it, v_num=1, train_loss_step=3.29e+3, train_loss_epoch=3.29e+3]\n",
      "\u001b[34mINFO    \u001b[0m Training for \u001b[1;36m20\u001b[0m epochs.                                                                                   \n"
     ]
    },
    {
     "name": "stderr",
     "output_type": "stream",
     "text": [
      "GPU available: True (cuda), used: True\n",
      "TPU available: False, using: 0 TPU cores\n",
      "HPU available: False, using: 0 HPUs\n",
      "LOCAL_RANK: 0 - CUDA_VISIBLE_DEVICES: [0,1,2,3]\n"
     ]
    },
    {
     "name": "stdout",
     "output_type": "stream",
     "text": [
      "Epoch 20/20: 100%|██████████| 20/20 [02:17<00:00,  6.74s/it, v_num=1, train_loss_step=3.5e+3, train_loss_epoch=3.28e+3] "
     ]
    },
    {
     "name": "stderr",
     "output_type": "stream",
     "text": [
      "`Trainer.fit` stopped: `max_epochs=20` reached.\n"
     ]
    },
    {
     "name": "stdout",
     "output_type": "stream",
     "text": [
      "Epoch 20/20: 100%|██████████| 20/20 [02:17<00:00,  6.86s/it, v_num=1, train_loss_step=3.5e+3, train_loss_epoch=3.28e+3]\n",
      "Running harmony\n"
     ]
    },
    {
     "name": "stderr",
     "output_type": "stream",
     "text": [
      "... storing 'groupCov' as categorical\n",
      "... storing 'harmonizedRegion' as categorical\n",
      "... storing 'tissue' as categorical\n",
      "... storing 'study' as categorical\n",
      "... storing 'LabelTransfer_scANVI' as categorical\n",
      "... storing 'LabelTransfer_harmony' as categorical\n",
      "... storing 'HarmonyBatch' as categorical\n",
      "2025-02-28 17:46:31,956 - harmonypy - INFO - Computing initial centroids with sklearn.KMeans...\n",
      "INFO:harmonypy:Computing initial centroids with sklearn.KMeans...\n",
      "2025-02-28 17:46:36,158 - harmonypy - INFO - sklearn.KMeans initialization complete.\n",
      "INFO:harmonypy:sklearn.KMeans initialization complete.\n",
      "2025-02-28 17:46:36,291 - harmonypy - INFO - Iteration 1 of 20\n",
      "INFO:harmonypy:Iteration 1 of 20\n",
      "2025-02-28 17:46:47,315 - harmonypy - INFO - Iteration 2 of 20\n",
      "INFO:harmonypy:Iteration 2 of 20\n",
      "2025-02-28 17:46:55,417 - harmonypy - INFO - Converged after 2 iterations\n",
      "INFO:harmonypy:Converged after 2 iterations\n"
     ]
    },
    {
     "name": "stdout",
     "output_type": "stream",
     "text": [
      "Running KNN\n",
      "Scoring cell cycle\n",
      "calculating cell cycle phase\n"
     ]
    },
    {
     "name": "stderr",
     "output_type": "stream",
     "text": [
      "Processing groups:   6%|▌         | 5/85 [30:56<8:04:02, 363.04s/it]"
     ]
    },
    {
     "name": "stdout",
     "output_type": "stream",
     "text": [
      "-->     'S_score' and 'G2M_score', scores of cell cycle phases (adata.obs)\n",
      "Running labelTransfer on Sample 1_CTL04E_491\n",
      "Preparing reference and query\n",
      "Found mismatch between Ref and Query vars: will unify\n",
      "Scaling: True\n",
      "Running ingestion\n",
      "Running scANVI\n",
      "GPU with the lowest utilization is:  0\n"
     ]
    },
    {
     "name": "stderr",
     "output_type": "stream",
     "text": [
      "GPU available: True (cuda), used: True\n",
      "TPU available: False, using: 0 TPU cores\n",
      "HPU available: False, using: 0 HPUs\n",
      "LOCAL_RANK: 0 - CUDA_VISIBLE_DEVICES: [0,1,2,3]\n"
     ]
    },
    {
     "name": "stdout",
     "output_type": "stream",
     "text": [
      "Epoch 60/60: 100%|██████████| 60/60 [02:47<00:00,  3.03s/it, v_num=1, train_loss_step=2.76e+3, train_loss_epoch=3.32e+3]"
     ]
    },
    {
     "name": "stderr",
     "output_type": "stream",
     "text": [
      "`Trainer.fit` stopped: `max_epochs=60` reached.\n"
     ]
    },
    {
     "name": "stdout",
     "output_type": "stream",
     "text": [
      "Epoch 60/60: 100%|██████████| 60/60 [02:47<00:00,  2.80s/it, v_num=1, train_loss_step=2.76e+3, train_loss_epoch=3.32e+3]\n",
      "\u001b[34mINFO    \u001b[0m Training for \u001b[1;36m20\u001b[0m epochs.                                                                                   \n"
     ]
    },
    {
     "name": "stderr",
     "output_type": "stream",
     "text": [
      "GPU available: True (cuda), used: True\n",
      "TPU available: False, using: 0 TPU cores\n",
      "HPU available: False, using: 0 HPUs\n",
      "LOCAL_RANK: 0 - CUDA_VISIBLE_DEVICES: [0,1,2,3]\n"
     ]
    },
    {
     "name": "stdout",
     "output_type": "stream",
     "text": [
      "Epoch 20/20: 100%|██████████| 20/20 [02:11<00:00,  6.61s/it, v_num=1, train_loss_step=3.27e+3, train_loss_epoch=3.32e+3]"
     ]
    },
    {
     "name": "stderr",
     "output_type": "stream",
     "text": [
      "`Trainer.fit` stopped: `max_epochs=20` reached.\n"
     ]
    },
    {
     "name": "stdout",
     "output_type": "stream",
     "text": [
      "Epoch 20/20: 100%|██████████| 20/20 [02:11<00:00,  6.58s/it, v_num=1, train_loss_step=3.27e+3, train_loss_epoch=3.32e+3]\n",
      "Running harmony\n"
     ]
    },
    {
     "name": "stderr",
     "output_type": "stream",
     "text": [
      "... storing 'groupCov' as categorical\n",
      "... storing 'harmonizedRegion' as categorical\n",
      "... storing 'tissue' as categorical\n",
      "... storing 'study' as categorical\n",
      "... storing 'LabelTransfer_scANVI' as categorical\n",
      "... storing 'LabelTransfer_harmony' as categorical\n",
      "... storing 'HarmonyBatch' as categorical\n",
      "2025-02-28 17:52:23,935 - harmonypy - INFO - Computing initial centroids with sklearn.KMeans...\n",
      "INFO:harmonypy:Computing initial centroids with sklearn.KMeans...\n",
      "2025-02-28 17:52:27,672 - harmonypy - INFO - sklearn.KMeans initialization complete.\n",
      "INFO:harmonypy:sklearn.KMeans initialization complete.\n",
      "2025-02-28 17:52:27,914 - harmonypy - INFO - Iteration 1 of 20\n",
      "INFO:harmonypy:Iteration 1 of 20\n",
      "2025-02-28 17:52:38,125 - harmonypy - INFO - Iteration 2 of 20\n",
      "INFO:harmonypy:Iteration 2 of 20\n",
      "2025-02-28 17:52:46,797 - harmonypy - INFO - Converged after 2 iterations\n",
      "INFO:harmonypy:Converged after 2 iterations\n"
     ]
    },
    {
     "name": "stdout",
     "output_type": "stream",
     "text": [
      "Running KNN\n",
      "Scoring cell cycle\n",
      "calculating cell cycle phase\n"
     ]
    },
    {
     "name": "stderr",
     "output_type": "stream",
     "text": [
      "Processing groups:   7%|▋         | 6/85 [36:48<7:52:45, 359.06s/it]"
     ]
    },
    {
     "name": "stdout",
     "output_type": "stream",
     "text": [
      "-->     'S_score' and 'G2M_score', scores of cell cycle phases (adata.obs)\n",
      "Running labelTransfer on Sample 3_CTL04E_492\n",
      "Preparing reference and query\n",
      "Found mismatch between Ref and Query vars: will unify\n",
      "Scaling: True\n",
      "Running ingestion\n",
      "Running scANVI\n",
      "GPU with the lowest utilization is:  0\n"
     ]
    },
    {
     "name": "stderr",
     "output_type": "stream",
     "text": [
      "GPU available: True (cuda), used: True\n",
      "TPU available: False, using: 0 TPU cores\n",
      "HPU available: False, using: 0 HPUs\n",
      "LOCAL_RANK: 0 - CUDA_VISIBLE_DEVICES: [0,1,2,3]\n"
     ]
    },
    {
     "name": "stdout",
     "output_type": "stream",
     "text": [
      "Epoch 1/60:   0%|          | 0/60 [00:00<?, ?it/s]"
     ]
    },
    {
     "name": "stderr",
     "output_type": "stream",
     "text": [
      "GPU available: True (cuda), used: True\n",
      "TPU available: False, using: 0 TPU cores\n",
      "HPU available: False, using: 0 HPUs\n",
      "LOCAL_RANK: 0 - CUDA_VISIBLE_DEVICES: [0,1,2,3]\n"
     ]
    },
    {
     "name": "stdout",
     "output_type": "stream",
     "text": [
      "Reducing batch size to 127 due to ValueError.\n",
      "Epoch 60/60: 100%|██████████| 60/60 [02:56<00:00,  3.39s/it, v_num=1, train_loss_step=3.42e+3, train_loss_epoch=3.34e+3]"
     ]
    },
    {
     "name": "stderr",
     "output_type": "stream",
     "text": [
      "`Trainer.fit` stopped: `max_epochs=60` reached.\n"
     ]
    },
    {
     "name": "stdout",
     "output_type": "stream",
     "text": [
      "Epoch 60/60: 100%|██████████| 60/60 [02:56<00:00,  2.94s/it, v_num=1, train_loss_step=3.42e+3, train_loss_epoch=3.34e+3]\n",
      "\u001b[34mINFO    \u001b[0m Training for \u001b[1;36m20\u001b[0m epochs.                                                                                   \n"
     ]
    },
    {
     "name": "stderr",
     "output_type": "stream",
     "text": [
      "GPU available: True (cuda), used: True\n",
      "TPU available: False, using: 0 TPU cores\n",
      "HPU available: False, using: 0 HPUs\n",
      "LOCAL_RANK: 0 - CUDA_VISIBLE_DEVICES: [0,1,2,3]\n"
     ]
    },
    {
     "name": "stdout",
     "output_type": "stream",
     "text": [
      "Epoch 1/60:   0%|          | 0/60 [03:07<?, ?it/s].15s/it, v_num=1, train_loss_step=3.47e+3, train_loss_epoch=3.39e+3]\n",
      "Epoch 20/20: 100%|██████████| 20/20 [02:12<00:00,  6.79s/it, v_num=1, train_loss_step=2.84e+3, train_loss_epoch=3.34e+3]"
     ]
    },
    {
     "name": "stderr",
     "output_type": "stream",
     "text": [
      "`Trainer.fit` stopped: `max_epochs=20` reached.\n"
     ]
    },
    {
     "name": "stdout",
     "output_type": "stream",
     "text": [
      "Epoch 20/20: 100%|██████████| 20/20 [02:12<00:00,  6.61s/it, v_num=1, train_loss_step=2.84e+3, train_loss_epoch=3.34e+3]\n",
      "Running harmony\n"
     ]
    },
    {
     "name": "stderr",
     "output_type": "stream",
     "text": [
      "... storing 'groupCov' as categorical\n",
      "... storing 'harmonizedRegion' as categorical\n",
      "... storing 'tissue' as categorical\n",
      "... storing 'study' as categorical\n",
      "... storing 'LabelTransfer_scANVI' as categorical\n",
      "... storing 'LabelTransfer_harmony' as categorical\n",
      "... storing 'HarmonyBatch' as categorical\n",
      "2025-02-28 17:58:30,133 - harmonypy - INFO - Computing initial centroids with sklearn.KMeans...\n",
      "INFO:harmonypy:Computing initial centroids with sklearn.KMeans...\n",
      "2025-02-28 17:58:33,925 - harmonypy - INFO - sklearn.KMeans initialization complete.\n",
      "INFO:harmonypy:sklearn.KMeans initialization complete.\n",
      "2025-02-28 17:58:34,129 - harmonypy - INFO - Iteration 1 of 20\n",
      "INFO:harmonypy:Iteration 1 of 20\n",
      "2025-02-28 17:58:44,328 - harmonypy - INFO - Iteration 2 of 20\n",
      "INFO:harmonypy:Iteration 2 of 20\n",
      "2025-02-28 17:58:53,676 - harmonypy - INFO - Converged after 2 iterations\n",
      "INFO:harmonypy:Converged after 2 iterations\n"
     ]
    },
    {
     "name": "stdout",
     "output_type": "stream",
     "text": [
      "Running KNN\n",
      "Scoring cell cycle\n",
      "calculating cell cycle phase\n"
     ]
    },
    {
     "name": "stderr",
     "output_type": "stream",
     "text": [
      "Processing groups:   8%|▊         | 7/85 [42:55<7:50:06, 361.63s/it]"
     ]
    },
    {
     "name": "stdout",
     "output_type": "stream",
     "text": [
      "-->     'S_score' and 'G2M_score', scores of cell cycle phases (adata.obs)\n",
      "Running labelTransfer on Sample 1_CTL08A_492\n",
      "Preparing reference and query\n",
      "Found mismatch between Ref and Query vars: will unify\n",
      "Scaling: True\n",
      "Running ingestion\n",
      "Running scANVI\n",
      "GPU with the lowest utilization is:  0\n"
     ]
    },
    {
     "name": "stderr",
     "output_type": "stream",
     "text": [
      "GPU available: True (cuda), used: True\n",
      "TPU available: False, using: 0 TPU cores\n",
      "HPU available: False, using: 0 HPUs\n",
      "LOCAL_RANK: 0 - CUDA_VISIBLE_DEVICES: [0,1,2,3]\n"
     ]
    },
    {
     "name": "stdout",
     "output_type": "stream",
     "text": [
      "Epoch 60/60: 100%|██████████| 60/60 [02:53<00:00,  3.16s/it, v_num=1, train_loss_step=3.34e+3, train_loss_epoch=3.32e+3]"
     ]
    },
    {
     "name": "stderr",
     "output_type": "stream",
     "text": [
      "`Trainer.fit` stopped: `max_epochs=60` reached.\n"
     ]
    },
    {
     "name": "stdout",
     "output_type": "stream",
     "text": [
      "Epoch 60/60: 100%|██████████| 60/60 [02:53<00:00,  2.89s/it, v_num=1, train_loss_step=3.34e+3, train_loss_epoch=3.32e+3]\n",
      "\u001b[34mINFO    \u001b[0m Training for \u001b[1;36m20\u001b[0m epochs.                                                                                   \n"
     ]
    },
    {
     "name": "stderr",
     "output_type": "stream",
     "text": [
      "GPU available: True (cuda), used: True\n",
      "TPU available: False, using: 0 TPU cores\n",
      "HPU available: False, using: 0 HPUs\n",
      "LOCAL_RANK: 0 - CUDA_VISIBLE_DEVICES: [0,1,2,3]\n"
     ]
    },
    {
     "name": "stdout",
     "output_type": "stream",
     "text": [
      "Epoch 20/20: 100%|██████████| 20/20 [02:14<00:00,  6.59s/it, v_num=1, train_loss_step=3.17e+3, train_loss_epoch=3.32e+3]"
     ]
    },
    {
     "name": "stderr",
     "output_type": "stream",
     "text": [
      "`Trainer.fit` stopped: `max_epochs=20` reached.\n"
     ]
    },
    {
     "name": "stdout",
     "output_type": "stream",
     "text": [
      "Epoch 20/20: 100%|██████████| 20/20 [02:14<00:00,  6.73s/it, v_num=1, train_loss_step=3.17e+3, train_loss_epoch=3.32e+3]\n",
      "Running harmony\n"
     ]
    },
    {
     "name": "stderr",
     "output_type": "stream",
     "text": [
      "... storing 'groupCov' as categorical\n",
      "... storing 'harmonizedRegion' as categorical\n",
      "... storing 'tissue' as categorical\n",
      "... storing 'study' as categorical\n",
      "... storing 'LabelTransfer_scANVI' as categorical\n",
      "... storing 'LabelTransfer_harmony' as categorical\n",
      "... storing 'HarmonyBatch' as categorical\n",
      "2025-02-28 18:04:30,749 - harmonypy - INFO - Computing initial centroids with sklearn.KMeans...\n",
      "INFO:harmonypy:Computing initial centroids with sklearn.KMeans...\n",
      "2025-02-28 18:04:34,695 - harmonypy - INFO - sklearn.KMeans initialization complete.\n",
      "INFO:harmonypy:sklearn.KMeans initialization complete.\n",
      "2025-02-28 18:04:34,818 - harmonypy - INFO - Iteration 1 of 20\n",
      "INFO:harmonypy:Iteration 1 of 20\n",
      "2025-02-28 18:04:43,526 - harmonypy - INFO - Iteration 2 of 20\n",
      "INFO:harmonypy:Iteration 2 of 20\n",
      "2025-02-28 18:04:50,930 - harmonypy - INFO - Converged after 2 iterations\n",
      "INFO:harmonypy:Converged after 2 iterations\n"
     ]
    },
    {
     "name": "stdout",
     "output_type": "stream",
     "text": [
      "Running KNN\n",
      "Scoring cell cycle\n",
      "calculating cell cycle phase\n"
     ]
    },
    {
     "name": "stderr",
     "output_type": "stream",
     "text": [
      "Processing groups:   9%|▉         | 8/85 [48:52<7:42:17, 360.22s/it]"
     ]
    },
    {
     "name": "stdout",
     "output_type": "stream",
     "text": [
      "-->     'S_score' and 'G2M_score', scores of cell cycle phases (adata.obs)\n",
      "Running labelTransfer on Sample 1_CTL04E_492\n",
      "Preparing reference and query\n",
      "Found mismatch between Ref and Query vars: will unify\n",
      "Scaling: True\n",
      "Running ingestion\n",
      "Running scANVI\n",
      "GPU with the lowest utilization is:  0\n"
     ]
    },
    {
     "name": "stderr",
     "output_type": "stream",
     "text": [
      "GPU available: True (cuda), used: True\n",
      "TPU available: False, using: 0 TPU cores\n",
      "HPU available: False, using: 0 HPUs\n",
      "LOCAL_RANK: 0 - CUDA_VISIBLE_DEVICES: [0,1,2,3]\n"
     ]
    },
    {
     "name": "stdout",
     "output_type": "stream",
     "text": [
      "Epoch 60/60: 100%|██████████| 60/60 [02:40<00:00,  2.65s/it, v_num=1, train_loss_step=2.83e+3, train_loss_epoch=3.26e+3]"
     ]
    },
    {
     "name": "stderr",
     "output_type": "stream",
     "text": [
      "`Trainer.fit` stopped: `max_epochs=60` reached.\n"
     ]
    },
    {
     "name": "stdout",
     "output_type": "stream",
     "text": [
      "Epoch 60/60: 100%|██████████| 60/60 [02:40<00:00,  2.68s/it, v_num=1, train_loss_step=2.83e+3, train_loss_epoch=3.26e+3]\n",
      "\u001b[34mINFO    \u001b[0m Training for \u001b[1;36m20\u001b[0m epochs.                                                                                   \n"
     ]
    },
    {
     "name": "stderr",
     "output_type": "stream",
     "text": [
      "GPU available: True (cuda), used: True\n",
      "TPU available: False, using: 0 TPU cores\n",
      "HPU available: False, using: 0 HPUs\n",
      "LOCAL_RANK: 0 - CUDA_VISIBLE_DEVICES: [0,1,2,3]\n"
     ]
    },
    {
     "name": "stdout",
     "output_type": "stream",
     "text": [
      "Epoch 20/20: 100%|██████████| 20/20 [02:09<00:00,  6.27s/it, v_num=1, train_loss_step=3.14e+3, train_loss_epoch=3.26e+3]"
     ]
    },
    {
     "name": "stderr",
     "output_type": "stream",
     "text": [
      "`Trainer.fit` stopped: `max_epochs=20` reached.\n"
     ]
    },
    {
     "name": "stdout",
     "output_type": "stream",
     "text": [
      "Epoch 20/20: 100%|██████████| 20/20 [02:09<00:00,  6.48s/it, v_num=1, train_loss_step=3.14e+3, train_loss_epoch=3.26e+3]\n",
      "Running harmony\n"
     ]
    },
    {
     "name": "stderr",
     "output_type": "stream",
     "text": [
      "... storing 'groupCov' as categorical\n",
      "... storing 'harmonizedRegion' as categorical\n",
      "... storing 'tissue' as categorical\n",
      "... storing 'study' as categorical\n",
      "... storing 'LabelTransfer_scANVI' as categorical\n",
      "... storing 'LabelTransfer_harmony' as categorical\n",
      "... storing 'HarmonyBatch' as categorical\n",
      "2025-02-28 18:10:09,553 - harmonypy - INFO - Computing initial centroids with sklearn.KMeans...\n",
      "INFO:harmonypy:Computing initial centroids with sklearn.KMeans...\n",
      "2025-02-28 18:10:13,300 - harmonypy - INFO - sklearn.KMeans initialization complete.\n",
      "INFO:harmonypy:sklearn.KMeans initialization complete.\n",
      "2025-02-28 18:10:13,545 - harmonypy - INFO - Iteration 1 of 20\n",
      "INFO:harmonypy:Iteration 1 of 20\n",
      "2025-02-28 18:10:23,350 - harmonypy - INFO - Iteration 2 of 20\n",
      "INFO:harmonypy:Iteration 2 of 20\n",
      "2025-02-28 18:10:31,711 - harmonypy - INFO - Converged after 2 iterations\n",
      "INFO:harmonypy:Converged after 2 iterations\n"
     ]
    },
    {
     "name": "stdout",
     "output_type": "stream",
     "text": [
      "Running KNN\n",
      "Scoring cell cycle\n",
      "calculating cell cycle phase\n"
     ]
    },
    {
     "name": "stderr",
     "output_type": "stream",
     "text": [
      "Processing groups:  11%|█         | 9/85 [54:32<7:28:29, 354.08s/it]"
     ]
    },
    {
     "name": "stdout",
     "output_type": "stream",
     "text": [
      "-->     'S_score' and 'G2M_score', scores of cell cycle phases (adata.obs)\n",
      "Running labelTransfer on Sample 2_CTL04E_492\n",
      "Preparing reference and query\n",
      "Found mismatch between Ref and Query vars: will unify\n",
      "Scaling: True\n",
      "Running ingestion\n",
      "Running scANVI\n",
      "GPU with the lowest utilization is:  0\n"
     ]
    },
    {
     "name": "stderr",
     "output_type": "stream",
     "text": [
      "GPU available: True (cuda), used: True\n",
      "TPU available: False, using: 0 TPU cores\n",
      "HPU available: False, using: 0 HPUs\n",
      "LOCAL_RANK: 0 - CUDA_VISIBLE_DEVICES: [0,1,2,3]\n"
     ]
    },
    {
     "name": "stdout",
     "output_type": "stream",
     "text": [
      "Epoch 60/60: 100%|██████████| 60/60 [02:44<00:00,  2.72s/it, v_num=1, train_loss_step=3.04e+3, train_loss_epoch=3.32e+3]"
     ]
    },
    {
     "name": "stderr",
     "output_type": "stream",
     "text": [
      "`Trainer.fit` stopped: `max_epochs=60` reached.\n"
     ]
    },
    {
     "name": "stdout",
     "output_type": "stream",
     "text": [
      "Epoch 60/60: 100%|██████████| 60/60 [02:44<00:00,  2.74s/it, v_num=1, train_loss_step=3.04e+3, train_loss_epoch=3.32e+3]\n",
      "\u001b[34mINFO    \u001b[0m Training for \u001b[1;36m20\u001b[0m epochs.                                                                                   \n"
     ]
    },
    {
     "name": "stderr",
     "output_type": "stream",
     "text": [
      "GPU available: True (cuda), used: True\n",
      "TPU available: False, using: 0 TPU cores\n",
      "HPU available: False, using: 0 HPUs\n",
      "LOCAL_RANK: 0 - CUDA_VISIBLE_DEVICES: [0,1,2,3]\n"
     ]
    },
    {
     "name": "stdout",
     "output_type": "stream",
     "text": [
      "Epoch 20/20: 100%|██████████| 20/20 [02:11<00:00,  6.36s/it, v_num=1, train_loss_step=3.41e+3, train_loss_epoch=3.32e+3]"
     ]
    },
    {
     "name": "stderr",
     "output_type": "stream",
     "text": [
      "`Trainer.fit` stopped: `max_epochs=20` reached.\n"
     ]
    },
    {
     "name": "stdout",
     "output_type": "stream",
     "text": [
      "Epoch 20/20: 100%|██████████| 20/20 [02:11<00:00,  6.58s/it, v_num=1, train_loss_step=3.41e+3, train_loss_epoch=3.32e+3]\n",
      "Running harmony\n"
     ]
    },
    {
     "name": "stderr",
     "output_type": "stream",
     "text": [
      "... storing 'groupCov' as categorical\n",
      "... storing 'harmonizedRegion' as categorical\n",
      "... storing 'tissue' as categorical\n",
      "... storing 'study' as categorical\n",
      "... storing 'LabelTransfer_scANVI' as categorical\n",
      "... storing 'LabelTransfer_harmony' as categorical\n",
      "... storing 'HarmonyBatch' as categorical\n",
      "2025-02-28 18:15:56,008 - harmonypy - INFO - Computing initial centroids with sklearn.KMeans...\n",
      "INFO:harmonypy:Computing initial centroids with sklearn.KMeans...\n",
      "2025-02-28 18:15:59,875 - harmonypy - INFO - sklearn.KMeans initialization complete.\n",
      "INFO:harmonypy:sklearn.KMeans initialization complete.\n",
      "2025-02-28 18:16:00,012 - harmonypy - INFO - Iteration 1 of 20\n",
      "INFO:harmonypy:Iteration 1 of 20\n",
      "2025-02-28 18:16:09,568 - harmonypy - INFO - Iteration 2 of 20\n",
      "INFO:harmonypy:Iteration 2 of 20\n",
      "2025-02-28 18:16:18,125 - harmonypy - INFO - Converged after 2 iterations\n",
      "INFO:harmonypy:Converged after 2 iterations\n"
     ]
    },
    {
     "name": "stdout",
     "output_type": "stream",
     "text": [
      "Running KNN\n",
      "Scoring cell cycle\n",
      "calculating cell cycle phase\n"
     ]
    },
    {
     "name": "stderr",
     "output_type": "stream",
     "text": [
      "Processing groups:  12%|█▏        | 10/85 [1:00:19<7:19:40, 351.74s/it]"
     ]
    },
    {
     "name": "stdout",
     "output_type": "stream",
     "text": [
      "-->     'S_score' and 'G2M_score', scores of cell cycle phases (adata.obs)\n",
      "Running labelTransfer on Sample 2_CTL08A_492\n",
      "Preparing reference and query\n",
      "Found mismatch between Ref and Query vars: will unify\n",
      "Scaling: True\n",
      "Running ingestion\n",
      "Running scANVI\n",
      "GPU with the lowest utilization is:  0\n"
     ]
    },
    {
     "name": "stderr",
     "output_type": "stream",
     "text": [
      "GPU available: True (cuda), used: True\n",
      "TPU available: False, using: 0 TPU cores\n",
      "HPU available: False, using: 0 HPUs\n",
      "LOCAL_RANK: 0 - CUDA_VISIBLE_DEVICES: [0,1,2,3]\n"
     ]
    },
    {
     "name": "stdout",
     "output_type": "stream",
     "text": [
      "Epoch 60/60: 100%|██████████| 60/60 [02:41<00:00,  2.65s/it, v_num=1, train_loss_step=3.01e+3, train_loss_epoch=3.23e+3]"
     ]
    },
    {
     "name": "stderr",
     "output_type": "stream",
     "text": [
      "`Trainer.fit` stopped: `max_epochs=60` reached.\n"
     ]
    },
    {
     "name": "stdout",
     "output_type": "stream",
     "text": [
      "Epoch 60/60: 100%|██████████| 60/60 [02:41<00:00,  2.69s/it, v_num=1, train_loss_step=3.01e+3, train_loss_epoch=3.23e+3]\n",
      "\u001b[34mINFO    \u001b[0m Training for \u001b[1;36m20\u001b[0m epochs.                                                                                   \n"
     ]
    },
    {
     "name": "stderr",
     "output_type": "stream",
     "text": [
      "GPU available: True (cuda), used: True\n",
      "TPU available: False, using: 0 TPU cores\n",
      "HPU available: False, using: 0 HPUs\n",
      "LOCAL_RANK: 0 - CUDA_VISIBLE_DEVICES: [0,1,2,3]\n"
     ]
    },
    {
     "name": "stdout",
     "output_type": "stream",
     "text": [
      "Epoch 20/20: 100%|██████████| 20/20 [02:12<00:00,  6.58s/it, v_num=1, train_loss_step=3.22e+3, train_loss_epoch=3.24e+3]"
     ]
    },
    {
     "name": "stderr",
     "output_type": "stream",
     "text": [
      "`Trainer.fit` stopped: `max_epochs=20` reached.\n"
     ]
    },
    {
     "name": "stdout",
     "output_type": "stream",
     "text": [
      "Epoch 20/20: 100%|██████████| 20/20 [02:12<00:00,  6.62s/it, v_num=1, train_loss_step=3.22e+3, train_loss_epoch=3.24e+3]\n",
      "Running harmony\n"
     ]
    },
    {
     "name": "stderr",
     "output_type": "stream",
     "text": [
      "... storing 'groupCov' as categorical\n",
      "... storing 'harmonizedRegion' as categorical\n",
      "... storing 'tissue' as categorical\n",
      "... storing 'study' as categorical\n",
      "... storing 'LabelTransfer_scANVI' as categorical\n",
      "... storing 'LabelTransfer_harmony' as categorical\n",
      "... storing 'HarmonyBatch' as categorical\n",
      "2025-02-28 18:21:39,795 - harmonypy - INFO - Computing initial centroids with sklearn.KMeans...\n",
      "INFO:harmonypy:Computing initial centroids with sklearn.KMeans...\n",
      "2025-02-28 18:21:43,734 - harmonypy - INFO - sklearn.KMeans initialization complete.\n",
      "INFO:harmonypy:sklearn.KMeans initialization complete.\n",
      "2025-02-28 18:21:43,966 - harmonypy - INFO - Iteration 1 of 20\n",
      "INFO:harmonypy:Iteration 1 of 20\n",
      "2025-02-28 18:21:51,490 - harmonypy - INFO - Iteration 2 of 20\n",
      "INFO:harmonypy:Iteration 2 of 20\n",
      "2025-02-28 18:21:59,013 - harmonypy - INFO - Converged after 2 iterations\n",
      "INFO:harmonypy:Converged after 2 iterations\n"
     ]
    },
    {
     "name": "stdout",
     "output_type": "stream",
     "text": [
      "Running KNN\n",
      "Scoring cell cycle\n",
      "calculating cell cycle phase\n"
     ]
    },
    {
     "name": "stderr",
     "output_type": "stream",
     "text": [
      "Processing groups:  13%|█▎        | 11/85 [1:06:00<7:09:45, 348.45s/it]"
     ]
    },
    {
     "name": "stdout",
     "output_type": "stream",
     "text": [
      "-->     'S_score' and 'G2M_score', scores of cell cycle phases (adata.obs)\n",
      "Running labelTransfer on Sample 3_CTL08A_492\n",
      "Preparing reference and query\n",
      "Found mismatch between Ref and Query vars: will unify\n",
      "Scaling: True\n",
      "Running ingestion\n",
      "Running scANVI\n",
      "GPU with the lowest utilization is:  0\n"
     ]
    },
    {
     "name": "stderr",
     "output_type": "stream",
     "text": [
      "GPU available: True (cuda), used: True\n",
      "TPU available: False, using: 0 TPU cores\n",
      "HPU available: False, using: 0 HPUs\n",
      "LOCAL_RANK: 0 - CUDA_VISIBLE_DEVICES: [0,1,2,3]\n"
     ]
    },
    {
     "name": "stdout",
     "output_type": "stream",
     "text": [
      "Epoch 60/60: 100%|██████████| 60/60 [02:53<00:00,  2.90s/it, v_num=1, train_loss_step=3.25e+3, train_loss_epoch=3.34e+3]"
     ]
    },
    {
     "name": "stderr",
     "output_type": "stream",
     "text": [
      "`Trainer.fit` stopped: `max_epochs=60` reached.\n"
     ]
    },
    {
     "name": "stdout",
     "output_type": "stream",
     "text": [
      "Epoch 60/60: 100%|██████████| 60/60 [02:53<00:00,  2.89s/it, v_num=1, train_loss_step=3.25e+3, train_loss_epoch=3.34e+3]\n",
      "\u001b[34mINFO    \u001b[0m Training for \u001b[1;36m20\u001b[0m epochs.                                                                                   \n"
     ]
    },
    {
     "name": "stderr",
     "output_type": "stream",
     "text": [
      "GPU available: True (cuda), used: True\n",
      "TPU available: False, using: 0 TPU cores\n",
      "HPU available: False, using: 0 HPUs\n",
      "LOCAL_RANK: 0 - CUDA_VISIBLE_DEVICES: [0,1,2,3]\n"
     ]
    },
    {
     "name": "stdout",
     "output_type": "stream",
     "text": [
      "Epoch 20/20: 100%|██████████| 20/20 [02:13<00:00,  6.65s/it, v_num=1, train_loss_step=3.41e+3, train_loss_epoch=3.34e+3]"
     ]
    },
    {
     "name": "stderr",
     "output_type": "stream",
     "text": [
      "`Trainer.fit` stopped: `max_epochs=20` reached.\n"
     ]
    },
    {
     "name": "stdout",
     "output_type": "stream",
     "text": [
      "Epoch 20/20: 100%|██████████| 20/20 [02:13<00:00,  6.67s/it, v_num=1, train_loss_step=3.41e+3, train_loss_epoch=3.34e+3]\n",
      "Running harmony\n"
     ]
    },
    {
     "name": "stderr",
     "output_type": "stream",
     "text": [
      "... storing 'groupCov' as categorical\n",
      "... storing 'harmonizedRegion' as categorical\n",
      "... storing 'tissue' as categorical\n",
      "... storing 'study' as categorical\n",
      "... storing 'LabelTransfer_scANVI' as categorical\n",
      "... storing 'LabelTransfer_harmony' as categorical\n",
      "... storing 'HarmonyBatch' as categorical\n",
      "2025-02-28 18:27:35,399 - harmonypy - INFO - Computing initial centroids with sklearn.KMeans...\n",
      "INFO:harmonypy:Computing initial centroids with sklearn.KMeans...\n",
      "2025-02-28 18:27:39,362 - harmonypy - INFO - sklearn.KMeans initialization complete.\n",
      "INFO:harmonypy:sklearn.KMeans initialization complete.\n",
      "2025-02-28 18:27:39,564 - harmonypy - INFO - Iteration 1 of 20\n",
      "INFO:harmonypy:Iteration 1 of 20\n",
      "2025-02-28 18:27:47,151 - harmonypy - INFO - Iteration 2 of 20\n",
      "INFO:harmonypy:Iteration 2 of 20\n",
      "2025-02-28 18:27:53,980 - harmonypy - INFO - Converged after 2 iterations\n",
      "INFO:harmonypy:Converged after 2 iterations\n"
     ]
    },
    {
     "name": "stdout",
     "output_type": "stream",
     "text": [
      "Running KNN\n",
      "Scoring cell cycle\n",
      "calculating cell cycle phase\n"
     ]
    },
    {
     "name": "stderr",
     "output_type": "stream",
     "text": [
      "Processing groups:  14%|█▍        | 12/85 [1:11:55<7:06:19, 350.40s/it]"
     ]
    },
    {
     "name": "stdout",
     "output_type": "stream",
     "text": [
      "-->     'S_score' and 'G2M_score', scores of cell cycle phases (adata.obs)\n",
      "Running labelTransfer on Sample 2_CTL08A_493\n",
      "Preparing reference and query\n",
      "Found mismatch between Ref and Query vars: will unify\n",
      "Scaling: True\n",
      "Running ingestion\n",
      "Running scANVI\n",
      "GPU with the lowest utilization is:  0\n"
     ]
    },
    {
     "name": "stderr",
     "output_type": "stream",
     "text": [
      "GPU available: True (cuda), used: True\n",
      "TPU available: False, using: 0 TPU cores\n",
      "HPU available: False, using: 0 HPUs\n",
      "LOCAL_RANK: 0 - CUDA_VISIBLE_DEVICES: [0,1,2,3]\n"
     ]
    },
    {
     "name": "stdout",
     "output_type": "stream",
     "text": [
      "Epoch 60/60: 100%|██████████| 60/60 [02:31<00:00,  2.52s/it, v_num=1, train_loss_step=2.99e+3, train_loss_epoch=3.13e+3]"
     ]
    },
    {
     "name": "stderr",
     "output_type": "stream",
     "text": [
      "`Trainer.fit` stopped: `max_epochs=60` reached.\n"
     ]
    },
    {
     "name": "stdout",
     "output_type": "stream",
     "text": [
      "Epoch 60/60: 100%|██████████| 60/60 [02:31<00:00,  2.53s/it, v_num=1, train_loss_step=2.99e+3, train_loss_epoch=3.13e+3]\n",
      "\u001b[34mINFO    \u001b[0m Training for \u001b[1;36m20\u001b[0m epochs.                                                                                   \n"
     ]
    },
    {
     "name": "stderr",
     "output_type": "stream",
     "text": [
      "GPU available: True (cuda), used: True\n",
      "TPU available: False, using: 0 TPU cores\n",
      "HPU available: False, using: 0 HPUs\n",
      "LOCAL_RANK: 0 - CUDA_VISIBLE_DEVICES: [0,1,2,3]\n"
     ]
    },
    {
     "name": "stdout",
     "output_type": "stream",
     "text": [
      "Epoch 20/20: 100%|██████████| 20/20 [02:08<00:00,  6.26s/it, v_num=1, train_loss_step=2.8e+3, train_loss_epoch=3.13e+3] "
     ]
    },
    {
     "name": "stderr",
     "output_type": "stream",
     "text": [
      "`Trainer.fit` stopped: `max_epochs=20` reached.\n"
     ]
    },
    {
     "name": "stdout",
     "output_type": "stream",
     "text": [
      "Epoch 20/20: 100%|██████████| 20/20 [02:08<00:00,  6.42s/it, v_num=1, train_loss_step=2.8e+3, train_loss_epoch=3.13e+3]\n",
      "Running harmony\n"
     ]
    },
    {
     "name": "stderr",
     "output_type": "stream",
     "text": [
      "... storing 'groupCov' as categorical\n",
      "... storing 'harmonizedRegion' as categorical\n",
      "... storing 'tissue' as categorical\n",
      "... storing 'study' as categorical\n",
      "... storing 'LabelTransfer_scANVI' as categorical\n",
      "... storing 'LabelTransfer_harmony' as categorical\n",
      "... storing 'HarmonyBatch' as categorical\n",
      "2025-02-28 18:33:00,484 - harmonypy - INFO - Computing initial centroids with sklearn.KMeans...\n",
      "INFO:harmonypy:Computing initial centroids with sklearn.KMeans...\n",
      "2025-02-28 18:33:04,756 - harmonypy - INFO - sklearn.KMeans initialization complete.\n",
      "INFO:harmonypy:sklearn.KMeans initialization complete.\n",
      "2025-02-28 18:33:05,028 - harmonypy - INFO - Iteration 1 of 20\n",
      "INFO:harmonypy:Iteration 1 of 20\n",
      "2025-02-28 18:33:14,310 - harmonypy - INFO - Iteration 2 of 20\n",
      "INFO:harmonypy:Iteration 2 of 20\n",
      "2025-02-28 18:33:21,826 - harmonypy - INFO - Converged after 2 iterations\n",
      "INFO:harmonypy:Converged after 2 iterations\n"
     ]
    },
    {
     "name": "stdout",
     "output_type": "stream",
     "text": [
      "Running KNN\n",
      "Scoring cell cycle\n",
      "calculating cell cycle phase\n"
     ]
    },
    {
     "name": "stderr",
     "output_type": "stream",
     "text": [
      "Processing groups:  15%|█▌        | 13/85 [1:17:23<6:52:19, 343.60s/it]"
     ]
    },
    {
     "name": "stdout",
     "output_type": "stream",
     "text": [
      "-->     'S_score' and 'G2M_score', scores of cell cycle phases (adata.obs)\n",
      "Running labelTransfer on Sample 3_CTL04E_493\n",
      "Preparing reference and query\n",
      "Found mismatch between Ref and Query vars: will unify\n",
      "Scaling: True\n",
      "Running ingestion\n",
      "Running scANVI\n",
      "GPU with the lowest utilization is:  0\n"
     ]
    },
    {
     "name": "stderr",
     "output_type": "stream",
     "text": [
      "GPU available: True (cuda), used: True\n",
      "TPU available: False, using: 0 TPU cores\n",
      "HPU available: False, using: 0 HPUs\n",
      "LOCAL_RANK: 0 - CUDA_VISIBLE_DEVICES: [0,1,2,3]\n"
     ]
    },
    {
     "name": "stdout",
     "output_type": "stream",
     "text": [
      "Epoch 60/60: 100%|██████████| 60/60 [02:34<00:00,  2.51s/it, v_num=1, train_loss_step=3.06e+3, train_loss_epoch=3.13e+3]"
     ]
    },
    {
     "name": "stderr",
     "output_type": "stream",
     "text": [
      "`Trainer.fit` stopped: `max_epochs=60` reached.\n"
     ]
    },
    {
     "name": "stdout",
     "output_type": "stream",
     "text": [
      "Epoch 60/60: 100%|██████████| 60/60 [02:34<00:00,  2.58s/it, v_num=1, train_loss_step=3.06e+3, train_loss_epoch=3.13e+3]\n",
      "\u001b[34mINFO    \u001b[0m Training for \u001b[1;36m20\u001b[0m epochs.                                                                                   \n"
     ]
    },
    {
     "name": "stderr",
     "output_type": "stream",
     "text": [
      "GPU available: True (cuda), used: True\n",
      "TPU available: False, using: 0 TPU cores\n",
      "HPU available: False, using: 0 HPUs\n",
      "LOCAL_RANK: 0 - CUDA_VISIBLE_DEVICES: [0,1,2,3]\n"
     ]
    },
    {
     "name": "stdout",
     "output_type": "stream",
     "text": [
      "Epoch 20/20: 100%|██████████| 20/20 [02:07<00:00,  6.28s/it, v_num=1, train_loss_step=3.13e+3, train_loss_epoch=3.13e+3]"
     ]
    },
    {
     "name": "stderr",
     "output_type": "stream",
     "text": [
      "`Trainer.fit` stopped: `max_epochs=20` reached.\n"
     ]
    },
    {
     "name": "stdout",
     "output_type": "stream",
     "text": [
      "Epoch 20/20: 100%|██████████| 20/20 [02:07<00:00,  6.36s/it, v_num=1, train_loss_step=3.13e+3, train_loss_epoch=3.13e+3]\n",
      "Running harmony\n"
     ]
    },
    {
     "name": "stderr",
     "output_type": "stream",
     "text": [
      "... storing 'groupCov' as categorical\n",
      "... storing 'harmonizedRegion' as categorical\n",
      "... storing 'tissue' as categorical\n",
      "... storing 'study' as categorical\n",
      "... storing 'LabelTransfer_scANVI' as categorical\n",
      "... storing 'LabelTransfer_harmony' as categorical\n",
      "... storing 'HarmonyBatch' as categorical\n",
      "2025-02-28 18:38:28,023 - harmonypy - INFO - Computing initial centroids with sklearn.KMeans...\n",
      "INFO:harmonypy:Computing initial centroids with sklearn.KMeans...\n",
      "2025-02-28 18:38:31,839 - harmonypy - INFO - sklearn.KMeans initialization complete.\n",
      "INFO:harmonypy:sklearn.KMeans initialization complete.\n",
      "2025-02-28 18:38:31,973 - harmonypy - INFO - Iteration 1 of 20\n",
      "INFO:harmonypy:Iteration 1 of 20\n",
      "2025-02-28 18:38:40,961 - harmonypy - INFO - Iteration 2 of 20\n",
      "INFO:harmonypy:Iteration 2 of 20\n",
      "2025-02-28 18:38:49,691 - harmonypy - INFO - Converged after 2 iterations\n",
      "INFO:harmonypy:Converged after 2 iterations\n"
     ]
    },
    {
     "name": "stdout",
     "output_type": "stream",
     "text": [
      "Running KNN\n",
      "Scoring cell cycle\n",
      "calculating cell cycle phase\n"
     ]
    },
    {
     "name": "stderr",
     "output_type": "stream",
     "text": [
      "Processing groups:  16%|█▋        | 14/85 [1:22:50<6:40:54, 338.80s/it]"
     ]
    },
    {
     "name": "stdout",
     "output_type": "stream",
     "text": [
      "-->     'S_score' and 'G2M_score', scores of cell cycle phases (adata.obs)\n",
      "Running labelTransfer on Sample 3_CTL08A_493\n",
      "Preparing reference and query\n",
      "Found mismatch between Ref and Query vars: will unify\n",
      "Scaling: True\n",
      "Running ingestion\n",
      "Running scANVI\n",
      "GPU with the lowest utilization is:  0\n"
     ]
    },
    {
     "name": "stderr",
     "output_type": "stream",
     "text": [
      "GPU available: True (cuda), used: True\n",
      "TPU available: False, using: 0 TPU cores\n",
      "HPU available: False, using: 0 HPUs\n",
      "LOCAL_RANK: 0 - CUDA_VISIBLE_DEVICES: [0,1,2,3]\n"
     ]
    },
    {
     "name": "stdout",
     "output_type": "stream",
     "text": [
      "Epoch 60/60: 100%|██████████| 60/60 [02:42<00:00,  2.71s/it, v_num=1, train_loss_step=3.15e+3, train_loss_epoch=3.27e+3]"
     ]
    },
    {
     "name": "stderr",
     "output_type": "stream",
     "text": [
      "`Trainer.fit` stopped: `max_epochs=60` reached.\n"
     ]
    },
    {
     "name": "stdout",
     "output_type": "stream",
     "text": [
      "Epoch 60/60: 100%|██████████| 60/60 [02:42<00:00,  2.70s/it, v_num=1, train_loss_step=3.15e+3, train_loss_epoch=3.27e+3]\n",
      "\u001b[34mINFO    \u001b[0m Training for \u001b[1;36m20\u001b[0m epochs.                                                                                   \n"
     ]
    },
    {
     "name": "stderr",
     "output_type": "stream",
     "text": [
      "GPU available: True (cuda), used: True\n",
      "TPU available: False, using: 0 TPU cores\n",
      "HPU available: False, using: 0 HPUs\n",
      "LOCAL_RANK: 0 - CUDA_VISIBLE_DEVICES: [0,1,2,3]\n"
     ]
    },
    {
     "name": "stdout",
     "output_type": "stream",
     "text": [
      "Epoch 20/20: 100%|██████████| 20/20 [02:09<00:00,  6.47s/it, v_num=1, train_loss_step=3.38e+3, train_loss_epoch=3.27e+3]"
     ]
    },
    {
     "name": "stderr",
     "output_type": "stream",
     "text": [
      "`Trainer.fit` stopped: `max_epochs=20` reached.\n"
     ]
    },
    {
     "name": "stdout",
     "output_type": "stream",
     "text": [
      "Epoch 20/20: 100%|██████████| 20/20 [02:09<00:00,  6.47s/it, v_num=1, train_loss_step=3.38e+3, train_loss_epoch=3.27e+3]\n",
      "Running harmony\n"
     ]
    },
    {
     "name": "stderr",
     "output_type": "stream",
     "text": [
      "... storing 'groupCov' as categorical\n",
      "... storing 'harmonizedRegion' as categorical\n",
      "... storing 'tissue' as categorical\n",
      "... storing 'study' as categorical\n",
      "... storing 'LabelTransfer_scANVI' as categorical\n",
      "... storing 'LabelTransfer_harmony' as categorical\n",
      "... storing 'HarmonyBatch' as categorical\n",
      "2025-02-28 18:44:08,399 - harmonypy - INFO - Computing initial centroids with sklearn.KMeans...\n",
      "INFO:harmonypy:Computing initial centroids with sklearn.KMeans...\n",
      "2025-02-28 18:44:12,424 - harmonypy - INFO - sklearn.KMeans initialization complete.\n",
      "INFO:harmonypy:sklearn.KMeans initialization complete.\n",
      "2025-02-28 18:44:12,686 - harmonypy - INFO - Iteration 1 of 20\n",
      "INFO:harmonypy:Iteration 1 of 20\n",
      "2025-02-28 18:44:22,058 - harmonypy - INFO - Iteration 2 of 20\n",
      "INFO:harmonypy:Iteration 2 of 20\n",
      "2025-02-28 18:44:30,438 - harmonypy - INFO - Converged after 2 iterations\n",
      "INFO:harmonypy:Converged after 2 iterations\n"
     ]
    },
    {
     "name": "stdout",
     "output_type": "stream",
     "text": [
      "Running KNN\n",
      "Scoring cell cycle\n",
      "calculating cell cycle phase\n"
     ]
    },
    {
     "name": "stderr",
     "output_type": "stream",
     "text": [
      "Processing groups:  18%|█▊        | 15/85 [1:28:31<6:36:03, 339.47s/it]"
     ]
    },
    {
     "name": "stdout",
     "output_type": "stream",
     "text": [
      "-->     'S_score' and 'G2M_score', scores of cell cycle phases (adata.obs)\n",
      "Running labelTransfer on Sample 2_CTL04E_493\n",
      "Preparing reference and query\n",
      "Found mismatch between Ref and Query vars: will unify\n",
      "Scaling: True\n",
      "Running ingestion\n",
      "Running scANVI\n",
      "GPU with the lowest utilization is:  0\n"
     ]
    },
    {
     "name": "stderr",
     "output_type": "stream",
     "text": [
      "GPU available: True (cuda), used: True\n",
      "TPU available: False, using: 0 TPU cores\n",
      "HPU available: False, using: 0 HPUs\n",
      "LOCAL_RANK: 0 - CUDA_VISIBLE_DEVICES: [0,1,2,3]\n"
     ]
    },
    {
     "name": "stdout",
     "output_type": "stream",
     "text": [
      "Epoch 60/60: 100%|██████████| 60/60 [02:29<00:00,  2.50s/it, v_num=1, train_loss_step=2.97e+3, train_loss_epoch=3.09e+3]"
     ]
    },
    {
     "name": "stderr",
     "output_type": "stream",
     "text": [
      "`Trainer.fit` stopped: `max_epochs=60` reached.\n"
     ]
    },
    {
     "name": "stdout",
     "output_type": "stream",
     "text": [
      "Epoch 60/60: 100%|██████████| 60/60 [02:29<00:00,  2.49s/it, v_num=1, train_loss_step=2.97e+3, train_loss_epoch=3.09e+3]\n",
      "\u001b[34mINFO    \u001b[0m Training for \u001b[1;36m20\u001b[0m epochs.                                                                                   \n"
     ]
    },
    {
     "name": "stderr",
     "output_type": "stream",
     "text": [
      "GPU available: True (cuda), used: True\n",
      "TPU available: False, using: 0 TPU cores\n",
      "HPU available: False, using: 0 HPUs\n",
      "LOCAL_RANK: 0 - CUDA_VISIBLE_DEVICES: [0,1,2,3]\n"
     ]
    },
    {
     "name": "stdout",
     "output_type": "stream",
     "text": [
      "Epoch 20/20: 100%|██████████| 20/20 [02:02<00:00,  6.53s/it, v_num=1, train_loss_step=3.2e+3, train_loss_epoch=3.09e+3] "
     ]
    },
    {
     "name": "stderr",
     "output_type": "stream",
     "text": [
      "`Trainer.fit` stopped: `max_epochs=20` reached.\n"
     ]
    },
    {
     "name": "stdout",
     "output_type": "stream",
     "text": [
      "Epoch 20/20: 100%|██████████| 20/20 [02:02<00:00,  6.11s/it, v_num=1, train_loss_step=3.2e+3, train_loss_epoch=3.09e+3]\n",
      "Running harmony\n"
     ]
    },
    {
     "name": "stderr",
     "output_type": "stream",
     "text": [
      "... storing 'groupCov' as categorical\n",
      "... storing 'harmonizedRegion' as categorical\n",
      "... storing 'tissue' as categorical\n",
      "... storing 'study' as categorical\n",
      "... storing 'LabelTransfer_scANVI' as categorical\n",
      "... storing 'LabelTransfer_harmony' as categorical\n",
      "... storing 'HarmonyBatch' as categorical\n",
      "2025-02-28 18:49:26,261 - harmonypy - INFO - Computing initial centroids with sklearn.KMeans...\n",
      "INFO:harmonypy:Computing initial centroids with sklearn.KMeans...\n",
      "2025-02-28 18:49:30,889 - harmonypy - INFO - sklearn.KMeans initialization complete.\n",
      "INFO:harmonypy:sklearn.KMeans initialization complete.\n",
      "2025-02-28 18:49:31,052 - harmonypy - INFO - Iteration 1 of 20\n",
      "INFO:harmonypy:Iteration 1 of 20\n",
      "2025-02-28 18:49:38,112 - harmonypy - INFO - Iteration 2 of 20\n",
      "INFO:harmonypy:Iteration 2 of 20\n",
      "2025-02-28 18:49:44,701 - harmonypy - INFO - Converged after 2 iterations\n",
      "INFO:harmonypy:Converged after 2 iterations\n"
     ]
    },
    {
     "name": "stdout",
     "output_type": "stream",
     "text": [
      "Running KNN\n",
      "Scoring cell cycle\n",
      "calculating cell cycle phase\n"
     ]
    },
    {
     "name": "stderr",
     "output_type": "stream",
     "text": [
      "Processing groups:  19%|█▉        | 16/85 [1:33:45<6:21:30, 331.75s/it]"
     ]
    },
    {
     "name": "stdout",
     "output_type": "stream",
     "text": [
      "-->     'S_score' and 'G2M_score', scores of cell cycle phases (adata.obs)\n",
      "Running labelTransfer on Sample 1_CTL04E_493\n",
      "Preparing reference and query\n",
      "Found mismatch between Ref and Query vars: will unify\n",
      "Scaling: True\n",
      "Running ingestion\n",
      "Running scANVI\n",
      "GPU with the lowest utilization is:  1\n"
     ]
    },
    {
     "name": "stderr",
     "output_type": "stream",
     "text": [
      "GPU available: True (cuda), used: True\n",
      "TPU available: False, using: 0 TPU cores\n",
      "HPU available: False, using: 0 HPUs\n",
      "LOCAL_RANK: 0 - CUDA_VISIBLE_DEVICES: [0,1,2,3]\n"
     ]
    },
    {
     "name": "stdout",
     "output_type": "stream",
     "text": [
      "Epoch 60/60: 100%|██████████| 60/60 [02:44<00:00,  2.69s/it, v_num=1, train_loss_step=2.74e+3, train_loss_epoch=3.16e+3]"
     ]
    },
    {
     "name": "stderr",
     "output_type": "stream",
     "text": [
      "`Trainer.fit` stopped: `max_epochs=60` reached.\n"
     ]
    },
    {
     "name": "stdout",
     "output_type": "stream",
     "text": [
      "Epoch 60/60: 100%|██████████| 60/60 [02:44<00:00,  2.74s/it, v_num=1, train_loss_step=2.74e+3, train_loss_epoch=3.16e+3]\n",
      "\u001b[34mINFO    \u001b[0m Training for \u001b[1;36m20\u001b[0m epochs.                                                                                   \n"
     ]
    },
    {
     "name": "stderr",
     "output_type": "stream",
     "text": [
      "GPU available: True (cuda), used: True\n",
      "TPU available: False, using: 0 TPU cores\n",
      "HPU available: False, using: 0 HPUs\n",
      "LOCAL_RANK: 0 - CUDA_VISIBLE_DEVICES: [0,1,2,3]\n"
     ]
    },
    {
     "name": "stdout",
     "output_type": "stream",
     "text": [
      "Epoch 20/20: 100%|██████████| 20/20 [02:08<00:00,  6.58s/it, v_num=1, train_loss_step=2.52e+3, train_loss_epoch=3.16e+3]"
     ]
    },
    {
     "name": "stderr",
     "output_type": "stream",
     "text": [
      "`Trainer.fit` stopped: `max_epochs=20` reached.\n"
     ]
    },
    {
     "name": "stdout",
     "output_type": "stream",
     "text": [
      "Epoch 20/20: 100%|██████████| 20/20 [02:08<00:00,  6.41s/it, v_num=1, train_loss_step=2.52e+3, train_loss_epoch=3.16e+3]\n",
      "Running harmony\n"
     ]
    },
    {
     "name": "stderr",
     "output_type": "stream",
     "text": [
      "... storing 'groupCov' as categorical\n",
      "... storing 'harmonizedRegion' as categorical\n",
      "... storing 'tissue' as categorical\n",
      "... storing 'study' as categorical\n",
      "... storing 'LabelTransfer_scANVI' as categorical\n",
      "... storing 'LabelTransfer_harmony' as categorical\n",
      "... storing 'HarmonyBatch' as categorical\n",
      "2025-02-28 18:55:07,353 - harmonypy - INFO - Computing initial centroids with sklearn.KMeans...\n",
      "INFO:harmonypy:Computing initial centroids with sklearn.KMeans...\n",
      "2025-02-28 18:55:13,139 - harmonypy - INFO - sklearn.KMeans initialization complete.\n",
      "INFO:harmonypy:sklearn.KMeans initialization complete.\n",
      "2025-02-28 18:55:13,612 - harmonypy - INFO - Iteration 1 of 20\n",
      "INFO:harmonypy:Iteration 1 of 20\n",
      "2025-02-28 18:55:23,467 - harmonypy - INFO - Iteration 2 of 20\n",
      "INFO:harmonypy:Iteration 2 of 20\n",
      "2025-02-28 18:55:33,181 - harmonypy - INFO - Converged after 2 iterations\n",
      "INFO:harmonypy:Converged after 2 iterations\n"
     ]
    },
    {
     "name": "stdout",
     "output_type": "stream",
     "text": [
      "Running KNN\n",
      "Scoring cell cycle\n",
      "calculating cell cycle phase\n"
     ]
    },
    {
     "name": "stderr",
     "output_type": "stream",
     "text": [
      "Processing groups:  20%|██        | 17/85 [1:39:34<6:21:42, 336.80s/it]"
     ]
    },
    {
     "name": "stdout",
     "output_type": "stream",
     "text": [
      "-->     'S_score' and 'G2M_score', scores of cell cycle phases (adata.obs)\n",
      "Running labelTransfer on Sample 1_CTL08A_493\n",
      "Preparing reference and query\n",
      "Found mismatch between Ref and Query vars: will unify\n",
      "Scaling: True\n",
      "Running ingestion\n",
      "Running scANVI\n",
      "GPU with the lowest utilization is:  1\n"
     ]
    },
    {
     "name": "stderr",
     "output_type": "stream",
     "text": [
      "GPU available: True (cuda), used: True\n",
      "TPU available: False, using: 0 TPU cores\n",
      "HPU available: False, using: 0 HPUs\n",
      "LOCAL_RANK: 0 - CUDA_VISIBLE_DEVICES: [0,1,2,3]\n"
     ]
    },
    {
     "name": "stdout",
     "output_type": "stream",
     "text": [
      "Epoch 60/60: 100%|██████████| 60/60 [02:48<00:00,  2.77s/it, v_num=1, train_loss_step=2.9e+3, train_loss_epoch=3.21e+3] "
     ]
    },
    {
     "name": "stderr",
     "output_type": "stream",
     "text": [
      "`Trainer.fit` stopped: `max_epochs=60` reached.\n"
     ]
    },
    {
     "name": "stdout",
     "output_type": "stream",
     "text": [
      "Epoch 60/60: 100%|██████████| 60/60 [02:48<00:00,  2.81s/it, v_num=1, train_loss_step=2.9e+3, train_loss_epoch=3.21e+3]\n",
      "\u001b[34mINFO    \u001b[0m Training for \u001b[1;36m20\u001b[0m epochs.                                                                                   \n"
     ]
    },
    {
     "name": "stderr",
     "output_type": "stream",
     "text": [
      "GPU available: True (cuda), used: True\n",
      "TPU available: False, using: 0 TPU cores\n",
      "HPU available: False, using: 0 HPUs\n",
      "LOCAL_RANK: 0 - CUDA_VISIBLE_DEVICES: [0,1,2,3]\n"
     ]
    },
    {
     "name": "stdout",
     "output_type": "stream",
     "text": [
      "Epoch 20/20: 100%|██████████| 20/20 [02:11<00:00,  6.90s/it, v_num=1, train_loss_step=3.25e+3, train_loss_epoch=3.21e+3]"
     ]
    },
    {
     "name": "stderr",
     "output_type": "stream",
     "text": [
      "`Trainer.fit` stopped: `max_epochs=20` reached.\n"
     ]
    },
    {
     "name": "stdout",
     "output_type": "stream",
     "text": [
      "Epoch 20/20: 100%|██████████| 20/20 [02:11<00:00,  6.58s/it, v_num=1, train_loss_step=3.25e+3, train_loss_epoch=3.21e+3]\n",
      "Running harmony\n"
     ]
    },
    {
     "name": "stderr",
     "output_type": "stream",
     "text": [
      "... storing 'groupCov' as categorical\n",
      "... storing 'harmonizedRegion' as categorical\n",
      "... storing 'tissue' as categorical\n",
      "... storing 'study' as categorical\n",
      "... storing 'LabelTransfer_scANVI' as categorical\n",
      "... storing 'LabelTransfer_harmony' as categorical\n",
      "... storing 'HarmonyBatch' as categorical\n",
      "2025-02-28 19:01:00,251 - harmonypy - INFO - Computing initial centroids with sklearn.KMeans...\n",
      "INFO:harmonypy:Computing initial centroids with sklearn.KMeans...\n",
      "2025-02-28 19:01:04,834 - harmonypy - INFO - sklearn.KMeans initialization complete.\n",
      "INFO:harmonypy:sklearn.KMeans initialization complete.\n",
      "2025-02-28 19:01:05,147 - harmonypy - INFO - Iteration 1 of 20\n",
      "INFO:harmonypy:Iteration 1 of 20\n",
      "2025-02-28 19:01:12,301 - harmonypy - INFO - Iteration 2 of 20\n",
      "INFO:harmonypy:Iteration 2 of 20\n",
      "2025-02-28 19:01:19,236 - harmonypy - INFO - Converged after 2 iterations\n",
      "INFO:harmonypy:Converged after 2 iterations\n"
     ]
    },
    {
     "name": "stdout",
     "output_type": "stream",
     "text": [
      "Running KNN\n",
      "Scoring cell cycle\n",
      "calculating cell cycle phase\n",
      "-->     'S_score' and 'G2M_score', scores of cell cycle phases (adata.obs)\n"
     ]
    },
    {
     "name": "stderr",
     "output_type": "stream",
     "text": [
      "Processing groups:  21%|██        | 18/85 [1:45:20<6:19:24, 339.77s/it]"
     ]
    },
    {
     "name": "stdout",
     "output_type": "stream",
     "text": [
      "Running labelTransfer on Sample 2_CTL08A_494\n",
      "Preparing reference and query\n",
      "Found mismatch between Ref and Query vars: will unify\n",
      "Scaling: True\n",
      "Running ingestion\n",
      "Running scANVI\n",
      "GPU with the lowest utilization is:  1\n"
     ]
    },
    {
     "name": "stderr",
     "output_type": "stream",
     "text": [
      "GPU available: True (cuda), used: True\n",
      "TPU available: False, using: 0 TPU cores\n",
      "HPU available: False, using: 0 HPUs\n",
      "LOCAL_RANK: 0 - CUDA_VISIBLE_DEVICES: [0,1,2,3]\n"
     ]
    },
    {
     "name": "stdout",
     "output_type": "stream",
     "text": [
      "Epoch 60/60: 100%|██████████| 60/60 [02:49<00:00,  2.82s/it, v_num=1, train_loss_step=3.17e+3, train_loss_epoch=3.16e+3]"
     ]
    },
    {
     "name": "stderr",
     "output_type": "stream",
     "text": [
      "`Trainer.fit` stopped: `max_epochs=60` reached.\n"
     ]
    },
    {
     "name": "stdout",
     "output_type": "stream",
     "text": [
      "Epoch 60/60: 100%|██████████| 60/60 [02:49<00:00,  2.83s/it, v_num=1, train_loss_step=3.17e+3, train_loss_epoch=3.16e+3]\n",
      "\u001b[34mINFO    \u001b[0m Training for \u001b[1;36m20\u001b[0m epochs.                                                                                   \n"
     ]
    },
    {
     "name": "stderr",
     "output_type": "stream",
     "text": [
      "GPU available: True (cuda), used: True\n",
      "TPU available: False, using: 0 TPU cores\n",
      "HPU available: False, using: 0 HPUs\n",
      "LOCAL_RANK: 0 - CUDA_VISIBLE_DEVICES: [0,1,2,3]\n"
     ]
    },
    {
     "name": "stdout",
     "output_type": "stream",
     "text": [
      "Epoch 20/20: 100%|██████████| 20/20 [02:12<00:00,  7.10s/it, v_num=1, train_loss_step=2.91e+3, train_loss_epoch=3.15e+3]"
     ]
    },
    {
     "name": "stderr",
     "output_type": "stream",
     "text": [
      "`Trainer.fit` stopped: `max_epochs=20` reached.\n"
     ]
    },
    {
     "name": "stdout",
     "output_type": "stream",
     "text": [
      "Epoch 20/20: 100%|██████████| 20/20 [02:12<00:00,  6.63s/it, v_num=1, train_loss_step=2.91e+3, train_loss_epoch=3.15e+3]\n",
      "Running harmony\n"
     ]
    },
    {
     "name": "stderr",
     "output_type": "stream",
     "text": [
      "... storing 'groupCov' as categorical\n",
      "... storing 'harmonizedRegion' as categorical\n",
      "... storing 'tissue' as categorical\n",
      "... storing 'study' as categorical\n",
      "... storing 'LabelTransfer_scANVI' as categorical\n",
      "... storing 'LabelTransfer_harmony' as categorical\n",
      "... storing 'HarmonyBatch' as categorical\n",
      "2025-02-28 19:06:51,724 - harmonypy - INFO - Computing initial centroids with sklearn.KMeans...\n",
      "INFO:harmonypy:Computing initial centroids with sklearn.KMeans...\n",
      "2025-02-28 19:06:55,828 - harmonypy - INFO - sklearn.KMeans initialization complete.\n",
      "INFO:harmonypy:sklearn.KMeans initialization complete.\n",
      "2025-02-28 19:06:56,043 - harmonypy - INFO - Iteration 1 of 20\n",
      "INFO:harmonypy:Iteration 1 of 20\n",
      "2025-02-28 19:07:03,079 - harmonypy - INFO - Iteration 2 of 20\n",
      "INFO:harmonypy:Iteration 2 of 20\n",
      "2025-02-28 19:07:09,796 - harmonypy - INFO - Converged after 2 iterations\n",
      "INFO:harmonypy:Converged after 2 iterations\n"
     ]
    },
    {
     "name": "stdout",
     "output_type": "stream",
     "text": [
      "Running KNN\n",
      "Scoring cell cycle\n",
      "calculating cell cycle phase\n"
     ]
    },
    {
     "name": "stderr",
     "output_type": "stream",
     "text": [
      "Processing groups:  22%|██▏       | 19/85 [1:51:11<6:17:14, 342.94s/it]"
     ]
    },
    {
     "name": "stdout",
     "output_type": "stream",
     "text": [
      "-->     'S_score' and 'G2M_score', scores of cell cycle phases (adata.obs)\n",
      "Running labelTransfer on Sample 2_CTL04E_494\n",
      "Preparing reference and query\n",
      "Found mismatch between Ref and Query vars: will unify\n",
      "Scaling: True\n",
      "Running ingestion\n",
      "Running scANVI\n",
      "GPU with the lowest utilization is:  1\n"
     ]
    },
    {
     "name": "stderr",
     "output_type": "stream",
     "text": [
      "GPU available: True (cuda), used: True\n",
      "TPU available: False, using: 0 TPU cores\n",
      "HPU available: False, using: 0 HPUs\n",
      "LOCAL_RANK: 0 - CUDA_VISIBLE_DEVICES: [0,1,2,3]\n"
     ]
    },
    {
     "name": "stdout",
     "output_type": "stream",
     "text": [
      "Epoch 60/60: 100%|██████████| 60/60 [02:58<00:00,  2.97s/it, v_num=1, train_loss_step=3.42e+3, train_loss_epoch=3.28e+3]"
     ]
    },
    {
     "name": "stderr",
     "output_type": "stream",
     "text": [
      "`Trainer.fit` stopped: `max_epochs=60` reached.\n"
     ]
    },
    {
     "name": "stdout",
     "output_type": "stream",
     "text": [
      "Epoch 60/60: 100%|██████████| 60/60 [02:58<00:00,  2.97s/it, v_num=1, train_loss_step=3.42e+3, train_loss_epoch=3.28e+3]\n",
      "\u001b[34mINFO    \u001b[0m Training for \u001b[1;36m20\u001b[0m epochs.                                                                                   \n"
     ]
    },
    {
     "name": "stderr",
     "output_type": "stream",
     "text": [
      "GPU available: True (cuda), used: True\n",
      "TPU available: False, using: 0 TPU cores\n",
      "HPU available: False, using: 0 HPUs\n",
      "LOCAL_RANK: 0 - CUDA_VISIBLE_DEVICES: [0,1,2,3]\n"
     ]
    },
    {
     "name": "stdout",
     "output_type": "stream",
     "text": [
      "Epoch 20/20: 100%|██████████| 20/20 [02:17<00:00,  7.11s/it, v_num=1, train_loss_step=3.22e+3, train_loss_epoch=3.28e+3]"
     ]
    },
    {
     "name": "stderr",
     "output_type": "stream",
     "text": [
      "`Trainer.fit` stopped: `max_epochs=20` reached.\n"
     ]
    },
    {
     "name": "stdout",
     "output_type": "stream",
     "text": [
      "Epoch 20/20: 100%|██████████| 20/20 [02:17<00:00,  6.89s/it, v_num=1, train_loss_step=3.22e+3, train_loss_epoch=3.28e+3]\n",
      "Running harmony\n"
     ]
    },
    {
     "name": "stderr",
     "output_type": "stream",
     "text": [
      "... storing 'groupCov' as categorical\n",
      "... storing 'harmonizedRegion' as categorical\n",
      "... storing 'tissue' as categorical\n",
      "... storing 'study' as categorical\n",
      "... storing 'LabelTransfer_scANVI' as categorical\n",
      "... storing 'LabelTransfer_harmony' as categorical\n",
      "... storing 'HarmonyBatch' as categorical\n",
      "2025-02-28 19:12:55,874 - harmonypy - INFO - Computing initial centroids with sklearn.KMeans...\n",
      "INFO:harmonypy:Computing initial centroids with sklearn.KMeans...\n",
      "2025-02-28 19:12:59,877 - harmonypy - INFO - sklearn.KMeans initialization complete.\n",
      "INFO:harmonypy:sklearn.KMeans initialization complete.\n",
      "2025-02-28 19:13:00,065 - harmonypy - INFO - Iteration 1 of 20\n",
      "INFO:harmonypy:Iteration 1 of 20\n",
      "2025-02-28 19:13:07,188 - harmonypy - INFO - Iteration 2 of 20\n",
      "INFO:harmonypy:Iteration 2 of 20\n",
      "2025-02-28 19:13:14,264 - harmonypy - INFO - Converged after 2 iterations\n",
      "INFO:harmonypy:Converged after 2 iterations\n"
     ]
    },
    {
     "name": "stdout",
     "output_type": "stream",
     "text": [
      "Running KNN\n",
      "Scoring cell cycle\n",
      "calculating cell cycle phase\n"
     ]
    },
    {
     "name": "stderr",
     "output_type": "stream",
     "text": [
      "Processing groups:  24%|██▎       | 20/85 [1:57:15<6:18:27, 349.35s/it]"
     ]
    },
    {
     "name": "stdout",
     "output_type": "stream",
     "text": [
      "-->     'S_score' and 'G2M_score', scores of cell cycle phases (adata.obs)\n",
      "Running labelTransfer on Sample 1_CTL04E_494\n",
      "Preparing reference and query\n",
      "Found mismatch between Ref and Query vars: will unify\n",
      "Scaling: True\n",
      "Running ingestion\n",
      "Running scANVI\n",
      "GPU with the lowest utilization is:  1\n"
     ]
    },
    {
     "name": "stderr",
     "output_type": "stream",
     "text": [
      "GPU available: True (cuda), used: True\n",
      "TPU available: False, using: 0 TPU cores\n",
      "HPU available: False, using: 0 HPUs\n",
      "LOCAL_RANK: 0 - CUDA_VISIBLE_DEVICES: [0,1,2,3]\n"
     ]
    },
    {
     "name": "stdout",
     "output_type": "stream",
     "text": [
      "Epoch 60/60: 100%|██████████| 60/60 [02:57<00:00,  2.99s/it, v_num=1, train_loss_step=3.62e+3, train_loss_epoch=3.3e+3] "
     ]
    },
    {
     "name": "stderr",
     "output_type": "stream",
     "text": [
      "`Trainer.fit` stopped: `max_epochs=60` reached.\n"
     ]
    },
    {
     "name": "stdout",
     "output_type": "stream",
     "text": [
      "Epoch 60/60: 100%|██████████| 60/60 [02:57<00:00,  2.96s/it, v_num=1, train_loss_step=3.62e+3, train_loss_epoch=3.3e+3]\n",
      "\u001b[34mINFO    \u001b[0m Training for \u001b[1;36m20\u001b[0m epochs.                                                                                   \n"
     ]
    },
    {
     "name": "stderr",
     "output_type": "stream",
     "text": [
      "GPU available: True (cuda), used: True\n",
      "TPU available: False, using: 0 TPU cores\n",
      "HPU available: False, using: 0 HPUs\n",
      "LOCAL_RANK: 0 - CUDA_VISIBLE_DEVICES: [0,1,2,3]\n"
     ]
    },
    {
     "name": "stdout",
     "output_type": "stream",
     "text": [
      "Epoch 20/20: 100%|██████████| 20/20 [02:24<00:00,  7.07s/it, v_num=1, train_loss_step=3.1e+3, train_loss_epoch=3.3e+3] "
     ]
    },
    {
     "name": "stderr",
     "output_type": "stream",
     "text": [
      "`Trainer.fit` stopped: `max_epochs=20` reached.\n"
     ]
    },
    {
     "name": "stdout",
     "output_type": "stream",
     "text": [
      "Epoch 20/20: 100%|██████████| 20/20 [02:24<00:00,  7.23s/it, v_num=1, train_loss_step=3.1e+3, train_loss_epoch=3.3e+3]\n",
      "Running harmony\n"
     ]
    },
    {
     "name": "stderr",
     "output_type": "stream",
     "text": [
      "... storing 'groupCov' as categorical\n",
      "... storing 'harmonizedRegion' as categorical\n",
      "... storing 'tissue' as categorical\n",
      "... storing 'study' as categorical\n",
      "... storing 'LabelTransfer_scANVI' as categorical\n",
      "... storing 'LabelTransfer_harmony' as categorical\n",
      "... storing 'HarmonyBatch' as categorical\n",
      "2025-02-28 19:19:07,604 - harmonypy - INFO - Computing initial centroids with sklearn.KMeans...\n",
      "INFO:harmonypy:Computing initial centroids with sklearn.KMeans...\n",
      "2025-02-28 19:19:11,167 - harmonypy - INFO - sklearn.KMeans initialization complete.\n",
      "INFO:harmonypy:sklearn.KMeans initialization complete.\n",
      "2025-02-28 19:19:11,314 - harmonypy - INFO - Iteration 1 of 20\n",
      "INFO:harmonypy:Iteration 1 of 20\n",
      "2025-02-28 19:19:18,450 - harmonypy - INFO - Iteration 2 of 20\n",
      "INFO:harmonypy:Iteration 2 of 20\n",
      "2025-02-28 19:19:25,789 - harmonypy - INFO - Converged after 2 iterations\n",
      "INFO:harmonypy:Converged after 2 iterations\n"
     ]
    },
    {
     "name": "stdout",
     "output_type": "stream",
     "text": [
      "Running KNN\n",
      "Scoring cell cycle\n",
      "calculating cell cycle phase\n"
     ]
    },
    {
     "name": "stderr",
     "output_type": "stream",
     "text": [
      "Processing groups:  25%|██▍       | 21/85 [2:03:27<6:19:44, 356.01s/it]"
     ]
    },
    {
     "name": "stdout",
     "output_type": "stream",
     "text": [
      "-->     'S_score' and 'G2M_score', scores of cell cycle phases (adata.obs)\n",
      "Running labelTransfer on Sample 3_CTL04E_494\n",
      "Preparing reference and query\n",
      "Found mismatch between Ref and Query vars: will unify\n",
      "Scaling: True\n",
      "Running ingestion\n",
      "Running scANVI\n",
      "GPU with the lowest utilization is:  1\n"
     ]
    },
    {
     "name": "stderr",
     "output_type": "stream",
     "text": [
      "GPU available: True (cuda), used: True\n",
      "TPU available: False, using: 0 TPU cores\n",
      "HPU available: False, using: 0 HPUs\n",
      "LOCAL_RANK: 0 - CUDA_VISIBLE_DEVICES: [0,1,2,3]\n"
     ]
    },
    {
     "name": "stdout",
     "output_type": "stream",
     "text": [
      "Epoch 60/60: 100%|██████████| 60/60 [02:52<00:00,  2.82s/it, v_num=1, train_loss_step=3.18e+3, train_loss_epoch=3.23e+3]"
     ]
    },
    {
     "name": "stderr",
     "output_type": "stream",
     "text": [
      "`Trainer.fit` stopped: `max_epochs=60` reached.\n"
     ]
    },
    {
     "name": "stdout",
     "output_type": "stream",
     "text": [
      "Epoch 60/60: 100%|██████████| 60/60 [02:52<00:00,  2.88s/it, v_num=1, train_loss_step=3.18e+3, train_loss_epoch=3.23e+3]\n",
      "\u001b[34mINFO    \u001b[0m Training for \u001b[1;36m20\u001b[0m epochs.                                                                                   \n"
     ]
    },
    {
     "name": "stderr",
     "output_type": "stream",
     "text": [
      "GPU available: True (cuda), used: True\n",
      "TPU available: False, using: 0 TPU cores\n",
      "HPU available: False, using: 0 HPUs\n",
      "LOCAL_RANK: 0 - CUDA_VISIBLE_DEVICES: [0,1,2,3]\n"
     ]
    },
    {
     "name": "stdout",
     "output_type": "stream",
     "text": [
      "Epoch 20/20: 100%|██████████| 20/20 [02:13<00:00,  6.65s/it, v_num=1, train_loss_step=2.94e+3, train_loss_epoch=3.23e+3]"
     ]
    },
    {
     "name": "stderr",
     "output_type": "stream",
     "text": [
      "`Trainer.fit` stopped: `max_epochs=20` reached.\n"
     ]
    },
    {
     "name": "stdout",
     "output_type": "stream",
     "text": [
      "Epoch 20/20: 100%|██████████| 20/20 [02:13<00:00,  6.67s/it, v_num=1, train_loss_step=2.94e+3, train_loss_epoch=3.23e+3]\n",
      "Running harmony\n"
     ]
    },
    {
     "name": "stderr",
     "output_type": "stream",
     "text": [
      "... storing 'groupCov' as categorical\n",
      "... storing 'harmonizedRegion' as categorical\n",
      "... storing 'tissue' as categorical\n",
      "... storing 'study' as categorical\n",
      "... storing 'LabelTransfer_scANVI' as categorical\n",
      "... storing 'LabelTransfer_harmony' as categorical\n",
      "... storing 'HarmonyBatch' as categorical\n",
      "2025-02-28 19:24:59,743 - harmonypy - INFO - Computing initial centroids with sklearn.KMeans...\n",
      "INFO:harmonypy:Computing initial centroids with sklearn.KMeans...\n",
      "2025-02-28 19:25:03,635 - harmonypy - INFO - sklearn.KMeans initialization complete.\n",
      "INFO:harmonypy:sklearn.KMeans initialization complete.\n",
      "2025-02-28 19:25:03,777 - harmonypy - INFO - Iteration 1 of 20\n",
      "INFO:harmonypy:Iteration 1 of 20\n",
      "2025-02-28 19:25:13,377 - harmonypy - INFO - Iteration 2 of 20\n",
      "INFO:harmonypy:Iteration 2 of 20\n",
      "2025-02-28 19:25:22,546 - harmonypy - INFO - Converged after 2 iterations\n",
      "INFO:harmonypy:Converged after 2 iterations\n"
     ]
    },
    {
     "name": "stdout",
     "output_type": "stream",
     "text": [
      "Running KNN\n",
      "Scoring cell cycle\n",
      "calculating cell cycle phase\n"
     ]
    },
    {
     "name": "stderr",
     "output_type": "stream",
     "text": [
      "Processing groups:  26%|██▌       | 22/85 [2:09:23<6:14:03, 356.25s/it]"
     ]
    },
    {
     "name": "stdout",
     "output_type": "stream",
     "text": [
      "-->     'S_score' and 'G2M_score', scores of cell cycle phases (adata.obs)\n",
      "Running labelTransfer on Sample 3_CTL08A_494\n",
      "Preparing reference and query\n",
      "Found mismatch between Ref and Query vars: will unify\n",
      "Scaling: True\n",
      "Running ingestion\n",
      "Running scANVI\n",
      "GPU with the lowest utilization is:  1\n"
     ]
    },
    {
     "name": "stderr",
     "output_type": "stream",
     "text": [
      "GPU available: True (cuda), used: True\n",
      "TPU available: False, using: 0 TPU cores\n",
      "HPU available: False, using: 0 HPUs\n",
      "LOCAL_RANK: 0 - CUDA_VISIBLE_DEVICES: [0,1,2,3]\n"
     ]
    },
    {
     "name": "stdout",
     "output_type": "stream",
     "text": [
      "Epoch 60/60: 100%|██████████| 60/60 [02:49<00:00,  2.81s/it, v_num=1, train_loss_step=3.27e+3, train_loss_epoch=3.23e+3]"
     ]
    },
    {
     "name": "stderr",
     "output_type": "stream",
     "text": [
      "`Trainer.fit` stopped: `max_epochs=60` reached.\n"
     ]
    },
    {
     "name": "stdout",
     "output_type": "stream",
     "text": [
      "Epoch 60/60: 100%|██████████| 60/60 [02:49<00:00,  2.83s/it, v_num=1, train_loss_step=3.27e+3, train_loss_epoch=3.23e+3]\n",
      "\u001b[34mINFO    \u001b[0m Training for \u001b[1;36m20\u001b[0m epochs.                                                                                   \n"
     ]
    },
    {
     "name": "stderr",
     "output_type": "stream",
     "text": [
      "GPU available: True (cuda), used: True\n",
      "TPU available: False, using: 0 TPU cores\n",
      "HPU available: False, using: 0 HPUs\n",
      "LOCAL_RANK: 0 - CUDA_VISIBLE_DEVICES: [0,1,2,3]\n"
     ]
    },
    {
     "name": "stdout",
     "output_type": "stream",
     "text": [
      "Epoch 20/20: 100%|██████████| 20/20 [02:13<00:00,  6.55s/it, v_num=1, train_loss_step=3.26e+3, train_loss_epoch=3.23e+3]"
     ]
    },
    {
     "name": "stderr",
     "output_type": "stream",
     "text": [
      "`Trainer.fit` stopped: `max_epochs=20` reached.\n"
     ]
    },
    {
     "name": "stdout",
     "output_type": "stream",
     "text": [
      "Epoch 20/20: 100%|██████████| 20/20 [02:13<00:00,  6.67s/it, v_num=1, train_loss_step=3.26e+3, train_loss_epoch=3.23e+3]\n",
      "Running harmony\n"
     ]
    },
    {
     "name": "stderr",
     "output_type": "stream",
     "text": [
      "... storing 'groupCov' as categorical\n",
      "... storing 'harmonizedRegion' as categorical\n",
      "... storing 'tissue' as categorical\n",
      "... storing 'study' as categorical\n",
      "... storing 'LabelTransfer_scANVI' as categorical\n",
      "... storing 'LabelTransfer_harmony' as categorical\n",
      "... storing 'HarmonyBatch' as categorical\n",
      "2025-02-28 19:30:55,014 - harmonypy - INFO - Computing initial centroids with sklearn.KMeans...\n",
      "INFO:harmonypy:Computing initial centroids with sklearn.KMeans...\n",
      "2025-02-28 19:30:59,062 - harmonypy - INFO - sklearn.KMeans initialization complete.\n",
      "INFO:harmonypy:sklearn.KMeans initialization complete.\n",
      "2025-02-28 19:30:59,248 - harmonypy - INFO - Iteration 1 of 20\n",
      "INFO:harmonypy:Iteration 1 of 20\n",
      "2025-02-28 19:31:09,121 - harmonypy - INFO - Iteration 2 of 20\n",
      "INFO:harmonypy:Iteration 2 of 20\n",
      "2025-02-28 19:31:18,861 - harmonypy - INFO - Converged after 2 iterations\n",
      "INFO:harmonypy:Converged after 2 iterations\n"
     ]
    },
    {
     "name": "stdout",
     "output_type": "stream",
     "text": [
      "Running KNN\n",
      "Scoring cell cycle\n",
      "calculating cell cycle phase\n"
     ]
    },
    {
     "name": "stderr",
     "output_type": "stream",
     "text": [
      "Processing groups:  27%|██▋       | 23/85 [2:15:20<6:08:08, 356.27s/it]"
     ]
    },
    {
     "name": "stdout",
     "output_type": "stream",
     "text": [
      "-->     'S_score' and 'G2M_score', scores of cell cycle phases (adata.obs)\n",
      "Running labelTransfer on Sample 1_CTL08A_494\n",
      "Preparing reference and query\n",
      "Found mismatch between Ref and Query vars: will unify\n",
      "Scaling: True\n",
      "Running ingestion\n",
      "Running scANVI\n",
      "GPU with the lowest utilization is:  1\n"
     ]
    },
    {
     "name": "stderr",
     "output_type": "stream",
     "text": [
      "GPU available: True (cuda), used: True\n",
      "TPU available: False, using: 0 TPU cores\n",
      "HPU available: False, using: 0 HPUs\n",
      "LOCAL_RANK: 0 - CUDA_VISIBLE_DEVICES: [0,1,2,3]\n"
     ]
    },
    {
     "name": "stdout",
     "output_type": "stream",
     "text": [
      "Epoch 60/60: 100%|██████████| 60/60 [02:58<00:00,  2.97s/it, v_num=1, train_loss_step=3.48e+3, train_loss_epoch=3.31e+3]"
     ]
    },
    {
     "name": "stderr",
     "output_type": "stream",
     "text": [
      "`Trainer.fit` stopped: `max_epochs=60` reached.\n"
     ]
    },
    {
     "name": "stdout",
     "output_type": "stream",
     "text": [
      "Epoch 60/60: 100%|██████████| 60/60 [02:58<00:00,  2.97s/it, v_num=1, train_loss_step=3.48e+3, train_loss_epoch=3.31e+3]\n",
      "\u001b[34mINFO    \u001b[0m Training for \u001b[1;36m20\u001b[0m epochs.                                                                                   \n"
     ]
    },
    {
     "name": "stderr",
     "output_type": "stream",
     "text": [
      "GPU available: True (cuda), used: True\n",
      "TPU available: False, using: 0 TPU cores\n",
      "HPU available: False, using: 0 HPUs\n",
      "LOCAL_RANK: 0 - CUDA_VISIBLE_DEVICES: [0,1,2,3]\n"
     ]
    },
    {
     "name": "stdout",
     "output_type": "stream",
     "text": [
      "Epoch 20/20: 100%|██████████| 20/20 [02:20<00:00,  6.86s/it, v_num=1, train_loss_step=3.33e+3, train_loss_epoch=3.31e+3]"
     ]
    },
    {
     "name": "stderr",
     "output_type": "stream",
     "text": [
      "`Trainer.fit` stopped: `max_epochs=20` reached.\n"
     ]
    },
    {
     "name": "stdout",
     "output_type": "stream",
     "text": [
      "Epoch 20/20: 100%|██████████| 20/20 [02:20<00:00,  7.03s/it, v_num=1, train_loss_step=3.33e+3, train_loss_epoch=3.31e+3]\n",
      "Running harmony\n"
     ]
    },
    {
     "name": "stderr",
     "output_type": "stream",
     "text": [
      "... storing 'groupCov' as categorical\n",
      "... storing 'harmonizedRegion' as categorical\n",
      "... storing 'tissue' as categorical\n",
      "... storing 'study' as categorical\n",
      "... storing 'LabelTransfer_scANVI' as categorical\n",
      "... storing 'LabelTransfer_harmony' as categorical\n",
      "... storing 'HarmonyBatch' as categorical\n",
      "2025-02-28 19:37:09,173 - harmonypy - INFO - Computing initial centroids with sklearn.KMeans...\n",
      "INFO:harmonypy:Computing initial centroids with sklearn.KMeans...\n",
      "2025-02-28 19:37:13,571 - harmonypy - INFO - sklearn.KMeans initialization complete.\n",
      "INFO:harmonypy:sklearn.KMeans initialization complete.\n",
      "2025-02-28 19:37:13,801 - harmonypy - INFO - Iteration 1 of 20\n",
      "INFO:harmonypy:Iteration 1 of 20\n",
      "2025-02-28 19:37:23,712 - harmonypy - INFO - Iteration 2 of 20\n",
      "INFO:harmonypy:Iteration 2 of 20\n",
      "2025-02-28 19:37:33,217 - harmonypy - INFO - Converged after 2 iterations\n",
      "INFO:harmonypy:Converged after 2 iterations\n"
     ]
    },
    {
     "name": "stdout",
     "output_type": "stream",
     "text": [
      "Running KNN\n",
      "Scoring cell cycle\n",
      "calculating cell cycle phase\n",
      "-->     'S_score' and 'G2M_score', scores of cell cycle phases (adata.obs)\n"
     ]
    },
    {
     "name": "stderr",
     "output_type": "stream",
     "text": [
      "Processing groups:  28%|██▊       | 24/85 [2:21:34<6:07:50, 361.82s/it]"
     ]
    },
    {
     "name": "stdout",
     "output_type": "stream",
     "text": [
      "Running labelTransfer on Sample 1_CTL04E_495\n",
      "Preparing reference and query\n",
      "Found mismatch between Ref and Query vars: will unify\n",
      "Scaling: True\n",
      "Running ingestion\n",
      "Running scANVI\n",
      "GPU with the lowest utilization is:  1\n"
     ]
    },
    {
     "name": "stderr",
     "output_type": "stream",
     "text": [
      "GPU available: True (cuda), used: True\n",
      "TPU available: False, using: 0 TPU cores\n",
      "HPU available: False, using: 0 HPUs\n",
      "LOCAL_RANK: 0 - CUDA_VISIBLE_DEVICES: [0,1,2,3]\n"
     ]
    },
    {
     "name": "stdout",
     "output_type": "stream",
     "text": [
      "Epoch 60/60: 100%|██████████| 60/60 [02:48<00:00,  3.04s/it, v_num=1, train_loss_step=2.94e+3, train_loss_epoch=3.24e+3]"
     ]
    },
    {
     "name": "stderr",
     "output_type": "stream",
     "text": [
      "`Trainer.fit` stopped: `max_epochs=60` reached.\n"
     ]
    },
    {
     "name": "stdout",
     "output_type": "stream",
     "text": [
      "Epoch 60/60: 100%|██████████| 60/60 [02:48<00:00,  2.81s/it, v_num=1, train_loss_step=2.94e+3, train_loss_epoch=3.24e+3]\n",
      "\u001b[34mINFO    \u001b[0m Training for \u001b[1;36m20\u001b[0m epochs.                                                                                   \n"
     ]
    },
    {
     "name": "stderr",
     "output_type": "stream",
     "text": [
      "GPU available: True (cuda), used: True\n",
      "TPU available: False, using: 0 TPU cores\n",
      "HPU available: False, using: 0 HPUs\n",
      "LOCAL_RANK: 0 - CUDA_VISIBLE_DEVICES: [0,1,2,3]\n"
     ]
    },
    {
     "name": "stdout",
     "output_type": "stream",
     "text": [
      "Epoch 20/20: 100%|██████████| 20/20 [02:18<00:00,  6.86s/it, v_num=1, train_loss_step=3.44e+3, train_loss_epoch=3.23e+3]"
     ]
    },
    {
     "name": "stderr",
     "output_type": "stream",
     "text": [
      "`Trainer.fit` stopped: `max_epochs=20` reached.\n"
     ]
    },
    {
     "name": "stdout",
     "output_type": "stream",
     "text": [
      "Epoch 20/20: 100%|██████████| 20/20 [02:18<00:00,  6.92s/it, v_num=1, train_loss_step=3.44e+3, train_loss_epoch=3.23e+3]\n",
      "Running harmony\n"
     ]
    },
    {
     "name": "stderr",
     "output_type": "stream",
     "text": [
      "... storing 'groupCov' as categorical\n",
      "... storing 'harmonizedRegion' as categorical\n",
      "... storing 'tissue' as categorical\n",
      "... storing 'study' as categorical\n",
      "... storing 'LabelTransfer_scANVI' as categorical\n",
      "... storing 'LabelTransfer_harmony' as categorical\n",
      "... storing 'HarmonyBatch' as categorical\n",
      "2025-02-28 19:43:08,154 - harmonypy - INFO - Computing initial centroids with sklearn.KMeans...\n",
      "INFO:harmonypy:Computing initial centroids with sklearn.KMeans...\n",
      "2025-02-28 19:43:11,966 - harmonypy - INFO - sklearn.KMeans initialization complete.\n",
      "INFO:harmonypy:sklearn.KMeans initialization complete.\n",
      "2025-02-28 19:43:12,094 - harmonypy - INFO - Iteration 1 of 20\n",
      "INFO:harmonypy:Iteration 1 of 20\n",
      "2025-02-28 19:43:22,297 - harmonypy - INFO - Iteration 2 of 20\n",
      "INFO:harmonypy:Iteration 2 of 20\n",
      "2025-02-28 19:43:31,248 - harmonypy - INFO - Converged after 2 iterations\n",
      "INFO:harmonypy:Converged after 2 iterations\n"
     ]
    },
    {
     "name": "stdout",
     "output_type": "stream",
     "text": [
      "Running KNN\n",
      "Scoring cell cycle\n",
      "calculating cell cycle phase\n"
     ]
    },
    {
     "name": "stderr",
     "output_type": "stream",
     "text": [
      "Processing groups:  29%|██▉       | 25/85 [2:27:32<6:00:33, 360.55s/it]"
     ]
    },
    {
     "name": "stdout",
     "output_type": "stream",
     "text": [
      "-->     'S_score' and 'G2M_score', scores of cell cycle phases (adata.obs)\n",
      "Running labelTransfer on Sample 2_CTL04E_495\n",
      "Preparing reference and query\n",
      "Found mismatch between Ref and Query vars: will unify\n",
      "Scaling: True\n",
      "Running ingestion\n",
      "Running scANVI\n",
      "GPU with the lowest utilization is:  1\n"
     ]
    },
    {
     "name": "stderr",
     "output_type": "stream",
     "text": [
      "GPU available: True (cuda), used: True\n",
      "TPU available: False, using: 0 TPU cores\n",
      "HPU available: False, using: 0 HPUs\n",
      "LOCAL_RANK: 0 - CUDA_VISIBLE_DEVICES: [0,1,2,3]\n"
     ]
    },
    {
     "name": "stdout",
     "output_type": "stream",
     "text": [
      "Epoch 60/60: 100%|██████████| 60/60 [02:48<00:00,  3.02s/it, v_num=1, train_loss_step=2.78e+3, train_loss_epoch=3.19e+3]"
     ]
    },
    {
     "name": "stderr",
     "output_type": "stream",
     "text": [
      "`Trainer.fit` stopped: `max_epochs=60` reached.\n"
     ]
    },
    {
     "name": "stdout",
     "output_type": "stream",
     "text": [
      "Epoch 60/60: 100%|██████████| 60/60 [02:48<00:00,  2.80s/it, v_num=1, train_loss_step=2.78e+3, train_loss_epoch=3.19e+3]\n",
      "\u001b[34mINFO    \u001b[0m Training for \u001b[1;36m20\u001b[0m epochs.                                                                                   \n"
     ]
    },
    {
     "name": "stderr",
     "output_type": "stream",
     "text": [
      "GPU available: True (cuda), used: True\n",
      "TPU available: False, using: 0 TPU cores\n",
      "HPU available: False, using: 0 HPUs\n",
      "LOCAL_RANK: 0 - CUDA_VISIBLE_DEVICES: [0,1,2,3]\n"
     ]
    },
    {
     "name": "stdout",
     "output_type": "stream",
     "text": [
      "Epoch 20/20: 100%|██████████| 20/20 [02:11<00:00,  6.53s/it, v_num=1, train_loss_step=4.3e+3, train_loss_epoch=3.19e+3] "
     ]
    },
    {
     "name": "stderr",
     "output_type": "stream",
     "text": [
      "`Trainer.fit` stopped: `max_epochs=20` reached.\n"
     ]
    },
    {
     "name": "stdout",
     "output_type": "stream",
     "text": [
      "Epoch 20/20: 100%|██████████| 20/20 [02:11<00:00,  6.58s/it, v_num=1, train_loss_step=4.3e+3, train_loss_epoch=3.19e+3]\n",
      "Running harmony\n"
     ]
    },
    {
     "name": "stderr",
     "output_type": "stream",
     "text": [
      "... storing 'groupCov' as categorical\n",
      "... storing 'harmonizedRegion' as categorical\n",
      "... storing 'tissue' as categorical\n",
      "... storing 'study' as categorical\n",
      "... storing 'LabelTransfer_scANVI' as categorical\n",
      "... storing 'LabelTransfer_harmony' as categorical\n",
      "... storing 'HarmonyBatch' as categorical\n",
      "2025-02-28 19:48:56,172 - harmonypy - INFO - Computing initial centroids with sklearn.KMeans...\n",
      "INFO:harmonypy:Computing initial centroids with sklearn.KMeans...\n",
      "2025-02-28 19:48:59,981 - harmonypy - INFO - sklearn.KMeans initialization complete.\n",
      "INFO:harmonypy:sklearn.KMeans initialization complete.\n",
      "2025-02-28 19:49:00,203 - harmonypy - INFO - Iteration 1 of 20\n",
      "INFO:harmonypy:Iteration 1 of 20\n",
      "2025-02-28 19:49:10,786 - harmonypy - INFO - Iteration 2 of 20\n",
      "INFO:harmonypy:Iteration 2 of 20\n",
      "2025-02-28 19:49:17,926 - harmonypy - INFO - Converged after 2 iterations\n",
      "INFO:harmonypy:Converged after 2 iterations\n"
     ]
    },
    {
     "name": "stdout",
     "output_type": "stream",
     "text": [
      "Running KNN\n",
      "Scoring cell cycle\n",
      "calculating cell cycle phase\n"
     ]
    },
    {
     "name": "stderr",
     "output_type": "stream",
     "text": [
      "Processing groups:  31%|███       | 26/85 [2:33:19<5:50:22, 356.32s/it]"
     ]
    },
    {
     "name": "stdout",
     "output_type": "stream",
     "text": [
      "-->     'S_score' and 'G2M_score', scores of cell cycle phases (adata.obs)\n",
      "Running labelTransfer on Sample 3_CTL08A_495\n",
      "Preparing reference and query\n",
      "Found mismatch between Ref and Query vars: will unify\n",
      "Scaling: True\n",
      "Running ingestion\n",
      "Running scANVI\n",
      "GPU with the lowest utilization is:  1\n"
     ]
    },
    {
     "name": "stderr",
     "output_type": "stream",
     "text": [
      "GPU available: True (cuda), used: True\n",
      "TPU available: False, using: 0 TPU cores\n",
      "HPU available: False, using: 0 HPUs\n",
      "LOCAL_RANK: 0 - CUDA_VISIBLE_DEVICES: [0,1,2,3]\n"
     ]
    },
    {
     "name": "stdout",
     "output_type": "stream",
     "text": [
      "Epoch 60/60: 100%|██████████| 60/60 [02:57<00:00,  3.46s/it, v_num=1, train_loss_step=2.66e+3, train_loss_epoch=3.21e+3]"
     ]
    },
    {
     "name": "stderr",
     "output_type": "stream",
     "text": [
      "`Trainer.fit` stopped: `max_epochs=60` reached.\n"
     ]
    },
    {
     "name": "stdout",
     "output_type": "stream",
     "text": [
      "Epoch 60/60: 100%|██████████| 60/60 [02:57<00:00,  2.95s/it, v_num=1, train_loss_step=2.66e+3, train_loss_epoch=3.21e+3]\n",
      "\u001b[34mINFO    \u001b[0m Training for \u001b[1;36m20\u001b[0m epochs.                                                                                   \n"
     ]
    },
    {
     "name": "stderr",
     "output_type": "stream",
     "text": [
      "GPU available: True (cuda), used: True\n",
      "TPU available: False, using: 0 TPU cores\n",
      "HPU available: False, using: 0 HPUs\n",
      "LOCAL_RANK: 0 - CUDA_VISIBLE_DEVICES: [0,1,2,3]\n"
     ]
    },
    {
     "name": "stdout",
     "output_type": "stream",
     "text": [
      "Epoch 20/20: 100%|██████████| 20/20 [02:11<00:00,  6.50s/it, v_num=1, train_loss_step=3.41e+3, train_loss_epoch=3.2e+3] "
     ]
    },
    {
     "name": "stderr",
     "output_type": "stream",
     "text": [
      "`Trainer.fit` stopped: `max_epochs=20` reached.\n"
     ]
    },
    {
     "name": "stdout",
     "output_type": "stream",
     "text": [
      "Epoch 20/20: 100%|██████████| 20/20 [02:11<00:00,  6.58s/it, v_num=1, train_loss_step=3.41e+3, train_loss_epoch=3.2e+3]\n",
      "Running harmony\n"
     ]
    },
    {
     "name": "stderr",
     "output_type": "stream",
     "text": [
      "... storing 'groupCov' as categorical\n",
      "... storing 'harmonizedRegion' as categorical\n",
      "... storing 'tissue' as categorical\n",
      "... storing 'study' as categorical\n",
      "... storing 'LabelTransfer_scANVI' as categorical\n",
      "... storing 'LabelTransfer_harmony' as categorical\n",
      "... storing 'HarmonyBatch' as categorical\n",
      "2025-02-28 19:54:54,068 - harmonypy - INFO - Computing initial centroids with sklearn.KMeans...\n",
      "INFO:harmonypy:Computing initial centroids with sklearn.KMeans...\n",
      "2025-02-28 19:54:58,048 - harmonypy - INFO - sklearn.KMeans initialization complete.\n",
      "INFO:harmonypy:sklearn.KMeans initialization complete.\n",
      "2025-02-28 19:54:58,197 - harmonypy - INFO - Iteration 1 of 20\n",
      "INFO:harmonypy:Iteration 1 of 20\n",
      "2025-02-28 19:55:06,780 - harmonypy - INFO - Iteration 2 of 20\n",
      "INFO:harmonypy:Iteration 2 of 20\n",
      "2025-02-28 19:55:15,987 - harmonypy - INFO - Converged after 2 iterations\n",
      "INFO:harmonypy:Converged after 2 iterations\n"
     ]
    },
    {
     "name": "stdout",
     "output_type": "stream",
     "text": [
      "Running KNN\n",
      "Scoring cell cycle\n",
      "calculating cell cycle phase\n",
      "-->     'S_score' and 'G2M_score', scores of cell cycle phases (adata.obs)\n"
     ]
    },
    {
     "name": "stderr",
     "output_type": "stream",
     "text": [
      "Processing groups:  32%|███▏      | 27/85 [2:39:17<5:45:04, 356.97s/it]"
     ]
    },
    {
     "name": "stdout",
     "output_type": "stream",
     "text": [
      "Running labelTransfer on Sample 3_CTL04E_495\n",
      "Preparing reference and query\n",
      "Found mismatch between Ref and Query vars: will unify\n",
      "Scaling: True\n",
      "Running ingestion\n",
      "Running scANVI\n",
      "GPU with the lowest utilization is:  1\n"
     ]
    },
    {
     "name": "stderr",
     "output_type": "stream",
     "text": [
      "GPU available: True (cuda), used: True\n",
      "TPU available: False, using: 0 TPU cores\n",
      "HPU available: False, using: 0 HPUs\n",
      "LOCAL_RANK: 0 - CUDA_VISIBLE_DEVICES: [0,1,2,3]\n"
     ]
    },
    {
     "name": "stdout",
     "output_type": "stream",
     "text": [
      "Epoch 60/60: 100%|██████████| 60/60 [02:51<00:00,  2.94s/it, v_num=1, train_loss_step=3.33e+3, train_loss_epoch=3.22e+3]"
     ]
    },
    {
     "name": "stderr",
     "output_type": "stream",
     "text": [
      "`Trainer.fit` stopped: `max_epochs=60` reached.\n"
     ]
    },
    {
     "name": "stdout",
     "output_type": "stream",
     "text": [
      "Epoch 60/60: 100%|██████████| 60/60 [02:51<00:00,  2.85s/it, v_num=1, train_loss_step=3.33e+3, train_loss_epoch=3.22e+3]\n",
      "\u001b[34mINFO    \u001b[0m Training for \u001b[1;36m20\u001b[0m epochs.                                                                                   \n"
     ]
    },
    {
     "name": "stderr",
     "output_type": "stream",
     "text": [
      "GPU available: True (cuda), used: True\n",
      "TPU available: False, using: 0 TPU cores\n",
      "HPU available: False, using: 0 HPUs\n",
      "LOCAL_RANK: 0 - CUDA_VISIBLE_DEVICES: [0,1,2,3]\n"
     ]
    },
    {
     "name": "stdout",
     "output_type": "stream",
     "text": [
      "Epoch 20/20: 100%|██████████| 20/20 [02:11<00:00,  6.74s/it, v_num=1, train_loss_step=3.09e+3, train_loss_epoch=3.21e+3]"
     ]
    },
    {
     "name": "stderr",
     "output_type": "stream",
     "text": [
      "`Trainer.fit` stopped: `max_epochs=20` reached.\n"
     ]
    },
    {
     "name": "stdout",
     "output_type": "stream",
     "text": [
      "Epoch 20/20: 100%|██████████| 20/20 [02:11<00:00,  6.60s/it, v_num=1, train_loss_step=3.09e+3, train_loss_epoch=3.21e+3]\n",
      "Running harmony\n"
     ]
    },
    {
     "name": "stderr",
     "output_type": "stream",
     "text": [
      "... storing 'groupCov' as categorical\n",
      "... storing 'harmonizedRegion' as categorical\n",
      "... storing 'tissue' as categorical\n",
      "... storing 'study' as categorical\n",
      "... storing 'LabelTransfer_scANVI' as categorical\n",
      "... storing 'LabelTransfer_harmony' as categorical\n",
      "... storing 'HarmonyBatch' as categorical\n",
      "2025-02-28 20:00:46,989 - harmonypy - INFO - Computing initial centroids with sklearn.KMeans...\n",
      "INFO:harmonypy:Computing initial centroids with sklearn.KMeans...\n",
      "2025-02-28 20:00:51,028 - harmonypy - INFO - sklearn.KMeans initialization complete.\n",
      "INFO:harmonypy:sklearn.KMeans initialization complete.\n",
      "2025-02-28 20:00:51,265 - harmonypy - INFO - Iteration 1 of 20\n",
      "INFO:harmonypy:Iteration 1 of 20\n",
      "2025-02-28 20:00:58,641 - harmonypy - INFO - Iteration 2 of 20\n",
      "INFO:harmonypy:Iteration 2 of 20\n",
      "2025-02-28 20:01:06,428 - harmonypy - INFO - Converged after 2 iterations\n",
      "INFO:harmonypy:Converged after 2 iterations\n"
     ]
    },
    {
     "name": "stdout",
     "output_type": "stream",
     "text": [
      "Running KNN\n",
      "Scoring cell cycle\n",
      "calculating cell cycle phase\n",
      "-->     'S_score' and 'G2M_score', scores of cell cycle phases (adata.obs)\n"
     ]
    },
    {
     "name": "stderr",
     "output_type": "stream",
     "text": [
      "Processing groups:  33%|███▎      | 28/85 [2:45:07<5:37:13, 354.97s/it]"
     ]
    },
    {
     "name": "stdout",
     "output_type": "stream",
     "text": [
      "Running labelTransfer on Sample 1_CTL08A_495\n",
      "Preparing reference and query\n",
      "Found mismatch between Ref and Query vars: will unify\n",
      "Scaling: True\n",
      "Running ingestion\n",
      "Running scANVI\n",
      "GPU with the lowest utilization is:  1\n"
     ]
    },
    {
     "name": "stderr",
     "output_type": "stream",
     "text": [
      "GPU available: True (cuda), used: True\n",
      "TPU available: False, using: 0 TPU cores\n",
      "HPU available: False, using: 0 HPUs\n",
      "LOCAL_RANK: 0 - CUDA_VISIBLE_DEVICES: [0,1,2,3]\n"
     ]
    },
    {
     "name": "stdout",
     "output_type": "stream",
     "text": [
      "Epoch 60/60: 100%|██████████| 60/60 [02:55<00:00,  2.94s/it, v_num=1, train_loss_step=3.16e+3, train_loss_epoch=3.24e+3]"
     ]
    },
    {
     "name": "stderr",
     "output_type": "stream",
     "text": [
      "`Trainer.fit` stopped: `max_epochs=60` reached.\n"
     ]
    },
    {
     "name": "stdout",
     "output_type": "stream",
     "text": [
      "Epoch 60/60: 100%|██████████| 60/60 [02:55<00:00,  2.92s/it, v_num=1, train_loss_step=3.16e+3, train_loss_epoch=3.24e+3]\n",
      "\u001b[34mINFO    \u001b[0m Training for \u001b[1;36m20\u001b[0m epochs.                                                                                   \n"
     ]
    },
    {
     "name": "stderr",
     "output_type": "stream",
     "text": [
      "GPU available: True (cuda), used: True\n",
      "TPU available: False, using: 0 TPU cores\n",
      "HPU available: False, using: 0 HPUs\n",
      "LOCAL_RANK: 0 - CUDA_VISIBLE_DEVICES: [0,1,2,3]\n"
     ]
    },
    {
     "name": "stdout",
     "output_type": "stream",
     "text": [
      "Epoch 20/20: 100%|██████████| 20/20 [02:10<00:00,  6.58s/it, v_num=1, train_loss_step=3.05e+3, train_loss_epoch=3.24e+3]"
     ]
    },
    {
     "name": "stderr",
     "output_type": "stream",
     "text": [
      "`Trainer.fit` stopped: `max_epochs=20` reached.\n"
     ]
    },
    {
     "name": "stdout",
     "output_type": "stream",
     "text": [
      "Epoch 20/20: 100%|██████████| 20/20 [02:10<00:00,  6.53s/it, v_num=1, train_loss_step=3.05e+3, train_loss_epoch=3.24e+3]\n",
      "Running harmony\n"
     ]
    },
    {
     "name": "stderr",
     "output_type": "stream",
     "text": [
      "... storing 'groupCov' as categorical\n",
      "... storing 'harmonizedRegion' as categorical\n",
      "... storing 'tissue' as categorical\n",
      "... storing 'study' as categorical\n",
      "... storing 'LabelTransfer_scANVI' as categorical\n",
      "... storing 'LabelTransfer_harmony' as categorical\n",
      "... storing 'HarmonyBatch' as categorical\n",
      "2025-02-28 20:06:43,119 - harmonypy - INFO - Computing initial centroids with sklearn.KMeans...\n",
      "INFO:harmonypy:Computing initial centroids with sklearn.KMeans...\n",
      "2025-02-28 20:06:47,570 - harmonypy - INFO - sklearn.KMeans initialization complete.\n",
      "INFO:harmonypy:sklearn.KMeans initialization complete.\n",
      "2025-02-28 20:06:47,719 - harmonypy - INFO - Iteration 1 of 20\n",
      "INFO:harmonypy:Iteration 1 of 20\n",
      "2025-02-28 20:06:56,021 - harmonypy - INFO - Iteration 2 of 20\n",
      "INFO:harmonypy:Iteration 2 of 20\n",
      "2025-02-28 20:07:04,189 - harmonypy - INFO - Converged after 2 iterations\n",
      "INFO:harmonypy:Converged after 2 iterations\n"
     ]
    },
    {
     "name": "stdout",
     "output_type": "stream",
     "text": [
      "Running KNN\n",
      "Scoring cell cycle\n",
      "calculating cell cycle phase\n"
     ]
    },
    {
     "name": "stderr",
     "output_type": "stream",
     "text": [
      "Processing groups:  34%|███▍      | 29/85 [2:51:06<5:32:16, 356.00s/it]"
     ]
    },
    {
     "name": "stdout",
     "output_type": "stream",
     "text": [
      "-->     'S_score' and 'G2M_score', scores of cell cycle phases (adata.obs)\n",
      "Running labelTransfer on Sample 2_CTL08A_495\n",
      "Preparing reference and query\n",
      "Found mismatch between Ref and Query vars: will unify\n",
      "Scaling: True\n",
      "Running ingestion\n",
      "Running scANVI\n",
      "GPU with the lowest utilization is:  1\n"
     ]
    },
    {
     "name": "stderr",
     "output_type": "stream",
     "text": [
      "GPU available: True (cuda), used: True\n",
      "TPU available: False, using: 0 TPU cores\n",
      "HPU available: False, using: 0 HPUs\n",
      "LOCAL_RANK: 0 - CUDA_VISIBLE_DEVICES: [0,1,2,3]\n"
     ]
    },
    {
     "name": "stdout",
     "output_type": "stream",
     "text": [
      "Epoch 60/60: 100%|██████████| 60/60 [02:50<00:00,  2.82s/it, v_num=1, train_loss_step=3.25e+3, train_loss_epoch=3.2e+3] "
     ]
    },
    {
     "name": "stderr",
     "output_type": "stream",
     "text": [
      "`Trainer.fit` stopped: `max_epochs=60` reached.\n"
     ]
    },
    {
     "name": "stdout",
     "output_type": "stream",
     "text": [
      "Epoch 60/60: 100%|██████████| 60/60 [02:50<00:00,  2.84s/it, v_num=1, train_loss_step=3.25e+3, train_loss_epoch=3.2e+3]\n",
      "\u001b[34mINFO    \u001b[0m Training for \u001b[1;36m20\u001b[0m epochs.                                                                                   \n"
     ]
    },
    {
     "name": "stderr",
     "output_type": "stream",
     "text": [
      "GPU available: True (cuda), used: True\n",
      "TPU available: False, using: 0 TPU cores\n",
      "HPU available: False, using: 0 HPUs\n",
      "LOCAL_RANK: 0 - CUDA_VISIBLE_DEVICES: [0,1,2,3]\n"
     ]
    },
    {
     "name": "stdout",
     "output_type": "stream",
     "text": [
      "Epoch 20/20: 100%|██████████| 20/20 [02:09<00:00,  6.43s/it, v_num=1, train_loss_step=3.2e+3, train_loss_epoch=3.19e+3] "
     ]
    },
    {
     "name": "stderr",
     "output_type": "stream",
     "text": [
      "`Trainer.fit` stopped: `max_epochs=20` reached.\n"
     ]
    },
    {
     "name": "stdout",
     "output_type": "stream",
     "text": [
      "Epoch 20/20: 100%|██████████| 20/20 [02:09<00:00,  6.48s/it, v_num=1, train_loss_step=3.2e+3, train_loss_epoch=3.19e+3]\n",
      "Running harmony\n"
     ]
    },
    {
     "name": "stderr",
     "output_type": "stream",
     "text": [
      "... storing 'groupCov' as categorical\n",
      "... storing 'harmonizedRegion' as categorical\n",
      "... storing 'tissue' as categorical\n",
      "... storing 'study' as categorical\n",
      "... storing 'LabelTransfer_scANVI' as categorical\n",
      "... storing 'LabelTransfer_harmony' as categorical\n",
      "... storing 'HarmonyBatch' as categorical\n",
      "2025-02-28 20:12:30,883 - harmonypy - INFO - Computing initial centroids with sklearn.KMeans...\n",
      "INFO:harmonypy:Computing initial centroids with sklearn.KMeans...\n",
      "2025-02-28 20:12:34,728 - harmonypy - INFO - sklearn.KMeans initialization complete.\n",
      "INFO:harmonypy:sklearn.KMeans initialization complete.\n",
      "2025-02-28 20:12:34,890 - harmonypy - INFO - Iteration 1 of 20\n",
      "INFO:harmonypy:Iteration 1 of 20\n",
      "2025-02-28 20:12:41,920 - harmonypy - INFO - Iteration 2 of 20\n",
      "INFO:harmonypy:Iteration 2 of 20\n",
      "2025-02-28 20:12:48,765 - harmonypy - INFO - Converged after 2 iterations\n",
      "INFO:harmonypy:Converged after 2 iterations\n"
     ]
    },
    {
     "name": "stdout",
     "output_type": "stream",
     "text": [
      "Running KNN\n",
      "Scoring cell cycle\n",
      "calculating cell cycle phase\n"
     ]
    },
    {
     "name": "stderr",
     "output_type": "stream",
     "text": [
      "Processing groups:  35%|███▌      | 30/85 [2:56:50<5:22:58, 352.34s/it]"
     ]
    },
    {
     "name": "stdout",
     "output_type": "stream",
     "text": [
      "-->     'S_score' and 'G2M_score', scores of cell cycle phases (adata.obs)\n",
      "Running labelTransfer on Sample 2_CTL04E_496\n",
      "Preparing reference and query\n",
      "Found mismatch between Ref and Query vars: will unify\n",
      "Scaling: True\n",
      "Running ingestion\n",
      "Running scANVI\n",
      "GPU with the lowest utilization is:  1\n"
     ]
    },
    {
     "name": "stderr",
     "output_type": "stream",
     "text": [
      "GPU available: True (cuda), used: True\n",
      "TPU available: False, using: 0 TPU cores\n",
      "HPU available: False, using: 0 HPUs\n",
      "LOCAL_RANK: 0 - CUDA_VISIBLE_DEVICES: [0,1,2,3]\n"
     ]
    },
    {
     "name": "stdout",
     "output_type": "stream",
     "text": [
      "Epoch 60/60: 100%|██████████| 60/60 [03:05<00:00,  3.02s/it, v_num=1, train_loss_step=3.48e+3, train_loss_epoch=3.41e+3]"
     ]
    },
    {
     "name": "stderr",
     "output_type": "stream",
     "text": [
      "`Trainer.fit` stopped: `max_epochs=60` reached.\n"
     ]
    },
    {
     "name": "stdout",
     "output_type": "stream",
     "text": [
      "Epoch 60/60: 100%|██████████| 60/60 [03:05<00:00,  3.09s/it, v_num=1, train_loss_step=3.48e+3, train_loss_epoch=3.41e+3]\n",
      "\u001b[34mINFO    \u001b[0m Training for \u001b[1;36m20\u001b[0m epochs.                                                                                   \n"
     ]
    },
    {
     "name": "stderr",
     "output_type": "stream",
     "text": [
      "GPU available: True (cuda), used: True\n",
      "TPU available: False, using: 0 TPU cores\n",
      "HPU available: False, using: 0 HPUs\n",
      "LOCAL_RANK: 0 - CUDA_VISIBLE_DEVICES: [0,1,2,3]\n"
     ]
    },
    {
     "name": "stdout",
     "output_type": "stream",
     "text": [
      "Epoch 20/20: 100%|██████████| 20/20 [02:13<00:00,  6.69s/it, v_num=1, train_loss_step=3.79e+3, train_loss_epoch=3.4e+3] "
     ]
    },
    {
     "name": "stderr",
     "output_type": "stream",
     "text": [
      "`Trainer.fit` stopped: `max_epochs=20` reached.\n"
     ]
    },
    {
     "name": "stdout",
     "output_type": "stream",
     "text": [
      "Epoch 20/20: 100%|██████████| 20/20 [02:13<00:00,  6.66s/it, v_num=1, train_loss_step=3.79e+3, train_loss_epoch=3.4e+3]\n",
      "Running harmony\n"
     ]
    },
    {
     "name": "stderr",
     "output_type": "stream",
     "text": [
      "... storing 'groupCov' as categorical\n",
      "... storing 'harmonizedRegion' as categorical\n",
      "... storing 'tissue' as categorical\n",
      "... storing 'study' as categorical\n",
      "... storing 'LabelTransfer_scANVI' as categorical\n",
      "... storing 'LabelTransfer_harmony' as categorical\n",
      "... storing 'HarmonyBatch' as categorical\n",
      "2025-02-28 20:18:38,531 - harmonypy - INFO - Computing initial centroids with sklearn.KMeans...\n",
      "INFO:harmonypy:Computing initial centroids with sklearn.KMeans...\n",
      "2025-02-28 20:18:42,417 - harmonypy - INFO - sklearn.KMeans initialization complete.\n",
      "INFO:harmonypy:sklearn.KMeans initialization complete.\n",
      "2025-02-28 20:18:42,628 - harmonypy - INFO - Iteration 1 of 20\n",
      "INFO:harmonypy:Iteration 1 of 20\n",
      "2025-02-28 20:18:52,508 - harmonypy - INFO - Iteration 2 of 20\n",
      "INFO:harmonypy:Iteration 2 of 20\n",
      "2025-02-28 20:19:00,889 - harmonypy - INFO - Converged after 2 iterations\n",
      "INFO:harmonypy:Converged after 2 iterations\n"
     ]
    },
    {
     "name": "stdout",
     "output_type": "stream",
     "text": [
      "Running KNN\n",
      "Scoring cell cycle\n",
      "calculating cell cycle phase\n"
     ]
    },
    {
     "name": "stderr",
     "output_type": "stream",
     "text": [
      "Processing groups:  36%|███▋      | 31/85 [3:03:02<5:22:30, 358.33s/it]"
     ]
    },
    {
     "name": "stdout",
     "output_type": "stream",
     "text": [
      "-->     'S_score' and 'G2M_score', scores of cell cycle phases (adata.obs)\n",
      "Running labelTransfer on Sample 2_CTL08A_496\n",
      "Preparing reference and query\n",
      "Found mismatch between Ref and Query vars: will unify\n",
      "Scaling: True\n",
      "Running ingestion\n",
      "Running scANVI\n",
      "GPU with the lowest utilization is:  1\n"
     ]
    },
    {
     "name": "stderr",
     "output_type": "stream",
     "text": [
      "GPU available: True (cuda), used: True\n",
      "TPU available: False, using: 0 TPU cores\n",
      "HPU available: False, using: 0 HPUs\n",
      "LOCAL_RANK: 0 - CUDA_VISIBLE_DEVICES: [0,1,2,3]\n"
     ]
    },
    {
     "name": "stdout",
     "output_type": "stream",
     "text": [
      "Epoch 60/60: 100%|██████████| 60/60 [03:13<00:00,  3.15s/it, v_num=1, train_loss_step=3.54e+3, train_loss_epoch=3.5e+3] "
     ]
    },
    {
     "name": "stderr",
     "output_type": "stream",
     "text": [
      "`Trainer.fit` stopped: `max_epochs=60` reached.\n"
     ]
    },
    {
     "name": "stdout",
     "output_type": "stream",
     "text": [
      "Epoch 60/60: 100%|██████████| 60/60 [03:13<00:00,  3.22s/it, v_num=1, train_loss_step=3.54e+3, train_loss_epoch=3.5e+3]\n",
      "\u001b[34mINFO    \u001b[0m Training for \u001b[1;36m20\u001b[0m epochs.                                                                                   \n"
     ]
    },
    {
     "name": "stderr",
     "output_type": "stream",
     "text": [
      "GPU available: True (cuda), used: True\n",
      "TPU available: False, using: 0 TPU cores\n",
      "HPU available: False, using: 0 HPUs\n",
      "LOCAL_RANK: 0 - CUDA_VISIBLE_DEVICES: [0,1,2,3]\n"
     ]
    },
    {
     "name": "stdout",
     "output_type": "stream",
     "text": [
      "Epoch 20/20: 100%|██████████| 20/20 [02:15<00:00,  6.84s/it, v_num=1, train_loss_step=3.3e+3, train_loss_epoch=3.5e+3]  "
     ]
    },
    {
     "name": "stderr",
     "output_type": "stream",
     "text": [
      "`Trainer.fit` stopped: `max_epochs=20` reached.\n"
     ]
    },
    {
     "name": "stdout",
     "output_type": "stream",
     "text": [
      "Epoch 20/20: 100%|██████████| 20/20 [02:15<00:00,  6.80s/it, v_num=1, train_loss_step=3.3e+3, train_loss_epoch=3.5e+3]\n",
      "Running harmony\n"
     ]
    },
    {
     "name": "stderr",
     "output_type": "stream",
     "text": [
      "... storing 'groupCov' as categorical\n",
      "... storing 'harmonizedRegion' as categorical\n",
      "... storing 'tissue' as categorical\n",
      "... storing 'study' as categorical\n",
      "... storing 'LabelTransfer_scANVI' as categorical\n",
      "... storing 'LabelTransfer_harmony' as categorical\n",
      "... storing 'HarmonyBatch' as categorical\n",
      "2025-02-28 20:25:02,075 - harmonypy - INFO - Computing initial centroids with sklearn.KMeans...\n",
      "INFO:harmonypy:Computing initial centroids with sklearn.KMeans...\n",
      "2025-02-28 20:25:06,225 - harmonypy - INFO - sklearn.KMeans initialization complete.\n",
      "INFO:harmonypy:sklearn.KMeans initialization complete.\n",
      "2025-02-28 20:25:06,416 - harmonypy - INFO - Iteration 1 of 20\n",
      "INFO:harmonypy:Iteration 1 of 20\n",
      "2025-02-28 20:25:16,783 - harmonypy - INFO - Iteration 2 of 20\n",
      "INFO:harmonypy:Iteration 2 of 20\n",
      "2025-02-28 20:25:25,795 - harmonypy - INFO - Converged after 2 iterations\n",
      "INFO:harmonypy:Converged after 2 iterations\n"
     ]
    },
    {
     "name": "stdout",
     "output_type": "stream",
     "text": [
      "Running KNN\n",
      "Scoring cell cycle\n",
      "calculating cell cycle phase\n"
     ]
    },
    {
     "name": "stderr",
     "output_type": "stream",
     "text": [
      "Processing groups:  38%|███▊      | 32/85 [3:09:27<5:23:34, 366.30s/it]"
     ]
    },
    {
     "name": "stdout",
     "output_type": "stream",
     "text": [
      "-->     'S_score' and 'G2M_score', scores of cell cycle phases (adata.obs)\n",
      "Running labelTransfer on Sample 1_CTL08A_496\n",
      "Preparing reference and query\n",
      "Found mismatch between Ref and Query vars: will unify\n",
      "Scaling: True\n",
      "Running ingestion\n",
      "Running scANVI\n",
      "GPU with the lowest utilization is:  1\n"
     ]
    },
    {
     "name": "stderr",
     "output_type": "stream",
     "text": [
      "GPU available: True (cuda), used: True\n",
      "TPU available: False, using: 0 TPU cores\n",
      "HPU available: False, using: 0 HPUs\n",
      "LOCAL_RANK: 0 - CUDA_VISIBLE_DEVICES: [0,1,2,3]\n"
     ]
    },
    {
     "name": "stdout",
     "output_type": "stream",
     "text": [
      "Epoch 60/60: 100%|██████████| 60/60 [03:07<00:00,  3.06s/it, v_num=1, train_loss_step=3.35e+3, train_loss_epoch=3.5e+3] "
     ]
    },
    {
     "name": "stderr",
     "output_type": "stream",
     "text": [
      "`Trainer.fit` stopped: `max_epochs=60` reached.\n"
     ]
    },
    {
     "name": "stdout",
     "output_type": "stream",
     "text": [
      "Epoch 60/60: 100%|██████████| 60/60 [03:07<00:00,  3.12s/it, v_num=1, train_loss_step=3.35e+3, train_loss_epoch=3.5e+3]\n",
      "\u001b[34mINFO    \u001b[0m Training for \u001b[1;36m20\u001b[0m epochs.                                                                                   \n"
     ]
    },
    {
     "name": "stderr",
     "output_type": "stream",
     "text": [
      "GPU available: True (cuda), used: True\n",
      "TPU available: False, using: 0 TPU cores\n",
      "HPU available: False, using: 0 HPUs\n",
      "LOCAL_RANK: 0 - CUDA_VISIBLE_DEVICES: [0,1,2,3]\n"
     ]
    },
    {
     "name": "stdout",
     "output_type": "stream",
     "text": [
      "Epoch 20/20: 100%|██████████| 20/20 [02:15<00:00,  6.72s/it, v_num=1, train_loss_step=3.48e+3, train_loss_epoch=3.5e+3] "
     ]
    },
    {
     "name": "stderr",
     "output_type": "stream",
     "text": [
      "`Trainer.fit` stopped: `max_epochs=20` reached.\n"
     ]
    },
    {
     "name": "stdout",
     "output_type": "stream",
     "text": [
      "Epoch 20/20: 100%|██████████| 20/20 [02:15<00:00,  6.75s/it, v_num=1, train_loss_step=3.48e+3, train_loss_epoch=3.5e+3]\n",
      "Running harmony\n"
     ]
    },
    {
     "name": "stderr",
     "output_type": "stream",
     "text": [
      "... storing 'groupCov' as categorical\n",
      "... storing 'harmonizedRegion' as categorical\n",
      "... storing 'tissue' as categorical\n",
      "... storing 'study' as categorical\n",
      "... storing 'LabelTransfer_scANVI' as categorical\n",
      "... storing 'LabelTransfer_harmony' as categorical\n",
      "... storing 'HarmonyBatch' as categorical\n",
      "2025-02-28 20:31:20,179 - harmonypy - INFO - Computing initial centroids with sklearn.KMeans...\n",
      "INFO:harmonypy:Computing initial centroids with sklearn.KMeans...\n",
      "2025-02-28 20:31:24,396 - harmonypy - INFO - sklearn.KMeans initialization complete.\n",
      "INFO:harmonypy:sklearn.KMeans initialization complete.\n",
      "2025-02-28 20:31:24,645 - harmonypy - INFO - Iteration 1 of 20\n",
      "INFO:harmonypy:Iteration 1 of 20\n",
      "2025-02-28 20:31:31,730 - harmonypy - INFO - Iteration 2 of 20\n",
      "INFO:harmonypy:Iteration 2 of 20\n",
      "2025-02-28 20:31:39,378 - harmonypy - INFO - Converged after 2 iterations\n",
      "INFO:harmonypy:Converged after 2 iterations\n"
     ]
    },
    {
     "name": "stdout",
     "output_type": "stream",
     "text": [
      "Running KNN\n",
      "Scoring cell cycle\n",
      "calculating cell cycle phase\n"
     ]
    },
    {
     "name": "stderr",
     "output_type": "stream",
     "text": [
      "Processing groups:  39%|███▉      | 33/85 [3:15:41<5:19:26, 368.59s/it]"
     ]
    },
    {
     "name": "stdout",
     "output_type": "stream",
     "text": [
      "-->     'S_score' and 'G2M_score', scores of cell cycle phases (adata.obs)\n",
      "Running labelTransfer on Sample 3_CTL04E_496\n",
      "Preparing reference and query\n",
      "Found mismatch between Ref and Query vars: will unify\n",
      "Scaling: True\n",
      "Running ingestion\n",
      "Running scANVI\n",
      "GPU with the lowest utilization is:  1\n"
     ]
    },
    {
     "name": "stderr",
     "output_type": "stream",
     "text": [
      "GPU available: True (cuda), used: True\n",
      "TPU available: False, using: 0 TPU cores\n",
      "HPU available: False, using: 0 HPUs\n",
      "LOCAL_RANK: 0 - CUDA_VISIBLE_DEVICES: [0,1,2,3]\n"
     ]
    },
    {
     "name": "stdout",
     "output_type": "stream",
     "text": [
      "Epoch 60/60: 100%|██████████| 60/60 [03:10<00:00,  3.10s/it, v_num=1, train_loss_step=4.14e+3, train_loss_epoch=3.48e+3]"
     ]
    },
    {
     "name": "stderr",
     "output_type": "stream",
     "text": [
      "`Trainer.fit` stopped: `max_epochs=60` reached.\n"
     ]
    },
    {
     "name": "stdout",
     "output_type": "stream",
     "text": [
      "Epoch 60/60: 100%|██████████| 60/60 [03:10<00:00,  3.17s/it, v_num=1, train_loss_step=4.14e+3, train_loss_epoch=3.48e+3]\n",
      "\u001b[34mINFO    \u001b[0m Training for \u001b[1;36m20\u001b[0m epochs.                                                                                   \n"
     ]
    },
    {
     "name": "stderr",
     "output_type": "stream",
     "text": [
      "GPU available: True (cuda), used: True\n",
      "TPU available: False, using: 0 TPU cores\n",
      "HPU available: False, using: 0 HPUs\n",
      "LOCAL_RANK: 0 - CUDA_VISIBLE_DEVICES: [0,1,2,3]\n"
     ]
    },
    {
     "name": "stdout",
     "output_type": "stream",
     "text": [
      "Epoch 20/20: 100%|██████████| 20/20 [02:17<00:00,  6.93s/it, v_num=1, train_loss_step=3.02e+3, train_loss_epoch=3.47e+3]"
     ]
    },
    {
     "name": "stderr",
     "output_type": "stream",
     "text": [
      "`Trainer.fit` stopped: `max_epochs=20` reached.\n"
     ]
    },
    {
     "name": "stdout",
     "output_type": "stream",
     "text": [
      "Epoch 20/20: 100%|██████████| 20/20 [02:17<00:00,  6.88s/it, v_num=1, train_loss_step=3.02e+3, train_loss_epoch=3.47e+3]\n",
      "Running harmony\n"
     ]
    },
    {
     "name": "stderr",
     "output_type": "stream",
     "text": [
      "... storing 'groupCov' as categorical\n",
      "... storing 'harmonizedRegion' as categorical\n",
      "... storing 'tissue' as categorical\n",
      "... storing 'study' as categorical\n",
      "... storing 'LabelTransfer_scANVI' as categorical\n",
      "... storing 'LabelTransfer_harmony' as categorical\n",
      "... storing 'HarmonyBatch' as categorical\n",
      "2025-02-28 20:37:40,435 - harmonypy - INFO - Computing initial centroids with sklearn.KMeans...\n",
      "INFO:harmonypy:Computing initial centroids with sklearn.KMeans...\n",
      "2025-02-28 20:37:44,505 - harmonypy - INFO - sklearn.KMeans initialization complete.\n",
      "INFO:harmonypy:sklearn.KMeans initialization complete.\n",
      "2025-02-28 20:37:44,636 - harmonypy - INFO - Iteration 1 of 20\n",
      "INFO:harmonypy:Iteration 1 of 20\n",
      "2025-02-28 20:38:00,409 - harmonypy - INFO - Iteration 2 of 20\n",
      "INFO:harmonypy:Iteration 2 of 20\n",
      "2025-02-28 20:38:14,302 - harmonypy - INFO - Converged after 2 iterations\n",
      "INFO:harmonypy:Converged after 2 iterations\n"
     ]
    },
    {
     "name": "stdout",
     "output_type": "stream",
     "text": [
      "Running KNN\n",
      "Scoring cell cycle\n",
      "calculating cell cycle phase\n"
     ]
    },
    {
     "name": "stderr",
     "output_type": "stream",
     "text": [
      "Processing groups:  40%|████      | 34/85 [3:22:16<5:20:07, 376.62s/it]"
     ]
    },
    {
     "name": "stdout",
     "output_type": "stream",
     "text": [
      "-->     'S_score' and 'G2M_score', scores of cell cycle phases (adata.obs)\n",
      "Running labelTransfer on Sample 1_CTL04E_496\n",
      "Preparing reference and query\n",
      "Found mismatch between Ref and Query vars: will unify\n",
      "Scaling: True\n",
      "Running ingestion\n",
      "Running scANVI\n",
      "GPU with the lowest utilization is:  0\n"
     ]
    },
    {
     "name": "stderr",
     "output_type": "stream",
     "text": [
      "GPU available: True (cuda), used: True\n",
      "TPU available: False, using: 0 TPU cores\n",
      "HPU available: False, using: 0 HPUs\n",
      "LOCAL_RANK: 0 - CUDA_VISIBLE_DEVICES: [0,1,2,3]\n"
     ]
    },
    {
     "name": "stdout",
     "output_type": "stream",
     "text": [
      "Epoch 60/60: 100%|██████████| 60/60 [02:52<00:00,  2.85s/it, v_num=1, train_loss_step=2.7e+3, train_loss_epoch=3.4e+3]  "
     ]
    },
    {
     "name": "stderr",
     "output_type": "stream",
     "text": [
      "`Trainer.fit` stopped: `max_epochs=60` reached.\n"
     ]
    },
    {
     "name": "stdout",
     "output_type": "stream",
     "text": [
      "Epoch 60/60: 100%|██████████| 60/60 [02:52<00:00,  2.88s/it, v_num=1, train_loss_step=2.7e+3, train_loss_epoch=3.4e+3]\n",
      "\u001b[34mINFO    \u001b[0m Training for \u001b[1;36m20\u001b[0m epochs.                                                                                   \n"
     ]
    },
    {
     "name": "stderr",
     "output_type": "stream",
     "text": [
      "GPU available: True (cuda), used: True\n",
      "TPU available: False, using: 0 TPU cores\n",
      "HPU available: False, using: 0 HPUs\n",
      "LOCAL_RANK: 0 - CUDA_VISIBLE_DEVICES: [0,1,2,3]\n"
     ]
    },
    {
     "name": "stdout",
     "output_type": "stream",
     "text": [
      "Epoch 20/20: 100%|██████████| 20/20 [02:11<00:00,  6.49s/it, v_num=1, train_loss_step=3.05e+3, train_loss_epoch=3.4e+3]"
     ]
    },
    {
     "name": "stderr",
     "output_type": "stream",
     "text": [
      "`Trainer.fit` stopped: `max_epochs=20` reached.\n"
     ]
    },
    {
     "name": "stdout",
     "output_type": "stream",
     "text": [
      "Epoch 20/20: 100%|██████████| 20/20 [02:11<00:00,  6.58s/it, v_num=1, train_loss_step=3.05e+3, train_loss_epoch=3.4e+3]\n",
      "Running harmony\n"
     ]
    },
    {
     "name": "stderr",
     "output_type": "stream",
     "text": [
      "... storing 'groupCov' as categorical\n",
      "... storing 'harmonizedRegion' as categorical\n",
      "... storing 'tissue' as categorical\n",
      "... storing 'study' as categorical\n",
      "... storing 'LabelTransfer_scANVI' as categorical\n",
      "... storing 'LabelTransfer_harmony' as categorical\n",
      "... storing 'HarmonyBatch' as categorical\n",
      "2025-02-28 20:43:53,927 - harmonypy - INFO - Computing initial centroids with sklearn.KMeans...\n",
      "INFO:harmonypy:Computing initial centroids with sklearn.KMeans...\n",
      "2025-02-28 20:44:00,551 - harmonypy - INFO - sklearn.KMeans initialization complete.\n",
      "INFO:harmonypy:sklearn.KMeans initialization complete.\n",
      "2025-02-28 20:44:00,813 - harmonypy - INFO - Iteration 1 of 20\n",
      "INFO:harmonypy:Iteration 1 of 20\n",
      "2025-02-28 20:44:09,712 - harmonypy - INFO - Iteration 2 of 20\n",
      "INFO:harmonypy:Iteration 2 of 20\n",
      "2025-02-28 20:44:17,617 - harmonypy - INFO - Converged after 2 iterations\n",
      "INFO:harmonypy:Converged after 2 iterations\n"
     ]
    },
    {
     "name": "stdout",
     "output_type": "stream",
     "text": [
      "Running KNN\n",
      "Scoring cell cycle\n",
      "calculating cell cycle phase\n",
      "-->     'S_score' and 'G2M_score', scores of cell cycle phases (adata.obs)\n"
     ]
    },
    {
     "name": "stderr",
     "output_type": "stream",
     "text": [
      "Processing groups:  41%|████      | 35/85 [3:28:19<5:10:20, 372.41s/it]"
     ]
    },
    {
     "name": "stdout",
     "output_type": "stream",
     "text": [
      "Running labelTransfer on Sample 3_CTL08A_496\n",
      "Preparing reference and query\n",
      "Found mismatch between Ref and Query vars: will unify\n",
      "Scaling: True\n",
      "Running ingestion\n",
      "Running scANVI\n",
      "GPU with the lowest utilization is:  1\n"
     ]
    },
    {
     "name": "stderr",
     "output_type": "stream",
     "text": [
      "GPU available: True (cuda), used: True\n",
      "TPU available: False, using: 0 TPU cores\n",
      "HPU available: False, using: 0 HPUs\n",
      "LOCAL_RANK: 0 - CUDA_VISIBLE_DEVICES: [0,1,2,3]\n"
     ]
    },
    {
     "name": "stdout",
     "output_type": "stream",
     "text": [
      "Epoch 1/60:   0%|          | 0/60 [00:00<?, ?it/s]"
     ]
    },
    {
     "name": "stderr",
     "output_type": "stream",
     "text": [
      "GPU available: True (cuda), used: True\n",
      "TPU available: False, using: 0 TPU cores\n",
      "HPU available: False, using: 0 HPUs\n",
      "LOCAL_RANK: 0 - CUDA_VISIBLE_DEVICES: [0,1,2,3]\n"
     ]
    },
    {
     "name": "stdout",
     "output_type": "stream",
     "text": [
      "Reducing batch size to 127 due to ValueError.\n",
      "Epoch 60/60: 100%|██████████| 60/60 [03:04<00:00,  3.02s/it, v_num=1, train_loss_step=3.34e+3, train_loss_epoch=3.46e+3]"
     ]
    },
    {
     "name": "stderr",
     "output_type": "stream",
     "text": [
      "`Trainer.fit` stopped: `max_epochs=60` reached.\n"
     ]
    },
    {
     "name": "stdout",
     "output_type": "stream",
     "text": [
      "Epoch 60/60: 100%|██████████| 60/60 [03:04<00:00,  3.08s/it, v_num=1, train_loss_step=3.34e+3, train_loss_epoch=3.46e+3]\n",
      "\u001b[34mINFO    \u001b[0m Training for \u001b[1;36m20\u001b[0m epochs.                                                                                   \n"
     ]
    },
    {
     "name": "stderr",
     "output_type": "stream",
     "text": [
      "GPU available: True (cuda), used: True\n",
      "TPU available: False, using: 0 TPU cores\n",
      "HPU available: False, using: 0 HPUs\n",
      "LOCAL_RANK: 0 - CUDA_VISIBLE_DEVICES: [0,1,2,3]\n"
     ]
    },
    {
     "name": "stdout",
     "output_type": "stream",
     "text": [
      "Epoch 1/60:   0%|          | 0/60 [03:15<?, ?it/s].02s/it, v_num=1, train_loss_step=3.11e+3, train_loss_epoch=3.51e+3]\n",
      "Epoch 20/20: 100%|██████████| 20/20 [02:23<00:00,  7.27s/it, v_num=1, train_loss_step=3.23e+3, train_loss_epoch=3.46e+3]"
     ]
    },
    {
     "name": "stderr",
     "output_type": "stream",
     "text": [
      "`Trainer.fit` stopped: `max_epochs=20` reached.\n"
     ]
    },
    {
     "name": "stdout",
     "output_type": "stream",
     "text": [
      "Epoch 20/20: 100%|██████████| 20/20 [02:23<00:00,  7.19s/it, v_num=1, train_loss_step=3.23e+3, train_loss_epoch=3.46e+3]\n",
      "Running harmony\n"
     ]
    },
    {
     "name": "stderr",
     "output_type": "stream",
     "text": [
      "... storing 'groupCov' as categorical\n",
      "... storing 'harmonizedRegion' as categorical\n",
      "... storing 'tissue' as categorical\n",
      "... storing 'study' as categorical\n",
      "... storing 'LabelTransfer_scANVI' as categorical\n",
      "... storing 'LabelTransfer_harmony' as categorical\n",
      "... storing 'HarmonyBatch' as categorical\n",
      "2025-02-28 20:50:20,946 - harmonypy - INFO - Computing initial centroids with sklearn.KMeans...\n",
      "INFO:harmonypy:Computing initial centroids with sklearn.KMeans...\n",
      "2025-02-28 20:50:25,068 - harmonypy - INFO - sklearn.KMeans initialization complete.\n",
      "INFO:harmonypy:sklearn.KMeans initialization complete.\n",
      "2025-02-28 20:50:25,201 - harmonypy - INFO - Iteration 1 of 20\n",
      "INFO:harmonypy:Iteration 1 of 20\n",
      "2025-02-28 20:50:36,080 - harmonypy - INFO - Iteration 2 of 20\n",
      "INFO:harmonypy:Iteration 2 of 20\n",
      "2025-02-28 20:50:44,720 - harmonypy - INFO - Converged after 2 iterations\n",
      "INFO:harmonypy:Converged after 2 iterations\n"
     ]
    },
    {
     "name": "stdout",
     "output_type": "stream",
     "text": [
      "Running KNN\n",
      "Scoring cell cycle\n",
      "calculating cell cycle phase\n",
      "-->     'S_score' and 'G2M_score', scores of cell cycle phases (adata.obs)\n"
     ]
    },
    {
     "name": "stderr",
     "output_type": "stream",
     "text": [
      "Processing groups:  42%|████▏     | 36/85 [3:34:46<5:07:46, 376.86s/it]"
     ]
    },
    {
     "name": "stdout",
     "output_type": "stream",
     "text": [
      "Running labelTransfer on Sample 3_CTL04E_497\n",
      "Preparing reference and query\n",
      "Found mismatch between Ref and Query vars: will unify\n",
      "Scaling: True\n",
      "Running ingestion\n",
      "Running scANVI\n",
      "GPU with the lowest utilization is:  1\n"
     ]
    },
    {
     "name": "stderr",
     "output_type": "stream",
     "text": [
      "GPU available: True (cuda), used: True\n",
      "TPU available: False, using: 0 TPU cores\n",
      "HPU available: False, using: 0 HPUs\n",
      "LOCAL_RANK: 0 - CUDA_VISIBLE_DEVICES: [0,1,2,3]\n"
     ]
    },
    {
     "name": "stdout",
     "output_type": "stream",
     "text": [
      "Epoch 60/60: 100%|██████████| 60/60 [02:52<00:00,  2.83s/it, v_num=1, train_loss_step=3.27e+3, train_loss_epoch=3.22e+3]"
     ]
    },
    {
     "name": "stderr",
     "output_type": "stream",
     "text": [
      "`Trainer.fit` stopped: `max_epochs=60` reached.\n"
     ]
    },
    {
     "name": "stdout",
     "output_type": "stream",
     "text": [
      "Epoch 60/60: 100%|██████████| 60/60 [02:52<00:00,  2.88s/it, v_num=1, train_loss_step=3.27e+3, train_loss_epoch=3.22e+3]\n",
      "\u001b[34mINFO    \u001b[0m Training for \u001b[1;36m20\u001b[0m epochs.                                                                                   \n"
     ]
    },
    {
     "name": "stderr",
     "output_type": "stream",
     "text": [
      "GPU available: True (cuda), used: True\n",
      "TPU available: False, using: 0 TPU cores\n",
      "HPU available: False, using: 0 HPUs\n",
      "LOCAL_RANK: 0 - CUDA_VISIBLE_DEVICES: [0,1,2,3]\n"
     ]
    },
    {
     "name": "stdout",
     "output_type": "stream",
     "text": [
      "Epoch 20/20: 100%|██████████| 20/20 [02:11<00:00,  6.67s/it, v_num=1, train_loss_step=2.92e+3, train_loss_epoch=3.22e+3]"
     ]
    },
    {
     "name": "stderr",
     "output_type": "stream",
     "text": [
      "`Trainer.fit` stopped: `max_epochs=20` reached.\n"
     ]
    },
    {
     "name": "stdout",
     "output_type": "stream",
     "text": [
      "Epoch 20/20: 100%|██████████| 20/20 [02:11<00:00,  6.59s/it, v_num=1, train_loss_step=2.92e+3, train_loss_epoch=3.22e+3]\n",
      "Running harmony\n"
     ]
    },
    {
     "name": "stderr",
     "output_type": "stream",
     "text": [
      "... storing 'groupCov' as categorical\n",
      "... storing 'harmonizedRegion' as categorical\n",
      "... storing 'tissue' as categorical\n",
      "... storing 'study' as categorical\n",
      "... storing 'LabelTransfer_scANVI' as categorical\n",
      "... storing 'LabelTransfer_harmony' as categorical\n",
      "... storing 'HarmonyBatch' as categorical\n",
      "2025-02-28 20:56:16,520 - harmonypy - INFO - Computing initial centroids with sklearn.KMeans...\n",
      "INFO:harmonypy:Computing initial centroids with sklearn.KMeans...\n",
      "2025-02-28 20:56:20,876 - harmonypy - INFO - sklearn.KMeans initialization complete.\n",
      "INFO:harmonypy:sklearn.KMeans initialization complete.\n",
      "2025-02-28 20:56:21,069 - harmonypy - INFO - Iteration 1 of 20\n",
      "INFO:harmonypy:Iteration 1 of 20\n",
      "2025-02-28 20:56:29,267 - harmonypy - INFO - Iteration 2 of 20\n",
      "INFO:harmonypy:Iteration 2 of 20\n",
      "2025-02-28 20:56:36,389 - harmonypy - INFO - Converged after 2 iterations\n",
      "INFO:harmonypy:Converged after 2 iterations\n"
     ]
    },
    {
     "name": "stdout",
     "output_type": "stream",
     "text": [
      "Running KNN\n",
      "Scoring cell cycle\n",
      "calculating cell cycle phase\n"
     ]
    },
    {
     "name": "stderr",
     "output_type": "stream",
     "text": [
      "Processing groups:  44%|████▎     | 37/85 [3:40:37<4:55:26, 369.29s/it]"
     ]
    },
    {
     "name": "stdout",
     "output_type": "stream",
     "text": [
      "-->     'S_score' and 'G2M_score', scores of cell cycle phases (adata.obs)\n",
      "Running labelTransfer on Sample 2_CTL04E_497\n",
      "Preparing reference and query\n",
      "Found mismatch between Ref and Query vars: will unify\n",
      "Scaling: True\n",
      "Running ingestion\n",
      "Running scANVI\n",
      "GPU with the lowest utilization is:  1\n"
     ]
    },
    {
     "name": "stderr",
     "output_type": "stream",
     "text": [
      "GPU available: True (cuda), used: True\n",
      "TPU available: False, using: 0 TPU cores\n",
      "HPU available: False, using: 0 HPUs\n",
      "LOCAL_RANK: 0 - CUDA_VISIBLE_DEVICES: [0,1,2,3]\n"
     ]
    },
    {
     "name": "stdout",
     "output_type": "stream",
     "text": [
      "Epoch 60/60: 100%|██████████| 60/60 [02:49<00:00,  2.79s/it, v_num=1, train_loss_step=3.13e+3, train_loss_epoch=3.21e+3]"
     ]
    },
    {
     "name": "stderr",
     "output_type": "stream",
     "text": [
      "`Trainer.fit` stopped: `max_epochs=60` reached.\n"
     ]
    },
    {
     "name": "stdout",
     "output_type": "stream",
     "text": [
      "Epoch 60/60: 100%|██████████| 60/60 [02:49<00:00,  2.83s/it, v_num=1, train_loss_step=3.13e+3, train_loss_epoch=3.21e+3]\n",
      "\u001b[34mINFO    \u001b[0m Training for \u001b[1;36m20\u001b[0m epochs.                                                                                   \n"
     ]
    },
    {
     "name": "stderr",
     "output_type": "stream",
     "text": [
      "GPU available: True (cuda), used: True\n",
      "TPU available: False, using: 0 TPU cores\n",
      "HPU available: False, using: 0 HPUs\n",
      "LOCAL_RANK: 0 - CUDA_VISIBLE_DEVICES: [0,1,2,3]\n"
     ]
    },
    {
     "name": "stdout",
     "output_type": "stream",
     "text": [
      "Epoch 20/20: 100%|██████████| 20/20 [02:14<00:00,  6.92s/it, v_num=1, train_loss_step=3.47e+3, train_loss_epoch=3.21e+3]"
     ]
    },
    {
     "name": "stderr",
     "output_type": "stream",
     "text": [
      "`Trainer.fit` stopped: `max_epochs=20` reached.\n"
     ]
    },
    {
     "name": "stdout",
     "output_type": "stream",
     "text": [
      "Epoch 20/20: 100%|██████████| 20/20 [02:14<00:00,  6.71s/it, v_num=1, train_loss_step=3.47e+3, train_loss_epoch=3.21e+3]\n",
      "Running harmony\n"
     ]
    },
    {
     "name": "stderr",
     "output_type": "stream",
     "text": [
      "... storing 'groupCov' as categorical\n",
      "... storing 'harmonizedRegion' as categorical\n",
      "... storing 'tissue' as categorical\n",
      "... storing 'study' as categorical\n",
      "... storing 'LabelTransfer_scANVI' as categorical\n",
      "... storing 'LabelTransfer_harmony' as categorical\n",
      "... storing 'HarmonyBatch' as categorical\n",
      "2025-02-28 21:02:07,318 - harmonypy - INFO - Computing initial centroids with sklearn.KMeans...\n",
      "INFO:harmonypy:Computing initial centroids with sklearn.KMeans...\n",
      "2025-02-28 21:02:11,360 - harmonypy - INFO - sklearn.KMeans initialization complete.\n",
      "INFO:harmonypy:sklearn.KMeans initialization complete.\n",
      "2025-02-28 21:02:11,594 - harmonypy - INFO - Iteration 1 of 20\n",
      "INFO:harmonypy:Iteration 1 of 20\n",
      "2025-02-28 21:02:19,448 - harmonypy - INFO - Iteration 2 of 20\n",
      "INFO:harmonypy:Iteration 2 of 20\n",
      "2025-02-28 21:02:26,464 - harmonypy - INFO - Converged after 2 iterations\n",
      "INFO:harmonypy:Converged after 2 iterations\n"
     ]
    },
    {
     "name": "stdout",
     "output_type": "stream",
     "text": [
      "Running KNN\n",
      "Scoring cell cycle\n",
      "calculating cell cycle phase\n"
     ]
    },
    {
     "name": "stderr",
     "output_type": "stream",
     "text": [
      "Processing groups:  45%|████▍     | 38/85 [3:46:27<4:44:40, 363.41s/it]"
     ]
    },
    {
     "name": "stdout",
     "output_type": "stream",
     "text": [
      "-->     'S_score' and 'G2M_score', scores of cell cycle phases (adata.obs)\n",
      "Running labelTransfer on Sample 3_CTL08A_497\n",
      "Preparing reference and query\n",
      "Found mismatch between Ref and Query vars: will unify\n",
      "Scaling: True\n",
      "Running ingestion\n",
      "Running scANVI\n",
      "GPU with the lowest utilization is:  1\n"
     ]
    },
    {
     "name": "stderr",
     "output_type": "stream",
     "text": [
      "GPU available: True (cuda), used: True\n",
      "TPU available: False, using: 0 TPU cores\n",
      "HPU available: False, using: 0 HPUs\n",
      "LOCAL_RANK: 0 - CUDA_VISIBLE_DEVICES: [0,1,2,3]\n"
     ]
    },
    {
     "name": "stdout",
     "output_type": "stream",
     "text": [
      "Epoch 60/60: 100%|██████████| 60/60 [02:51<00:00,  2.80s/it, v_num=1, train_loss_step=2.82e+3, train_loss_epoch=3.25e+3]"
     ]
    },
    {
     "name": "stderr",
     "output_type": "stream",
     "text": [
      "`Trainer.fit` stopped: `max_epochs=60` reached.\n"
     ]
    },
    {
     "name": "stdout",
     "output_type": "stream",
     "text": [
      "Epoch 60/60: 100%|██████████| 60/60 [02:51<00:00,  2.85s/it, v_num=1, train_loss_step=2.82e+3, train_loss_epoch=3.25e+3]\n",
      "\u001b[34mINFO    \u001b[0m Training for \u001b[1;36m20\u001b[0m epochs.                                                                                   \n"
     ]
    },
    {
     "name": "stderr",
     "output_type": "stream",
     "text": [
      "GPU available: True (cuda), used: True\n",
      "TPU available: False, using: 0 TPU cores\n",
      "HPU available: False, using: 0 HPUs\n",
      "LOCAL_RANK: 0 - CUDA_VISIBLE_DEVICES: [0,1,2,3]\n"
     ]
    },
    {
     "name": "stdout",
     "output_type": "stream",
     "text": [
      "Epoch 20/20: 100%|██████████| 20/20 [02:11<00:00,  6.78s/it, v_num=1, train_loss_step=2.68e+3, train_loss_epoch=3.24e+3]"
     ]
    },
    {
     "name": "stderr",
     "output_type": "stream",
     "text": [
      "`Trainer.fit` stopped: `max_epochs=20` reached.\n"
     ]
    },
    {
     "name": "stdout",
     "output_type": "stream",
     "text": [
      "Epoch 20/20: 100%|██████████| 20/20 [02:11<00:00,  6.57s/it, v_num=1, train_loss_step=2.68e+3, train_loss_epoch=3.24e+3]\n",
      "Running harmony\n"
     ]
    },
    {
     "name": "stderr",
     "output_type": "stream",
     "text": [
      "... storing 'groupCov' as categorical\n",
      "... storing 'harmonizedRegion' as categorical\n",
      "... storing 'tissue' as categorical\n",
      "... storing 'study' as categorical\n",
      "... storing 'LabelTransfer_scANVI' as categorical\n",
      "... storing 'LabelTransfer_harmony' as categorical\n",
      "... storing 'HarmonyBatch' as categorical\n",
      "2025-02-28 21:07:57,184 - harmonypy - INFO - Computing initial centroids with sklearn.KMeans...\n",
      "INFO:harmonypy:Computing initial centroids with sklearn.KMeans...\n",
      "2025-02-28 21:08:01,321 - harmonypy - INFO - sklearn.KMeans initialization complete.\n",
      "INFO:harmonypy:sklearn.KMeans initialization complete.\n",
      "2025-02-28 21:08:01,501 - harmonypy - INFO - Iteration 1 of 20\n",
      "INFO:harmonypy:Iteration 1 of 20\n",
      "2025-02-28 21:08:11,075 - harmonypy - INFO - Iteration 2 of 20\n",
      "INFO:harmonypy:Iteration 2 of 20\n",
      "2025-02-28 21:08:19,414 - harmonypy - INFO - Converged after 2 iterations\n",
      "INFO:harmonypy:Converged after 2 iterations\n"
     ]
    },
    {
     "name": "stdout",
     "output_type": "stream",
     "text": [
      "Running KNN\n",
      "Scoring cell cycle\n",
      "calculating cell cycle phase\n"
     ]
    },
    {
     "name": "stderr",
     "output_type": "stream",
     "text": [
      "Processing groups:  46%|████▌     | 39/85 [3:52:20<4:36:16, 360.35s/it]"
     ]
    },
    {
     "name": "stdout",
     "output_type": "stream",
     "text": [
      "-->     'S_score' and 'G2M_score', scores of cell cycle phases (adata.obs)\n",
      "Running labelTransfer on Sample 2_CTL08A_497\n",
      "Preparing reference and query\n",
      "Found mismatch between Ref and Query vars: will unify\n",
      "Scaling: True\n",
      "Running ingestion\n",
      "Running scANVI\n",
      "GPU with the lowest utilization is:  1\n"
     ]
    },
    {
     "name": "stderr",
     "output_type": "stream",
     "text": [
      "GPU available: True (cuda), used: True\n",
      "TPU available: False, using: 0 TPU cores\n",
      "HPU available: False, using: 0 HPUs\n",
      "LOCAL_RANK: 0 - CUDA_VISIBLE_DEVICES: [0,1,2,3]\n"
     ]
    },
    {
     "name": "stdout",
     "output_type": "stream",
     "text": [
      "Epoch 60/60: 100%|██████████| 60/60 [02:50<00:00,  2.82s/it, v_num=1, train_loss_step=3.02e+3, train_loss_epoch=3.26e+3]"
     ]
    },
    {
     "name": "stderr",
     "output_type": "stream",
     "text": [
      "`Trainer.fit` stopped: `max_epochs=60` reached.\n"
     ]
    },
    {
     "name": "stdout",
     "output_type": "stream",
     "text": [
      "Epoch 60/60: 100%|██████████| 60/60 [02:50<00:00,  2.85s/it, v_num=1, train_loss_step=3.02e+3, train_loss_epoch=3.26e+3]\n",
      "\u001b[34mINFO    \u001b[0m Training for \u001b[1;36m20\u001b[0m epochs.                                                                                   \n"
     ]
    },
    {
     "name": "stderr",
     "output_type": "stream",
     "text": [
      "GPU available: True (cuda), used: True\n",
      "TPU available: False, using: 0 TPU cores\n",
      "HPU available: False, using: 0 HPUs\n",
      "LOCAL_RANK: 0 - CUDA_VISIBLE_DEVICES: [0,1,2,3]\n"
     ]
    },
    {
     "name": "stdout",
     "output_type": "stream",
     "text": [
      "Epoch 20/20: 100%|██████████| 20/20 [02:14<00:00,  6.96s/it, v_num=1, train_loss_step=3.41e+3, train_loss_epoch=3.26e+3]"
     ]
    },
    {
     "name": "stderr",
     "output_type": "stream",
     "text": [
      "`Trainer.fit` stopped: `max_epochs=20` reached.\n"
     ]
    },
    {
     "name": "stdout",
     "output_type": "stream",
     "text": [
      "Epoch 20/20: 100%|██████████| 20/20 [02:14<00:00,  6.72s/it, v_num=1, train_loss_step=3.41e+3, train_loss_epoch=3.26e+3]\n",
      "Running harmony\n"
     ]
    },
    {
     "name": "stderr",
     "output_type": "stream",
     "text": [
      "... storing 'groupCov' as categorical\n",
      "... storing 'harmonizedRegion' as categorical\n",
      "... storing 'tissue' as categorical\n",
      "... storing 'study' as categorical\n",
      "... storing 'LabelTransfer_scANVI' as categorical\n",
      "... storing 'LabelTransfer_harmony' as categorical\n",
      "... storing 'HarmonyBatch' as categorical\n",
      "2025-02-28 21:13:53,661 - harmonypy - INFO - Computing initial centroids with sklearn.KMeans...\n",
      "INFO:harmonypy:Computing initial centroids with sklearn.KMeans...\n",
      "2025-02-28 21:13:57,604 - harmonypy - INFO - sklearn.KMeans initialization complete.\n",
      "INFO:harmonypy:sklearn.KMeans initialization complete.\n",
      "2025-02-28 21:13:57,811 - harmonypy - INFO - Iteration 1 of 20\n",
      "INFO:harmonypy:Iteration 1 of 20\n",
      "2025-02-28 21:14:04,607 - harmonypy - INFO - Iteration 2 of 20\n",
      "INFO:harmonypy:Iteration 2 of 20\n",
      "2025-02-28 21:14:11,286 - harmonypy - INFO - Converged after 2 iterations\n",
      "INFO:harmonypy:Converged after 2 iterations\n"
     ]
    },
    {
     "name": "stdout",
     "output_type": "stream",
     "text": [
      "Running KNN\n",
      "Scoring cell cycle\n",
      "calculating cell cycle phase\n"
     ]
    },
    {
     "name": "stderr",
     "output_type": "stream",
     "text": [
      "Processing groups:  47%|████▋     | 40/85 [3:58:12<4:28:20, 357.80s/it]"
     ]
    },
    {
     "name": "stdout",
     "output_type": "stream",
     "text": [
      "-->     'S_score' and 'G2M_score', scores of cell cycle phases (adata.obs)\n",
      "Running labelTransfer on Sample 1_CTL04E_497\n",
      "Preparing reference and query\n",
      "Found mismatch between Ref and Query vars: will unify\n",
      "Scaling: True\n",
      "Running ingestion\n",
      "Running scANVI\n",
      "GPU with the lowest utilization is:  1\n"
     ]
    },
    {
     "name": "stderr",
     "output_type": "stream",
     "text": [
      "GPU available: True (cuda), used: True\n",
      "TPU available: False, using: 0 TPU cores\n",
      "HPU available: False, using: 0 HPUs\n",
      "LOCAL_RANK: 0 - CUDA_VISIBLE_DEVICES: [0,1,2,3]\n"
     ]
    },
    {
     "name": "stdout",
     "output_type": "stream",
     "text": [
      "Epoch 60/60: 100%|██████████| 60/60 [02:48<00:00,  2.75s/it, v_num=1, train_loss_step=3.42e+3, train_loss_epoch=3.23e+3]"
     ]
    },
    {
     "name": "stderr",
     "output_type": "stream",
     "text": [
      "`Trainer.fit` stopped: `max_epochs=60` reached.\n"
     ]
    },
    {
     "name": "stdout",
     "output_type": "stream",
     "text": [
      "Epoch 60/60: 100%|██████████| 60/60 [02:48<00:00,  2.82s/it, v_num=1, train_loss_step=3.42e+3, train_loss_epoch=3.23e+3]\n",
      "\u001b[34mINFO    \u001b[0m Training for \u001b[1;36m20\u001b[0m epochs.                                                                                   \n"
     ]
    },
    {
     "name": "stderr",
     "output_type": "stream",
     "text": [
      "GPU available: True (cuda), used: True\n",
      "TPU available: False, using: 0 TPU cores\n",
      "HPU available: False, using: 0 HPUs\n",
      "LOCAL_RANK: 0 - CUDA_VISIBLE_DEVICES: [0,1,2,3]\n"
     ]
    },
    {
     "name": "stdout",
     "output_type": "stream",
     "text": [
      "Epoch 20/20: 100%|██████████| 20/20 [02:09<00:00,  6.78s/it, v_num=1, train_loss_step=3.03e+3, train_loss_epoch=3.23e+3]"
     ]
    },
    {
     "name": "stderr",
     "output_type": "stream",
     "text": [
      "`Trainer.fit` stopped: `max_epochs=20` reached.\n"
     ]
    },
    {
     "name": "stdout",
     "output_type": "stream",
     "text": [
      "Epoch 20/20: 100%|██████████| 20/20 [02:09<00:00,  6.46s/it, v_num=1, train_loss_step=3.03e+3, train_loss_epoch=3.23e+3]\n",
      "Running harmony\n"
     ]
    },
    {
     "name": "stderr",
     "output_type": "stream",
     "text": [
      "... storing 'groupCov' as categorical\n",
      "... storing 'harmonizedRegion' as categorical\n",
      "... storing 'tissue' as categorical\n",
      "... storing 'study' as categorical\n",
      "... storing 'LabelTransfer_scANVI' as categorical\n",
      "... storing 'LabelTransfer_harmony' as categorical\n",
      "... storing 'HarmonyBatch' as categorical\n",
      "2025-02-28 21:19:36,505 - harmonypy - INFO - Computing initial centroids with sklearn.KMeans...\n",
      "INFO:harmonypy:Computing initial centroids with sklearn.KMeans...\n",
      "2025-02-28 21:19:40,666 - harmonypy - INFO - sklearn.KMeans initialization complete.\n",
      "INFO:harmonypy:sklearn.KMeans initialization complete.\n",
      "2025-02-28 21:19:40,845 - harmonypy - INFO - Iteration 1 of 20\n",
      "INFO:harmonypy:Iteration 1 of 20\n",
      "2025-02-28 21:19:49,656 - harmonypy - INFO - Iteration 2 of 20\n",
      "INFO:harmonypy:Iteration 2 of 20\n",
      "2025-02-28 21:19:56,372 - harmonypy - INFO - Converged after 2 iterations\n",
      "INFO:harmonypy:Converged after 2 iterations\n"
     ]
    },
    {
     "name": "stdout",
     "output_type": "stream",
     "text": [
      "Running KNN\n",
      "Scoring cell cycle\n",
      "calculating cell cycle phase\n"
     ]
    },
    {
     "name": "stderr",
     "output_type": "stream",
     "text": [
      "Processing groups:  48%|████▊     | 41/85 [4:03:57<4:19:35, 353.98s/it]"
     ]
    },
    {
     "name": "stdout",
     "output_type": "stream",
     "text": [
      "-->     'S_score' and 'G2M_score', scores of cell cycle phases (adata.obs)\n",
      "Running labelTransfer on Sample 1_CTL08A_497\n",
      "Preparing reference and query\n",
      "Found mismatch between Ref and Query vars: will unify\n",
      "Scaling: True\n",
      "Running ingestion\n",
      "Running scANVI\n",
      "GPU with the lowest utilization is:  1\n"
     ]
    },
    {
     "name": "stderr",
     "output_type": "stream",
     "text": [
      "GPU available: True (cuda), used: True\n",
      "TPU available: False, using: 0 TPU cores\n",
      "HPU available: False, using: 0 HPUs\n",
      "LOCAL_RANK: 0 - CUDA_VISIBLE_DEVICES: [0,1,2,3]\n"
     ]
    },
    {
     "name": "stdout",
     "output_type": "stream",
     "text": [
      "Epoch 60/60: 100%|██████████| 60/60 [02:48<00:00,  2.78s/it, v_num=1, train_loss_step=3.28e+3, train_loss_epoch=3.23e+3]"
     ]
    },
    {
     "name": "stderr",
     "output_type": "stream",
     "text": [
      "`Trainer.fit` stopped: `max_epochs=60` reached.\n"
     ]
    },
    {
     "name": "stdout",
     "output_type": "stream",
     "text": [
      "Epoch 60/60: 100%|██████████| 60/60 [02:48<00:00,  2.80s/it, v_num=1, train_loss_step=3.28e+3, train_loss_epoch=3.23e+3]\n",
      "\u001b[34mINFO    \u001b[0m Training for \u001b[1;36m20\u001b[0m epochs.                                                                                   \n"
     ]
    },
    {
     "name": "stderr",
     "output_type": "stream",
     "text": [
      "GPU available: True (cuda), used: True\n",
      "TPU available: False, using: 0 TPU cores\n",
      "HPU available: False, using: 0 HPUs\n",
      "LOCAL_RANK: 0 - CUDA_VISIBLE_DEVICES: [0,1,2,3]\n"
     ]
    },
    {
     "name": "stdout",
     "output_type": "stream",
     "text": [
      "Epoch 20/20: 100%|██████████| 20/20 [02:14<00:00,  7.09s/it, v_num=1, train_loss_step=3.3e+3, train_loss_epoch=3.23e+3] "
     ]
    },
    {
     "name": "stderr",
     "output_type": "stream",
     "text": [
      "`Trainer.fit` stopped: `max_epochs=20` reached.\n"
     ]
    },
    {
     "name": "stdout",
     "output_type": "stream",
     "text": [
      "Epoch 20/20: 100%|██████████| 20/20 [02:14<00:00,  6.72s/it, v_num=1, train_loss_step=3.3e+3, train_loss_epoch=3.23e+3]\n",
      "Running harmony\n"
     ]
    },
    {
     "name": "stderr",
     "output_type": "stream",
     "text": [
      "... storing 'groupCov' as categorical\n",
      "... storing 'harmonizedRegion' as categorical\n",
      "... storing 'tissue' as categorical\n",
      "... storing 'study' as categorical\n",
      "... storing 'LabelTransfer_scANVI' as categorical\n",
      "... storing 'LabelTransfer_harmony' as categorical\n",
      "... storing 'HarmonyBatch' as categorical\n",
      "2025-02-28 21:25:25,866 - harmonypy - INFO - Computing initial centroids with sklearn.KMeans...\n",
      "INFO:harmonypy:Computing initial centroids with sklearn.KMeans...\n",
      "2025-02-28 21:25:29,699 - harmonypy - INFO - sklearn.KMeans initialization complete.\n",
      "INFO:harmonypy:sklearn.KMeans initialization complete.\n",
      "2025-02-28 21:25:29,796 - harmonypy - INFO - Iteration 1 of 20\n",
      "INFO:harmonypy:Iteration 1 of 20\n",
      "2025-02-28 21:25:36,525 - harmonypy - INFO - Iteration 2 of 20\n",
      "INFO:harmonypy:Iteration 2 of 20\n",
      "2025-02-28 21:25:43,406 - harmonypy - INFO - Converged after 2 iterations\n",
      "INFO:harmonypy:Converged after 2 iterations\n"
     ]
    },
    {
     "name": "stdout",
     "output_type": "stream",
     "text": [
      "Running KNN\n",
      "Scoring cell cycle\n",
      "calculating cell cycle phase\n",
      "-->     'S_score' and 'G2M_score', scores of cell cycle phases (adata.obs)\n"
     ]
    },
    {
     "name": "stderr",
     "output_type": "stream",
     "text": [
      "Processing groups:  49%|████▉     | 42/85 [4:09:44<4:12:13, 351.93s/it]"
     ]
    },
    {
     "name": "stdout",
     "output_type": "stream",
     "text": [
      "Running labelTransfer on Sample 1_CTL04E_498\n",
      "Preparing reference and query\n",
      "Found mismatch between Ref and Query vars: will unify\n",
      "Scaling: True\n",
      "Running ingestion\n",
      "Running scANVI\n",
      "GPU with the lowest utilization is:  1\n"
     ]
    },
    {
     "name": "stderr",
     "output_type": "stream",
     "text": [
      "GPU available: True (cuda), used: True\n",
      "TPU available: False, using: 0 TPU cores\n",
      "HPU available: False, using: 0 HPUs\n",
      "LOCAL_RANK: 0 - CUDA_VISIBLE_DEVICES: [0,1,2,3]\n"
     ]
    },
    {
     "name": "stdout",
     "output_type": "stream",
     "text": [
      "Epoch 60/60: 100%|██████████| 60/60 [02:53<00:00,  2.95s/it, v_num=1, train_loss_step=2.75e+3, train_loss_epoch=3.32e+3]"
     ]
    },
    {
     "name": "stderr",
     "output_type": "stream",
     "text": [
      "`Trainer.fit` stopped: `max_epochs=60` reached.\n"
     ]
    },
    {
     "name": "stdout",
     "output_type": "stream",
     "text": [
      "Epoch 60/60: 100%|██████████| 60/60 [02:53<00:00,  2.90s/it, v_num=1, train_loss_step=2.75e+3, train_loss_epoch=3.32e+3]\n",
      "\u001b[34mINFO    \u001b[0m Training for \u001b[1;36m20\u001b[0m epochs.                                                                                   \n"
     ]
    },
    {
     "name": "stderr",
     "output_type": "stream",
     "text": [
      "GPU available: True (cuda), used: True\n",
      "TPU available: False, using: 0 TPU cores\n",
      "HPU available: False, using: 0 HPUs\n",
      "LOCAL_RANK: 0 - CUDA_VISIBLE_DEVICES: [0,1,2,3]\n"
     ]
    },
    {
     "name": "stdout",
     "output_type": "stream",
     "text": [
      "Epoch 20/20: 100%|██████████| 20/20 [02:15<00:00,  7.04s/it, v_num=1, train_loss_step=3.58e+3, train_loss_epoch=3.31e+3]"
     ]
    },
    {
     "name": "stderr",
     "output_type": "stream",
     "text": [
      "`Trainer.fit` stopped: `max_epochs=20` reached.\n"
     ]
    },
    {
     "name": "stdout",
     "output_type": "stream",
     "text": [
      "Epoch 20/20: 100%|██████████| 20/20 [02:15<00:00,  6.78s/it, v_num=1, train_loss_step=3.58e+3, train_loss_epoch=3.31e+3]\n",
      "Running harmony\n"
     ]
    },
    {
     "name": "stderr",
     "output_type": "stream",
     "text": [
      "... storing 'groupCov' as categorical\n",
      "... storing 'harmonizedRegion' as categorical\n",
      "... storing 'tissue' as categorical\n",
      "... storing 'study' as categorical\n",
      "... storing 'LabelTransfer_scANVI' as categorical\n",
      "... storing 'LabelTransfer_harmony' as categorical\n",
      "... storing 'HarmonyBatch' as categorical\n",
      "2025-02-28 21:31:20,814 - harmonypy - INFO - Computing initial centroids with sklearn.KMeans...\n",
      "INFO:harmonypy:Computing initial centroids with sklearn.KMeans...\n",
      "2025-02-28 21:31:24,688 - harmonypy - INFO - sklearn.KMeans initialization complete.\n",
      "INFO:harmonypy:sklearn.KMeans initialization complete.\n",
      "2025-02-28 21:31:24,810 - harmonypy - INFO - Iteration 1 of 20\n",
      "INFO:harmonypy:Iteration 1 of 20\n",
      "2025-02-28 21:31:34,384 - harmonypy - INFO - Iteration 2 of 20\n",
      "INFO:harmonypy:Iteration 2 of 20\n",
      "2025-02-28 21:31:43,889 - harmonypy - INFO - Converged after 2 iterations\n",
      "INFO:harmonypy:Converged after 2 iterations\n"
     ]
    },
    {
     "name": "stdout",
     "output_type": "stream",
     "text": [
      "Running KNN\n",
      "Scoring cell cycle\n",
      "calculating cell cycle phase\n"
     ]
    },
    {
     "name": "stderr",
     "output_type": "stream",
     "text": [
      "Processing groups:  51%|█████     | 43/85 [4:15:45<4:08:07, 354.47s/it]"
     ]
    },
    {
     "name": "stdout",
     "output_type": "stream",
     "text": [
      "-->     'S_score' and 'G2M_score', scores of cell cycle phases (adata.obs)\n",
      "Running labelTransfer on Sample 3_CTL08A_498\n",
      "Preparing reference and query\n",
      "Found mismatch between Ref and Query vars: will unify\n",
      "Scaling: True\n",
      "Running ingestion\n",
      "Running scANVI\n",
      "GPU with the lowest utilization is:  1\n"
     ]
    },
    {
     "name": "stderr",
     "output_type": "stream",
     "text": [
      "GPU available: True (cuda), used: True\n",
      "TPU available: False, using: 0 TPU cores\n",
      "HPU available: False, using: 0 HPUs\n",
      "LOCAL_RANK: 0 - CUDA_VISIBLE_DEVICES: [0,1,2,3]\n"
     ]
    },
    {
     "name": "stdout",
     "output_type": "stream",
     "text": [
      "Epoch 60/60: 100%|██████████| 60/60 [02:59<00:00,  2.93s/it, v_num=1, train_loss_step=3.48e+3, train_loss_epoch=3.4e+3] "
     ]
    },
    {
     "name": "stderr",
     "output_type": "stream",
     "text": [
      "`Trainer.fit` stopped: `max_epochs=60` reached.\n"
     ]
    },
    {
     "name": "stdout",
     "output_type": "stream",
     "text": [
      "Epoch 60/60: 100%|██████████| 60/60 [02:59<00:00,  2.98s/it, v_num=1, train_loss_step=3.48e+3, train_loss_epoch=3.4e+3]\n",
      "\u001b[34mINFO    \u001b[0m Training for \u001b[1;36m20\u001b[0m epochs.                                                                                   \n"
     ]
    },
    {
     "name": "stderr",
     "output_type": "stream",
     "text": [
      "GPU available: True (cuda), used: True\n",
      "TPU available: False, using: 0 TPU cores\n",
      "HPU available: False, using: 0 HPUs\n",
      "LOCAL_RANK: 0 - CUDA_VISIBLE_DEVICES: [0,1,2,3]\n"
     ]
    },
    {
     "name": "stdout",
     "output_type": "stream",
     "text": [
      "Epoch 20/20: 100%|██████████| 20/20 [02:17<00:00,  6.96s/it, v_num=1, train_loss_step=3.52e+3, train_loss_epoch=3.39e+3]"
     ]
    },
    {
     "name": "stderr",
     "output_type": "stream",
     "text": [
      "`Trainer.fit` stopped: `max_epochs=20` reached.\n"
     ]
    },
    {
     "name": "stdout",
     "output_type": "stream",
     "text": [
      "Epoch 20/20: 100%|██████████| 20/20 [02:17<00:00,  6.85s/it, v_num=1, train_loss_step=3.52e+3, train_loss_epoch=3.39e+3]\n",
      "Running harmony\n"
     ]
    },
    {
     "name": "stderr",
     "output_type": "stream",
     "text": [
      "... storing 'groupCov' as categorical\n",
      "... storing 'harmonizedRegion' as categorical\n",
      "... storing 'tissue' as categorical\n",
      "... storing 'study' as categorical\n",
      "... storing 'LabelTransfer_scANVI' as categorical\n",
      "... storing 'LabelTransfer_harmony' as categorical\n",
      "... storing 'HarmonyBatch' as categorical\n",
      "2025-02-28 21:37:29,613 - harmonypy - INFO - Computing initial centroids with sklearn.KMeans...\n",
      "INFO:harmonypy:Computing initial centroids with sklearn.KMeans...\n",
      "2025-02-28 21:37:33,626 - harmonypy - INFO - sklearn.KMeans initialization complete.\n",
      "INFO:harmonypy:sklearn.KMeans initialization complete.\n",
      "2025-02-28 21:37:33,832 - harmonypy - INFO - Iteration 1 of 20\n",
      "INFO:harmonypy:Iteration 1 of 20\n",
      "2025-02-28 21:37:42,952 - harmonypy - INFO - Iteration 2 of 20\n",
      "INFO:harmonypy:Iteration 2 of 20\n",
      "2025-02-28 21:37:52,372 - harmonypy - INFO - Converged after 2 iterations\n",
      "INFO:harmonypy:Converged after 2 iterations\n"
     ]
    },
    {
     "name": "stdout",
     "output_type": "stream",
     "text": [
      "Running KNN\n",
      "Scoring cell cycle\n",
      "calculating cell cycle phase\n",
      "-->     'S_score' and 'G2M_score', scores of cell cycle phases (adata.obs)\n"
     ]
    },
    {
     "name": "stderr",
     "output_type": "stream",
     "text": [
      "Processing groups:  52%|█████▏    | 44/85 [4:21:53<4:05:07, 358.73s/it]"
     ]
    },
    {
     "name": "stdout",
     "output_type": "stream",
     "text": [
      "Running labelTransfer on Sample 1_CTL08A_498\n",
      "Preparing reference and query\n",
      "Found mismatch between Ref and Query vars: will unify\n",
      "Scaling: True\n",
      "Running ingestion\n",
      "Running scANVI\n",
      "GPU with the lowest utilization is:  1\n"
     ]
    },
    {
     "name": "stderr",
     "output_type": "stream",
     "text": [
      "GPU available: True (cuda), used: True\n",
      "TPU available: False, using: 0 TPU cores\n",
      "HPU available: False, using: 0 HPUs\n",
      "LOCAL_RANK: 0 - CUDA_VISIBLE_DEVICES: [0,1,2,3]\n"
     ]
    },
    {
     "name": "stdout",
     "output_type": "stream",
     "text": [
      "Epoch 60/60: 100%|██████████| 60/60 [02:50<00:00,  2.86s/it, v_num=1, train_loss_step=2.83e+3, train_loss_epoch=3.26e+3]"
     ]
    },
    {
     "name": "stderr",
     "output_type": "stream",
     "text": [
      "`Trainer.fit` stopped: `max_epochs=60` reached.\n"
     ]
    },
    {
     "name": "stdout",
     "output_type": "stream",
     "text": [
      "Epoch 60/60: 100%|██████████| 60/60 [02:50<00:00,  2.85s/it, v_num=1, train_loss_step=2.83e+3, train_loss_epoch=3.26e+3]\n",
      "\u001b[34mINFO    \u001b[0m Training for \u001b[1;36m20\u001b[0m epochs.                                                                                   \n"
     ]
    },
    {
     "name": "stderr",
     "output_type": "stream",
     "text": [
      "GPU available: True (cuda), used: True\n",
      "TPU available: False, using: 0 TPU cores\n",
      "HPU available: False, using: 0 HPUs\n",
      "LOCAL_RANK: 0 - CUDA_VISIBLE_DEVICES: [0,1,2,3]\n"
     ]
    },
    {
     "name": "stdout",
     "output_type": "stream",
     "text": [
      "Epoch 20/20: 100%|██████████| 20/20 [02:13<00:00,  6.58s/it, v_num=1, train_loss_step=3.63e+3, train_loss_epoch=3.26e+3]"
     ]
    },
    {
     "name": "stderr",
     "output_type": "stream",
     "text": [
      "`Trainer.fit` stopped: `max_epochs=20` reached.\n"
     ]
    },
    {
     "name": "stdout",
     "output_type": "stream",
     "text": [
      "Epoch 20/20: 100%|██████████| 20/20 [02:13<00:00,  6.68s/it, v_num=1, train_loss_step=3.63e+3, train_loss_epoch=3.26e+3]\n",
      "Running harmony\n"
     ]
    },
    {
     "name": "stderr",
     "output_type": "stream",
     "text": [
      "... storing 'groupCov' as categorical\n",
      "... storing 'harmonizedRegion' as categorical\n",
      "... storing 'tissue' as categorical\n",
      "... storing 'study' as categorical\n",
      "... storing 'LabelTransfer_scANVI' as categorical\n",
      "... storing 'LabelTransfer_harmony' as categorical\n",
      "... storing 'HarmonyBatch' as categorical\n",
      "2025-02-28 21:43:23,984 - harmonypy - INFO - Computing initial centroids with sklearn.KMeans...\n",
      "INFO:harmonypy:Computing initial centroids with sklearn.KMeans...\n",
      "2025-02-28 21:43:27,717 - harmonypy - INFO - sklearn.KMeans initialization complete.\n",
      "INFO:harmonypy:sklearn.KMeans initialization complete.\n",
      "2025-02-28 21:43:27,805 - harmonypy - INFO - Iteration 1 of 20\n",
      "INFO:harmonypy:Iteration 1 of 20\n",
      "2025-02-28 21:43:34,697 - harmonypy - INFO - Iteration 2 of 20\n",
      "INFO:harmonypy:Iteration 2 of 20\n",
      "2025-02-28 21:43:42,011 - harmonypy - INFO - Converged after 2 iterations\n",
      "INFO:harmonypy:Converged after 2 iterations\n"
     ]
    },
    {
     "name": "stdout",
     "output_type": "stream",
     "text": [
      "Running KNN\n",
      "Scoring cell cycle\n",
      "calculating cell cycle phase\n",
      "-->     'S_score' and 'G2M_score', scores of cell cycle phases (adata.obs)\n"
     ]
    },
    {
     "name": "stderr",
     "output_type": "stream",
     "text": [
      "Processing groups:  53%|█████▎    | 45/85 [4:27:43<3:57:20, 356.02s/it]"
     ]
    },
    {
     "name": "stdout",
     "output_type": "stream",
     "text": [
      "Running labelTransfer on Sample 3_CTL04E_498\n",
      "Preparing reference and query\n",
      "Found mismatch between Ref and Query vars: will unify\n",
      "Scaling: True\n",
      "Running ingestion\n",
      "Running scANVI\n",
      "GPU with the lowest utilization is:  1\n"
     ]
    },
    {
     "name": "stderr",
     "output_type": "stream",
     "text": [
      "GPU available: True (cuda), used: True\n",
      "TPU available: False, using: 0 TPU cores\n",
      "HPU available: False, using: 0 HPUs\n",
      "LOCAL_RANK: 0 - CUDA_VISIBLE_DEVICES: [0,1,2,3]\n"
     ]
    },
    {
     "name": "stdout",
     "output_type": "stream",
     "text": [
      "Epoch 60/60: 100%|██████████| 60/60 [02:53<00:00,  2.89s/it, v_num=1, train_loss_step=3.01e+3, train_loss_epoch=3.34e+3]"
     ]
    },
    {
     "name": "stderr",
     "output_type": "stream",
     "text": [
      "`Trainer.fit` stopped: `max_epochs=60` reached.\n"
     ]
    },
    {
     "name": "stdout",
     "output_type": "stream",
     "text": [
      "Epoch 60/60: 100%|██████████| 60/60 [02:53<00:00,  2.89s/it, v_num=1, train_loss_step=3.01e+3, train_loss_epoch=3.34e+3]\n",
      "\u001b[34mINFO    \u001b[0m Training for \u001b[1;36m20\u001b[0m epochs.                                                                                   \n"
     ]
    },
    {
     "name": "stderr",
     "output_type": "stream",
     "text": [
      "GPU available: True (cuda), used: True\n",
      "TPU available: False, using: 0 TPU cores\n",
      "HPU available: False, using: 0 HPUs\n",
      "LOCAL_RANK: 0 - CUDA_VISIBLE_DEVICES: [0,1,2,3]\n"
     ]
    },
    {
     "name": "stdout",
     "output_type": "stream",
     "text": [
      "Epoch 20/20: 100%|██████████| 20/20 [02:15<00:00,  6.74s/it, v_num=1, train_loss_step=2.97e+3, train_loss_epoch=3.34e+3]"
     ]
    },
    {
     "name": "stderr",
     "output_type": "stream",
     "text": [
      "`Trainer.fit` stopped: `max_epochs=20` reached.\n"
     ]
    },
    {
     "name": "stdout",
     "output_type": "stream",
     "text": [
      "Epoch 20/20: 100%|██████████| 20/20 [02:15<00:00,  6.80s/it, v_num=1, train_loss_step=2.97e+3, train_loss_epoch=3.34e+3]\n",
      "Running harmony\n"
     ]
    },
    {
     "name": "stderr",
     "output_type": "stream",
     "text": [
      "... storing 'groupCov' as categorical\n",
      "... storing 'harmonizedRegion' as categorical\n",
      "... storing 'tissue' as categorical\n",
      "... storing 'study' as categorical\n",
      "... storing 'LabelTransfer_scANVI' as categorical\n",
      "... storing 'LabelTransfer_harmony' as categorical\n",
      "... storing 'HarmonyBatch' as categorical\n",
      "2025-02-28 21:49:20,790 - harmonypy - INFO - Computing initial centroids with sklearn.KMeans...\n",
      "INFO:harmonypy:Computing initial centroids with sklearn.KMeans...\n",
      "2025-02-28 21:49:25,235 - harmonypy - INFO - sklearn.KMeans initialization complete.\n",
      "INFO:harmonypy:sklearn.KMeans initialization complete.\n",
      "2025-02-28 21:49:25,410 - harmonypy - INFO - Iteration 1 of 20\n",
      "INFO:harmonypy:Iteration 1 of 20\n",
      "2025-02-28 21:49:32,834 - harmonypy - INFO - Iteration 2 of 20\n",
      "INFO:harmonypy:Iteration 2 of 20\n",
      "2025-02-28 21:49:41,210 - harmonypy - INFO - Converged after 2 iterations\n",
      "INFO:harmonypy:Converged after 2 iterations\n"
     ]
    },
    {
     "name": "stdout",
     "output_type": "stream",
     "text": [
      "Running KNN\n",
      "Scoring cell cycle\n",
      "calculating cell cycle phase\n"
     ]
    },
    {
     "name": "stderr",
     "output_type": "stream",
     "text": [
      "Processing groups:  54%|█████▍    | 46/85 [4:33:42<3:51:57, 356.87s/it]"
     ]
    },
    {
     "name": "stdout",
     "output_type": "stream",
     "text": [
      "-->     'S_score' and 'G2M_score', scores of cell cycle phases (adata.obs)\n",
      "Running labelTransfer on Sample 2_CTL04E_498\n",
      "Preparing reference and query\n",
      "Found mismatch between Ref and Query vars: will unify\n",
      "Scaling: True\n",
      "Running ingestion\n",
      "Running scANVI\n",
      "GPU with the lowest utilization is:  1\n"
     ]
    },
    {
     "name": "stderr",
     "output_type": "stream",
     "text": [
      "GPU available: True (cuda), used: True\n",
      "TPU available: False, using: 0 TPU cores\n",
      "HPU available: False, using: 0 HPUs\n",
      "LOCAL_RANK: 0 - CUDA_VISIBLE_DEVICES: [0,1,2,3]\n"
     ]
    },
    {
     "name": "stdout",
     "output_type": "stream",
     "text": [
      "Epoch 60/60: 100%|██████████| 60/60 [02:48<00:00,  2.82s/it, v_num=1, train_loss_step=3.41e+3, train_loss_epoch=3.26e+3]"
     ]
    },
    {
     "name": "stderr",
     "output_type": "stream",
     "text": [
      "`Trainer.fit` stopped: `max_epochs=60` reached.\n"
     ]
    },
    {
     "name": "stdout",
     "output_type": "stream",
     "text": [
      "Epoch 60/60: 100%|██████████| 60/60 [02:48<00:00,  2.81s/it, v_num=1, train_loss_step=3.41e+3, train_loss_epoch=3.26e+3]\n",
      "\u001b[34mINFO    \u001b[0m Training for \u001b[1;36m20\u001b[0m epochs.                                                                                   \n"
     ]
    },
    {
     "name": "stderr",
     "output_type": "stream",
     "text": [
      "GPU available: True (cuda), used: True\n",
      "TPU available: False, using: 0 TPU cores\n",
      "HPU available: False, using: 0 HPUs\n",
      "LOCAL_RANK: 0 - CUDA_VISIBLE_DEVICES: [0,1,2,3]\n"
     ]
    },
    {
     "name": "stdout",
     "output_type": "stream",
     "text": [
      "Epoch 20/20: 100%|██████████| 20/20 [02:11<00:00,  6.48s/it, v_num=1, train_loss_step=3.4e+3, train_loss_epoch=3.25e+3] "
     ]
    },
    {
     "name": "stderr",
     "output_type": "stream",
     "text": [
      "`Trainer.fit` stopped: `max_epochs=20` reached.\n"
     ]
    },
    {
     "name": "stdout",
     "output_type": "stream",
     "text": [
      "Epoch 20/20: 100%|██████████| 20/20 [02:11<00:00,  6.59s/it, v_num=1, train_loss_step=3.4e+3, train_loss_epoch=3.25e+3]\n",
      "Running harmony\n"
     ]
    },
    {
     "name": "stderr",
     "output_type": "stream",
     "text": [
      "... storing 'groupCov' as categorical\n",
      "... storing 'harmonizedRegion' as categorical\n",
      "... storing 'tissue' as categorical\n",
      "... storing 'study' as categorical\n",
      "... storing 'LabelTransfer_scANVI' as categorical\n",
      "... storing 'LabelTransfer_harmony' as categorical\n",
      "... storing 'HarmonyBatch' as categorical\n",
      "2025-02-28 21:55:07,304 - harmonypy - INFO - Computing initial centroids with sklearn.KMeans...\n",
      "INFO:harmonypy:Computing initial centroids with sklearn.KMeans...\n",
      "2025-02-28 21:55:11,621 - harmonypy - INFO - sklearn.KMeans initialization complete.\n",
      "INFO:harmonypy:sklearn.KMeans initialization complete.\n",
      "2025-02-28 21:55:11,864 - harmonypy - INFO - Iteration 1 of 20\n",
      "INFO:harmonypy:Iteration 1 of 20\n",
      "2025-02-28 21:55:19,146 - harmonypy - INFO - Iteration 2 of 20\n",
      "INFO:harmonypy:Iteration 2 of 20\n",
      "2025-02-28 21:55:25,995 - harmonypy - INFO - Converged after 2 iterations\n",
      "INFO:harmonypy:Converged after 2 iterations\n"
     ]
    },
    {
     "name": "stdout",
     "output_type": "stream",
     "text": [
      "Running KNN\n",
      "Scoring cell cycle\n",
      "calculating cell cycle phase\n"
     ]
    },
    {
     "name": "stderr",
     "output_type": "stream",
     "text": [
      "Processing groups:  55%|█████▌    | 47/85 [4:39:27<3:43:42, 353.23s/it]"
     ]
    },
    {
     "name": "stdout",
     "output_type": "stream",
     "text": [
      "-->     'S_score' and 'G2M_score', scores of cell cycle phases (adata.obs)\n",
      "Running labelTransfer on Sample 2_CTL08A_498\n",
      "Preparing reference and query\n",
      "Found mismatch between Ref and Query vars: will unify\n",
      "Scaling: True\n",
      "Running ingestion\n",
      "Running scANVI\n",
      "GPU with the lowest utilization is:  1\n"
     ]
    },
    {
     "name": "stderr",
     "output_type": "stream",
     "text": [
      "GPU available: True (cuda), used: True\n",
      "TPU available: False, using: 0 TPU cores\n",
      "HPU available: False, using: 0 HPUs\n",
      "LOCAL_RANK: 0 - CUDA_VISIBLE_DEVICES: [0,1,2,3]\n"
     ]
    },
    {
     "name": "stdout",
     "output_type": "stream",
     "text": [
      "Epoch 60/60: 100%|██████████| 60/60 [02:56<00:00,  2.88s/it, v_num=1, train_loss_step=3.33e+3, train_loss_epoch=3.33e+3]"
     ]
    },
    {
     "name": "stderr",
     "output_type": "stream",
     "text": [
      "`Trainer.fit` stopped: `max_epochs=60` reached.\n"
     ]
    },
    {
     "name": "stdout",
     "output_type": "stream",
     "text": [
      "Epoch 60/60: 100%|██████████| 60/60 [02:56<00:00,  2.95s/it, v_num=1, train_loss_step=3.33e+3, train_loss_epoch=3.33e+3]\n",
      "\u001b[34mINFO    \u001b[0m Training for \u001b[1;36m20\u001b[0m epochs.                                                                                   \n"
     ]
    },
    {
     "name": "stderr",
     "output_type": "stream",
     "text": [
      "GPU available: True (cuda), used: True\n",
      "TPU available: False, using: 0 TPU cores\n",
      "HPU available: False, using: 0 HPUs\n",
      "LOCAL_RANK: 0 - CUDA_VISIBLE_DEVICES: [0,1,2,3]\n"
     ]
    },
    {
     "name": "stdout",
     "output_type": "stream",
     "text": [
      "Epoch 20/20: 100%|██████████| 20/20 [02:15<00:00,  6.61s/it, v_num=1, train_loss_step=3.54e+3, train_loss_epoch=3.33e+3]"
     ]
    },
    {
     "name": "stderr",
     "output_type": "stream",
     "text": [
      "`Trainer.fit` stopped: `max_epochs=20` reached.\n"
     ]
    },
    {
     "name": "stdout",
     "output_type": "stream",
     "text": [
      "Epoch 20/20: 100%|██████████| 20/20 [02:15<00:00,  6.79s/it, v_num=1, train_loss_step=3.54e+3, train_loss_epoch=3.33e+3]\n",
      "Running harmony\n"
     ]
    },
    {
     "name": "stderr",
     "output_type": "stream",
     "text": [
      "... storing 'groupCov' as categorical\n",
      "... storing 'harmonizedRegion' as categorical\n",
      "... storing 'tissue' as categorical\n",
      "... storing 'study' as categorical\n",
      "... storing 'LabelTransfer_scANVI' as categorical\n",
      "... storing 'LabelTransfer_harmony' as categorical\n",
      "... storing 'HarmonyBatch' as categorical\n",
      "2025-02-28 22:01:09,185 - harmonypy - INFO - Computing initial centroids with sklearn.KMeans...\n",
      "INFO:harmonypy:Computing initial centroids with sklearn.KMeans...\n",
      "2025-02-28 22:01:12,806 - harmonypy - INFO - sklearn.KMeans initialization complete.\n",
      "INFO:harmonypy:sklearn.KMeans initialization complete.\n",
      "2025-02-28 22:01:13,020 - harmonypy - INFO - Iteration 1 of 20\n",
      "INFO:harmonypy:Iteration 1 of 20\n",
      "2025-02-28 22:01:22,932 - harmonypy - INFO - Iteration 2 of 20\n",
      "INFO:harmonypy:Iteration 2 of 20\n",
      "2025-02-28 22:01:31,786 - harmonypy - INFO - Converged after 2 iterations\n",
      "INFO:harmonypy:Converged after 2 iterations\n"
     ]
    },
    {
     "name": "stdout",
     "output_type": "stream",
     "text": [
      "Running KNN\n",
      "Scoring cell cycle\n",
      "calculating cell cycle phase\n"
     ]
    },
    {
     "name": "stderr",
     "output_type": "stream",
     "text": [
      "Processing groups:  56%|█████▋    | 48/85 [4:45:34<3:40:19, 357.28s/it]"
     ]
    },
    {
     "name": "stdout",
     "output_type": "stream",
     "text": [
      "-->     'S_score' and 'G2M_score', scores of cell cycle phases (adata.obs)\n",
      "Running labelTransfer on Sample 1_CTL08A_499\n",
      "Preparing reference and query\n",
      "Found mismatch between Ref and Query vars: will unify\n",
      "Scaling: True\n",
      "Running ingestion\n",
      "Running scANVI\n",
      "GPU with the lowest utilization is:  1\n"
     ]
    },
    {
     "name": "stderr",
     "output_type": "stream",
     "text": [
      "GPU available: True (cuda), used: True\n",
      "TPU available: False, using: 0 TPU cores\n",
      "HPU available: False, using: 0 HPUs\n",
      "LOCAL_RANK: 0 - CUDA_VISIBLE_DEVICES: [0,1,2,3]\n"
     ]
    },
    {
     "name": "stdout",
     "output_type": "stream",
     "text": [
      "Epoch 60/60: 100%|██████████| 60/60 [02:44<00:00,  2.78s/it, v_num=1, train_loss_step=3.07e+3, train_loss_epoch=3.15e+3]"
     ]
    },
    {
     "name": "stderr",
     "output_type": "stream",
     "text": [
      "`Trainer.fit` stopped: `max_epochs=60` reached.\n"
     ]
    },
    {
     "name": "stdout",
     "output_type": "stream",
     "text": [
      "Epoch 60/60: 100%|██████████| 60/60 [02:44<00:00,  2.74s/it, v_num=1, train_loss_step=3.07e+3, train_loss_epoch=3.15e+3]\n",
      "\u001b[34mINFO    \u001b[0m Training for \u001b[1;36m20\u001b[0m epochs.                                                                                   \n"
     ]
    },
    {
     "name": "stderr",
     "output_type": "stream",
     "text": [
      "GPU available: True (cuda), used: True\n",
      "TPU available: False, using: 0 TPU cores\n",
      "HPU available: False, using: 0 HPUs\n",
      "LOCAL_RANK: 0 - CUDA_VISIBLE_DEVICES: [0,1,2,3]\n"
     ]
    },
    {
     "name": "stdout",
     "output_type": "stream",
     "text": [
      "Epoch 20/20: 100%|██████████| 20/20 [02:10<00:00,  6.41s/it, v_num=1, train_loss_step=2.74e+3, train_loss_epoch=3.15e+3]"
     ]
    },
    {
     "name": "stderr",
     "output_type": "stream",
     "text": [
      "`Trainer.fit` stopped: `max_epochs=20` reached.\n"
     ]
    },
    {
     "name": "stdout",
     "output_type": "stream",
     "text": [
      "Epoch 20/20: 100%|██████████| 20/20 [02:10<00:00,  6.53s/it, v_num=1, train_loss_step=2.74e+3, train_loss_epoch=3.15e+3]\n",
      "Running harmony\n"
     ]
    },
    {
     "name": "stderr",
     "output_type": "stream",
     "text": [
      "... storing 'groupCov' as categorical\n",
      "... storing 'harmonizedRegion' as categorical\n",
      "... storing 'tissue' as categorical\n",
      "... storing 'study' as categorical\n",
      "... storing 'LabelTransfer_scANVI' as categorical\n",
      "... storing 'LabelTransfer_harmony' as categorical\n",
      "... storing 'HarmonyBatch' as categorical\n",
      "2025-02-28 22:06:55,288 - harmonypy - INFO - Computing initial centroids with sklearn.KMeans...\n",
      "INFO:harmonypy:Computing initial centroids with sklearn.KMeans...\n",
      "2025-02-28 22:06:59,289 - harmonypy - INFO - sklearn.KMeans initialization complete.\n",
      "INFO:harmonypy:sklearn.KMeans initialization complete.\n",
      "2025-02-28 22:06:59,424 - harmonypy - INFO - Iteration 1 of 20\n",
      "INFO:harmonypy:Iteration 1 of 20\n",
      "2025-02-28 22:07:08,519 - harmonypy - INFO - Iteration 2 of 20\n",
      "INFO:harmonypy:Iteration 2 of 20\n",
      "2025-02-28 22:07:17,901 - harmonypy - INFO - Converged after 2 iterations\n",
      "INFO:harmonypy:Converged after 2 iterations\n"
     ]
    },
    {
     "name": "stdout",
     "output_type": "stream",
     "text": [
      "Running KNN\n",
      "Scoring cell cycle\n",
      "calculating cell cycle phase\n",
      "-->     'S_score' and 'G2M_score', scores of cell cycle phases (adata.obs)\n"
     ]
    },
    {
     "name": "stderr",
     "output_type": "stream",
     "text": [
      "Processing groups:  58%|█████▊    | 49/85 [4:51:20<3:32:23, 353.98s/it]"
     ]
    },
    {
     "name": "stdout",
     "output_type": "stream",
     "text": [
      "Running labelTransfer on Sample 2_CTL04E_499\n",
      "Preparing reference and query\n",
      "Found mismatch between Ref and Query vars: will unify\n",
      "Scaling: True\n",
      "Running ingestion\n",
      "Running scANVI\n",
      "GPU with the lowest utilization is:  1\n"
     ]
    },
    {
     "name": "stderr",
     "output_type": "stream",
     "text": [
      "GPU available: True (cuda), used: True\n",
      "TPU available: False, using: 0 TPU cores\n",
      "HPU available: False, using: 0 HPUs\n",
      "LOCAL_RANK: 0 - CUDA_VISIBLE_DEVICES: [0,1,2,3]\n"
     ]
    },
    {
     "name": "stdout",
     "output_type": "stream",
     "text": [
      "Epoch 60/60: 100%|██████████| 60/60 [02:44<00:00,  2.73s/it, v_num=1, train_loss_step=3.34e+3, train_loss_epoch=3.17e+3]"
     ]
    },
    {
     "name": "stderr",
     "output_type": "stream",
     "text": [
      "`Trainer.fit` stopped: `max_epochs=60` reached.\n"
     ]
    },
    {
     "name": "stdout",
     "output_type": "stream",
     "text": [
      "Epoch 60/60: 100%|██████████| 60/60 [02:44<00:00,  2.75s/it, v_num=1, train_loss_step=3.34e+3, train_loss_epoch=3.17e+3]\n",
      "\u001b[34mINFO    \u001b[0m Training for \u001b[1;36m20\u001b[0m epochs.                                                                                   \n"
     ]
    },
    {
     "name": "stderr",
     "output_type": "stream",
     "text": [
      "GPU available: True (cuda), used: True\n",
      "TPU available: False, using: 0 TPU cores\n",
      "HPU available: False, using: 0 HPUs\n",
      "LOCAL_RANK: 0 - CUDA_VISIBLE_DEVICES: [0,1,2,3]\n"
     ]
    },
    {
     "name": "stdout",
     "output_type": "stream",
     "text": [
      "Epoch 20/20: 100%|██████████| 20/20 [02:10<00:00,  6.33s/it, v_num=1, train_loss_step=2.94e+3, train_loss_epoch=3.17e+3]"
     ]
    },
    {
     "name": "stderr",
     "output_type": "stream",
     "text": [
      "`Trainer.fit` stopped: `max_epochs=20` reached.\n"
     ]
    },
    {
     "name": "stdout",
     "output_type": "stream",
     "text": [
      "Epoch 20/20: 100%|██████████| 20/20 [02:10<00:00,  6.52s/it, v_num=1, train_loss_step=2.94e+3, train_loss_epoch=3.17e+3]\n",
      "Running harmony\n"
     ]
    },
    {
     "name": "stderr",
     "output_type": "stream",
     "text": [
      "... storing 'groupCov' as categorical\n",
      "... storing 'harmonizedRegion' as categorical\n",
      "... storing 'tissue' as categorical\n",
      "... storing 'study' as categorical\n",
      "... storing 'LabelTransfer_scANVI' as categorical\n",
      "... storing 'LabelTransfer_harmony' as categorical\n",
      "... storing 'HarmonyBatch' as categorical\n",
      "2025-02-28 22:12:39,232 - harmonypy - INFO - Computing initial centroids with sklearn.KMeans...\n",
      "INFO:harmonypy:Computing initial centroids with sklearn.KMeans...\n",
      "2025-02-28 22:12:43,519 - harmonypy - INFO - sklearn.KMeans initialization complete.\n",
      "INFO:harmonypy:sklearn.KMeans initialization complete.\n",
      "2025-02-28 22:12:43,759 - harmonypy - INFO - Iteration 1 of 20\n",
      "INFO:harmonypy:Iteration 1 of 20\n",
      "2025-02-28 22:12:50,922 - harmonypy - INFO - Iteration 2 of 20\n",
      "INFO:harmonypy:Iteration 2 of 20\n",
      "2025-02-28 22:12:58,097 - harmonypy - INFO - Converged after 2 iterations\n",
      "INFO:harmonypy:Converged after 2 iterations\n"
     ]
    },
    {
     "name": "stdout",
     "output_type": "stream",
     "text": [
      "Running KNN\n",
      "Scoring cell cycle\n",
      "calculating cell cycle phase\n"
     ]
    },
    {
     "name": "stderr",
     "output_type": "stream",
     "text": [
      "Processing groups:  59%|█████▉    | 50/85 [4:56:59<3:23:55, 349.58s/it]"
     ]
    },
    {
     "name": "stdout",
     "output_type": "stream",
     "text": [
      "-->     'S_score' and 'G2M_score', scores of cell cycle phases (adata.obs)\n",
      "Running labelTransfer on Sample 3_CTL04E_499\n",
      "Preparing reference and query\n",
      "Found mismatch between Ref and Query vars: will unify\n",
      "Scaling: True\n",
      "Running ingestion\n",
      "Running scANVI\n",
      "GPU with the lowest utilization is:  1\n"
     ]
    },
    {
     "name": "stderr",
     "output_type": "stream",
     "text": [
      "GPU available: True (cuda), used: True\n",
      "TPU available: False, using: 0 TPU cores\n",
      "HPU available: False, using: 0 HPUs\n",
      "LOCAL_RANK: 0 - CUDA_VISIBLE_DEVICES: [0,1,2,3]\n"
     ]
    },
    {
     "name": "stdout",
     "output_type": "stream",
     "text": [
      "Epoch 60/60: 100%|██████████| 60/60 [02:43<00:00,  2.65s/it, v_num=1, train_loss_step=3.17e+3, train_loss_epoch=3.13e+3]"
     ]
    },
    {
     "name": "stderr",
     "output_type": "stream",
     "text": [
      "`Trainer.fit` stopped: `max_epochs=60` reached.\n"
     ]
    },
    {
     "name": "stdout",
     "output_type": "stream",
     "text": [
      "Epoch 60/60: 100%|██████████| 60/60 [02:43<00:00,  2.73s/it, v_num=1, train_loss_step=3.17e+3, train_loss_epoch=3.13e+3]\n",
      "\u001b[34mINFO    \u001b[0m Training for \u001b[1;36m20\u001b[0m epochs.                                                                                   \n"
     ]
    },
    {
     "name": "stderr",
     "output_type": "stream",
     "text": [
      "GPU available: True (cuda), used: True\n",
      "TPU available: False, using: 0 TPU cores\n",
      "HPU available: False, using: 0 HPUs\n",
      "LOCAL_RANK: 0 - CUDA_VISIBLE_DEVICES: [0,1,2,3]\n"
     ]
    },
    {
     "name": "stdout",
     "output_type": "stream",
     "text": [
      "Epoch 20/20: 100%|██████████| 20/20 [02:11<00:00,  6.43s/it, v_num=1, train_loss_step=3.03e+3, train_loss_epoch=3.13e+3]"
     ]
    },
    {
     "name": "stderr",
     "output_type": "stream",
     "text": [
      "`Trainer.fit` stopped: `max_epochs=20` reached.\n"
     ]
    },
    {
     "name": "stdout",
     "output_type": "stream",
     "text": [
      "Epoch 20/20: 100%|██████████| 20/20 [02:11<00:00,  6.60s/it, v_num=1, train_loss_step=3.03e+3, train_loss_epoch=3.13e+3]\n",
      "Running harmony\n"
     ]
    },
    {
     "name": "stderr",
     "output_type": "stream",
     "text": [
      "... storing 'groupCov' as categorical\n",
      "... storing 'harmonizedRegion' as categorical\n",
      "... storing 'tissue' as categorical\n",
      "... storing 'study' as categorical\n",
      "... storing 'LabelTransfer_scANVI' as categorical\n",
      "... storing 'LabelTransfer_harmony' as categorical\n",
      "... storing 'HarmonyBatch' as categorical\n",
      "2025-02-28 22:18:20,217 - harmonypy - INFO - Computing initial centroids with sklearn.KMeans...\n",
      "INFO:harmonypy:Computing initial centroids with sklearn.KMeans...\n",
      "2025-02-28 22:18:24,214 - harmonypy - INFO - sklearn.KMeans initialization complete.\n",
      "INFO:harmonypy:sklearn.KMeans initialization complete.\n",
      "2025-02-28 22:18:24,300 - harmonypy - INFO - Iteration 1 of 20\n",
      "INFO:harmonypy:Iteration 1 of 20\n",
      "2025-02-28 22:18:31,404 - harmonypy - INFO - Iteration 2 of 20\n",
      "INFO:harmonypy:Iteration 2 of 20\n",
      "2025-02-28 22:18:38,193 - harmonypy - INFO - Converged after 2 iterations\n",
      "INFO:harmonypy:Converged after 2 iterations\n"
     ]
    },
    {
     "name": "stdout",
     "output_type": "stream",
     "text": [
      "Running KNN\n",
      "Scoring cell cycle\n",
      "calculating cell cycle phase\n"
     ]
    },
    {
     "name": "stderr",
     "output_type": "stream",
     "text": [
      "Processing groups:  60%|██████    | 51/85 [5:02:39<3:16:30, 346.78s/it]"
     ]
    },
    {
     "name": "stdout",
     "output_type": "stream",
     "text": [
      "-->     'S_score' and 'G2M_score', scores of cell cycle phases (adata.obs)\n",
      "Running labelTransfer on Sample 3_CTL08A_499\n",
      "Preparing reference and query\n",
      "Found mismatch between Ref and Query vars: will unify\n",
      "Scaling: True\n",
      "Running ingestion\n",
      "Running scANVI\n",
      "GPU with the lowest utilization is:  1\n"
     ]
    },
    {
     "name": "stderr",
     "output_type": "stream",
     "text": [
      "GPU available: True (cuda), used: True\n",
      "TPU available: False, using: 0 TPU cores\n",
      "HPU available: False, using: 0 HPUs\n",
      "LOCAL_RANK: 0 - CUDA_VISIBLE_DEVICES: [0,1,2,3]\n"
     ]
    },
    {
     "name": "stdout",
     "output_type": "stream",
     "text": [
      "Epoch 60/60: 100%|██████████| 60/60 [02:49<00:00,  2.79s/it, v_num=1, train_loss_step=3.52e+3, train_loss_epoch=3.22e+3]"
     ]
    },
    {
     "name": "stderr",
     "output_type": "stream",
     "text": [
      "`Trainer.fit` stopped: `max_epochs=60` reached.\n"
     ]
    },
    {
     "name": "stdout",
     "output_type": "stream",
     "text": [
      "Epoch 60/60: 100%|██████████| 60/60 [02:49<00:00,  2.82s/it, v_num=1, train_loss_step=3.52e+3, train_loss_epoch=3.22e+3]\n",
      "\u001b[34mINFO    \u001b[0m Training for \u001b[1;36m20\u001b[0m epochs.                                                                                   \n"
     ]
    },
    {
     "name": "stderr",
     "output_type": "stream",
     "text": [
      "GPU available: True (cuda), used: True\n",
      "TPU available: False, using: 0 TPU cores\n",
      "HPU available: False, using: 0 HPUs\n",
      "LOCAL_RANK: 0 - CUDA_VISIBLE_DEVICES: [0,1,2,3]\n"
     ]
    },
    {
     "name": "stdout",
     "output_type": "stream",
     "text": [
      "Epoch 20/20: 100%|██████████| 20/20 [02:12<00:00,  6.45s/it, v_num=1, train_loss_step=3.16e+3, train_loss_epoch=3.22e+3]"
     ]
    },
    {
     "name": "stderr",
     "output_type": "stream",
     "text": [
      "`Trainer.fit` stopped: `max_epochs=20` reached.\n"
     ]
    },
    {
     "name": "stdout",
     "output_type": "stream",
     "text": [
      "Epoch 20/20: 100%|██████████| 20/20 [02:12<00:00,  6.65s/it, v_num=1, train_loss_step=3.16e+3, train_loss_epoch=3.22e+3]\n",
      "Running harmony\n"
     ]
    },
    {
     "name": "stderr",
     "output_type": "stream",
     "text": [
      "... storing 'groupCov' as categorical\n",
      "... storing 'harmonizedRegion' as categorical\n",
      "... storing 'tissue' as categorical\n",
      "... storing 'study' as categorical\n",
      "... storing 'LabelTransfer_scANVI' as categorical\n",
      "... storing 'LabelTransfer_harmony' as categorical\n",
      "... storing 'HarmonyBatch' as categorical\n",
      "2025-02-28 22:24:08,834 - harmonypy - INFO - Computing initial centroids with sklearn.KMeans...\n",
      "INFO:harmonypy:Computing initial centroids with sklearn.KMeans...\n",
      "2025-02-28 22:24:12,927 - harmonypy - INFO - sklearn.KMeans initialization complete.\n",
      "INFO:harmonypy:sklearn.KMeans initialization complete.\n",
      "2025-02-28 22:24:13,151 - harmonypy - INFO - Iteration 1 of 20\n",
      "INFO:harmonypy:Iteration 1 of 20\n",
      "2025-02-28 22:24:20,654 - harmonypy - INFO - Iteration 2 of 20\n",
      "INFO:harmonypy:Iteration 2 of 20\n",
      "2025-02-28 22:24:29,551 - harmonypy - INFO - Converged after 2 iterations\n",
      "INFO:harmonypy:Converged after 2 iterations\n"
     ]
    },
    {
     "name": "stdout",
     "output_type": "stream",
     "text": [
      "Running KNN\n",
      "Scoring cell cycle\n",
      "calculating cell cycle phase\n"
     ]
    },
    {
     "name": "stderr",
     "output_type": "stream",
     "text": [
      "Processing groups:  61%|██████    | 52/85 [5:08:30<3:11:26, 348.06s/it]"
     ]
    },
    {
     "name": "stdout",
     "output_type": "stream",
     "text": [
      "-->     'S_score' and 'G2M_score', scores of cell cycle phases (adata.obs)\n",
      "Running labelTransfer on Sample 1_CTL04E_499\n",
      "Preparing reference and query\n",
      "Found mismatch between Ref and Query vars: will unify\n",
      "Scaling: True\n",
      "Running ingestion\n",
      "Running scANVI\n",
      "GPU with the lowest utilization is:  1\n"
     ]
    },
    {
     "name": "stderr",
     "output_type": "stream",
     "text": [
      "GPU available: True (cuda), used: True\n",
      "TPU available: False, using: 0 TPU cores\n",
      "HPU available: False, using: 0 HPUs\n",
      "LOCAL_RANK: 0 - CUDA_VISIBLE_DEVICES: [0,1,2,3]\n"
     ]
    },
    {
     "name": "stdout",
     "output_type": "stream",
     "text": [
      "Epoch 60/60: 100%|██████████| 60/60 [02:44<00:00,  2.79s/it, v_num=1, train_loss_step=2.87e+3, train_loss_epoch=3.13e+3]"
     ]
    },
    {
     "name": "stderr",
     "output_type": "stream",
     "text": [
      "`Trainer.fit` stopped: `max_epochs=60` reached.\n"
     ]
    },
    {
     "name": "stdout",
     "output_type": "stream",
     "text": [
      "Epoch 60/60: 100%|██████████| 60/60 [02:44<00:00,  2.75s/it, v_num=1, train_loss_step=2.87e+3, train_loss_epoch=3.13e+3]\n",
      "\u001b[34mINFO    \u001b[0m Training for \u001b[1;36m20\u001b[0m epochs.                                                                                   \n"
     ]
    },
    {
     "name": "stderr",
     "output_type": "stream",
     "text": [
      "GPU available: True (cuda), used: True\n",
      "TPU available: False, using: 0 TPU cores\n",
      "HPU available: False, using: 0 HPUs\n",
      "LOCAL_RANK: 0 - CUDA_VISIBLE_DEVICES: [0,1,2,3]\n"
     ]
    },
    {
     "name": "stdout",
     "output_type": "stream",
     "text": [
      "Epoch 20/20: 100%|██████████| 20/20 [02:14<00:00,  6.73s/it, v_num=1, train_loss_step=2.94e+3, train_loss_epoch=3.13e+3]"
     ]
    },
    {
     "name": "stderr",
     "output_type": "stream",
     "text": [
      "`Trainer.fit` stopped: `max_epochs=20` reached.\n"
     ]
    },
    {
     "name": "stdout",
     "output_type": "stream",
     "text": [
      "Epoch 20/20: 100%|██████████| 20/20 [02:14<00:00,  6.74s/it, v_num=1, train_loss_step=2.94e+3, train_loss_epoch=3.13e+3]\n",
      "Running harmony\n"
     ]
    },
    {
     "name": "stderr",
     "output_type": "stream",
     "text": [
      "... storing 'groupCov' as categorical\n",
      "... storing 'harmonizedRegion' as categorical\n",
      "... storing 'tissue' as categorical\n",
      "... storing 'study' as categorical\n",
      "... storing 'LabelTransfer_scANVI' as categorical\n",
      "... storing 'LabelTransfer_harmony' as categorical\n",
      "... storing 'HarmonyBatch' as categorical\n",
      "2025-02-28 22:29:54,118 - harmonypy - INFO - Computing initial centroids with sklearn.KMeans...\n",
      "INFO:harmonypy:Computing initial centroids with sklearn.KMeans...\n",
      "2025-02-28 22:29:58,169 - harmonypy - INFO - sklearn.KMeans initialization complete.\n",
      "INFO:harmonypy:sklearn.KMeans initialization complete.\n",
      "2025-02-28 22:29:58,411 - harmonypy - INFO - Iteration 1 of 20\n",
      "INFO:harmonypy:Iteration 1 of 20\n",
      "2025-02-28 22:30:07,651 - harmonypy - INFO - Iteration 2 of 20\n",
      "INFO:harmonypy:Iteration 2 of 20\n",
      "2025-02-28 22:30:16,988 - harmonypy - INFO - Converged after 2 iterations\n",
      "INFO:harmonypy:Converged after 2 iterations\n"
     ]
    },
    {
     "name": "stdout",
     "output_type": "stream",
     "text": [
      "Running KNN\n",
      "Scoring cell cycle\n",
      "calculating cell cycle phase\n"
     ]
    },
    {
     "name": "stderr",
     "output_type": "stream",
     "text": [
      "Processing groups:  62%|██████▏   | 53/85 [5:14:18<3:05:30, 347.84s/it]"
     ]
    },
    {
     "name": "stdout",
     "output_type": "stream",
     "text": [
      "-->     'S_score' and 'G2M_score', scores of cell cycle phases (adata.obs)\n",
      "Running labelTransfer on Sample 2_CTL08A_499\n",
      "Preparing reference and query\n",
      "Found mismatch between Ref and Query vars: will unify\n",
      "Scaling: True\n",
      "Running ingestion\n",
      "Running scANVI\n",
      "GPU with the lowest utilization is:  1\n"
     ]
    },
    {
     "name": "stderr",
     "output_type": "stream",
     "text": [
      "GPU available: True (cuda), used: True\n",
      "TPU available: False, using: 0 TPU cores\n",
      "HPU available: False, using: 0 HPUs\n",
      "LOCAL_RANK: 0 - CUDA_VISIBLE_DEVICES: [0,1,2,3]\n"
     ]
    },
    {
     "name": "stdout",
     "output_type": "stream",
     "text": [
      "Epoch 60/60: 100%|██████████| 60/60 [02:44<00:00,  2.71s/it, v_num=1, train_loss_step=3.05e+3, train_loss_epoch=3.12e+3]"
     ]
    },
    {
     "name": "stderr",
     "output_type": "stream",
     "text": [
      "`Trainer.fit` stopped: `max_epochs=60` reached.\n"
     ]
    },
    {
     "name": "stdout",
     "output_type": "stream",
     "text": [
      "Epoch 60/60: 100%|██████████| 60/60 [02:44<00:00,  2.75s/it, v_num=1, train_loss_step=3.05e+3, train_loss_epoch=3.12e+3]\n",
      "\u001b[34mINFO    \u001b[0m Training for \u001b[1;36m20\u001b[0m epochs.                                                                                   \n"
     ]
    },
    {
     "name": "stderr",
     "output_type": "stream",
     "text": [
      "GPU available: True (cuda), used: True\n",
      "TPU available: False, using: 0 TPU cores\n",
      "HPU available: False, using: 0 HPUs\n",
      "LOCAL_RANK: 0 - CUDA_VISIBLE_DEVICES: [0,1,2,3]\n"
     ]
    },
    {
     "name": "stdout",
     "output_type": "stream",
     "text": [
      "Epoch 20/20: 100%|██████████| 20/20 [02:11<00:00,  6.39s/it, v_num=1, train_loss_step=2.86e+3, train_loss_epoch=3.11e+3]"
     ]
    },
    {
     "name": "stderr",
     "output_type": "stream",
     "text": [
      "`Trainer.fit` stopped: `max_epochs=20` reached.\n"
     ]
    },
    {
     "name": "stdout",
     "output_type": "stream",
     "text": [
      "Epoch 20/20: 100%|██████████| 20/20 [02:11<00:00,  6.57s/it, v_num=1, train_loss_step=2.86e+3, train_loss_epoch=3.11e+3]\n",
      "Running harmony\n"
     ]
    },
    {
     "name": "stderr",
     "output_type": "stream",
     "text": [
      "... storing 'groupCov' as categorical\n",
      "... storing 'harmonizedRegion' as categorical\n",
      "... storing 'tissue' as categorical\n",
      "... storing 'study' as categorical\n",
      "... storing 'LabelTransfer_scANVI' as categorical\n",
      "... storing 'LabelTransfer_harmony' as categorical\n",
      "... storing 'HarmonyBatch' as categorical\n",
      "2025-02-28 22:35:38,514 - harmonypy - INFO - Computing initial centroids with sklearn.KMeans...\n",
      "INFO:harmonypy:Computing initial centroids with sklearn.KMeans...\n",
      "2025-02-28 22:35:41,912 - harmonypy - INFO - sklearn.KMeans initialization complete.\n",
      "INFO:harmonypy:sklearn.KMeans initialization complete.\n",
      "2025-02-28 22:35:42,070 - harmonypy - INFO - Iteration 1 of 20\n",
      "INFO:harmonypy:Iteration 1 of 20\n",
      "2025-02-28 22:35:48,747 - harmonypy - INFO - Iteration 2 of 20\n",
      "INFO:harmonypy:Iteration 2 of 20\n",
      "2025-02-28 22:35:55,322 - harmonypy - INFO - Converged after 2 iterations\n",
      "INFO:harmonypy:Converged after 2 iterations\n"
     ]
    },
    {
     "name": "stdout",
     "output_type": "stream",
     "text": [
      "Running KNN\n",
      "Scoring cell cycle\n",
      "calculating cell cycle phase\n"
     ]
    },
    {
     "name": "stderr",
     "output_type": "stream",
     "text": [
      "Processing groups:  64%|██████▎   | 54/85 [5:19:57<2:58:19, 345.14s/it]"
     ]
    },
    {
     "name": "stdout",
     "output_type": "stream",
     "text": [
      "-->     'S_score' and 'G2M_score', scores of cell cycle phases (adata.obs)\n",
      "Running labelTransfer on Sample 2_CTL04E_500\n",
      "Preparing reference and query\n",
      "Found mismatch between Ref and Query vars: will unify\n",
      "Scaling: True\n",
      "Running ingestion\n",
      "Running scANVI\n",
      "GPU with the lowest utilization is:  0\n"
     ]
    },
    {
     "name": "stderr",
     "output_type": "stream",
     "text": [
      "GPU available: True (cuda), used: True\n",
      "TPU available: False, using: 0 TPU cores\n",
      "HPU available: False, using: 0 HPUs\n",
      "LOCAL_RANK: 0 - CUDA_VISIBLE_DEVICES: [0,1,2,3]\n"
     ]
    },
    {
     "name": "stdout",
     "output_type": "stream",
     "text": [
      "Epoch 60/60: 100%|██████████| 60/60 [02:32<00:00,  2.52s/it, v_num=1, train_loss_step=3.09e+3, train_loss_epoch=3.14e+3]"
     ]
    },
    {
     "name": "stderr",
     "output_type": "stream",
     "text": [
      "`Trainer.fit` stopped: `max_epochs=60` reached.\n"
     ]
    },
    {
     "name": "stdout",
     "output_type": "stream",
     "text": [
      "Epoch 60/60: 100%|██████████| 60/60 [02:32<00:00,  2.54s/it, v_num=1, train_loss_step=3.09e+3, train_loss_epoch=3.14e+3]\n",
      "\u001b[34mINFO    \u001b[0m Training for \u001b[1;36m20\u001b[0m epochs.                                                                                   \n"
     ]
    },
    {
     "name": "stderr",
     "output_type": "stream",
     "text": [
      "GPU available: True (cuda), used: True\n",
      "TPU available: False, using: 0 TPU cores\n",
      "HPU available: False, using: 0 HPUs\n",
      "LOCAL_RANK: 0 - CUDA_VISIBLE_DEVICES: [0,1,2,3]\n"
     ]
    },
    {
     "name": "stdout",
     "output_type": "stream",
     "text": [
      "Epoch 20/20: 100%|██████████| 20/20 [01:59<00:00,  5.94s/it, v_num=1, train_loss_step=3.16e+3, train_loss_epoch=3.13e+3]"
     ]
    },
    {
     "name": "stderr",
     "output_type": "stream",
     "text": [
      "`Trainer.fit` stopped: `max_epochs=20` reached.\n"
     ]
    },
    {
     "name": "stdout",
     "output_type": "stream",
     "text": [
      "Epoch 20/20: 100%|██████████| 20/20 [01:59<00:00,  5.99s/it, v_num=1, train_loss_step=3.16e+3, train_loss_epoch=3.13e+3]\n",
      "Running harmony\n"
     ]
    },
    {
     "name": "stderr",
     "output_type": "stream",
     "text": [
      "... storing 'groupCov' as categorical\n",
      "... storing 'harmonizedRegion' as categorical\n",
      "... storing 'tissue' as categorical\n",
      "... storing 'study' as categorical\n",
      "... storing 'LabelTransfer_scANVI' as categorical\n",
      "... storing 'LabelTransfer_harmony' as categorical\n",
      "... storing 'HarmonyBatch' as categorical\n",
      "2025-02-28 22:40:53,387 - harmonypy - INFO - Computing initial centroids with sklearn.KMeans...\n",
      "INFO:harmonypy:Computing initial centroids with sklearn.KMeans...\n",
      "2025-02-28 22:40:56,919 - harmonypy - INFO - sklearn.KMeans initialization complete.\n",
      "INFO:harmonypy:sklearn.KMeans initialization complete.\n",
      "2025-02-28 22:40:57,001 - harmonypy - INFO - Iteration 1 of 20\n",
      "INFO:harmonypy:Iteration 1 of 20\n",
      "2025-02-28 22:41:03,434 - harmonypy - INFO - Iteration 2 of 20\n",
      "INFO:harmonypy:Iteration 2 of 20\n",
      "2025-02-28 22:41:09,966 - harmonypy - INFO - Converged after 2 iterations\n",
      "INFO:harmonypy:Converged after 2 iterations\n"
     ]
    },
    {
     "name": "stdout",
     "output_type": "stream",
     "text": [
      "Running KNN\n",
      "Scoring cell cycle\n",
      "calculating cell cycle phase\n"
     ]
    },
    {
     "name": "stderr",
     "output_type": "stream",
     "text": [
      "Processing groups:  65%|██████▍   | 55/85 [5:25:11<2:47:55, 335.85s/it]"
     ]
    },
    {
     "name": "stdout",
     "output_type": "stream",
     "text": [
      "-->     'S_score' and 'G2M_score', scores of cell cycle phases (adata.obs)\n",
      "Running labelTransfer on Sample 1_CTL04E_500\n",
      "Preparing reference and query\n",
      "Found mismatch between Ref and Query vars: will unify\n",
      "Scaling: True\n",
      "Running ingestion\n",
      "Running scANVI\n",
      "GPU with the lowest utilization is:  0\n"
     ]
    },
    {
     "name": "stderr",
     "output_type": "stream",
     "text": [
      "GPU available: True (cuda), used: True\n",
      "TPU available: False, using: 0 TPU cores\n",
      "HPU available: False, using: 0 HPUs\n",
      "LOCAL_RANK: 0 - CUDA_VISIBLE_DEVICES: [0,1,2,3]\n"
     ]
    },
    {
     "name": "stdout",
     "output_type": "stream",
     "text": [
      "Epoch 60/60: 100%|██████████| 60/60 [02:39<00:00,  2.63s/it, v_num=1, train_loss_step=3.26e+3, train_loss_epoch=3.19e+3]"
     ]
    },
    {
     "name": "stderr",
     "output_type": "stream",
     "text": [
      "`Trainer.fit` stopped: `max_epochs=60` reached.\n"
     ]
    },
    {
     "name": "stdout",
     "output_type": "stream",
     "text": [
      "Epoch 60/60: 100%|██████████| 60/60 [02:39<00:00,  2.66s/it, v_num=1, train_loss_step=3.26e+3, train_loss_epoch=3.19e+3]\n",
      "\u001b[34mINFO    \u001b[0m Training for \u001b[1;36m20\u001b[0m epochs.                                                                                   \n"
     ]
    },
    {
     "name": "stderr",
     "output_type": "stream",
     "text": [
      "GPU available: True (cuda), used: True\n",
      "TPU available: False, using: 0 TPU cores\n",
      "HPU available: False, using: 0 HPUs\n",
      "LOCAL_RANK: 0 - CUDA_VISIBLE_DEVICES: [0,1,2,3]\n"
     ]
    },
    {
     "name": "stdout",
     "output_type": "stream",
     "text": [
      "Epoch 20/20: 100%|██████████| 20/20 [02:05<00:00,  6.21s/it, v_num=1, train_loss_step=2.89e+3, train_loss_epoch=3.19e+3]"
     ]
    },
    {
     "name": "stderr",
     "output_type": "stream",
     "text": [
      "`Trainer.fit` stopped: `max_epochs=20` reached.\n"
     ]
    },
    {
     "name": "stdout",
     "output_type": "stream",
     "text": [
      "Epoch 20/20: 100%|██████████| 20/20 [02:05<00:00,  6.27s/it, v_num=1, train_loss_step=2.89e+3, train_loss_epoch=3.19e+3]\n",
      "Running harmony\n"
     ]
    },
    {
     "name": "stderr",
     "output_type": "stream",
     "text": [
      "... storing 'groupCov' as categorical\n",
      "... storing 'harmonizedRegion' as categorical\n",
      "... storing 'tissue' as categorical\n",
      "... storing 'study' as categorical\n",
      "... storing 'LabelTransfer_scANVI' as categorical\n",
      "... storing 'LabelTransfer_harmony' as categorical\n",
      "... storing 'HarmonyBatch' as categorical\n",
      "2025-02-28 22:46:23,531 - harmonypy - INFO - Computing initial centroids with sklearn.KMeans...\n",
      "INFO:harmonypy:Computing initial centroids with sklearn.KMeans...\n",
      "2025-02-28 22:46:27,137 - harmonypy - INFO - sklearn.KMeans initialization complete.\n",
      "INFO:harmonypy:sklearn.KMeans initialization complete.\n",
      "2025-02-28 22:46:27,296 - harmonypy - INFO - Iteration 1 of 20\n",
      "INFO:harmonypy:Iteration 1 of 20\n",
      "2025-02-28 22:46:33,993 - harmonypy - INFO - Iteration 2 of 20\n",
      "INFO:harmonypy:Iteration 2 of 20\n",
      "2025-02-28 22:46:40,759 - harmonypy - INFO - Converged after 2 iterations\n",
      "INFO:harmonypy:Converged after 2 iterations\n"
     ]
    },
    {
     "name": "stdout",
     "output_type": "stream",
     "text": [
      "Running KNN\n",
      "Scoring cell cycle\n",
      "calculating cell cycle phase\n"
     ]
    },
    {
     "name": "stderr",
     "output_type": "stream",
     "text": [
      "Processing groups:  66%|██████▌   | 56/85 [5:30:42<2:41:36, 334.36s/it]"
     ]
    },
    {
     "name": "stdout",
     "output_type": "stream",
     "text": [
      "-->     'S_score' and 'G2M_score', scores of cell cycle phases (adata.obs)\n",
      "Running labelTransfer on Sample 3_CTL04E_500\n",
      "Preparing reference and query\n",
      "Found mismatch between Ref and Query vars: will unify\n",
      "Scaling: True\n",
      "Running ingestion\n",
      "Running scANVI\n",
      "GPU with the lowest utilization is:  0\n"
     ]
    },
    {
     "name": "stderr",
     "output_type": "stream",
     "text": [
      "GPU available: True (cuda), used: True\n",
      "TPU available: False, using: 0 TPU cores\n",
      "HPU available: False, using: 0 HPUs\n",
      "LOCAL_RANK: 0 - CUDA_VISIBLE_DEVICES: [0,1,2,3]\n"
     ]
    },
    {
     "name": "stdout",
     "output_type": "stream",
     "text": [
      "Epoch 60/60: 100%|██████████| 60/60 [02:34<00:00,  2.58s/it, v_num=1, train_loss_step=3.32e+3, train_loss_epoch=3.13e+3]"
     ]
    },
    {
     "name": "stderr",
     "output_type": "stream",
     "text": [
      "`Trainer.fit` stopped: `max_epochs=60` reached.\n"
     ]
    },
    {
     "name": "stdout",
     "output_type": "stream",
     "text": [
      "Epoch 60/60: 100%|██████████| 60/60 [02:34<00:00,  2.58s/it, v_num=1, train_loss_step=3.32e+3, train_loss_epoch=3.13e+3]\n",
      "\u001b[34mINFO    \u001b[0m Training for \u001b[1;36m20\u001b[0m epochs.                                                                                   \n"
     ]
    },
    {
     "name": "stderr",
     "output_type": "stream",
     "text": [
      "GPU available: True (cuda), used: True\n",
      "TPU available: False, using: 0 TPU cores\n",
      "HPU available: False, using: 0 HPUs\n",
      "LOCAL_RANK: 0 - CUDA_VISIBLE_DEVICES: [0,1,2,3]\n"
     ]
    },
    {
     "name": "stdout",
     "output_type": "stream",
     "text": [
      "Epoch 20/20: 100%|██████████| 20/20 [02:00<00:00,  5.96s/it, v_num=1, train_loss_step=3.16e+3, train_loss_epoch=3.13e+3]"
     ]
    },
    {
     "name": "stderr",
     "output_type": "stream",
     "text": [
      "`Trainer.fit` stopped: `max_epochs=20` reached.\n"
     ]
    },
    {
     "name": "stdout",
     "output_type": "stream",
     "text": [
      "Epoch 20/20: 100%|██████████| 20/20 [02:00<00:00,  6.00s/it, v_num=1, train_loss_step=3.16e+3, train_loss_epoch=3.13e+3]\n",
      "Running harmony\n"
     ]
    },
    {
     "name": "stderr",
     "output_type": "stream",
     "text": [
      "... storing 'groupCov' as categorical\n",
      "... storing 'harmonizedRegion' as categorical\n",
      "... storing 'tissue' as categorical\n",
      "... storing 'study' as categorical\n",
      "... storing 'LabelTransfer_scANVI' as categorical\n",
      "... storing 'LabelTransfer_harmony' as categorical\n",
      "... storing 'HarmonyBatch' as categorical\n",
      "2025-02-28 22:51:40,814 - harmonypy - INFO - Computing initial centroids with sklearn.KMeans...\n",
      "INFO:harmonypy:Computing initial centroids with sklearn.KMeans...\n",
      "2025-02-28 22:51:44,534 - harmonypy - INFO - sklearn.KMeans initialization complete.\n",
      "INFO:harmonypy:sklearn.KMeans initialization complete.\n",
      "2025-02-28 22:51:44,694 - harmonypy - INFO - Iteration 1 of 20\n",
      "INFO:harmonypy:Iteration 1 of 20\n",
      "2025-02-28 22:51:51,301 - harmonypy - INFO - Iteration 2 of 20\n",
      "INFO:harmonypy:Iteration 2 of 20\n",
      "2025-02-28 22:51:57,875 - harmonypy - INFO - Converged after 2 iterations\n",
      "INFO:harmonypy:Converged after 2 iterations\n"
     ]
    },
    {
     "name": "stdout",
     "output_type": "stream",
     "text": [
      "Running KNN\n",
      "Scoring cell cycle\n",
      "calculating cell cycle phase\n"
     ]
    },
    {
     "name": "stderr",
     "output_type": "stream",
     "text": [
      "Processing groups:  67%|██████▋   | 57/85 [5:35:59<2:33:37, 329.18s/it]"
     ]
    },
    {
     "name": "stdout",
     "output_type": "stream",
     "text": [
      "-->     'S_score' and 'G2M_score', scores of cell cycle phases (adata.obs)\n",
      "Running labelTransfer on Sample 2_CTL08A_500\n",
      "Preparing reference and query\n",
      "Found mismatch between Ref and Query vars: will unify\n",
      "Scaling: True\n",
      "Running ingestion\n",
      "Running scANVI\n",
      "GPU with the lowest utilization is:  0\n"
     ]
    },
    {
     "name": "stderr",
     "output_type": "stream",
     "text": [
      "GPU available: True (cuda), used: True\n",
      "TPU available: False, using: 0 TPU cores\n",
      "HPU available: False, using: 0 HPUs\n",
      "LOCAL_RANK: 0 - CUDA_VISIBLE_DEVICES: [0,1,2,3]\n"
     ]
    },
    {
     "name": "stdout",
     "output_type": "stream",
     "text": [
      "Epoch 60/60: 100%|██████████| 60/60 [02:36<00:00,  2.58s/it, v_num=1, train_loss_step=3.47e+3, train_loss_epoch=3.1e+3] "
     ]
    },
    {
     "name": "stderr",
     "output_type": "stream",
     "text": [
      "`Trainer.fit` stopped: `max_epochs=60` reached.\n"
     ]
    },
    {
     "name": "stdout",
     "output_type": "stream",
     "text": [
      "Epoch 60/60: 100%|██████████| 60/60 [02:36<00:00,  2.60s/it, v_num=1, train_loss_step=3.47e+3, train_loss_epoch=3.1e+3]\n",
      "\u001b[34mINFO    \u001b[0m Training for \u001b[1;36m20\u001b[0m epochs.                                                                                   \n"
     ]
    },
    {
     "name": "stderr",
     "output_type": "stream",
     "text": [
      "GPU available: True (cuda), used: True\n",
      "TPU available: False, using: 0 TPU cores\n",
      "HPU available: False, using: 0 HPUs\n",
      "LOCAL_RANK: 0 - CUDA_VISIBLE_DEVICES: [0,1,2,3]\n"
     ]
    },
    {
     "name": "stdout",
     "output_type": "stream",
     "text": [
      "Epoch 20/20: 100%|██████████| 20/20 [01:58<00:00,  5.90s/it, v_num=1, train_loss_step=3.09e+3, train_loss_epoch=3.1e+3]"
     ]
    },
    {
     "name": "stderr",
     "output_type": "stream",
     "text": [
      "`Trainer.fit` stopped: `max_epochs=20` reached.\n"
     ]
    },
    {
     "name": "stdout",
     "output_type": "stream",
     "text": [
      "Epoch 20/20: 100%|██████████| 20/20 [01:58<00:00,  5.92s/it, v_num=1, train_loss_step=3.09e+3, train_loss_epoch=3.1e+3]\n",
      "Running harmony\n"
     ]
    },
    {
     "name": "stderr",
     "output_type": "stream",
     "text": [
      "... storing 'groupCov' as categorical\n",
      "... storing 'harmonizedRegion' as categorical\n",
      "... storing 'tissue' as categorical\n",
      "... storing 'study' as categorical\n",
      "... storing 'LabelTransfer_scANVI' as categorical\n",
      "... storing 'LabelTransfer_harmony' as categorical\n",
      "... storing 'HarmonyBatch' as categorical\n",
      "2025-02-28 22:56:57,436 - harmonypy - INFO - Computing initial centroids with sklearn.KMeans...\n",
      "INFO:harmonypy:Computing initial centroids with sklearn.KMeans...\n",
      "2025-02-28 22:57:01,147 - harmonypy - INFO - sklearn.KMeans initialization complete.\n",
      "INFO:harmonypy:sklearn.KMeans initialization complete.\n",
      "2025-02-28 22:57:01,360 - harmonypy - INFO - Iteration 1 of 20\n",
      "INFO:harmonypy:Iteration 1 of 20\n",
      "2025-02-28 22:57:07,914 - harmonypy - INFO - Iteration 2 of 20\n",
      "INFO:harmonypy:Iteration 2 of 20\n",
      "2025-02-28 22:57:14,603 - harmonypy - INFO - Converged after 2 iterations\n",
      "INFO:harmonypy:Converged after 2 iterations\n"
     ]
    },
    {
     "name": "stdout",
     "output_type": "stream",
     "text": [
      "Running KNN\n",
      "Scoring cell cycle\n",
      "calculating cell cycle phase\n"
     ]
    },
    {
     "name": "stderr",
     "output_type": "stream",
     "text": [
      "Processing groups:  68%|██████▊   | 58/85 [5:41:15<2:26:25, 325.39s/it]"
     ]
    },
    {
     "name": "stdout",
     "output_type": "stream",
     "text": [
      "-->     'S_score' and 'G2M_score', scores of cell cycle phases (adata.obs)\n",
      "Running labelTransfer on Sample 1_CTL08A_500\n",
      "Preparing reference and query\n",
      "Found mismatch between Ref and Query vars: will unify\n",
      "Scaling: True\n",
      "Running ingestion\n",
      "Running scANVI\n",
      "GPU with the lowest utilization is:  0\n"
     ]
    },
    {
     "name": "stderr",
     "output_type": "stream",
     "text": [
      "GPU available: True (cuda), used: True\n",
      "TPU available: False, using: 0 TPU cores\n",
      "HPU available: False, using: 0 HPUs\n",
      "LOCAL_RANK: 0 - CUDA_VISIBLE_DEVICES: [0,1,2,3]\n"
     ]
    },
    {
     "name": "stdout",
     "output_type": "stream",
     "text": [
      "Epoch 60/60: 100%|██████████| 60/60 [02:41<00:00,  2.67s/it, v_num=1, train_loss_step=3.18e+3, train_loss_epoch=3.23e+3]"
     ]
    },
    {
     "name": "stderr",
     "output_type": "stream",
     "text": [
      "`Trainer.fit` stopped: `max_epochs=60` reached.\n"
     ]
    },
    {
     "name": "stdout",
     "output_type": "stream",
     "text": [
      "Epoch 60/60: 100%|██████████| 60/60 [02:41<00:00,  2.69s/it, v_num=1, train_loss_step=3.18e+3, train_loss_epoch=3.23e+3]\n",
      "\u001b[34mINFO    \u001b[0m Training for \u001b[1;36m20\u001b[0m epochs.                                                                                   \n"
     ]
    },
    {
     "name": "stderr",
     "output_type": "stream",
     "text": [
      "GPU available: True (cuda), used: True\n",
      "TPU available: False, using: 0 TPU cores\n",
      "HPU available: False, using: 0 HPUs\n",
      "LOCAL_RANK: 0 - CUDA_VISIBLE_DEVICES: [0,1,2,3]\n"
     ]
    },
    {
     "name": "stdout",
     "output_type": "stream",
     "text": [
      "Epoch 20/20: 100%|██████████| 20/20 [02:02<00:00,  6.09s/it, v_num=1, train_loss_step=3.07e+3, train_loss_epoch=3.21e+3]"
     ]
    },
    {
     "name": "stderr",
     "output_type": "stream",
     "text": [
      "`Trainer.fit` stopped: `max_epochs=20` reached.\n"
     ]
    },
    {
     "name": "stdout",
     "output_type": "stream",
     "text": [
      "Epoch 20/20: 100%|██████████| 20/20 [02:02<00:00,  6.13s/it, v_num=1, train_loss_step=3.07e+3, train_loss_epoch=3.21e+3]\n",
      "Running harmony\n"
     ]
    },
    {
     "name": "stderr",
     "output_type": "stream",
     "text": [
      "... storing 'groupCov' as categorical\n",
      "... storing 'harmonizedRegion' as categorical\n",
      "... storing 'tissue' as categorical\n",
      "... storing 'study' as categorical\n",
      "... storing 'LabelTransfer_scANVI' as categorical\n",
      "... storing 'LabelTransfer_harmony' as categorical\n",
      "... storing 'HarmonyBatch' as categorical\n",
      "2025-02-28 23:02:26,069 - harmonypy - INFO - Computing initial centroids with sklearn.KMeans...\n",
      "INFO:harmonypy:Computing initial centroids with sklearn.KMeans...\n",
      "2025-02-28 23:02:29,451 - harmonypy - INFO - sklearn.KMeans initialization complete.\n",
      "INFO:harmonypy:sklearn.KMeans initialization complete.\n",
      "2025-02-28 23:02:29,542 - harmonypy - INFO - Iteration 1 of 20\n",
      "INFO:harmonypy:Iteration 1 of 20\n",
      "2025-02-28 23:02:36,323 - harmonypy - INFO - Iteration 2 of 20\n",
      "INFO:harmonypy:Iteration 2 of 20\n",
      "2025-02-28 23:02:43,132 - harmonypy - INFO - Converged after 2 iterations\n",
      "INFO:harmonypy:Converged after 2 iterations\n"
     ]
    },
    {
     "name": "stdout",
     "output_type": "stream",
     "text": [
      "Running KNN\n",
      "Scoring cell cycle\n",
      "calculating cell cycle phase\n"
     ]
    },
    {
     "name": "stderr",
     "output_type": "stream",
     "text": [
      "Processing groups:  69%|██████▉   | 59/85 [5:46:44<2:21:26, 326.41s/it]"
     ]
    },
    {
     "name": "stdout",
     "output_type": "stream",
     "text": [
      "-->     'S_score' and 'G2M_score', scores of cell cycle phases (adata.obs)\n",
      "Running labelTransfer on Sample 3_CTL08A_500\n",
      "Preparing reference and query\n",
      "Found mismatch between Ref and Query vars: will unify\n",
      "Scaling: True\n",
      "Running ingestion\n",
      "Running scANVI\n",
      "GPU with the lowest utilization is:  0\n"
     ]
    },
    {
     "name": "stderr",
     "output_type": "stream",
     "text": [
      "GPU available: True (cuda), used: True\n",
      "TPU available: False, using: 0 TPU cores\n",
      "HPU available: False, using: 0 HPUs\n",
      "LOCAL_RANK: 0 - CUDA_VISIBLE_DEVICES: [0,1,2,3]\n"
     ]
    },
    {
     "name": "stdout",
     "output_type": "stream",
     "text": [
      "Epoch 60/60: 100%|██████████| 60/60 [02:37<00:00,  2.56s/it, v_num=1, train_loss_step=3.01e+3, train_loss_epoch=3.15e+3]"
     ]
    },
    {
     "name": "stderr",
     "output_type": "stream",
     "text": [
      "`Trainer.fit` stopped: `max_epochs=60` reached.\n"
     ]
    },
    {
     "name": "stdout",
     "output_type": "stream",
     "text": [
      "Epoch 60/60: 100%|██████████| 60/60 [02:37<00:00,  2.62s/it, v_num=1, train_loss_step=3.01e+3, train_loss_epoch=3.15e+3]\n",
      "\u001b[34mINFO    \u001b[0m Training for \u001b[1;36m20\u001b[0m epochs.                                                                                   \n"
     ]
    },
    {
     "name": "stderr",
     "output_type": "stream",
     "text": [
      "GPU available: True (cuda), used: True\n",
      "TPU available: False, using: 0 TPU cores\n",
      "HPU available: False, using: 0 HPUs\n",
      "LOCAL_RANK: 0 - CUDA_VISIBLE_DEVICES: [0,1,2,3]\n"
     ]
    },
    {
     "name": "stdout",
     "output_type": "stream",
     "text": [
      "Epoch 20/20: 100%|██████████| 20/20 [02:00<00:00,  5.97s/it, v_num=1, train_loss_step=3.36e+3, train_loss_epoch=3.15e+3]"
     ]
    },
    {
     "name": "stderr",
     "output_type": "stream",
     "text": [
      "`Trainer.fit` stopped: `max_epochs=20` reached.\n"
     ]
    },
    {
     "name": "stdout",
     "output_type": "stream",
     "text": [
      "Epoch 20/20: 100%|██████████| 20/20 [02:00<00:00,  6.01s/it, v_num=1, train_loss_step=3.36e+3, train_loss_epoch=3.15e+3]\n",
      "Running harmony\n"
     ]
    },
    {
     "name": "stderr",
     "output_type": "stream",
     "text": [
      "... storing 'groupCov' as categorical\n",
      "... storing 'harmonizedRegion' as categorical\n",
      "... storing 'tissue' as categorical\n",
      "... storing 'study' as categorical\n",
      "... storing 'LabelTransfer_scANVI' as categorical\n",
      "... storing 'LabelTransfer_harmony' as categorical\n",
      "... storing 'HarmonyBatch' as categorical\n",
      "2025-02-28 23:07:47,367 - harmonypy - INFO - Computing initial centroids with sklearn.KMeans...\n",
      "INFO:harmonypy:Computing initial centroids with sklearn.KMeans...\n",
      "2025-02-28 23:07:50,644 - harmonypy - INFO - sklearn.KMeans initialization complete.\n",
      "INFO:harmonypy:sklearn.KMeans initialization complete.\n",
      "2025-02-28 23:07:50,727 - harmonypy - INFO - Iteration 1 of 20\n",
      "INFO:harmonypy:Iteration 1 of 20\n",
      "2025-02-28 23:07:56,946 - harmonypy - INFO - Iteration 2 of 20\n",
      "INFO:harmonypy:Iteration 2 of 20\n",
      "2025-02-28 23:08:03,315 - harmonypy - INFO - Converged after 2 iterations\n",
      "INFO:harmonypy:Converged after 2 iterations\n"
     ]
    },
    {
     "name": "stdout",
     "output_type": "stream",
     "text": [
      "Running KNN\n",
      "Scoring cell cycle\n",
      "calculating cell cycle phase\n",
      "-->     'S_score' and 'G2M_score', scores of cell cycle phases (adata.obs)\n"
     ]
    },
    {
     "name": "stderr",
     "output_type": "stream",
     "text": [
      "Processing groups:  71%|███████   | 60/85 [5:52:04<2:15:14, 324.57s/it]"
     ]
    },
    {
     "name": "stdout",
     "output_type": "stream",
     "text": [
      "Running labelTransfer on Sample 3_CTL08A_501\n",
      "Preparing reference and query\n",
      "Found mismatch between Ref and Query vars: will unify\n",
      "Scaling: True\n",
      "Running ingestion\n",
      "Running scANVI\n",
      "GPU with the lowest utilization is:  0\n"
     ]
    },
    {
     "name": "stderr",
     "output_type": "stream",
     "text": [
      "GPU available: True (cuda), used: True\n",
      "TPU available: False, using: 0 TPU cores\n",
      "HPU available: False, using: 0 HPUs\n",
      "LOCAL_RANK: 0 - CUDA_VISIBLE_DEVICES: [0,1,2,3]\n"
     ]
    },
    {
     "name": "stdout",
     "output_type": "stream",
     "text": [
      "Epoch 60/60: 100%|██████████| 60/60 [02:39<00:00,  2.60s/it, v_num=1, train_loss_step=3.27e+3, train_loss_epoch=3.19e+3]"
     ]
    },
    {
     "name": "stderr",
     "output_type": "stream",
     "text": [
      "`Trainer.fit` stopped: `max_epochs=60` reached.\n"
     ]
    },
    {
     "name": "stdout",
     "output_type": "stream",
     "text": [
      "Epoch 60/60: 100%|██████████| 60/60 [02:39<00:00,  2.66s/it, v_num=1, train_loss_step=3.27e+3, train_loss_epoch=3.19e+3]\n",
      "\u001b[34mINFO    \u001b[0m Training for \u001b[1;36m20\u001b[0m epochs.                                                                                   \n"
     ]
    },
    {
     "name": "stderr",
     "output_type": "stream",
     "text": [
      "GPU available: True (cuda), used: True\n",
      "TPU available: False, using: 0 TPU cores\n",
      "HPU available: False, using: 0 HPUs\n",
      "LOCAL_RANK: 0 - CUDA_VISIBLE_DEVICES: [0,1,2,3]\n"
     ]
    },
    {
     "name": "stdout",
     "output_type": "stream",
     "text": [
      "Epoch 20/20: 100%|██████████| 20/20 [02:03<00:00,  6.29s/it, v_num=1, train_loss_step=2.57e+3, train_loss_epoch=3.18e+3]"
     ]
    },
    {
     "name": "stderr",
     "output_type": "stream",
     "text": [
      "`Trainer.fit` stopped: `max_epochs=20` reached.\n"
     ]
    },
    {
     "name": "stdout",
     "output_type": "stream",
     "text": [
      "Epoch 20/20: 100%|██████████| 20/20 [02:03<00:00,  6.19s/it, v_num=1, train_loss_step=2.57e+3, train_loss_epoch=3.18e+3]\n",
      "Running harmony\n"
     ]
    },
    {
     "name": "stderr",
     "output_type": "stream",
     "text": [
      "... storing 'groupCov' as categorical\n",
      "... storing 'harmonizedRegion' as categorical\n",
      "... storing 'tissue' as categorical\n",
      "... storing 'study' as categorical\n",
      "... storing 'LabelTransfer_scANVI' as categorical\n",
      "... storing 'LabelTransfer_harmony' as categorical\n",
      "... storing 'HarmonyBatch' as categorical\n",
      "2025-02-28 23:13:10,871 - harmonypy - INFO - Computing initial centroids with sklearn.KMeans...\n",
      "INFO:harmonypy:Computing initial centroids with sklearn.KMeans...\n",
      "2025-02-28 23:13:14,275 - harmonypy - INFO - sklearn.KMeans initialization complete.\n",
      "INFO:harmonypy:sklearn.KMeans initialization complete.\n",
      "2025-02-28 23:13:14,471 - harmonypy - INFO - Iteration 1 of 20\n",
      "INFO:harmonypy:Iteration 1 of 20\n",
      "2025-02-28 23:13:22,917 - harmonypy - INFO - Iteration 2 of 20\n",
      "INFO:harmonypy:Iteration 2 of 20\n",
      "2025-02-28 23:13:30,924 - harmonypy - INFO - Converged after 2 iterations\n",
      "INFO:harmonypy:Converged after 2 iterations\n"
     ]
    },
    {
     "name": "stdout",
     "output_type": "stream",
     "text": [
      "Running KNN\n",
      "Scoring cell cycle\n",
      "calculating cell cycle phase\n"
     ]
    },
    {
     "name": "stderr",
     "output_type": "stream",
     "text": [
      "Processing groups:  72%|███████▏  | 61/85 [5:57:32<2:10:11, 325.50s/it]"
     ]
    },
    {
     "name": "stdout",
     "output_type": "stream",
     "text": [
      "-->     'S_score' and 'G2M_score', scores of cell cycle phases (adata.obs)\n",
      "Running labelTransfer on Sample 3_CTL04E_501\n",
      "Preparing reference and query\n",
      "Found mismatch between Ref and Query vars: will unify\n",
      "Scaling: True\n",
      "Running ingestion\n",
      "Running scANVI\n",
      "GPU with the lowest utilization is:  0\n"
     ]
    },
    {
     "name": "stderr",
     "output_type": "stream",
     "text": [
      "GPU available: True (cuda), used: True\n",
      "TPU available: False, using: 0 TPU cores\n",
      "HPU available: False, using: 0 HPUs\n",
      "LOCAL_RANK: 0 - CUDA_VISIBLE_DEVICES: [0,1,2,3]\n"
     ]
    },
    {
     "name": "stdout",
     "output_type": "stream",
     "text": [
      "Epoch 60/60: 100%|██████████| 60/60 [02:35<00:00,  2.57s/it, v_num=1, train_loss_step=3.06e+3, train_loss_epoch=3.12e+3]"
     ]
    },
    {
     "name": "stderr",
     "output_type": "stream",
     "text": [
      "`Trainer.fit` stopped: `max_epochs=60` reached.\n"
     ]
    },
    {
     "name": "stdout",
     "output_type": "stream",
     "text": [
      "Epoch 60/60: 100%|██████████| 60/60 [02:35<00:00,  2.59s/it, v_num=1, train_loss_step=3.06e+3, train_loss_epoch=3.12e+3]\n",
      "\u001b[34mINFO    \u001b[0m Training for \u001b[1;36m20\u001b[0m epochs.                                                                                   \n"
     ]
    },
    {
     "name": "stderr",
     "output_type": "stream",
     "text": [
      "GPU available: True (cuda), used: True\n",
      "TPU available: False, using: 0 TPU cores\n",
      "HPU available: False, using: 0 HPUs\n",
      "LOCAL_RANK: 0 - CUDA_VISIBLE_DEVICES: [0,1,2,3]\n"
     ]
    },
    {
     "name": "stdout",
     "output_type": "stream",
     "text": [
      "Epoch 20/20: 100%|██████████| 20/20 [02:00<00:00,  6.16s/it, v_num=1, train_loss_step=3.19e+3, train_loss_epoch=3.12e+3]"
     ]
    },
    {
     "name": "stderr",
     "output_type": "stream",
     "text": [
      "`Trainer.fit` stopped: `max_epochs=20` reached.\n"
     ]
    },
    {
     "name": "stdout",
     "output_type": "stream",
     "text": [
      "Epoch 20/20: 100%|██████████| 20/20 [02:00<00:00,  6.04s/it, v_num=1, train_loss_step=3.19e+3, train_loss_epoch=3.12e+3]\n",
      "Running harmony\n"
     ]
    },
    {
     "name": "stderr",
     "output_type": "stream",
     "text": [
      "... storing 'groupCov' as categorical\n",
      "... storing 'harmonizedRegion' as categorical\n",
      "... storing 'tissue' as categorical\n",
      "... storing 'study' as categorical\n",
      "... storing 'LabelTransfer_scANVI' as categorical\n",
      "... storing 'LabelTransfer_harmony' as categorical\n",
      "... storing 'HarmonyBatch' as categorical\n",
      "2025-02-28 23:18:30,693 - harmonypy - INFO - Computing initial centroids with sklearn.KMeans...\n",
      "INFO:harmonypy:Computing initial centroids with sklearn.KMeans...\n",
      "2025-02-28 23:18:34,282 - harmonypy - INFO - sklearn.KMeans initialization complete.\n",
      "INFO:harmonypy:sklearn.KMeans initialization complete.\n",
      "2025-02-28 23:18:34,360 - harmonypy - INFO - Iteration 1 of 20\n",
      "INFO:harmonypy:Iteration 1 of 20\n",
      "2025-02-28 23:18:40,839 - harmonypy - INFO - Iteration 2 of 20\n",
      "INFO:harmonypy:Iteration 2 of 20\n",
      "2025-02-28 23:18:47,447 - harmonypy - INFO - Iteration 3 of 20\n",
      "INFO:harmonypy:Iteration 3 of 20\n",
      "2025-02-28 23:18:54,133 - harmonypy - INFO - Iteration 4 of 20\n",
      "INFO:harmonypy:Iteration 4 of 20\n",
      "2025-02-28 23:19:00,587 - harmonypy - INFO - Iteration 5 of 20\n",
      "INFO:harmonypy:Iteration 5 of 20\n",
      "2025-02-28 23:19:05,859 - harmonypy - INFO - Iteration 6 of 20\n",
      "INFO:harmonypy:Iteration 6 of 20\n",
      "2025-02-28 23:19:10,011 - harmonypy - INFO - Iteration 7 of 20\n",
      "INFO:harmonypy:Iteration 7 of 20\n",
      "2025-02-28 23:19:14,109 - harmonypy - INFO - Iteration 8 of 20\n",
      "INFO:harmonypy:Iteration 8 of 20\n",
      "2025-02-28 23:19:16,823 - harmonypy - INFO - Iteration 9 of 20\n",
      "INFO:harmonypy:Iteration 9 of 20\n",
      "2025-02-28 23:19:19,839 - harmonypy - INFO - Iteration 10 of 20\n",
      "INFO:harmonypy:Iteration 10 of 20\n",
      "2025-02-28 23:19:22,558 - harmonypy - INFO - Iteration 11 of 20\n",
      "INFO:harmonypy:Iteration 11 of 20\n",
      "2025-02-28 23:19:25,318 - harmonypy - INFO - Iteration 12 of 20\n",
      "INFO:harmonypy:Iteration 12 of 20\n",
      "2025-02-28 23:19:27,741 - harmonypy - INFO - Iteration 13 of 20\n",
      "INFO:harmonypy:Iteration 13 of 20\n",
      "2025-02-28 23:19:30,290 - harmonypy - INFO - Iteration 14 of 20\n",
      "INFO:harmonypy:Iteration 14 of 20\n",
      "2025-02-28 23:19:32,742 - harmonypy - INFO - Iteration 15 of 20\n",
      "INFO:harmonypy:Iteration 15 of 20\n",
      "2025-02-28 23:19:35,490 - harmonypy - INFO - Iteration 16 of 20\n",
      "INFO:harmonypy:Iteration 16 of 20\n",
      "2025-02-28 23:19:37,646 - harmonypy - INFO - Iteration 17 of 20\n",
      "INFO:harmonypy:Iteration 17 of 20\n",
      "2025-02-28 23:19:40,113 - harmonypy - INFO - Iteration 18 of 20\n",
      "INFO:harmonypy:Iteration 18 of 20\n",
      "2025-02-28 23:19:42,524 - harmonypy - INFO - Converged after 18 iterations\n",
      "INFO:harmonypy:Converged after 18 iterations\n"
     ]
    },
    {
     "name": "stdout",
     "output_type": "stream",
     "text": [
      "Running KNN\n",
      "Scoring cell cycle\n",
      "calculating cell cycle phase\n"
     ]
    },
    {
     "name": "stderr",
     "output_type": "stream",
     "text": [
      "Processing groups:  73%|███████▎  | 62/85 [6:03:43<2:10:03, 339.29s/it]"
     ]
    },
    {
     "name": "stdout",
     "output_type": "stream",
     "text": [
      "-->     'S_score' and 'G2M_score', scores of cell cycle phases (adata.obs)\n",
      "Running labelTransfer on Sample 1_CTL08A_501\n",
      "Preparing reference and query\n",
      "Found mismatch between Ref and Query vars: will unify\n",
      "Scaling: True\n",
      "Running ingestion\n",
      "Running scANVI\n",
      "GPU with the lowest utilization is:  0\n"
     ]
    },
    {
     "name": "stderr",
     "output_type": "stream",
     "text": [
      "GPU available: True (cuda), used: True\n",
      "TPU available: False, using: 0 TPU cores\n",
      "HPU available: False, using: 0 HPUs\n",
      "LOCAL_RANK: 0 - CUDA_VISIBLE_DEVICES: [0,1,2,3]\n"
     ]
    },
    {
     "name": "stdout",
     "output_type": "stream",
     "text": [
      "Epoch 60/60: 100%|██████████| 60/60 [02:43<00:00,  2.78s/it, v_num=1, train_loss_step=3.52e+3, train_loss_epoch=3.21e+3]"
     ]
    },
    {
     "name": "stderr",
     "output_type": "stream",
     "text": [
      "`Trainer.fit` stopped: `max_epochs=60` reached.\n"
     ]
    },
    {
     "name": "stdout",
     "output_type": "stream",
     "text": [
      "Epoch 60/60: 100%|██████████| 60/60 [02:43<00:00,  2.72s/it, v_num=1, train_loss_step=3.52e+3, train_loss_epoch=3.21e+3]\n",
      "\u001b[34mINFO    \u001b[0m Training for \u001b[1;36m20\u001b[0m epochs.                                                                                   \n"
     ]
    },
    {
     "name": "stderr",
     "output_type": "stream",
     "text": [
      "GPU available: True (cuda), used: True\n",
      "TPU available: False, using: 0 TPU cores\n",
      "HPU available: False, using: 0 HPUs\n",
      "LOCAL_RANK: 0 - CUDA_VISIBLE_DEVICES: [0,1,2,3]\n"
     ]
    },
    {
     "name": "stdout",
     "output_type": "stream",
     "text": [
      "Epoch 20/20: 100%|██████████| 20/20 [02:01<00:00,  6.16s/it, v_num=1, train_loss_step=3.19e+3, train_loss_epoch=3.21e+3]"
     ]
    },
    {
     "name": "stderr",
     "output_type": "stream",
     "text": [
      "`Trainer.fit` stopped: `max_epochs=20` reached.\n"
     ]
    },
    {
     "name": "stdout",
     "output_type": "stream",
     "text": [
      "Epoch 20/20: 100%|██████████| 20/20 [02:01<00:00,  6.10s/it, v_num=1, train_loss_step=3.19e+3, train_loss_epoch=3.21e+3]\n",
      "Running harmony\n"
     ]
    },
    {
     "name": "stderr",
     "output_type": "stream",
     "text": [
      "... storing 'groupCov' as categorical\n",
      "... storing 'harmonizedRegion' as categorical\n",
      "... storing 'tissue' as categorical\n",
      "... storing 'study' as categorical\n",
      "... storing 'LabelTransfer_scANVI' as categorical\n",
      "... storing 'LabelTransfer_harmony' as categorical\n",
      "... storing 'HarmonyBatch' as categorical\n",
      "2025-02-28 23:24:53,504 - harmonypy - INFO - Computing initial centroids with sklearn.KMeans...\n",
      "INFO:harmonypy:Computing initial centroids with sklearn.KMeans...\n",
      "2025-02-28 23:24:57,072 - harmonypy - INFO - sklearn.KMeans initialization complete.\n",
      "INFO:harmonypy:sklearn.KMeans initialization complete.\n",
      "2025-02-28 23:24:57,158 - harmonypy - INFO - Iteration 1 of 20\n",
      "INFO:harmonypy:Iteration 1 of 20\n",
      "2025-02-28 23:25:03,950 - harmonypy - INFO - Iteration 2 of 20\n",
      "INFO:harmonypy:Iteration 2 of 20\n",
      "2025-02-28 23:25:10,646 - harmonypy - INFO - Converged after 2 iterations\n",
      "INFO:harmonypy:Converged after 2 iterations\n"
     ]
    },
    {
     "name": "stdout",
     "output_type": "stream",
     "text": [
      "Running KNN\n",
      "Scoring cell cycle\n",
      "calculating cell cycle phase\n"
     ]
    },
    {
     "name": "stderr",
     "output_type": "stream",
     "text": [
      "Processing groups:  74%|███████▍  | 63/85 [6:09:11<2:03:09, 335.89s/it]"
     ]
    },
    {
     "name": "stdout",
     "output_type": "stream",
     "text": [
      "-->     'S_score' and 'G2M_score', scores of cell cycle phases (adata.obs)\n",
      "Running labelTransfer on Sample 2_CTL04E_501\n",
      "Preparing reference and query\n",
      "Found mismatch between Ref and Query vars: will unify\n",
      "Scaling: True\n",
      "Running ingestion\n",
      "Running scANVI\n",
      "GPU with the lowest utilization is:  0\n"
     ]
    },
    {
     "name": "stderr",
     "output_type": "stream",
     "text": [
      "GPU available: True (cuda), used: True\n",
      "TPU available: False, using: 0 TPU cores\n",
      "HPU available: False, using: 0 HPUs\n",
      "LOCAL_RANK: 0 - CUDA_VISIBLE_DEVICES: [0,1,2,3]\n"
     ]
    },
    {
     "name": "stdout",
     "output_type": "stream",
     "text": [
      "Epoch 60/60: 100%|██████████| 60/60 [02:34<00:00,  2.54s/it, v_num=1, train_loss_step=3.28e+3, train_loss_epoch=3.16e+3]"
     ]
    },
    {
     "name": "stderr",
     "output_type": "stream",
     "text": [
      "`Trainer.fit` stopped: `max_epochs=60` reached.\n"
     ]
    },
    {
     "name": "stdout",
     "output_type": "stream",
     "text": [
      "Epoch 60/60: 100%|██████████| 60/60 [02:34<00:00,  2.58s/it, v_num=1, train_loss_step=3.28e+3, train_loss_epoch=3.16e+3]\n",
      "\u001b[34mINFO    \u001b[0m Training for \u001b[1;36m20\u001b[0m epochs.                                                                                   \n"
     ]
    },
    {
     "name": "stderr",
     "output_type": "stream",
     "text": [
      "GPU available: True (cuda), used: True\n",
      "TPU available: False, using: 0 TPU cores\n",
      "HPU available: False, using: 0 HPUs\n",
      "LOCAL_RANK: 0 - CUDA_VISIBLE_DEVICES: [0,1,2,3]\n"
     ]
    },
    {
     "name": "stdout",
     "output_type": "stream",
     "text": [
      "Epoch 20/20: 100%|██████████| 20/20 [01:57<00:00,  5.88s/it, v_num=1, train_loss_step=3.29e+3, train_loss_epoch=3.15e+3]"
     ]
    },
    {
     "name": "stderr",
     "output_type": "stream",
     "text": [
      "`Trainer.fit` stopped: `max_epochs=20` reached.\n"
     ]
    },
    {
     "name": "stdout",
     "output_type": "stream",
     "text": [
      "Epoch 20/20: 100%|██████████| 20/20 [01:57<00:00,  5.89s/it, v_num=1, train_loss_step=3.29e+3, train_loss_epoch=3.15e+3]\n",
      "Running harmony\n"
     ]
    },
    {
     "name": "stderr",
     "output_type": "stream",
     "text": [
      "... storing 'groupCov' as categorical\n",
      "... storing 'harmonizedRegion' as categorical\n",
      "... storing 'tissue' as categorical\n",
      "... storing 'study' as categorical\n",
      "... storing 'LabelTransfer_scANVI' as categorical\n",
      "... storing 'LabelTransfer_harmony' as categorical\n",
      "... storing 'HarmonyBatch' as categorical\n",
      "2025-02-28 23:30:07,223 - harmonypy - INFO - Computing initial centroids with sklearn.KMeans...\n",
      "INFO:harmonypy:Computing initial centroids with sklearn.KMeans...\n",
      "2025-02-28 23:30:10,803 - harmonypy - INFO - sklearn.KMeans initialization complete.\n",
      "INFO:harmonypy:sklearn.KMeans initialization complete.\n",
      "2025-02-28 23:30:10,978 - harmonypy - INFO - Iteration 1 of 20\n",
      "INFO:harmonypy:Iteration 1 of 20\n",
      "2025-02-28 23:30:17,180 - harmonypy - INFO - Iteration 2 of 20\n",
      "INFO:harmonypy:Iteration 2 of 20\n",
      "2025-02-28 23:30:23,024 - harmonypy - INFO - Converged after 2 iterations\n",
      "INFO:harmonypy:Converged after 2 iterations\n"
     ]
    },
    {
     "name": "stdout",
     "output_type": "stream",
     "text": [
      "Running KNN\n",
      "Scoring cell cycle\n",
      "calculating cell cycle phase\n"
     ]
    },
    {
     "name": "stderr",
     "output_type": "stream",
     "text": [
      "Processing groups:  75%|███████▌  | 64/85 [6:14:24<1:55:08, 328.97s/it]"
     ]
    },
    {
     "name": "stdout",
     "output_type": "stream",
     "text": [
      "-->     'S_score' and 'G2M_score', scores of cell cycle phases (adata.obs)\n",
      "Running labelTransfer on Sample 1_CTL04E_501\n",
      "Preparing reference and query\n",
      "Found mismatch between Ref and Query vars: will unify\n",
      "Scaling: True\n",
      "Running ingestion\n",
      "Running scANVI\n",
      "GPU with the lowest utilization is:  0\n"
     ]
    },
    {
     "name": "stderr",
     "output_type": "stream",
     "text": [
      "GPU available: True (cuda), used: True\n",
      "TPU available: False, using: 0 TPU cores\n",
      "HPU available: False, using: 0 HPUs\n",
      "LOCAL_RANK: 0 - CUDA_VISIBLE_DEVICES: [0,1,2,3]\n"
     ]
    },
    {
     "name": "stdout",
     "output_type": "stream",
     "text": [
      "Epoch 60/60: 100%|██████████| 60/60 [02:33<00:00,  2.54s/it, v_num=1, train_loss_step=3.3e+3, train_loss_epoch=3.19e+3] "
     ]
    },
    {
     "name": "stderr",
     "output_type": "stream",
     "text": [
      "`Trainer.fit` stopped: `max_epochs=60` reached.\n"
     ]
    },
    {
     "name": "stdout",
     "output_type": "stream",
     "text": [
      "Epoch 60/60: 100%|██████████| 60/60 [02:33<00:00,  2.56s/it, v_num=1, train_loss_step=3.3e+3, train_loss_epoch=3.19e+3]\n",
      "\u001b[34mINFO    \u001b[0m Training for \u001b[1;36m20\u001b[0m epochs.                                                                                   \n"
     ]
    },
    {
     "name": "stderr",
     "output_type": "stream",
     "text": [
      "GPU available: True (cuda), used: True\n",
      "TPU available: False, using: 0 TPU cores\n",
      "HPU available: False, using: 0 HPUs\n",
      "LOCAL_RANK: 0 - CUDA_VISIBLE_DEVICES: [0,1,2,3]\n"
     ]
    },
    {
     "name": "stdout",
     "output_type": "stream",
     "text": [
      "Epoch 20/20: 100%|██████████| 20/20 [01:59<00:00,  5.93s/it, v_num=1, train_loss_step=3.02e+3, train_loss_epoch=3.18e+3]"
     ]
    },
    {
     "name": "stderr",
     "output_type": "stream",
     "text": [
      "`Trainer.fit` stopped: `max_epochs=20` reached.\n"
     ]
    },
    {
     "name": "stdout",
     "output_type": "stream",
     "text": [
      "Epoch 20/20: 100%|██████████| 20/20 [01:59<00:00,  5.95s/it, v_num=1, train_loss_step=3.02e+3, train_loss_epoch=3.18e+3]\n",
      "Running harmony\n"
     ]
    },
    {
     "name": "stderr",
     "output_type": "stream",
     "text": [
      "... storing 'groupCov' as categorical\n",
      "... storing 'harmonizedRegion' as categorical\n",
      "... storing 'tissue' as categorical\n",
      "... storing 'study' as categorical\n",
      "... storing 'LabelTransfer_scANVI' as categorical\n",
      "... storing 'LabelTransfer_harmony' as categorical\n",
      "... storing 'HarmonyBatch' as categorical\n",
      "2025-02-28 23:35:20,265 - harmonypy - INFO - Computing initial centroids with sklearn.KMeans...\n",
      "INFO:harmonypy:Computing initial centroids with sklearn.KMeans...\n",
      "2025-02-28 23:35:23,889 - harmonypy - INFO - sklearn.KMeans initialization complete.\n",
      "INFO:harmonypy:sklearn.KMeans initialization complete.\n",
      "2025-02-28 23:35:24,050 - harmonypy - INFO - Iteration 1 of 20\n",
      "INFO:harmonypy:Iteration 1 of 20\n",
      "2025-02-28 23:35:30,166 - harmonypy - INFO - Iteration 2 of 20\n",
      "INFO:harmonypy:Iteration 2 of 20\n",
      "2025-02-28 23:35:36,285 - harmonypy - INFO - Converged after 2 iterations\n",
      "INFO:harmonypy:Converged after 2 iterations\n"
     ]
    },
    {
     "name": "stdout",
     "output_type": "stream",
     "text": [
      "Running KNN\n",
      "Scoring cell cycle\n",
      "calculating cell cycle phase\n"
     ]
    },
    {
     "name": "stderr",
     "output_type": "stream",
     "text": [
      "Processing groups:  76%|███████▋  | 65/85 [6:19:37<1:48:03, 324.18s/it]"
     ]
    },
    {
     "name": "stdout",
     "output_type": "stream",
     "text": [
      "-->     'S_score' and 'G2M_score', scores of cell cycle phases (adata.obs)\n",
      "Running labelTransfer on Sample 2_CTL08A_501\n",
      "Preparing reference and query\n",
      "Found mismatch between Ref and Query vars: will unify\n",
      "Scaling: True\n",
      "Running ingestion\n",
      "Running scANVI\n",
      "GPU with the lowest utilization is:  0\n"
     ]
    },
    {
     "name": "stderr",
     "output_type": "stream",
     "text": [
      "GPU available: True (cuda), used: True\n",
      "TPU available: False, using: 0 TPU cores\n",
      "HPU available: False, using: 0 HPUs\n",
      "LOCAL_RANK: 0 - CUDA_VISIBLE_DEVICES: [0,1,2,3]\n"
     ]
    },
    {
     "name": "stdout",
     "output_type": "stream",
     "text": [
      "Epoch 60/60: 100%|██████████| 60/60 [02:39<00:00,  2.69s/it, v_num=1, train_loss_step=3.1e+3, train_loss_epoch=3.14e+3] "
     ]
    },
    {
     "name": "stderr",
     "output_type": "stream",
     "text": [
      "`Trainer.fit` stopped: `max_epochs=60` reached.\n"
     ]
    },
    {
     "name": "stdout",
     "output_type": "stream",
     "text": [
      "Epoch 60/60: 100%|██████████| 60/60 [02:39<00:00,  2.67s/it, v_num=1, train_loss_step=3.1e+3, train_loss_epoch=3.14e+3]\n",
      "\u001b[34mINFO    \u001b[0m Training for \u001b[1;36m20\u001b[0m epochs.                                                                                   \n"
     ]
    },
    {
     "name": "stderr",
     "output_type": "stream",
     "text": [
      "GPU available: True (cuda), used: True\n",
      "TPU available: False, using: 0 TPU cores\n",
      "HPU available: False, using: 0 HPUs\n",
      "LOCAL_RANK: 0 - CUDA_VISIBLE_DEVICES: [0,1,2,3]\n"
     ]
    },
    {
     "name": "stdout",
     "output_type": "stream",
     "text": [
      "Epoch 20/20: 100%|██████████| 20/20 [02:03<00:00,  6.20s/it, v_num=1, train_loss_step=3.25e+3, train_loss_epoch=3.15e+3]"
     ]
    },
    {
     "name": "stderr",
     "output_type": "stream",
     "text": [
      "`Trainer.fit` stopped: `max_epochs=20` reached.\n"
     ]
    },
    {
     "name": "stdout",
     "output_type": "stream",
     "text": [
      "Epoch 20/20: 100%|██████████| 20/20 [02:03<00:00,  6.19s/it, v_num=1, train_loss_step=3.25e+3, train_loss_epoch=3.15e+3]\n",
      "Running harmony\n"
     ]
    },
    {
     "name": "stderr",
     "output_type": "stream",
     "text": [
      "... storing 'groupCov' as categorical\n",
      "... storing 'harmonizedRegion' as categorical\n",
      "... storing 'tissue' as categorical\n",
      "... storing 'study' as categorical\n",
      "... storing 'LabelTransfer_scANVI' as categorical\n",
      "... storing 'LabelTransfer_harmony' as categorical\n",
      "... storing 'HarmonyBatch' as categorical\n",
      "2025-02-28 23:40:45,814 - harmonypy - INFO - Computing initial centroids with sklearn.KMeans...\n",
      "INFO:harmonypy:Computing initial centroids with sklearn.KMeans...\n",
      "2025-02-28 23:40:49,602 - harmonypy - INFO - sklearn.KMeans initialization complete.\n",
      "INFO:harmonypy:sklearn.KMeans initialization complete.\n",
      "2025-02-28 23:40:49,755 - harmonypy - INFO - Iteration 1 of 20\n",
      "INFO:harmonypy:Iteration 1 of 20\n",
      "2025-02-28 23:40:55,979 - harmonypy - INFO - Iteration 2 of 20\n",
      "INFO:harmonypy:Iteration 2 of 20\n",
      "2025-02-28 23:41:02,099 - harmonypy - INFO - Converged after 2 iterations\n",
      "INFO:harmonypy:Converged after 2 iterations\n"
     ]
    },
    {
     "name": "stdout",
     "output_type": "stream",
     "text": [
      "Running KNN\n",
      "Scoring cell cycle\n",
      "calculating cell cycle phase\n"
     ]
    },
    {
     "name": "stderr",
     "output_type": "stream",
     "text": [
      "Processing groups:  78%|███████▊  | 66/85 [6:25:03<1:42:46, 324.56s/it]"
     ]
    },
    {
     "name": "stdout",
     "output_type": "stream",
     "text": [
      "-->     'S_score' and 'G2M_score', scores of cell cycle phases (adata.obs)\n",
      "Running labelTransfer on Sample 3_CTL04E_502\n",
      "Preparing reference and query\n",
      "Found mismatch between Ref and Query vars: will unify\n",
      "Scaling: True\n",
      "Running ingestion\n",
      "Running scANVI\n",
      "GPU with the lowest utilization is:  0\n"
     ]
    },
    {
     "name": "stderr",
     "output_type": "stream",
     "text": [
      "GPU available: True (cuda), used: True\n",
      "TPU available: False, using: 0 TPU cores\n",
      "HPU available: False, using: 0 HPUs\n",
      "LOCAL_RANK: 0 - CUDA_VISIBLE_DEVICES: [0,1,2,3]\n"
     ]
    },
    {
     "name": "stdout",
     "output_type": "stream",
     "text": [
      "Epoch 60/60: 100%|██████████| 60/60 [02:35<00:00,  2.57s/it, v_num=1, train_loss_step=3.45e+3, train_loss_epoch=3.21e+3]"
     ]
    },
    {
     "name": "stderr",
     "output_type": "stream",
     "text": [
      "`Trainer.fit` stopped: `max_epochs=60` reached.\n"
     ]
    },
    {
     "name": "stdout",
     "output_type": "stream",
     "text": [
      "Epoch 60/60: 100%|██████████| 60/60 [02:35<00:00,  2.59s/it, v_num=1, train_loss_step=3.45e+3, train_loss_epoch=3.21e+3]\n",
      "\u001b[34mINFO    \u001b[0m Training for \u001b[1;36m20\u001b[0m epochs.                                                                                   \n"
     ]
    },
    {
     "name": "stderr",
     "output_type": "stream",
     "text": [
      "GPU available: True (cuda), used: True\n",
      "TPU available: False, using: 0 TPU cores\n",
      "HPU available: False, using: 0 HPUs\n",
      "LOCAL_RANK: 0 - CUDA_VISIBLE_DEVICES: [0,1,2,3]\n"
     ]
    },
    {
     "name": "stdout",
     "output_type": "stream",
     "text": [
      "Epoch 20/20: 100%|██████████| 20/20 [02:00<00:00,  6.04s/it, v_num=1, train_loss_step=3.03e+3, train_loss_epoch=3.2e+3] "
     ]
    },
    {
     "name": "stderr",
     "output_type": "stream",
     "text": [
      "`Trainer.fit` stopped: `max_epochs=20` reached.\n"
     ]
    },
    {
     "name": "stdout",
     "output_type": "stream",
     "text": [
      "Epoch 20/20: 100%|██████████| 20/20 [02:00<00:00,  6.04s/it, v_num=1, train_loss_step=3.03e+3, train_loss_epoch=3.2e+3]\n",
      "Running harmony\n"
     ]
    },
    {
     "name": "stderr",
     "output_type": "stream",
     "text": [
      "... storing 'groupCov' as categorical\n",
      "... storing 'harmonizedRegion' as categorical\n",
      "... storing 'tissue' as categorical\n",
      "... storing 'study' as categorical\n",
      "... storing 'LabelTransfer_scANVI' as categorical\n",
      "... storing 'LabelTransfer_harmony' as categorical\n",
      "... storing 'HarmonyBatch' as categorical\n",
      "2025-02-28 23:46:04,742 - harmonypy - INFO - Computing initial centroids with sklearn.KMeans...\n",
      "INFO:harmonypy:Computing initial centroids with sklearn.KMeans...\n",
      "2025-02-28 23:46:08,222 - harmonypy - INFO - sklearn.KMeans initialization complete.\n",
      "INFO:harmonypy:sklearn.KMeans initialization complete.\n",
      "2025-02-28 23:46:08,350 - harmonypy - INFO - Iteration 1 of 20\n",
      "INFO:harmonypy:Iteration 1 of 20\n",
      "2025-02-28 23:46:15,700 - harmonypy - INFO - Iteration 2 of 20\n",
      "INFO:harmonypy:Iteration 2 of 20\n",
      "2025-02-28 23:46:23,574 - harmonypy - INFO - Converged after 2 iterations\n",
      "INFO:harmonypy:Converged after 2 iterations\n"
     ]
    },
    {
     "name": "stdout",
     "output_type": "stream",
     "text": [
      "Running KNN\n",
      "Scoring cell cycle\n",
      "calculating cell cycle phase\n",
      "-->     'S_score' and 'G2M_score', scores of cell cycle phases (adata.obs)\n"
     ]
    },
    {
     "name": "stderr",
     "output_type": "stream",
     "text": [
      "Processing groups:  79%|███████▉  | 67/85 [6:30:25<1:37:10, 323.93s/it]"
     ]
    },
    {
     "name": "stdout",
     "output_type": "stream",
     "text": [
      "Running labelTransfer on Sample 3_CTL08A_502\n",
      "Preparing reference and query\n",
      "Found mismatch between Ref and Query vars: will unify\n",
      "Scaling: True\n",
      "Running ingestion\n",
      "Running scANVI\n",
      "GPU with the lowest utilization is:  0\n"
     ]
    },
    {
     "name": "stderr",
     "output_type": "stream",
     "text": [
      "GPU available: True (cuda), used: True\n",
      "TPU available: False, using: 0 TPU cores\n",
      "HPU available: False, using: 0 HPUs\n",
      "LOCAL_RANK: 0 - CUDA_VISIBLE_DEVICES: [0,1,2,3]\n"
     ]
    },
    {
     "name": "stdout",
     "output_type": "stream",
     "text": [
      "Epoch 60/60: 100%|██████████| 60/60 [02:44<00:00,  2.80s/it, v_num=1, train_loss_step=3.4e+3, train_loss_epoch=3.21e+3] "
     ]
    },
    {
     "name": "stderr",
     "output_type": "stream",
     "text": [
      "`Trainer.fit` stopped: `max_epochs=60` reached.\n"
     ]
    },
    {
     "name": "stdout",
     "output_type": "stream",
     "text": [
      "Epoch 60/60: 100%|██████████| 60/60 [02:44<00:00,  2.74s/it, v_num=1, train_loss_step=3.4e+3, train_loss_epoch=3.21e+3]\n",
      "\u001b[34mINFO    \u001b[0m Training for \u001b[1;36m20\u001b[0m epochs.                                                                                   \n"
     ]
    },
    {
     "name": "stderr",
     "output_type": "stream",
     "text": [
      "GPU available: True (cuda), used: True\n",
      "TPU available: False, using: 0 TPU cores\n",
      "HPU available: False, using: 0 HPUs\n",
      "LOCAL_RANK: 0 - CUDA_VISIBLE_DEVICES: [0,1,2,3]\n"
     ]
    },
    {
     "name": "stdout",
     "output_type": "stream",
     "text": [
      "Epoch 20/20: 100%|██████████| 20/20 [02:06<00:00,  6.49s/it, v_num=1, train_loss_step=3.38e+3, train_loss_epoch=3.2e+3] "
     ]
    },
    {
     "name": "stderr",
     "output_type": "stream",
     "text": [
      "`Trainer.fit` stopped: `max_epochs=20` reached.\n"
     ]
    },
    {
     "name": "stdout",
     "output_type": "stream",
     "text": [
      "Epoch 20/20: 100%|██████████| 20/20 [02:06<00:00,  6.33s/it, v_num=1, train_loss_step=3.38e+3, train_loss_epoch=3.2e+3]\n",
      "Running harmony\n"
     ]
    },
    {
     "name": "stderr",
     "output_type": "stream",
     "text": [
      "... storing 'groupCov' as categorical\n",
      "... storing 'harmonizedRegion' as categorical\n",
      "... storing 'tissue' as categorical\n",
      "... storing 'study' as categorical\n",
      "... storing 'LabelTransfer_scANVI' as categorical\n",
      "... storing 'LabelTransfer_harmony' as categorical\n",
      "... storing 'HarmonyBatch' as categorical\n",
      "2025-02-28 23:51:48,631 - harmonypy - INFO - Computing initial centroids with sklearn.KMeans...\n",
      "INFO:harmonypy:Computing initial centroids with sklearn.KMeans...\n",
      "2025-02-28 23:51:52,175 - harmonypy - INFO - sklearn.KMeans initialization complete.\n",
      "INFO:harmonypy:sklearn.KMeans initialization complete.\n",
      "2025-02-28 23:51:52,332 - harmonypy - INFO - Iteration 1 of 20\n",
      "INFO:harmonypy:Iteration 1 of 20\n",
      "2025-02-28 23:51:59,134 - harmonypy - INFO - Iteration 2 of 20\n",
      "INFO:harmonypy:Iteration 2 of 20\n",
      "2025-02-28 23:52:05,875 - harmonypy - INFO - Converged after 2 iterations\n",
      "INFO:harmonypy:Converged after 2 iterations\n"
     ]
    },
    {
     "name": "stdout",
     "output_type": "stream",
     "text": [
      "Running KNN\n",
      "Scoring cell cycle\n",
      "calculating cell cycle phase\n"
     ]
    },
    {
     "name": "stderr",
     "output_type": "stream",
     "text": [
      "Processing groups:  80%|████████  | 68/85 [6:36:07<1:33:17, 329.25s/it]"
     ]
    },
    {
     "name": "stdout",
     "output_type": "stream",
     "text": [
      "-->     'S_score' and 'G2M_score', scores of cell cycle phases (adata.obs)\n",
      "Running labelTransfer on Sample 1_CTL04E_502\n",
      "Preparing reference and query\n",
      "Found mismatch between Ref and Query vars: will unify\n",
      "Scaling: True\n",
      "Running ingestion\n",
      "Running scANVI\n",
      "GPU with the lowest utilization is:  0\n"
     ]
    },
    {
     "name": "stderr",
     "output_type": "stream",
     "text": [
      "GPU available: True (cuda), used: True\n",
      "TPU available: False, using: 0 TPU cores\n",
      "HPU available: False, using: 0 HPUs\n",
      "LOCAL_RANK: 0 - CUDA_VISIBLE_DEVICES: [0,1,2,3]\n"
     ]
    },
    {
     "name": "stdout",
     "output_type": "stream",
     "text": [
      "Epoch 60/60: 100%|██████████| 60/60 [02:28<00:00,  2.44s/it, v_num=1, train_loss_step=2.65e+3, train_loss_epoch=3.06e+3]"
     ]
    },
    {
     "name": "stderr",
     "output_type": "stream",
     "text": [
      "`Trainer.fit` stopped: `max_epochs=60` reached.\n"
     ]
    },
    {
     "name": "stdout",
     "output_type": "stream",
     "text": [
      "Epoch 60/60: 100%|██████████| 60/60 [02:28<00:00,  2.48s/it, v_num=1, train_loss_step=2.65e+3, train_loss_epoch=3.06e+3]\n",
      "\u001b[34mINFO    \u001b[0m Training for \u001b[1;36m20\u001b[0m epochs.                                                                                   \n"
     ]
    },
    {
     "name": "stderr",
     "output_type": "stream",
     "text": [
      "GPU available: True (cuda), used: True\n",
      "TPU available: False, using: 0 TPU cores\n",
      "HPU available: False, using: 0 HPUs\n",
      "LOCAL_RANK: 0 - CUDA_VISIBLE_DEVICES: [0,1,2,3]\n"
     ]
    },
    {
     "name": "stdout",
     "output_type": "stream",
     "text": [
      "Epoch 20/20: 100%|██████████| 20/20 [01:56<00:00,  5.83s/it, v_num=1, train_loss_step=2.86e+3, train_loss_epoch=3.05e+3]"
     ]
    },
    {
     "name": "stderr",
     "output_type": "stream",
     "text": [
      "`Trainer.fit` stopped: `max_epochs=20` reached.\n"
     ]
    },
    {
     "name": "stdout",
     "output_type": "stream",
     "text": [
      "Epoch 20/20: 100%|██████████| 20/20 [01:56<00:00,  5.84s/it, v_num=1, train_loss_step=2.86e+3, train_loss_epoch=3.05e+3]\n",
      "Running harmony\n"
     ]
    },
    {
     "name": "stderr",
     "output_type": "stream",
     "text": [
      "... storing 'groupCov' as categorical\n",
      "... storing 'harmonizedRegion' as categorical\n",
      "... storing 'tissue' as categorical\n",
      "... storing 'study' as categorical\n",
      "... storing 'LabelTransfer_scANVI' as categorical\n",
      "... storing 'LabelTransfer_harmony' as categorical\n",
      "... storing 'HarmonyBatch' as categorical\n",
      "2025-02-28 23:56:53,204 - harmonypy - INFO - Computing initial centroids with sklearn.KMeans...\n",
      "INFO:harmonypy:Computing initial centroids with sklearn.KMeans...\n",
      "2025-02-28 23:56:56,500 - harmonypy - INFO - sklearn.KMeans initialization complete.\n",
      "INFO:harmonypy:sklearn.KMeans initialization complete.\n",
      "2025-02-28 23:56:56,646 - harmonypy - INFO - Iteration 1 of 20\n",
      "INFO:harmonypy:Iteration 1 of 20\n",
      "2025-02-28 23:57:02,896 - harmonypy - INFO - Iteration 2 of 20\n",
      "INFO:harmonypy:Iteration 2 of 20\n",
      "2025-02-28 23:57:09,121 - harmonypy - INFO - Iteration 3 of 20\n",
      "INFO:harmonypy:Iteration 3 of 20\n",
      "2025-02-28 23:57:15,374 - harmonypy - INFO - Iteration 4 of 20\n",
      "INFO:harmonypy:Iteration 4 of 20\n",
      "2025-02-28 23:57:19,111 - harmonypy - INFO - Iteration 5 of 20\n",
      "INFO:harmonypy:Iteration 5 of 20\n",
      "2025-02-28 23:57:22,111 - harmonypy - INFO - Iteration 6 of 20\n",
      "INFO:harmonypy:Iteration 6 of 20\n",
      "2025-02-28 23:57:24,757 - harmonypy - INFO - Iteration 7 of 20\n",
      "INFO:harmonypy:Iteration 7 of 20\n",
      "2025-02-28 23:57:27,500 - harmonypy - INFO - Iteration 8 of 20\n",
      "INFO:harmonypy:Iteration 8 of 20\n",
      "2025-02-28 23:57:29,876 - harmonypy - INFO - Iteration 9 of 20\n",
      "INFO:harmonypy:Iteration 9 of 20\n",
      "2025-02-28 23:57:32,886 - harmonypy - INFO - Iteration 10 of 20\n",
      "INFO:harmonypy:Iteration 10 of 20\n",
      "2025-02-28 23:57:36,569 - harmonypy - INFO - Iteration 11 of 20\n",
      "INFO:harmonypy:Iteration 11 of 20\n",
      "2025-02-28 23:57:39,223 - harmonypy - INFO - Iteration 12 of 20\n",
      "INFO:harmonypy:Iteration 12 of 20\n",
      "2025-02-28 23:57:41,580 - harmonypy - INFO - Iteration 13 of 20\n",
      "INFO:harmonypy:Iteration 13 of 20\n",
      "2025-02-28 23:57:44,183 - harmonypy - INFO - Iteration 14 of 20\n",
      "INFO:harmonypy:Iteration 14 of 20\n",
      "2025-02-28 23:57:46,854 - harmonypy - INFO - Iteration 15 of 20\n",
      "INFO:harmonypy:Iteration 15 of 20\n",
      "2025-02-28 23:57:48,931 - harmonypy - INFO - Iteration 16 of 20\n",
      "INFO:harmonypy:Iteration 16 of 20\n",
      "2025-02-28 23:57:51,291 - harmonypy - INFO - Iteration 17 of 20\n",
      "INFO:harmonypy:Iteration 17 of 20\n",
      "2025-02-28 23:57:53,400 - harmonypy - INFO - Converged after 17 iterations\n",
      "INFO:harmonypy:Converged after 17 iterations\n"
     ]
    },
    {
     "name": "stdout",
     "output_type": "stream",
     "text": [
      "Running KNN\n",
      "Scoring cell cycle\n",
      "calculating cell cycle phase\n"
     ]
    },
    {
     "name": "stderr",
     "output_type": "stream",
     "text": [
      "Processing groups:  81%|████████  | 69/85 [6:41:54<1:29:15, 334.73s/it]"
     ]
    },
    {
     "name": "stdout",
     "output_type": "stream",
     "text": [
      "-->     'S_score' and 'G2M_score', scores of cell cycle phases (adata.obs)\n",
      "Running labelTransfer on Sample 1_CTL08A_502\n",
      "Preparing reference and query\n",
      "Found mismatch between Ref and Query vars: will unify\n",
      "Scaling: True\n",
      "Running ingestion\n",
      "Running scANVI\n",
      "GPU with the lowest utilization is:  0\n"
     ]
    },
    {
     "name": "stderr",
     "output_type": "stream",
     "text": [
      "GPU available: True (cuda), used: True\n",
      "TPU available: False, using: 0 TPU cores\n",
      "HPU available: False, using: 0 HPUs\n",
      "LOCAL_RANK: 0 - CUDA_VISIBLE_DEVICES: [0,1,2,3]\n"
     ]
    },
    {
     "name": "stdout",
     "output_type": "stream",
     "text": [
      "Epoch 60/60: 100%|██████████| 60/60 [02:41<00:00,  2.69s/it, v_num=1, train_loss_step=3.33e+3, train_loss_epoch=3.2e+3] "
     ]
    },
    {
     "name": "stderr",
     "output_type": "stream",
     "text": [
      "`Trainer.fit` stopped: `max_epochs=60` reached.\n"
     ]
    },
    {
     "name": "stdout",
     "output_type": "stream",
     "text": [
      "Epoch 60/60: 100%|██████████| 60/60 [02:41<00:00,  2.70s/it, v_num=1, train_loss_step=3.33e+3, train_loss_epoch=3.2e+3]\n",
      "\u001b[34mINFO    \u001b[0m Training for \u001b[1;36m20\u001b[0m epochs.                                                                                   \n"
     ]
    },
    {
     "name": "stderr",
     "output_type": "stream",
     "text": [
      "GPU available: True (cuda), used: True\n",
      "TPU available: False, using: 0 TPU cores\n",
      "HPU available: False, using: 0 HPUs\n",
      "LOCAL_RANK: 0 - CUDA_VISIBLE_DEVICES: [0,1,2,3]\n"
     ]
    },
    {
     "name": "stdout",
     "output_type": "stream",
     "text": [
      "Epoch 20/20: 100%|██████████| 20/20 [02:01<00:00,  6.04s/it, v_num=1, train_loss_step=3.28e+3, train_loss_epoch=3.19e+3]"
     ]
    },
    {
     "name": "stderr",
     "output_type": "stream",
     "text": [
      "`Trainer.fit` stopped: `max_epochs=20` reached.\n"
     ]
    },
    {
     "name": "stdout",
     "output_type": "stream",
     "text": [
      "Epoch 20/20: 100%|██████████| 20/20 [02:01<00:00,  6.10s/it, v_num=1, train_loss_step=3.28e+3, train_loss_epoch=3.19e+3]\n",
      "Running harmony\n"
     ]
    },
    {
     "name": "stderr",
     "output_type": "stream",
     "text": [
      "... storing 'groupCov' as categorical\n",
      "... storing 'harmonizedRegion' as categorical\n",
      "... storing 'tissue' as categorical\n",
      "... storing 'study' as categorical\n",
      "... storing 'LabelTransfer_scANVI' as categorical\n",
      "... storing 'LabelTransfer_harmony' as categorical\n",
      "... storing 'HarmonyBatch' as categorical\n",
      "2025-03-01 00:03:05,521 - harmonypy - INFO - Computing initial centroids with sklearn.KMeans...\n",
      "INFO:harmonypy:Computing initial centroids with sklearn.KMeans...\n",
      "2025-03-01 00:03:09,183 - harmonypy - INFO - sklearn.KMeans initialization complete.\n",
      "INFO:harmonypy:sklearn.KMeans initialization complete.\n",
      "2025-03-01 00:03:09,285 - harmonypy - INFO - Iteration 1 of 20\n",
      "INFO:harmonypy:Iteration 1 of 20\n",
      "2025-03-01 00:03:17,024 - harmonypy - INFO - Iteration 2 of 20\n",
      "INFO:harmonypy:Iteration 2 of 20\n",
      "2025-03-01 00:03:25,102 - harmonypy - INFO - Converged after 2 iterations\n",
      "INFO:harmonypy:Converged after 2 iterations\n"
     ]
    },
    {
     "name": "stdout",
     "output_type": "stream",
     "text": [
      "Running KNN\n",
      "Scoring cell cycle\n",
      "calculating cell cycle phase\n"
     ]
    },
    {
     "name": "stderr",
     "output_type": "stream",
     "text": [
      "Processing groups:  82%|████████▏ | 70/85 [6:47:26<1:23:29, 333.95s/it]"
     ]
    },
    {
     "name": "stdout",
     "output_type": "stream",
     "text": [
      "-->     'S_score' and 'G2M_score', scores of cell cycle phases (adata.obs)\n",
      "Running labelTransfer on Sample 2_CTL08A_502\n",
      "Preparing reference and query\n",
      "Found mismatch between Ref and Query vars: will unify\n",
      "Scaling: True\n",
      "Running ingestion\n",
      "Running scANVI\n",
      "GPU with the lowest utilization is:  0\n"
     ]
    },
    {
     "name": "stderr",
     "output_type": "stream",
     "text": [
      "GPU available: True (cuda), used: True\n",
      "TPU available: False, using: 0 TPU cores\n",
      "HPU available: False, using: 0 HPUs\n",
      "LOCAL_RANK: 0 - CUDA_VISIBLE_DEVICES: [0,1,2,3]\n"
     ]
    },
    {
     "name": "stdout",
     "output_type": "stream",
     "text": [
      "Epoch 60/60: 100%|██████████| 60/60 [02:52<00:00,  2.92s/it, v_num=1, train_loss_step=3.12e+3, train_loss_epoch=3.15e+3]"
     ]
    },
    {
     "name": "stderr",
     "output_type": "stream",
     "text": [
      "`Trainer.fit` stopped: `max_epochs=60` reached.\n"
     ]
    },
    {
     "name": "stdout",
     "output_type": "stream",
     "text": [
      "Epoch 60/60: 100%|██████████| 60/60 [02:52<00:00,  2.87s/it, v_num=1, train_loss_step=3.12e+3, train_loss_epoch=3.15e+3]\n",
      "\u001b[34mINFO    \u001b[0m Training for \u001b[1;36m20\u001b[0m epochs.                                                                                   \n"
     ]
    },
    {
     "name": "stderr",
     "output_type": "stream",
     "text": [
      "GPU available: True (cuda), used: True\n",
      "TPU available: False, using: 0 TPU cores\n",
      "HPU available: False, using: 0 HPUs\n",
      "LOCAL_RANK: 0 - CUDA_VISIBLE_DEVICES: [0,1,2,3]\n"
     ]
    },
    {
     "name": "stdout",
     "output_type": "stream",
     "text": [
      "Epoch 20/20: 100%|██████████| 20/20 [02:14<00:00,  6.42s/it, v_num=1, train_loss_step=3.08e+3, train_loss_epoch=3.14e+3]"
     ]
    },
    {
     "name": "stderr",
     "output_type": "stream",
     "text": [
      "`Trainer.fit` stopped: `max_epochs=20` reached.\n"
     ]
    },
    {
     "name": "stdout",
     "output_type": "stream",
     "text": [
      "Epoch 20/20: 100%|██████████| 20/20 [02:14<00:00,  6.70s/it, v_num=1, train_loss_step=3.08e+3, train_loss_epoch=3.14e+3]\n",
      "Running harmony\n"
     ]
    },
    {
     "name": "stderr",
     "output_type": "stream",
     "text": [
      "... storing 'groupCov' as categorical\n",
      "... storing 'harmonizedRegion' as categorical\n",
      "... storing 'tissue' as categorical\n",
      "... storing 'study' as categorical\n",
      "... storing 'LabelTransfer_scANVI' as categorical\n",
      "... storing 'LabelTransfer_harmony' as categorical\n",
      "... storing 'HarmonyBatch' as categorical\n",
      "2025-03-01 00:09:00,772 - harmonypy - INFO - Computing initial centroids with sklearn.KMeans...\n",
      "INFO:harmonypy:Computing initial centroids with sklearn.KMeans...\n",
      "2025-03-01 00:09:04,536 - harmonypy - INFO - sklearn.KMeans initialization complete.\n",
      "INFO:harmonypy:sklearn.KMeans initialization complete.\n",
      "2025-03-01 00:09:04,695 - harmonypy - INFO - Iteration 1 of 20\n",
      "INFO:harmonypy:Iteration 1 of 20\n",
      "2025-03-01 00:09:11,370 - harmonypy - INFO - Iteration 2 of 20\n",
      "INFO:harmonypy:Iteration 2 of 20\n",
      "2025-03-01 00:09:18,186 - harmonypy - INFO - Converged after 2 iterations\n",
      "INFO:harmonypy:Converged after 2 iterations\n"
     ]
    },
    {
     "name": "stdout",
     "output_type": "stream",
     "text": [
      "Running KNN\n",
      "Scoring cell cycle\n",
      "calculating cell cycle phase\n"
     ]
    },
    {
     "name": "stderr",
     "output_type": "stream",
     "text": [
      "Processing groups:  84%|████████▎ | 71/85 [6:53:20<1:19:15, 339.68s/it]"
     ]
    },
    {
     "name": "stdout",
     "output_type": "stream",
     "text": [
      "-->     'S_score' and 'G2M_score', scores of cell cycle phases (adata.obs)\n",
      "Running labelTransfer on Sample 2_CTL04E_502\n",
      "Preparing reference and query\n",
      "Found mismatch between Ref and Query vars: will unify\n",
      "Scaling: True\n",
      "Running ingestion\n",
      "Running scANVI\n",
      "GPU with the lowest utilization is:  0\n"
     ]
    },
    {
     "name": "stderr",
     "output_type": "stream",
     "text": [
      "GPU available: True (cuda), used: True\n",
      "TPU available: False, using: 0 TPU cores\n",
      "HPU available: False, using: 0 HPUs\n",
      "LOCAL_RANK: 0 - CUDA_VISIBLE_DEVICES: [0,1,2,3]\n"
     ]
    },
    {
     "name": "stdout",
     "output_type": "stream",
     "text": [
      "Epoch 60/60: 100%|██████████| 60/60 [02:55<00:00,  2.91s/it, v_num=1, train_loss_step=3.47e+3, train_loss_epoch=3.21e+3]"
     ]
    },
    {
     "name": "stderr",
     "output_type": "stream",
     "text": [
      "`Trainer.fit` stopped: `max_epochs=60` reached.\n"
     ]
    },
    {
     "name": "stdout",
     "output_type": "stream",
     "text": [
      "Epoch 60/60: 100%|██████████| 60/60 [02:55<00:00,  2.92s/it, v_num=1, train_loss_step=3.47e+3, train_loss_epoch=3.21e+3]\n",
      "\u001b[34mINFO    \u001b[0m Training for \u001b[1;36m20\u001b[0m epochs.                                                                                   \n"
     ]
    },
    {
     "name": "stderr",
     "output_type": "stream",
     "text": [
      "GPU available: True (cuda), used: True\n",
      "TPU available: False, using: 0 TPU cores\n",
      "HPU available: False, using: 0 HPUs\n",
      "LOCAL_RANK: 0 - CUDA_VISIBLE_DEVICES: [0,1,2,3]\n"
     ]
    },
    {
     "name": "stdout",
     "output_type": "stream",
     "text": [
      "Epoch 20/20: 100%|██████████| 20/20 [02:08<00:00,  6.45s/it, v_num=1, train_loss_step=3.21e+3, train_loss_epoch=3.2e+3] "
     ]
    },
    {
     "name": "stderr",
     "output_type": "stream",
     "text": [
      "`Trainer.fit` stopped: `max_epochs=20` reached.\n"
     ]
    },
    {
     "name": "stdout",
     "output_type": "stream",
     "text": [
      "Epoch 20/20: 100%|██████████| 20/20 [02:08<00:00,  6.42s/it, v_num=1, train_loss_step=3.21e+3, train_loss_epoch=3.2e+3]\n",
      "Running harmony\n"
     ]
    },
    {
     "name": "stderr",
     "output_type": "stream",
     "text": [
      "... storing 'groupCov' as categorical\n",
      "... storing 'harmonizedRegion' as categorical\n",
      "... storing 'tissue' as categorical\n",
      "... storing 'study' as categorical\n",
      "... storing 'LabelTransfer_scANVI' as categorical\n",
      "... storing 'LabelTransfer_harmony' as categorical\n",
      "... storing 'HarmonyBatch' as categorical\n",
      "2025-03-01 00:14:49,507 - harmonypy - INFO - Computing initial centroids with sklearn.KMeans...\n",
      "INFO:harmonypy:Computing initial centroids with sklearn.KMeans...\n",
      "2025-03-01 00:14:52,816 - harmonypy - INFO - sklearn.KMeans initialization complete.\n",
      "INFO:harmonypy:sklearn.KMeans initialization complete.\n",
      "2025-03-01 00:14:53,052 - harmonypy - INFO - Iteration 1 of 20\n",
      "INFO:harmonypy:Iteration 1 of 20\n",
      "2025-03-01 00:15:00,749 - harmonypy - INFO - Iteration 2 of 20\n",
      "INFO:harmonypy:Iteration 2 of 20\n",
      "2025-03-01 00:15:08,546 - harmonypy - INFO - Converged after 2 iterations\n",
      "INFO:harmonypy:Converged after 2 iterations\n"
     ]
    },
    {
     "name": "stdout",
     "output_type": "stream",
     "text": [
      "Running KNN\n",
      "Scoring cell cycle\n",
      "calculating cell cycle phase\n"
     ]
    },
    {
     "name": "stderr",
     "output_type": "stream",
     "text": [
      "Processing groups:  85%|████████▍ | 72/85 [6:59:10<1:14:16, 342.81s/it]"
     ]
    },
    {
     "name": "stdout",
     "output_type": "stream",
     "text": [
      "-->     'S_score' and 'G2M_score', scores of cell cycle phases (adata.obs)\n",
      "Running labelTransfer on Sample 2_CTL08A_505\n",
      "Preparing reference and query\n",
      "Found mismatch between Ref and Query vars: will unify\n",
      "Scaling: True\n",
      "Running ingestion\n",
      "Running scANVI\n",
      "GPU with the lowest utilization is:  0\n"
     ]
    },
    {
     "name": "stderr",
     "output_type": "stream",
     "text": [
      "GPU available: True (cuda), used: True\n",
      "TPU available: False, using: 0 TPU cores\n",
      "HPU available: False, using: 0 HPUs\n",
      "LOCAL_RANK: 0 - CUDA_VISIBLE_DEVICES: [0,1,2,3]\n"
     ]
    },
    {
     "name": "stdout",
     "output_type": "stream",
     "text": [
      "Epoch 60/60: 100%|██████████| 60/60 [02:47<00:00,  2.79s/it, v_num=1, train_loss_step=3.31e+3, train_loss_epoch=3.25e+3]"
     ]
    },
    {
     "name": "stderr",
     "output_type": "stream",
     "text": [
      "`Trainer.fit` stopped: `max_epochs=60` reached.\n"
     ]
    },
    {
     "name": "stdout",
     "output_type": "stream",
     "text": [
      "Epoch 60/60: 100%|██████████| 60/60 [02:47<00:00,  2.79s/it, v_num=1, train_loss_step=3.31e+3, train_loss_epoch=3.25e+3]\n",
      "\u001b[34mINFO    \u001b[0m Training for \u001b[1;36m20\u001b[0m epochs.                                                                                   \n"
     ]
    },
    {
     "name": "stderr",
     "output_type": "stream",
     "text": [
      "GPU available: True (cuda), used: True\n",
      "TPU available: False, using: 0 TPU cores\n",
      "HPU available: False, using: 0 HPUs\n",
      "LOCAL_RANK: 0 - CUDA_VISIBLE_DEVICES: [0,1,2,3]\n"
     ]
    },
    {
     "name": "stdout",
     "output_type": "stream",
     "text": [
      "Epoch 20/20: 100%|██████████| 20/20 [02:07<00:00,  6.34s/it, v_num=1, train_loss_step=3.3e+3, train_loss_epoch=3.24e+3] "
     ]
    },
    {
     "name": "stderr",
     "output_type": "stream",
     "text": [
      "`Trainer.fit` stopped: `max_epochs=20` reached.\n"
     ]
    },
    {
     "name": "stdout",
     "output_type": "stream",
     "text": [
      "Epoch 20/20: 100%|██████████| 20/20 [02:07<00:00,  6.37s/it, v_num=1, train_loss_step=3.3e+3, train_loss_epoch=3.24e+3]\n",
      "Running harmony\n"
     ]
    },
    {
     "name": "stderr",
     "output_type": "stream",
     "text": [
      "... storing 'groupCov' as categorical\n",
      "... storing 'harmonizedRegion' as categorical\n",
      "... storing 'tissue' as categorical\n",
      "... storing 'study' as categorical\n",
      "... storing 'LabelTransfer_scANVI' as categorical\n",
      "... storing 'LabelTransfer_harmony' as categorical\n",
      "... storing 'HarmonyBatch' as categorical\n",
      "2025-03-01 00:20:30,695 - harmonypy - INFO - Computing initial centroids with sklearn.KMeans...\n",
      "INFO:harmonypy:Computing initial centroids with sklearn.KMeans...\n",
      "2025-03-01 00:20:34,582 - harmonypy - INFO - sklearn.KMeans initialization complete.\n",
      "INFO:harmonypy:sklearn.KMeans initialization complete.\n",
      "2025-03-01 00:20:34,782 - harmonypy - INFO - Iteration 1 of 20\n",
      "INFO:harmonypy:Iteration 1 of 20\n",
      "2025-03-01 00:20:42,768 - harmonypy - INFO - Iteration 2 of 20\n",
      "INFO:harmonypy:Iteration 2 of 20\n",
      "2025-03-01 00:20:50,802 - harmonypy - INFO - Converged after 2 iterations\n",
      "INFO:harmonypy:Converged after 2 iterations\n"
     ]
    },
    {
     "name": "stdout",
     "output_type": "stream",
     "text": [
      "Running KNN\n",
      "Scoring cell cycle\n",
      "calculating cell cycle phase\n"
     ]
    },
    {
     "name": "stderr",
     "output_type": "stream",
     "text": [
      "Processing groups:  86%|████████▌ | 73/85 [7:04:52<1:08:31, 342.61s/it]"
     ]
    },
    {
     "name": "stdout",
     "output_type": "stream",
     "text": [
      "-->     'S_score' and 'G2M_score', scores of cell cycle phases (adata.obs)\n",
      "Running labelTransfer on Sample 2_CTL04E_505\n",
      "Preparing reference and query\n",
      "Found mismatch between Ref and Query vars: will unify\n",
      "Scaling: True\n",
      "Running ingestion\n",
      "Running scANVI\n",
      "GPU with the lowest utilization is:  0\n"
     ]
    },
    {
     "name": "stderr",
     "output_type": "stream",
     "text": [
      "GPU available: True (cuda), used: True\n",
      "TPU available: False, using: 0 TPU cores\n",
      "HPU available: False, using: 0 HPUs\n",
      "LOCAL_RANK: 0 - CUDA_VISIBLE_DEVICES: [0,1,2,3]\n"
     ]
    },
    {
     "name": "stdout",
     "output_type": "stream",
     "text": [
      "Epoch 60/60: 100%|██████████| 60/60 [02:43<00:00,  2.71s/it, v_num=1, train_loss_step=3.27e+3, train_loss_epoch=3.22e+3]"
     ]
    },
    {
     "name": "stderr",
     "output_type": "stream",
     "text": [
      "`Trainer.fit` stopped: `max_epochs=60` reached.\n"
     ]
    },
    {
     "name": "stdout",
     "output_type": "stream",
     "text": [
      "Epoch 60/60: 100%|██████████| 60/60 [02:43<00:00,  2.73s/it, v_num=1, train_loss_step=3.27e+3, train_loss_epoch=3.22e+3]\n",
      "\u001b[34mINFO    \u001b[0m Training for \u001b[1;36m20\u001b[0m epochs.                                                                                   \n"
     ]
    },
    {
     "name": "stderr",
     "output_type": "stream",
     "text": [
      "GPU available: True (cuda), used: True\n",
      "TPU available: False, using: 0 TPU cores\n",
      "HPU available: False, using: 0 HPUs\n",
      "LOCAL_RANK: 0 - CUDA_VISIBLE_DEVICES: [0,1,2,3]\n"
     ]
    },
    {
     "name": "stdout",
     "output_type": "stream",
     "text": [
      "Epoch 20/20: 100%|██████████| 20/20 [02:06<00:00,  6.36s/it, v_num=1, train_loss_step=3.14e+3, train_loss_epoch=3.21e+3]"
     ]
    },
    {
     "name": "stderr",
     "output_type": "stream",
     "text": [
      "`Trainer.fit` stopped: `max_epochs=20` reached.\n"
     ]
    },
    {
     "name": "stdout",
     "output_type": "stream",
     "text": [
      "Epoch 20/20: 100%|██████████| 20/20 [02:06<00:00,  6.34s/it, v_num=1, train_loss_step=3.14e+3, train_loss_epoch=3.21e+3]\n",
      "Running harmony\n"
     ]
    },
    {
     "name": "stderr",
     "output_type": "stream",
     "text": [
      "... storing 'groupCov' as categorical\n",
      "... storing 'harmonizedRegion' as categorical\n",
      "... storing 'tissue' as categorical\n",
      "... storing 'study' as categorical\n",
      "... storing 'LabelTransfer_scANVI' as categorical\n",
      "... storing 'LabelTransfer_harmony' as categorical\n",
      "... storing 'HarmonyBatch' as categorical\n",
      "2025-03-01 00:26:07,088 - harmonypy - INFO - Computing initial centroids with sklearn.KMeans...\n",
      "INFO:harmonypy:Computing initial centroids with sklearn.KMeans...\n",
      "2025-03-01 00:26:10,512 - harmonypy - INFO - sklearn.KMeans initialization complete.\n",
      "INFO:harmonypy:sklearn.KMeans initialization complete.\n",
      "2025-03-01 00:26:10,712 - harmonypy - INFO - Iteration 1 of 20\n",
      "INFO:harmonypy:Iteration 1 of 20\n",
      "2025-03-01 00:26:17,389 - harmonypy - INFO - Iteration 2 of 20\n",
      "INFO:harmonypy:Iteration 2 of 20\n",
      "2025-03-01 00:26:23,334 - harmonypy - INFO - Converged after 2 iterations\n",
      "INFO:harmonypy:Converged after 2 iterations\n"
     ]
    },
    {
     "name": "stdout",
     "output_type": "stream",
     "text": [
      "Running KNN\n",
      "Scoring cell cycle\n",
      "calculating cell cycle phase\n"
     ]
    },
    {
     "name": "stderr",
     "output_type": "stream",
     "text": [
      "Processing groups:  87%|████████▋ | 74/85 [7:10:24<1:02:14, 339.51s/it]"
     ]
    },
    {
     "name": "stdout",
     "output_type": "stream",
     "text": [
      "-->     'S_score' and 'G2M_score', scores of cell cycle phases (adata.obs)\n",
      "Running labelTransfer on Sample 1_CTL08A_505\n",
      "Preparing reference and query\n",
      "Found mismatch between Ref and Query vars: will unify\n",
      "Scaling: True\n",
      "Running ingestion\n",
      "Running scANVI\n",
      "GPU with the lowest utilization is:  0\n"
     ]
    },
    {
     "name": "stderr",
     "output_type": "stream",
     "text": [
      "GPU available: True (cuda), used: True\n",
      "TPU available: False, using: 0 TPU cores\n",
      "HPU available: False, using: 0 HPUs\n",
      "LOCAL_RANK: 0 - CUDA_VISIBLE_DEVICES: [0,1,2,3]\n"
     ]
    },
    {
     "name": "stdout",
     "output_type": "stream",
     "text": [
      "Epoch 60/60: 100%|██████████| 60/60 [02:46<00:00,  2.78s/it, v_num=1, train_loss_step=3.17e+3, train_loss_epoch=3.21e+3]"
     ]
    },
    {
     "name": "stderr",
     "output_type": "stream",
     "text": [
      "`Trainer.fit` stopped: `max_epochs=60` reached.\n"
     ]
    },
    {
     "name": "stdout",
     "output_type": "stream",
     "text": [
      "Epoch 60/60: 100%|██████████| 60/60 [02:46<00:00,  2.77s/it, v_num=1, train_loss_step=3.17e+3, train_loss_epoch=3.21e+3]\n",
      "\u001b[34mINFO    \u001b[0m Training for \u001b[1;36m20\u001b[0m epochs.                                                                                   \n"
     ]
    },
    {
     "name": "stderr",
     "output_type": "stream",
     "text": [
      "GPU available: True (cuda), used: True\n",
      "TPU available: False, using: 0 TPU cores\n",
      "HPU available: False, using: 0 HPUs\n",
      "LOCAL_RANK: 0 - CUDA_VISIBLE_DEVICES: [0,1,2,3]\n"
     ]
    },
    {
     "name": "stdout",
     "output_type": "stream",
     "text": [
      "Epoch 20/20: 100%|██████████| 20/20 [02:07<00:00,  6.34s/it, v_num=1, train_loss_step=3.31e+3, train_loss_epoch=3.21e+3]"
     ]
    },
    {
     "name": "stderr",
     "output_type": "stream",
     "text": [
      "`Trainer.fit` stopped: `max_epochs=20` reached.\n"
     ]
    },
    {
     "name": "stdout",
     "output_type": "stream",
     "text": [
      "Epoch 20/20: 100%|██████████| 20/20 [02:07<00:00,  6.37s/it, v_num=1, train_loss_step=3.31e+3, train_loss_epoch=3.21e+3]\n",
      "Running harmony\n"
     ]
    },
    {
     "name": "stderr",
     "output_type": "stream",
     "text": [
      "... storing 'groupCov' as categorical\n",
      "... storing 'harmonizedRegion' as categorical\n",
      "... storing 'tissue' as categorical\n",
      "... storing 'study' as categorical\n",
      "... storing 'LabelTransfer_scANVI' as categorical\n",
      "... storing 'LabelTransfer_harmony' as categorical\n",
      "... storing 'HarmonyBatch' as categorical\n",
      "2025-03-01 00:31:42,982 - harmonypy - INFO - Computing initial centroids with sklearn.KMeans...\n",
      "INFO:harmonypy:Computing initial centroids with sklearn.KMeans...\n",
      "2025-03-01 00:31:46,412 - harmonypy - INFO - sklearn.KMeans initialization complete.\n",
      "INFO:harmonypy:sklearn.KMeans initialization complete.\n",
      "2025-03-01 00:31:46,621 - harmonypy - INFO - Iteration 1 of 20\n",
      "INFO:harmonypy:Iteration 1 of 20\n",
      "2025-03-01 00:31:53,933 - harmonypy - INFO - Iteration 2 of 20\n",
      "INFO:harmonypy:Iteration 2 of 20\n",
      "2025-03-01 00:32:01,114 - harmonypy - INFO - Converged after 2 iterations\n",
      "INFO:harmonypy:Converged after 2 iterations\n"
     ]
    },
    {
     "name": "stdout",
     "output_type": "stream",
     "text": [
      "Running KNN\n",
      "Scoring cell cycle\n",
      "calculating cell cycle phase\n"
     ]
    },
    {
     "name": "stderr",
     "output_type": "stream",
     "text": [
      "Processing groups:  88%|████████▊ | 75/85 [7:16:02<56:31, 339.15s/it]  "
     ]
    },
    {
     "name": "stdout",
     "output_type": "stream",
     "text": [
      "-->     'S_score' and 'G2M_score', scores of cell cycle phases (adata.obs)\n",
      "Running labelTransfer on Sample 3_CTL04E_505\n",
      "Preparing reference and query\n",
      "Found mismatch between Ref and Query vars: will unify\n",
      "Scaling: True\n",
      "Running ingestion\n",
      "Running scANVI\n",
      "GPU with the lowest utilization is:  0\n"
     ]
    },
    {
     "name": "stderr",
     "output_type": "stream",
     "text": [
      "GPU available: True (cuda), used: True\n",
      "TPU available: False, using: 0 TPU cores\n",
      "HPU available: False, using: 0 HPUs\n",
      "LOCAL_RANK: 0 - CUDA_VISIBLE_DEVICES: [0,1,2,3]\n"
     ]
    },
    {
     "name": "stdout",
     "output_type": "stream",
     "text": [
      "Epoch 60/60: 100%|██████████| 60/60 [02:45<00:00,  2.76s/it, v_num=1, train_loss_step=3.12e+3, train_loss_epoch=3.23e+3]"
     ]
    },
    {
     "name": "stderr",
     "output_type": "stream",
     "text": [
      "`Trainer.fit` stopped: `max_epochs=60` reached.\n"
     ]
    },
    {
     "name": "stdout",
     "output_type": "stream",
     "text": [
      "Epoch 60/60: 100%|██████████| 60/60 [02:45<00:00,  2.76s/it, v_num=1, train_loss_step=3.12e+3, train_loss_epoch=3.23e+3]\n",
      "\u001b[34mINFO    \u001b[0m Training for \u001b[1;36m20\u001b[0m epochs.                                                                                   \n"
     ]
    },
    {
     "name": "stderr",
     "output_type": "stream",
     "text": [
      "GPU available: True (cuda), used: True\n",
      "TPU available: False, using: 0 TPU cores\n",
      "HPU available: False, using: 0 HPUs\n",
      "LOCAL_RANK: 0 - CUDA_VISIBLE_DEVICES: [0,1,2,3]\n"
     ]
    },
    {
     "name": "stdout",
     "output_type": "stream",
     "text": [
      "Epoch 20/20: 100%|██████████| 20/20 [02:08<00:00,  6.39s/it, v_num=1, train_loss_step=3.44e+3, train_loss_epoch=3.23e+3]"
     ]
    },
    {
     "name": "stderr",
     "output_type": "stream",
     "text": [
      "`Trainer.fit` stopped: `max_epochs=20` reached.\n"
     ]
    },
    {
     "name": "stdout",
     "output_type": "stream",
     "text": [
      "Epoch 20/20: 100%|██████████| 20/20 [02:08<00:00,  6.42s/it, v_num=1, train_loss_step=3.44e+3, train_loss_epoch=3.23e+3]\n",
      "Running harmony\n"
     ]
    },
    {
     "name": "stderr",
     "output_type": "stream",
     "text": [
      "... storing 'groupCov' as categorical\n",
      "... storing 'harmonizedRegion' as categorical\n",
      "... storing 'tissue' as categorical\n",
      "... storing 'study' as categorical\n",
      "... storing 'LabelTransfer_scANVI' as categorical\n",
      "... storing 'LabelTransfer_harmony' as categorical\n",
      "... storing 'HarmonyBatch' as categorical\n",
      "2025-03-01 00:37:22,597 - harmonypy - INFO - Computing initial centroids with sklearn.KMeans...\n",
      "INFO:harmonypy:Computing initial centroids with sklearn.KMeans...\n",
      "2025-03-01 00:37:25,805 - harmonypy - INFO - sklearn.KMeans initialization complete.\n",
      "INFO:harmonypy:sklearn.KMeans initialization complete.\n",
      "2025-03-01 00:37:25,963 - harmonypy - INFO - Iteration 1 of 20\n",
      "INFO:harmonypy:Iteration 1 of 20\n",
      "2025-03-01 00:37:34,344 - harmonypy - INFO - Iteration 2 of 20\n",
      "INFO:harmonypy:Iteration 2 of 20\n",
      "2025-03-01 00:37:42,689 - harmonypy - INFO - Converged after 2 iterations\n",
      "INFO:harmonypy:Converged after 2 iterations\n"
     ]
    },
    {
     "name": "stdout",
     "output_type": "stream",
     "text": [
      "Running KNN\n",
      "Scoring cell cycle\n",
      "calculating cell cycle phase\n"
     ]
    },
    {
     "name": "stderr",
     "output_type": "stream",
     "text": [
      "Processing groups:  89%|████████▉ | 76/85 [7:21:44<50:59, 339.95s/it]"
     ]
    },
    {
     "name": "stdout",
     "output_type": "stream",
     "text": [
      "-->     'S_score' and 'G2M_score', scores of cell cycle phases (adata.obs)\n",
      "Running labelTransfer on Sample 1_CTL04E_505\n",
      "Preparing reference and query\n",
      "Found mismatch between Ref and Query vars: will unify\n",
      "Scaling: True\n",
      "Running ingestion\n",
      "Running scANVI\n",
      "GPU with the lowest utilization is:  0\n"
     ]
    },
    {
     "name": "stderr",
     "output_type": "stream",
     "text": [
      "GPU available: True (cuda), used: True\n",
      "TPU available: False, using: 0 TPU cores\n",
      "HPU available: False, using: 0 HPUs\n",
      "LOCAL_RANK: 0 - CUDA_VISIBLE_DEVICES: [0,1,2,3]\n"
     ]
    },
    {
     "name": "stdout",
     "output_type": "stream",
     "text": [
      "Epoch 60/60: 100%|██████████| 60/60 [02:41<00:00,  2.66s/it, v_num=1, train_loss_step=3e+3, train_loss_epoch=3.15e+3]   "
     ]
    },
    {
     "name": "stderr",
     "output_type": "stream",
     "text": [
      "`Trainer.fit` stopped: `max_epochs=60` reached.\n"
     ]
    },
    {
     "name": "stdout",
     "output_type": "stream",
     "text": [
      "Epoch 60/60: 100%|██████████| 60/60 [02:41<00:00,  2.70s/it, v_num=1, train_loss_step=3e+3, train_loss_epoch=3.15e+3]\n",
      "\u001b[34mINFO    \u001b[0m Training for \u001b[1;36m20\u001b[0m epochs.                                                                                   \n"
     ]
    },
    {
     "name": "stderr",
     "output_type": "stream",
     "text": [
      "GPU available: True (cuda), used: True\n",
      "TPU available: False, using: 0 TPU cores\n",
      "HPU available: False, using: 0 HPUs\n",
      "LOCAL_RANK: 0 - CUDA_VISIBLE_DEVICES: [0,1,2,3]\n"
     ]
    },
    {
     "name": "stdout",
     "output_type": "stream",
     "text": [
      "Epoch 20/20: 100%|██████████| 20/20 [02:05<00:00,  6.24s/it, v_num=1, train_loss_step=3.13e+3, train_loss_epoch=3.15e+3]"
     ]
    },
    {
     "name": "stderr",
     "output_type": "stream",
     "text": [
      "`Trainer.fit` stopped: `max_epochs=20` reached.\n"
     ]
    },
    {
     "name": "stdout",
     "output_type": "stream",
     "text": [
      "Epoch 20/20: 100%|██████████| 20/20 [02:05<00:00,  6.26s/it, v_num=1, train_loss_step=3.13e+3, train_loss_epoch=3.15e+3]\n",
      "Running harmony\n"
     ]
    },
    {
     "name": "stderr",
     "output_type": "stream",
     "text": [
      "... storing 'groupCov' as categorical\n",
      "... storing 'harmonizedRegion' as categorical\n",
      "... storing 'tissue' as categorical\n",
      "... storing 'study' as categorical\n",
      "... storing 'LabelTransfer_scANVI' as categorical\n",
      "... storing 'LabelTransfer_harmony' as categorical\n",
      "... storing 'HarmonyBatch' as categorical\n",
      "2025-03-01 00:42:55,051 - harmonypy - INFO - Computing initial centroids with sklearn.KMeans...\n",
      "INFO:harmonypy:Computing initial centroids with sklearn.KMeans...\n",
      "2025-03-01 00:42:58,657 - harmonypy - INFO - sklearn.KMeans initialization complete.\n",
      "INFO:harmonypy:sklearn.KMeans initialization complete.\n",
      "2025-03-01 00:42:58,817 - harmonypy - INFO - Iteration 1 of 20\n",
      "INFO:harmonypy:Iteration 1 of 20\n",
      "2025-03-01 00:43:04,650 - harmonypy - INFO - Iteration 2 of 20\n",
      "INFO:harmonypy:Iteration 2 of 20\n",
      "2025-03-01 00:43:10,407 - harmonypy - INFO - Converged after 2 iterations\n",
      "INFO:harmonypy:Converged after 2 iterations\n"
     ]
    },
    {
     "name": "stdout",
     "output_type": "stream",
     "text": [
      "Running KNN\n",
      "Scoring cell cycle\n",
      "calculating cell cycle phase\n"
     ]
    },
    {
     "name": "stderr",
     "output_type": "stream",
     "text": [
      "Processing groups:  91%|█████████ | 77/85 [7:27:11<44:49, 336.13s/it]"
     ]
    },
    {
     "name": "stdout",
     "output_type": "stream",
     "text": [
      "-->     'S_score' and 'G2M_score', scores of cell cycle phases (adata.obs)\n",
      "Running labelTransfer on Sample 3_CTL08A_505\n",
      "Preparing reference and query\n",
      "Found mismatch between Ref and Query vars: will unify\n",
      "Scaling: True\n",
      "Running ingestion\n",
      "Running scANVI\n",
      "GPU with the lowest utilization is:  0\n"
     ]
    },
    {
     "name": "stderr",
     "output_type": "stream",
     "text": [
      "GPU available: True (cuda), used: True\n",
      "TPU available: False, using: 0 TPU cores\n",
      "HPU available: False, using: 0 HPUs\n",
      "LOCAL_RANK: 0 - CUDA_VISIBLE_DEVICES: [0,1,2,3]\n"
     ]
    },
    {
     "name": "stdout",
     "output_type": "stream",
     "text": [
      "Epoch 60/60: 100%|██████████| 60/60 [02:41<00:00,  2.69s/it, v_num=1, train_loss_step=3.54e+3, train_loss_epoch=3.17e+3]"
     ]
    },
    {
     "name": "stderr",
     "output_type": "stream",
     "text": [
      "`Trainer.fit` stopped: `max_epochs=60` reached.\n"
     ]
    },
    {
     "name": "stdout",
     "output_type": "stream",
     "text": [
      "Epoch 60/60: 100%|██████████| 60/60 [02:41<00:00,  2.69s/it, v_num=1, train_loss_step=3.54e+3, train_loss_epoch=3.17e+3]\n",
      "\u001b[34mINFO    \u001b[0m Training for \u001b[1;36m20\u001b[0m epochs.                                                                                   \n"
     ]
    },
    {
     "name": "stderr",
     "output_type": "stream",
     "text": [
      "GPU available: True (cuda), used: True\n",
      "TPU available: False, using: 0 TPU cores\n",
      "HPU available: False, using: 0 HPUs\n",
      "LOCAL_RANK: 0 - CUDA_VISIBLE_DEVICES: [0,1,2,3]\n"
     ]
    },
    {
     "name": "stdout",
     "output_type": "stream",
     "text": [
      "Epoch 20/20: 100%|██████████| 20/20 [02:04<00:00,  6.23s/it, v_num=1, train_loss_step=3.32e+3, train_loss_epoch=3.16e+3]"
     ]
    },
    {
     "name": "stderr",
     "output_type": "stream",
     "text": [
      "`Trainer.fit` stopped: `max_epochs=20` reached.\n"
     ]
    },
    {
     "name": "stdout",
     "output_type": "stream",
     "text": [
      "Epoch 20/20: 100%|██████████| 20/20 [02:04<00:00,  6.24s/it, v_num=1, train_loss_step=3.32e+3, train_loss_epoch=3.16e+3]\n",
      "Running harmony\n"
     ]
    },
    {
     "name": "stderr",
     "output_type": "stream",
     "text": [
      "... storing 'groupCov' as categorical\n",
      "... storing 'harmonizedRegion' as categorical\n",
      "... storing 'tissue' as categorical\n",
      "... storing 'study' as categorical\n",
      "... storing 'LabelTransfer_scANVI' as categorical\n",
      "... storing 'LabelTransfer_harmony' as categorical\n",
      "... storing 'HarmonyBatch' as categorical\n",
      "2025-03-01 00:48:22,414 - harmonypy - INFO - Computing initial centroids with sklearn.KMeans...\n",
      "INFO:harmonypy:Computing initial centroids with sklearn.KMeans...\n",
      "2025-03-01 00:48:25,970 - harmonypy - INFO - sklearn.KMeans initialization complete.\n",
      "INFO:harmonypy:sklearn.KMeans initialization complete.\n",
      "2025-03-01 00:48:26,058 - harmonypy - INFO - Iteration 1 of 20\n",
      "INFO:harmonypy:Iteration 1 of 20\n",
      "2025-03-01 00:48:32,018 - harmonypy - INFO - Iteration 2 of 20\n",
      "INFO:harmonypy:Iteration 2 of 20\n",
      "2025-03-01 00:48:37,778 - harmonypy - INFO - Converged after 2 iterations\n",
      "INFO:harmonypy:Converged after 2 iterations\n"
     ]
    },
    {
     "name": "stdout",
     "output_type": "stream",
     "text": [
      "Running KNN\n",
      "Scoring cell cycle\n",
      "calculating cell cycle phase\n"
     ]
    },
    {
     "name": "stderr",
     "output_type": "stream",
     "text": [
      "Processing groups:  92%|█████████▏| 78/85 [7:32:39<38:54, 333.57s/it]"
     ]
    },
    {
     "name": "stdout",
     "output_type": "stream",
     "text": [
      "-->     'S_score' and 'G2M_score', scores of cell cycle phases (adata.obs)\n",
      "Running labelTransfer on Sample 1_CTL08A_508\n",
      "Preparing reference and query\n",
      "Found mismatch between Ref and Query vars: will unify\n",
      "Scaling: True\n",
      "Running ingestion\n",
      "Running scANVI\n",
      "GPU with the lowest utilization is:  0\n"
     ]
    },
    {
     "name": "stderr",
     "output_type": "stream",
     "text": [
      "GPU available: True (cuda), used: True\n",
      "TPU available: False, using: 0 TPU cores\n",
      "HPU available: False, using: 0 HPUs\n",
      "LOCAL_RANK: 0 - CUDA_VISIBLE_DEVICES: [0,1,2,3]\n"
     ]
    },
    {
     "name": "stdout",
     "output_type": "stream",
     "text": [
      "Epoch 60/60: 100%|██████████| 60/60 [04:01<00:00,  4.04s/it, v_num=1, train_loss_step=3.64e+3, train_loss_epoch=3.71e+3]"
     ]
    },
    {
     "name": "stderr",
     "output_type": "stream",
     "text": [
      "`Trainer.fit` stopped: `max_epochs=60` reached.\n"
     ]
    },
    {
     "name": "stdout",
     "output_type": "stream",
     "text": [
      "Epoch 60/60: 100%|██████████| 60/60 [04:01<00:00,  4.03s/it, v_num=1, train_loss_step=3.64e+3, train_loss_epoch=3.71e+3]\n",
      "\u001b[34mINFO    \u001b[0m Training for \u001b[1;36m20\u001b[0m epochs.                                                                                   \n"
     ]
    },
    {
     "name": "stderr",
     "output_type": "stream",
     "text": [
      "GPU available: True (cuda), used: True\n",
      "TPU available: False, using: 0 TPU cores\n",
      "HPU available: False, using: 0 HPUs\n",
      "LOCAL_RANK: 0 - CUDA_VISIBLE_DEVICES: [0,1,2,3]\n"
     ]
    },
    {
     "name": "stdout",
     "output_type": "stream",
     "text": [
      "Epoch 20/20: 100%|██████████| 20/20 [02:47<00:00,  8.39s/it, v_num=1, train_loss_step=3.53e+3, train_loss_epoch=3.71e+3]"
     ]
    },
    {
     "name": "stderr",
     "output_type": "stream",
     "text": [
      "`Trainer.fit` stopped: `max_epochs=20` reached.\n"
     ]
    },
    {
     "name": "stdout",
     "output_type": "stream",
     "text": [
      "Epoch 20/20: 100%|██████████| 20/20 [02:47<00:00,  8.37s/it, v_num=1, train_loss_step=3.53e+3, train_loss_epoch=3.71e+3]\n",
      "Running harmony\n"
     ]
    },
    {
     "name": "stderr",
     "output_type": "stream",
     "text": [
      "... storing 'groupCov' as categorical\n",
      "... storing 'harmonizedRegion' as categorical\n",
      "... storing 'tissue' as categorical\n",
      "... storing 'study' as categorical\n",
      "... storing 'LabelTransfer_scANVI' as categorical\n",
      "... storing 'LabelTransfer_harmony' as categorical\n",
      "... storing 'HarmonyBatch' as categorical\n",
      "2025-03-01 00:56:26,635 - harmonypy - INFO - Computing initial centroids with sklearn.KMeans...\n",
      "INFO:harmonypy:Computing initial centroids with sklearn.KMeans...\n",
      "2025-03-01 00:56:30,085 - harmonypy - INFO - sklearn.KMeans initialization complete.\n",
      "INFO:harmonypy:sklearn.KMeans initialization complete.\n",
      "2025-03-01 00:56:30,238 - harmonypy - INFO - Iteration 1 of 20\n",
      "INFO:harmonypy:Iteration 1 of 20\n",
      "2025-03-01 00:56:39,747 - harmonypy - INFO - Iteration 2 of 20\n",
      "INFO:harmonypy:Iteration 2 of 20\n",
      "2025-03-01 00:56:49,222 - harmonypy - INFO - Converged after 2 iterations\n",
      "INFO:harmonypy:Converged after 2 iterations\n"
     ]
    },
    {
     "name": "stdout",
     "output_type": "stream",
     "text": [
      "Running KNN\n",
      "Scoring cell cycle\n",
      "calculating cell cycle phase\n"
     ]
    },
    {
     "name": "stderr",
     "output_type": "stream",
     "text": [
      "Processing groups:  93%|█████████▎| 79/85 [7:40:52<38:09, 381.52s/it]"
     ]
    },
    {
     "name": "stdout",
     "output_type": "stream",
     "text": [
      "-->     'S_score' and 'G2M_score', scores of cell cycle phases (adata.obs)\n",
      "Running labelTransfer on Sample 1_CTL04E_508\n",
      "Preparing reference and query\n",
      "Found mismatch between Ref and Query vars: will unify\n",
      "Scaling: True\n",
      "Running ingestion\n",
      "Running scANVI\n",
      "GPU with the lowest utilization is:  0\n"
     ]
    },
    {
     "name": "stderr",
     "output_type": "stream",
     "text": [
      "GPU available: True (cuda), used: True\n",
      "TPU available: False, using: 0 TPU cores\n",
      "HPU available: False, using: 0 HPUs\n",
      "LOCAL_RANK: 0 - CUDA_VISIBLE_DEVICES: [0,1,2,3]\n"
     ]
    },
    {
     "name": "stdout",
     "output_type": "stream",
     "text": [
      "Epoch 60/60: 100%|██████████| 60/60 [03:50<00:00,  3.85s/it, v_num=1, train_loss_step=3.87e+3, train_loss_epoch=3.63e+3]"
     ]
    },
    {
     "name": "stderr",
     "output_type": "stream",
     "text": [
      "`Trainer.fit` stopped: `max_epochs=60` reached.\n"
     ]
    },
    {
     "name": "stdout",
     "output_type": "stream",
     "text": [
      "Epoch 60/60: 100%|██████████| 60/60 [03:50<00:00,  3.84s/it, v_num=1, train_loss_step=3.87e+3, train_loss_epoch=3.63e+3]\n",
      "\u001b[34mINFO    \u001b[0m Training for \u001b[1;36m20\u001b[0m epochs.                                                                                   \n"
     ]
    },
    {
     "name": "stderr",
     "output_type": "stream",
     "text": [
      "GPU available: True (cuda), used: True\n",
      "TPU available: False, using: 0 TPU cores\n",
      "HPU available: False, using: 0 HPUs\n",
      "LOCAL_RANK: 0 - CUDA_VISIBLE_DEVICES: [0,1,2,3]\n"
     ]
    },
    {
     "name": "stdout",
     "output_type": "stream",
     "text": [
      "Epoch 20/20: 100%|██████████| 20/20 [02:42<00:00,  8.17s/it, v_num=1, train_loss_step=3.55e+3, train_loss_epoch=3.62e+3]"
     ]
    },
    {
     "name": "stderr",
     "output_type": "stream",
     "text": [
      "`Trainer.fit` stopped: `max_epochs=20` reached.\n"
     ]
    },
    {
     "name": "stdout",
     "output_type": "stream",
     "text": [
      "Epoch 20/20: 100%|██████████| 20/20 [02:42<00:00,  8.13s/it, v_num=1, train_loss_step=3.55e+3, train_loss_epoch=3.62e+3]\n",
      "Running harmony\n"
     ]
    },
    {
     "name": "stderr",
     "output_type": "stream",
     "text": [
      "... storing 'groupCov' as categorical\n",
      "... storing 'harmonizedRegion' as categorical\n",
      "... storing 'tissue' as categorical\n",
      "... storing 'study' as categorical\n",
      "... storing 'LabelTransfer_scANVI' as categorical\n",
      "... storing 'LabelTransfer_harmony' as categorical\n",
      "... storing 'HarmonyBatch' as categorical\n",
      "2025-03-01 01:04:20,973 - harmonypy - INFO - Computing initial centroids with sklearn.KMeans...\n",
      "INFO:harmonypy:Computing initial centroids with sklearn.KMeans...\n",
      "2025-03-01 01:04:24,846 - harmonypy - INFO - sklearn.KMeans initialization complete.\n",
      "INFO:harmonypy:sklearn.KMeans initialization complete.\n",
      "2025-03-01 01:04:24,964 - harmonypy - INFO - Iteration 1 of 20\n",
      "INFO:harmonypy:Iteration 1 of 20\n",
      "2025-03-01 01:04:33,613 - harmonypy - INFO - Iteration 2 of 20\n",
      "INFO:harmonypy:Iteration 2 of 20\n",
      "2025-03-01 01:04:42,384 - harmonypy - INFO - Converged after 2 iterations\n",
      "INFO:harmonypy:Converged after 2 iterations\n"
     ]
    },
    {
     "name": "stdout",
     "output_type": "stream",
     "text": [
      "Running KNN\n",
      "Scoring cell cycle\n",
      "calculating cell cycle phase\n"
     ]
    },
    {
     "name": "stderr",
     "output_type": "stream",
     "text": [
      "Processing groups:  94%|█████████▍| 80/85 [7:48:46<34:05, 409.06s/it]"
     ]
    },
    {
     "name": "stdout",
     "output_type": "stream",
     "text": [
      "-->     'S_score' and 'G2M_score', scores of cell cycle phases (adata.obs)\n",
      "Running labelTransfer on Sample 1_CTL08A_509\n",
      "Preparing reference and query\n",
      "Found mismatch between Ref and Query vars: will unify\n",
      "Scaling: True\n",
      "Running ingestion\n",
      "Running scANVI\n",
      "GPU with the lowest utilization is:  0\n"
     ]
    },
    {
     "name": "stderr",
     "output_type": "stream",
     "text": [
      "GPU available: True (cuda), used: True\n",
      "TPU available: False, using: 0 TPU cores\n",
      "HPU available: False, using: 0 HPUs\n",
      "LOCAL_RANK: 0 - CUDA_VISIBLE_DEVICES: [0,1,2,3]\n"
     ]
    },
    {
     "name": "stdout",
     "output_type": "stream",
     "text": [
      "Epoch 60/60: 100%|██████████| 60/60 [02:49<00:00,  2.79s/it, v_num=1, train_loss_step=3.2e+3, train_loss_epoch=3.26e+3] "
     ]
    },
    {
     "name": "stderr",
     "output_type": "stream",
     "text": [
      "`Trainer.fit` stopped: `max_epochs=60` reached.\n"
     ]
    },
    {
     "name": "stdout",
     "output_type": "stream",
     "text": [
      "Epoch 60/60: 100%|██████████| 60/60 [02:49<00:00,  2.83s/it, v_num=1, train_loss_step=3.2e+3, train_loss_epoch=3.26e+3]\n",
      "\u001b[34mINFO    \u001b[0m Training for \u001b[1;36m20\u001b[0m epochs.                                                                                   \n"
     ]
    },
    {
     "name": "stderr",
     "output_type": "stream",
     "text": [
      "GPU available: True (cuda), used: True\n",
      "TPU available: False, using: 0 TPU cores\n",
      "HPU available: False, using: 0 HPUs\n",
      "LOCAL_RANK: 0 - CUDA_VISIBLE_DEVICES: [0,1,2,3]\n"
     ]
    },
    {
     "name": "stdout",
     "output_type": "stream",
     "text": [
      "Epoch 20/20: 100%|██████████| 20/20 [02:08<00:00,  6.42s/it, v_num=1, train_loss_step=3.19e+3, train_loss_epoch=3.25e+3]"
     ]
    },
    {
     "name": "stderr",
     "output_type": "stream",
     "text": [
      "`Trainer.fit` stopped: `max_epochs=20` reached.\n"
     ]
    },
    {
     "name": "stdout",
     "output_type": "stream",
     "text": [
      "Epoch 20/20: 100%|██████████| 20/20 [02:08<00:00,  6.41s/it, v_num=1, train_loss_step=3.19e+3, train_loss_epoch=3.25e+3]\n",
      "Running harmony\n"
     ]
    },
    {
     "name": "stderr",
     "output_type": "stream",
     "text": [
      "... storing 'groupCov' as categorical\n",
      "... storing 'harmonizedRegion' as categorical\n",
      "... storing 'tissue' as categorical\n",
      "... storing 'study' as categorical\n",
      "... storing 'LabelTransfer_scANVI' as categorical\n",
      "... storing 'LabelTransfer_harmony' as categorical\n",
      "... storing 'HarmonyBatch' as categorical\n",
      "2025-03-01 01:10:11,274 - harmonypy - INFO - Computing initial centroids with sklearn.KMeans...\n",
      "INFO:harmonypy:Computing initial centroids with sklearn.KMeans...\n",
      "2025-03-01 01:10:14,903 - harmonypy - INFO - sklearn.KMeans initialization complete.\n",
      "INFO:harmonypy:sklearn.KMeans initialization complete.\n",
      "2025-03-01 01:10:15,119 - harmonypy - INFO - Iteration 1 of 20\n",
      "INFO:harmonypy:Iteration 1 of 20\n",
      "2025-03-01 01:10:21,681 - harmonypy - INFO - Iteration 2 of 20\n",
      "INFO:harmonypy:Iteration 2 of 20\n",
      "2025-03-01 01:10:28,246 - harmonypy - INFO - Converged after 2 iterations\n",
      "INFO:harmonypy:Converged after 2 iterations\n"
     ]
    },
    {
     "name": "stdout",
     "output_type": "stream",
     "text": [
      "Running KNN\n",
      "Scoring cell cycle\n",
      "calculating cell cycle phase\n"
     ]
    },
    {
     "name": "stderr",
     "output_type": "stream",
     "text": [
      "Processing groups:  95%|█████████▌| 81/85 [7:54:30<25:57, 389.49s/it]"
     ]
    },
    {
     "name": "stdout",
     "output_type": "stream",
     "text": [
      "-->     'S_score' and 'G2M_score', scores of cell cycle phases (adata.obs)\n",
      "Running labelTransfer on Sample 3_CTL04E_509\n",
      "Preparing reference and query\n",
      "Found mismatch between Ref and Query vars: will unify\n",
      "Scaling: True\n",
      "Running ingestion\n",
      "Running scANVI\n",
      "GPU with the lowest utilization is:  0\n"
     ]
    },
    {
     "name": "stderr",
     "output_type": "stream",
     "text": [
      "GPU available: True (cuda), used: True\n",
      "TPU available: False, using: 0 TPU cores\n",
      "HPU available: False, using: 0 HPUs\n",
      "LOCAL_RANK: 0 - CUDA_VISIBLE_DEVICES: [0,1,2,3]\n"
     ]
    },
    {
     "name": "stdout",
     "output_type": "stream",
     "text": [
      "Epoch 60/60: 100%|██████████| 60/60 [02:46<00:00,  2.77s/it, v_num=1, train_loss_step=2.36e+3, train_loss_epoch=3.2e+3] "
     ]
    },
    {
     "name": "stderr",
     "output_type": "stream",
     "text": [
      "`Trainer.fit` stopped: `max_epochs=60` reached.\n"
     ]
    },
    {
     "name": "stdout",
     "output_type": "stream",
     "text": [
      "Epoch 60/60: 100%|██████████| 60/60 [02:46<00:00,  2.77s/it, v_num=1, train_loss_step=2.36e+3, train_loss_epoch=3.2e+3]\n",
      "\u001b[34mINFO    \u001b[0m Training for \u001b[1;36m20\u001b[0m epochs.                                                                                   \n"
     ]
    },
    {
     "name": "stderr",
     "output_type": "stream",
     "text": [
      "GPU available: True (cuda), used: True\n",
      "TPU available: False, using: 0 TPU cores\n",
      "HPU available: False, using: 0 HPUs\n",
      "LOCAL_RANK: 0 - CUDA_VISIBLE_DEVICES: [0,1,2,3]\n"
     ]
    },
    {
     "name": "stdout",
     "output_type": "stream",
     "text": [
      "Epoch 20/20: 100%|██████████| 20/20 [02:07<00:00,  6.40s/it, v_num=1, train_loss_step=3.15e+3, train_loss_epoch=3.2e+3]"
     ]
    },
    {
     "name": "stderr",
     "output_type": "stream",
     "text": [
      "`Trainer.fit` stopped: `max_epochs=20` reached.\n"
     ]
    },
    {
     "name": "stdout",
     "output_type": "stream",
     "text": [
      "Epoch 20/20: 100%|██████████| 20/20 [02:07<00:00,  6.36s/it, v_num=1, train_loss_step=3.15e+3, train_loss_epoch=3.2e+3]\n",
      "Running harmony\n"
     ]
    },
    {
     "name": "stderr",
     "output_type": "stream",
     "text": [
      "... storing 'groupCov' as categorical\n",
      "... storing 'harmonizedRegion' as categorical\n",
      "... storing 'tissue' as categorical\n",
      "... storing 'study' as categorical\n",
      "... storing 'LabelTransfer_scANVI' as categorical\n",
      "... storing 'LabelTransfer_harmony' as categorical\n",
      "... storing 'HarmonyBatch' as categorical\n",
      "2025-03-01 01:15:48,719 - harmonypy - INFO - Computing initial centroids with sklearn.KMeans...\n",
      "INFO:harmonypy:Computing initial centroids with sklearn.KMeans...\n",
      "2025-03-01 01:15:52,494 - harmonypy - INFO - sklearn.KMeans initialization complete.\n",
      "INFO:harmonypy:sklearn.KMeans initialization complete.\n",
      "2025-03-01 01:15:52,687 - harmonypy - INFO - Iteration 1 of 20\n",
      "INFO:harmonypy:Iteration 1 of 20\n",
      "2025-03-01 01:16:00,530 - harmonypy - INFO - Iteration 2 of 20\n",
      "INFO:harmonypy:Iteration 2 of 20\n",
      "2025-03-01 01:16:08,302 - harmonypy - INFO - Converged after 2 iterations\n",
      "INFO:harmonypy:Converged after 2 iterations\n"
     ]
    },
    {
     "name": "stdout",
     "output_type": "stream",
     "text": [
      "Running KNN\n",
      "Scoring cell cycle\n",
      "calculating cell cycle phase\n"
     ]
    },
    {
     "name": "stderr",
     "output_type": "stream",
     "text": [
      "Processing groups:  96%|█████████▋| 82/85 [8:00:10<18:43, 374.64s/it]"
     ]
    },
    {
     "name": "stdout",
     "output_type": "stream",
     "text": [
      "-->     'S_score' and 'G2M_score', scores of cell cycle phases (adata.obs)\n",
      "Running labelTransfer on Sample 1_CTL04E_509\n",
      "Preparing reference and query\n",
      "Found mismatch between Ref and Query vars: will unify\n",
      "Scaling: True\n",
      "Running ingestion\n",
      "Running scANVI\n",
      "GPU with the lowest utilization is:  0\n"
     ]
    },
    {
     "name": "stderr",
     "output_type": "stream",
     "text": [
      "GPU available: True (cuda), used: True\n",
      "TPU available: False, using: 0 TPU cores\n",
      "HPU available: False, using: 0 HPUs\n",
      "LOCAL_RANK: 0 - CUDA_VISIBLE_DEVICES: [0,1,2,3]\n"
     ]
    },
    {
     "name": "stdout",
     "output_type": "stream",
     "text": [
      "Epoch 60/60: 100%|██████████| 60/60 [02:50<00:00,  2.85s/it, v_num=1, train_loss_step=3.48e+3, train_loss_epoch=3.25e+3]"
     ]
    },
    {
     "name": "stderr",
     "output_type": "stream",
     "text": [
      "`Trainer.fit` stopped: `max_epochs=60` reached.\n"
     ]
    },
    {
     "name": "stdout",
     "output_type": "stream",
     "text": [
      "Epoch 60/60: 100%|██████████| 60/60 [02:50<00:00,  2.84s/it, v_num=1, train_loss_step=3.48e+3, train_loss_epoch=3.25e+3]\n",
      "\u001b[34mINFO    \u001b[0m Training for \u001b[1;36m20\u001b[0m epochs.                                                                                   \n"
     ]
    },
    {
     "name": "stderr",
     "output_type": "stream",
     "text": [
      "GPU available: True (cuda), used: True\n",
      "TPU available: False, using: 0 TPU cores\n",
      "HPU available: False, using: 0 HPUs\n",
      "LOCAL_RANK: 0 - CUDA_VISIBLE_DEVICES: [0,1,2,3]\n"
     ]
    },
    {
     "name": "stdout",
     "output_type": "stream",
     "text": [
      "Epoch 20/20: 100%|██████████| 20/20 [02:08<00:00,  6.46s/it, v_num=1, train_loss_step=3.37e+3, train_loss_epoch=3.25e+3]"
     ]
    },
    {
     "name": "stderr",
     "output_type": "stream",
     "text": [
      "`Trainer.fit` stopped: `max_epochs=20` reached.\n"
     ]
    },
    {
     "name": "stdout",
     "output_type": "stream",
     "text": [
      "Epoch 20/20: 100%|██████████| 20/20 [02:08<00:00,  6.43s/it, v_num=1, train_loss_step=3.37e+3, train_loss_epoch=3.25e+3]\n",
      "Running harmony\n"
     ]
    },
    {
     "name": "stderr",
     "output_type": "stream",
     "text": [
      "... storing 'groupCov' as categorical\n",
      "... storing 'harmonizedRegion' as categorical\n",
      "... storing 'tissue' as categorical\n",
      "... storing 'study' as categorical\n",
      "... storing 'LabelTransfer_scANVI' as categorical\n",
      "... storing 'LabelTransfer_harmony' as categorical\n",
      "... storing 'HarmonyBatch' as categorical\n",
      "2025-03-01 01:21:35,188 - harmonypy - INFO - Computing initial centroids with sklearn.KMeans...\n",
      "INFO:harmonypy:Computing initial centroids with sklearn.KMeans...\n",
      "2025-03-01 01:21:38,416 - harmonypy - INFO - sklearn.KMeans initialization complete.\n",
      "INFO:harmonypy:sklearn.KMeans initialization complete.\n",
      "2025-03-01 01:21:38,501 - harmonypy - INFO - Iteration 1 of 20\n",
      "INFO:harmonypy:Iteration 1 of 20\n",
      "2025-03-01 01:21:45,501 - harmonypy - INFO - Iteration 2 of 20\n",
      "INFO:harmonypy:Iteration 2 of 20\n",
      "2025-03-01 01:21:52,131 - harmonypy - INFO - Converged after 2 iterations\n",
      "INFO:harmonypy:Converged after 2 iterations\n"
     ]
    },
    {
     "name": "stdout",
     "output_type": "stream",
     "text": [
      "Running KNN\n",
      "Scoring cell cycle\n",
      "calculating cell cycle phase\n"
     ]
    },
    {
     "name": "stderr",
     "output_type": "stream",
     "text": [
      "Processing groups:  98%|█████████▊| 83/85 [8:05:53<12:10, 365.42s/it]"
     ]
    },
    {
     "name": "stdout",
     "output_type": "stream",
     "text": [
      "-->     'S_score' and 'G2M_score', scores of cell cycle phases (adata.obs)\n",
      "Running labelTransfer on Sample 2_CTL04E_509\n",
      "Preparing reference and query\n",
      "Found mismatch between Ref and Query vars: will unify\n",
      "Scaling: True\n",
      "Running ingestion\n",
      "Running scANVI\n",
      "GPU with the lowest utilization is:  0\n"
     ]
    },
    {
     "name": "stderr",
     "output_type": "stream",
     "text": [
      "GPU available: True (cuda), used: True\n",
      "TPU available: False, using: 0 TPU cores\n",
      "HPU available: False, using: 0 HPUs\n",
      "LOCAL_RANK: 0 - CUDA_VISIBLE_DEVICES: [0,1,2,3]\n"
     ]
    },
    {
     "name": "stdout",
     "output_type": "stream",
     "text": [
      "Epoch 60/60: 100%|██████████| 60/60 [02:44<00:00,  2.74s/it, v_num=1, train_loss_step=3e+3, train_loss_epoch=3.21e+3]   "
     ]
    },
    {
     "name": "stderr",
     "output_type": "stream",
     "text": [
      "`Trainer.fit` stopped: `max_epochs=60` reached.\n"
     ]
    },
    {
     "name": "stdout",
     "output_type": "stream",
     "text": [
      "Epoch 60/60: 100%|██████████| 60/60 [02:44<00:00,  2.75s/it, v_num=1, train_loss_step=3e+3, train_loss_epoch=3.21e+3]\n",
      "\u001b[34mINFO    \u001b[0m Training for \u001b[1;36m20\u001b[0m epochs.                                                                                   \n"
     ]
    },
    {
     "name": "stderr",
     "output_type": "stream",
     "text": [
      "GPU available: True (cuda), used: True\n",
      "TPU available: False, using: 0 TPU cores\n",
      "HPU available: False, using: 0 HPUs\n",
      "LOCAL_RANK: 0 - CUDA_VISIBLE_DEVICES: [0,1,2,3]\n"
     ]
    },
    {
     "name": "stdout",
     "output_type": "stream",
     "text": [
      "Epoch 20/20: 100%|██████████| 20/20 [02:08<00:00,  6.45s/it, v_num=1, train_loss_step=2.81e+3, train_loss_epoch=3.21e+3]"
     ]
    },
    {
     "name": "stderr",
     "output_type": "stream",
     "text": [
      "`Trainer.fit` stopped: `max_epochs=20` reached.\n"
     ]
    },
    {
     "name": "stdout",
     "output_type": "stream",
     "text": [
      "Epoch 20/20: 100%|██████████| 20/20 [02:08<00:00,  6.43s/it, v_num=1, train_loss_step=2.81e+3, train_loss_epoch=3.21e+3]\n",
      "Running harmony\n"
     ]
    },
    {
     "name": "stderr",
     "output_type": "stream",
     "text": [
      "... storing 'groupCov' as categorical\n",
      "... storing 'harmonizedRegion' as categorical\n",
      "... storing 'tissue' as categorical\n",
      "... storing 'study' as categorical\n",
      "... storing 'LabelTransfer_scANVI' as categorical\n",
      "... storing 'LabelTransfer_harmony' as categorical\n",
      "... storing 'HarmonyBatch' as categorical\n",
      "2025-03-01 01:27:12,156 - harmonypy - INFO - Computing initial centroids with sklearn.KMeans...\n",
      "INFO:harmonypy:Computing initial centroids with sklearn.KMeans...\n",
      "2025-03-01 01:27:15,855 - harmonypy - INFO - sklearn.KMeans initialization complete.\n",
      "INFO:harmonypy:sklearn.KMeans initialization complete.\n",
      "2025-03-01 01:27:16,063 - harmonypy - INFO - Iteration 1 of 20\n",
      "INFO:harmonypy:Iteration 1 of 20\n",
      "2025-03-01 01:27:23,336 - harmonypy - INFO - Iteration 2 of 20\n",
      "INFO:harmonypy:Iteration 2 of 20\n",
      "2025-03-01 01:27:29,350 - harmonypy - INFO - Converged after 2 iterations\n",
      "INFO:harmonypy:Converged after 2 iterations\n"
     ]
    },
    {
     "name": "stdout",
     "output_type": "stream",
     "text": [
      "Running KNN\n",
      "Scoring cell cycle\n",
      "calculating cell cycle phase\n"
     ]
    },
    {
     "name": "stderr",
     "output_type": "stream",
     "text": [
      "Processing groups:  99%|█████████▉| 84/85 [8:11:30<05:56, 356.86s/it]"
     ]
    },
    {
     "name": "stdout",
     "output_type": "stream",
     "text": [
      "-->     'S_score' and 'G2M_score', scores of cell cycle phases (adata.obs)\n",
      "Running labelTransfer on Sample 3_CTL08A_509\n",
      "Preparing reference and query\n",
      "Found mismatch between Ref and Query vars: will unify\n",
      "Scaling: True\n",
      "Running ingestion\n",
      "Running scANVI\n",
      "GPU with the lowest utilization is:  0\n"
     ]
    },
    {
     "name": "stderr",
     "output_type": "stream",
     "text": [
      "GPU available: True (cuda), used: True\n",
      "TPU available: False, using: 0 TPU cores\n",
      "HPU available: False, using: 0 HPUs\n",
      "LOCAL_RANK: 0 - CUDA_VISIBLE_DEVICES: [0,1,2,3]\n"
     ]
    },
    {
     "name": "stdout",
     "output_type": "stream",
     "text": [
      "Epoch 60/60: 100%|██████████| 60/60 [02:47<00:00,  2.73s/it, v_num=1, train_loss_step=3.51e+3, train_loss_epoch=3.24e+3]"
     ]
    },
    {
     "name": "stderr",
     "output_type": "stream",
     "text": [
      "`Trainer.fit` stopped: `max_epochs=60` reached.\n"
     ]
    },
    {
     "name": "stdout",
     "output_type": "stream",
     "text": [
      "Epoch 60/60: 100%|██████████| 60/60 [02:47<00:00,  2.78s/it, v_num=1, train_loss_step=3.51e+3, train_loss_epoch=3.24e+3]\n",
      "\u001b[34mINFO    \u001b[0m Training for \u001b[1;36m20\u001b[0m epochs.                                                                                   \n"
     ]
    },
    {
     "name": "stderr",
     "output_type": "stream",
     "text": [
      "GPU available: True (cuda), used: True\n",
      "TPU available: False, using: 0 TPU cores\n",
      "HPU available: False, using: 0 HPUs\n",
      "LOCAL_RANK: 0 - CUDA_VISIBLE_DEVICES: [0,1,2,3]\n"
     ]
    },
    {
     "name": "stdout",
     "output_type": "stream",
     "text": [
      "Epoch 20/20: 100%|██████████| 20/20 [02:07<00:00,  6.35s/it, v_num=1, train_loss_step=3.17e+3, train_loss_epoch=3.24e+3]"
     ]
    },
    {
     "name": "stderr",
     "output_type": "stream",
     "text": [
      "`Trainer.fit` stopped: `max_epochs=20` reached.\n"
     ]
    },
    {
     "name": "stdout",
     "output_type": "stream",
     "text": [
      "Epoch 20/20: 100%|██████████| 20/20 [02:07<00:00,  6.36s/it, v_num=1, train_loss_step=3.17e+3, train_loss_epoch=3.24e+3]\n",
      "Running harmony\n"
     ]
    },
    {
     "name": "stderr",
     "output_type": "stream",
     "text": [
      "... storing 'groupCov' as categorical\n",
      "... storing 'harmonizedRegion' as categorical\n",
      "... storing 'tissue' as categorical\n",
      "... storing 'study' as categorical\n",
      "... storing 'LabelTransfer_scANVI' as categorical\n",
      "... storing 'LabelTransfer_harmony' as categorical\n",
      "... storing 'HarmonyBatch' as categorical\n",
      "2025-03-01 01:32:50,871 - harmonypy - INFO - Computing initial centroids with sklearn.KMeans...\n",
      "INFO:harmonypy:Computing initial centroids with sklearn.KMeans...\n",
      "2025-03-01 01:32:54,237 - harmonypy - INFO - sklearn.KMeans initialization complete.\n",
      "INFO:harmonypy:sklearn.KMeans initialization complete.\n",
      "2025-03-01 01:32:54,389 - harmonypy - INFO - Iteration 1 of 20\n",
      "INFO:harmonypy:Iteration 1 of 20\n",
      "2025-03-01 01:33:01,592 - harmonypy - INFO - Iteration 2 of 20\n",
      "INFO:harmonypy:Iteration 2 of 20\n",
      "2025-03-01 01:33:08,879 - harmonypy - INFO - Converged after 2 iterations\n",
      "INFO:harmonypy:Converged after 2 iterations\n"
     ]
    },
    {
     "name": "stdout",
     "output_type": "stream",
     "text": [
      "Running KNN\n",
      "Scoring cell cycle\n",
      "calculating cell cycle phase\n"
     ]
    },
    {
     "name": "stderr",
     "output_type": "stream",
     "text": [
      "Processing groups: 100%|██████████| 85/85 [8:17:10<00:00, 350.95s/it]"
     ]
    },
    {
     "name": "stdout",
     "output_type": "stream",
     "text": [
      "-->     'S_score' and 'G2M_score', scores of cell cycle phases (adata.obs)\n"
     ]
    },
    {
     "name": "stderr",
     "output_type": "stream",
     "text": [
      "\n"
     ]
    }
   ],
   "source": [
    "AtlasAdata = AtlasTile(adata, regionObs=\"harmonizedRegion\", tissueObs=\"tissue\", ageObs=\"PCW\", study=DS,scalevar=True, groupCov=\"groupCov\")\n",
    "\n",
    "AtlasAdata.normalize()\n",
    "AtlasAdata.labelTransfer(ReferencePaths, savePlots=\"./\", method=[\"consensus\"], scanvi_Max_epochs=20, scvi_Max_epochs=60)"
   ]
  },
  {
   "cell_type": "code",
   "execution_count": 10,
   "metadata": {},
   "outputs": [
    {
     "name": "stderr",
     "output_type": "stream",
     "text": [
      "... storing 'groupCov' as categorical\n",
      "... storing 'harmonizedRegion' as categorical\n",
      "... storing 'tissue' as categorical\n",
      "... storing 'study' as categorical\n",
      "... storing 'region' as categorical\n",
      "... storing 'study_Annotation' as categorical\n",
      "... storing 'scANVILabels' as categorical\n",
      "... storing 'harmonyLabels' as categorical\n",
      "... storing 'phase' as categorical\n"
     ]
    }
   ],
   "source": [
    "AtlasAdata.write(\"./adatas/4.1.{}.labeltransfer.h5ad\".format(DS))"
   ]
  }
 ],
 "metadata": {
  "kernelspec": {
   "display_name": "Python 3",
   "language": "python",
   "name": "python3"
  },
  "language_info": {
   "codemirror_mode": {
    "name": "ipython",
    "version": 3
   },
   "file_extension": ".py",
   "mimetype": "text/x-python",
   "name": "python",
   "nbconvert_exporter": "python",
   "pygments_lexer": "ipython3",
   "version": "3.10.14"
  }
 },
 "nbformat": 4,
 "nbformat_minor": 2
}
