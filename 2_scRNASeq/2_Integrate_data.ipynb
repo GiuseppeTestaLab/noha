{
 "cells": [
  {
   "cell_type": "code",
   "execution_count": 1,
   "metadata": {},
   "outputs": [],
   "source": [
    "##############\n",
    "## input: combined_scRNA_seq_data.h5ad\n",
    "## output: combined_scRNA_seq_data_with_genetic_demux_filtered.h5ad\n",
    "##############"
   ]
  },
  {
   "cell_type": "markdown",
   "metadata": {},
   "source": [
    "# 1. Environment"
   ]
  },
  {
   "cell_type": "code",
   "execution_count": 2,
   "metadata": {},
   "outputs": [],
   "source": [
    "import scanpy as sc\n",
    "import pandas as pd\n",
    "import os\n",
    "import glob\n",
    "import matplotlib.pyplot as plt\n",
    "import seaborn as sns\n",
    "import anndata as ad"
   ]
  },
  {
   "cell_type": "code",
   "execution_count": 3,
   "metadata": {},
   "outputs": [],
   "source": [
    "output_dir = \"/group/testa/Project/EndPoints/scRNASeq/preAnalysis/output\"\n",
    "\n",
    "# Directory containing aggregatedCall files\n",
    "demux_dir = '/group/testa/Common/scRNAseq/demultiplexing/endpoints_sc_2024-cellranger_human_GRCh38-2020-A/alessia.valenti/'"
   ]
  },
  {
   "cell_type": "markdown",
   "metadata": {},
   "source": [
    "# 2. Load adata"
   ]
  },
  {
   "cell_type": "markdown",
   "metadata": {},
   "source": [
    "|\t                | cmo\t| run\t| condition\t|line\t | replicate |\n",
    "|-------------------|-------|-------|-----------|--------|-----------|                  \n",
    "|AAACCCAAGATGGTAT-1\t| 309.0\t| 513\t| MIX\t    |CTL04E\t | 3         |\n",
    "|AAACCCAAGCCTGAAG-1\t| 311.0\t| 513\t| MIX\t    |CTL08A\t | 2         |\n",
    "|AAACCCAAGCTTTCCC-1\t| 312.0\t| 513\t| MIX\t    |CTL08A\t | 3         |\n",
    "|AAACCCAAGGGATCTG-1\t| 307.0\t| 513\t| MIX\t    |CTL04E\t | 1         |\n",
    "|AAACCCAAGGGTGAGG-1\t| 309.0\t| 513\t| MIX\t    |CTL04E\t | 3         |"
   ]
  },
  {
   "cell_type": "code",
   "execution_count": 4,
   "metadata": {},
   "outputs": [
    {
     "name": "stdout",
     "output_type": "stream",
     "text": [
      "Loaded dataset shape: (621573, 36601)\n"
     ]
    }
   ],
   "source": [
    "adata = sc.read_h5ad(\"/group/testa/Project/EndPoints/scRNASeq/preAnalysis/Archive/combined_scRNA_seq_data_39X.h5ad\")\n",
    "print(f\"Loaded dataset shape: {adata.shape}\")"
   ]
  },
  {
   "cell_type": "code",
   "execution_count": 5,
   "metadata": {},
   "outputs": [],
   "source": [
    "adata_original = adata.copy()"
   ]
  },
  {
   "cell_type": "code",
   "execution_count": 6,
   "metadata": {},
   "outputs": [],
   "source": [
    "adata.obs['run'] = adata.obs['run'].astype(int)"
   ]
  },
  {
   "cell_type": "code",
   "execution_count": 7,
   "metadata": {},
   "outputs": [
    {
     "data": {
      "text/html": [
       "<div>\n",
       "<style scoped>\n",
       "    .dataframe tbody tr th:only-of-type {\n",
       "        vertical-align: middle;\n",
       "    }\n",
       "\n",
       "    .dataframe tbody tr th {\n",
       "        vertical-align: top;\n",
       "    }\n",
       "\n",
       "    .dataframe thead th {\n",
       "        text-align: right;\n",
       "    }\n",
       "</style>\n",
       "<table border=\"1\" class=\"dataframe\">\n",
       "  <thead>\n",
       "    <tr style=\"text-align: right;\">\n",
       "      <th></th>\n",
       "      <th>tags</th>\n",
       "      <th>run</th>\n",
       "      <th>cmo</th>\n",
       "      <th>condition</th>\n",
       "      <th>line</th>\n",
       "      <th>replicate</th>\n",
       "      <th>condition_clean</th>\n",
       "    </tr>\n",
       "  </thead>\n",
       "  <tbody>\n",
       "    <tr>\n",
       "      <th>AAACCCAAGAAACCCG-1-501</th>\n",
       "      <td>AAACCCAAGAAACCCG-1</td>\n",
       "      <td>501</td>\n",
       "      <td>303.0</td>\n",
       "      <td>THYROID_AGONIST</td>\n",
       "      <td>CTL04E</td>\n",
       "      <td>3</td>\n",
       "      <td>THYROID_AGONIST</td>\n",
       "    </tr>\n",
       "    <tr>\n",
       "      <th>AAACCCAAGGACGCAT-1-501</th>\n",
       "      <td>AAACCCAAGGACGCAT-1</td>\n",
       "      <td>501</td>\n",
       "      <td>306.0</td>\n",
       "      <td>THYROID_AGONIST</td>\n",
       "      <td>CTL08A</td>\n",
       "      <td>3</td>\n",
       "      <td>THYROID_AGONIST</td>\n",
       "    </tr>\n",
       "    <tr>\n",
       "      <th>AAACCCAAGTTGAAAC-1-501</th>\n",
       "      <td>AAACCCAAGTTGAAAC-1</td>\n",
       "      <td>501</td>\n",
       "      <td>305.0</td>\n",
       "      <td>THYROID_AGONIST</td>\n",
       "      <td>CTL08A</td>\n",
       "      <td>2</td>\n",
       "      <td>THYROID_AGONIST</td>\n",
       "    </tr>\n",
       "    <tr>\n",
       "      <th>AAACCCACAACGGGTA-1-501</th>\n",
       "      <td>AAACCCACAACGGGTA-1</td>\n",
       "      <td>501</td>\n",
       "      <td>306.0</td>\n",
       "      <td>THYROID_AGONIST</td>\n",
       "      <td>CTL08A</td>\n",
       "      <td>3</td>\n",
       "      <td>THYROID_AGONIST</td>\n",
       "    </tr>\n",
       "    <tr>\n",
       "      <th>AAACCCACAAGATCCT-1-501</th>\n",
       "      <td>AAACCCACAAGATCCT-1</td>\n",
       "      <td>501</td>\n",
       "      <td>303.0</td>\n",
       "      <td>THYROID_AGONIST</td>\n",
       "      <td>CTL04E</td>\n",
       "      <td>3</td>\n",
       "      <td>THYROID_AGONIST</td>\n",
       "    </tr>\n",
       "  </tbody>\n",
       "</table>\n",
       "</div>"
      ],
      "text/plain": [
       "                                      tags  run    cmo        condition  \\\n",
       "AAACCCAAGAAACCCG-1-501  AAACCCAAGAAACCCG-1  501  303.0  THYROID_AGONIST   \n",
       "AAACCCAAGGACGCAT-1-501  AAACCCAAGGACGCAT-1  501  306.0  THYROID_AGONIST   \n",
       "AAACCCAAGTTGAAAC-1-501  AAACCCAAGTTGAAAC-1  501  305.0  THYROID_AGONIST   \n",
       "AAACCCACAACGGGTA-1-501  AAACCCACAACGGGTA-1  501  306.0  THYROID_AGONIST   \n",
       "AAACCCACAAGATCCT-1-501  AAACCCACAAGATCCT-1  501  303.0  THYROID_AGONIST   \n",
       "\n",
       "                          line replicate  condition_clean  \n",
       "AAACCCAAGAAACCCG-1-501  CTL04E         3  THYROID_AGONIST  \n",
       "AAACCCAAGGACGCAT-1-501  CTL08A         3  THYROID_AGONIST  \n",
       "AAACCCAAGTTGAAAC-1-501  CTL08A         2  THYROID_AGONIST  \n",
       "AAACCCACAACGGGTA-1-501  CTL08A         3  THYROID_AGONIST  \n",
       "AAACCCACAAGATCCT-1-501  CTL04E         3  THYROID_AGONIST  "
      ]
     },
     "execution_count": 7,
     "metadata": {},
     "output_type": "execute_result"
    }
   ],
   "source": [
    "adata.obs.head()"
   ]
  },
  {
   "cell_type": "code",
   "execution_count": 8,
   "metadata": {},
   "outputs": [
    {
     "name": "stdout",
     "output_type": "stream",
     "text": [
      "set()\n"
     ]
    }
   ],
   "source": [
    "print( set([393, 394, *[i for i in range(491, 513)] ]) - set(sorted(list(adata.obs.run.unique()))))"
   ]
  },
  {
   "cell_type": "code",
   "execution_count": 9,
   "metadata": {},
   "outputs": [
    {
     "data": {
      "image/png": "[encoded data removed]",
      "text/plain": [
       "<Figure size 1200x800 with 4 Axes>"
      ]
     },
     "metadata": {},
     "output_type": "display_data"
    }
   ],
   "source": [
    "fig, axes = plt.subplots(2, 2, figsize=(12, 8))\n",
    "\n",
    "axes = axes.flatten()\n",
    "\n",
    "columns = ['run', 'line', 'condition', 'replicate']\n",
    "\n",
    "for ax, column in zip(axes, columns):\n",
    "    adata.obs[column].value_counts().plot.bar(ax=ax, color='gray')\n",
    "    ax.set_title(column)\n",
    "    ax.set_ylabel('Count')\n",
    "    ax.tick_params(axis='x', rotation=90)\n",
    "\n",
    "plt.tight_layout()\n",
    "plt.show()"
   ]
  },
  {
   "cell_type": "markdown",
   "metadata": {},
   "source": [
    "# 3. Load aggregatedCall data"
   ]
  },
  {
   "cell_type": "markdown",
   "metadata": {},
   "source": [
    "|\t                | Consensus | run |\t\n",
    "|-------------------|-----------|-----|\t\n",
    "AAACCCAAGACTTCGT-1\t| CTL08A\t| 503 |\n",
    "AAACCCAAGAGTCAGC-1\t| CTL04E\t| 503 |\n",
    "AAACCCAAGCCTCAGC-1\t| CTL08A\t| 503 |\n",
    "AAACCCAAGCTACTGT-1\t| CTL08A\t| 503 |\n",
    "AAACCCAAGCTTGTGT-1\t| CTL04E\t| 503 |"
   ]
  },
  {
   "cell_type": "code",
   "execution_count": 10,
   "metadata": {},
   "outputs": [],
   "source": [
    "# Function to read aggregatedCall files\n",
    "def read_aggregated_call(file_path):\n",
    "    return pd.read_csv(file_path, sep='\\t', index_col='barcode')"
   ]
  },
  {
   "cell_type": "code",
   "execution_count": 11,
   "metadata": {},
   "outputs": [],
   "source": [
    "# Read all aggregatedCall files\n",
    "aggregatedCalls = {}\n",
    "for run_dir in glob.glob(os.path.join(demux_dir, 'MTR_*')):\n",
    "    run_name = os.path.basename(run_dir)\n",
    "    aggregated_call_file = os.path.join(run_dir, 'aggregatedCall', 'aggregatedCall.tsv')\n",
    "    if os.path.exists(aggregated_call_file):\n",
    "        aggregatedCalls[run_name] = read_aggregated_call(aggregated_call_file)\n",
    "        aggregatedCalls[run_name][\"run\"] = int(run_name.split(\"_\")[-1])"
   ]
  },
  {
   "cell_type": "code",
   "execution_count": 12,
   "metadata": {},
   "outputs": [
    {
     "name": "stdout",
     "output_type": "stream",
     "text": [
      "['MTR_393', 'MTR_394', 'MTR_491', 'MTR_492', 'MTR_493', 'MTR_494', 'MTR_495', 'MTR_496', 'MTR_497', 'MTR_498', 'MTR_499', 'MTR_500', 'MTR_501', 'MTR_502', 'MTR_503', 'MTR_504', 'MTR_505', 'MTR_506', 'MTR_507', 'MTR_508', 'MTR_509', 'MTR_510', 'MTR_511', 'MTR_512', 'MTR_513']\n"
     ]
    }
   ],
   "source": [
    "print(sorted(list(aggregatedCalls.keys())))\n",
    "\n",
    "runs = [int(i.split(\"_\")[-1]) for i in list(aggregatedCalls.keys())]"
   ]
  },
  {
   "cell_type": "code",
   "execution_count": 13,
   "metadata": {},
   "outputs": [
    {
     "data": {
      "text/html": [
       "<div>\n",
       "<style scoped>\n",
       "    .dataframe tbody tr th:only-of-type {\n",
       "        vertical-align: middle;\n",
       "    }\n",
       "\n",
       "    .dataframe tbody tr th {\n",
       "        vertical-align: top;\n",
       "    }\n",
       "\n",
       "    .dataframe thead th {\n",
       "        text-align: right;\n",
       "    }\n",
       "</style>\n",
       "<table border=\"1\" class=\"dataframe\">\n",
       "  <thead>\n",
       "    <tr style=\"text-align: right;\">\n",
       "      <th></th>\n",
       "      <th>Consensus</th>\n",
       "      <th>run</th>\n",
       "    </tr>\n",
       "    <tr>\n",
       "      <th>barcode</th>\n",
       "      <th></th>\n",
       "      <th></th>\n",
       "    </tr>\n",
       "  </thead>\n",
       "  <tbody>\n",
       "    <tr>\n",
       "      <th>AAACCCAAGACCAACG-1</th>\n",
       "      <td>CTL04E</td>\n",
       "      <td>507</td>\n",
       "    </tr>\n",
       "    <tr>\n",
       "      <th>AAACCCAAGAGGTCGT-1</th>\n",
       "      <td>CTL08A</td>\n",
       "      <td>507</td>\n",
       "    </tr>\n",
       "    <tr>\n",
       "      <th>AAACCCAAGCCATTCA-1</th>\n",
       "      <td>CTL08A</td>\n",
       "      <td>507</td>\n",
       "    </tr>\n",
       "    <tr>\n",
       "      <th>AAACCCAAGCGCAATG-1</th>\n",
       "      <td>CTL08A</td>\n",
       "      <td>507</td>\n",
       "    </tr>\n",
       "    <tr>\n",
       "      <th>AAACCCAAGGAGGCAG-1</th>\n",
       "      <td>CTL08A</td>\n",
       "      <td>507</td>\n",
       "    </tr>\n",
       "  </tbody>\n",
       "</table>\n",
       "</div>"
      ],
      "text/plain": [
       "                   Consensus  run\n",
       "barcode                          \n",
       "AAACCCAAGACCAACG-1    CTL04E  507\n",
       "AAACCCAAGAGGTCGT-1    CTL08A  507\n",
       "AAACCCAAGCCATTCA-1    CTL08A  507\n",
       "AAACCCAAGCGCAATG-1    CTL08A  507\n",
       "AAACCCAAGGAGGCAG-1    CTL08A  507"
      ]
     },
     "execution_count": 13,
     "metadata": {},
     "output_type": "execute_result"
    }
   ],
   "source": [
    "aggregatedCalls['MTR_507'].head()"
   ]
  },
  {
   "cell_type": "code",
   "execution_count": 14,
   "metadata": {},
   "outputs": [
    {
     "name": "stdout",
     "output_type": "stream",
     "text": [
      "set()\n"
     ]
    }
   ],
   "source": [
    "print( set( [393, 394, *[i for i in range(491, 513)] ]) - set(sorted(runs)))"
   ]
  },
  {
   "cell_type": "code",
   "execution_count": 15,
   "metadata": {},
   "outputs": [],
   "source": [
    "aggregatedCalls_combined = pd.concat(aggregatedCalls.values(), ignore_index=False)"
   ]
  },
  {
   "cell_type": "code",
   "execution_count": 16,
   "metadata": {},
   "outputs": [],
   "source": [
    "aggregatedCalls_combined = aggregatedCalls_combined.rename_axis(None)"
   ]
  },
  {
   "cell_type": "code",
   "execution_count": 17,
   "metadata": {},
   "outputs": [],
   "source": [
    "aggregatedCalls_combined['run'] = aggregatedCalls_combined['run'].astype(int)"
   ]
  },
  {
   "cell_type": "code",
   "execution_count": 18,
   "metadata": {},
   "outputs": [],
   "source": [
    "aggregatedCalls_combined = aggregatedCalls_combined.rename(columns={\n",
    "    'Consensus': 'Consensus_gene_demux',\n",
    "    'run': 'run_gene_demux'\n",
    "})"
   ]
  },
  {
   "cell_type": "code",
   "execution_count": 19,
   "metadata": {},
   "outputs": [
    {
     "data": {
      "text/html": [
       "<div>\n",
       "<style scoped>\n",
       "    .dataframe tbody tr th:only-of-type {\n",
       "        vertical-align: middle;\n",
       "    }\n",
       "\n",
       "    .dataframe tbody tr th {\n",
       "        vertical-align: top;\n",
       "    }\n",
       "\n",
       "    .dataframe thead th {\n",
       "        text-align: right;\n",
       "    }\n",
       "</style>\n",
       "<table border=\"1\" class=\"dataframe\">\n",
       "  <thead>\n",
       "    <tr style=\"text-align: right;\">\n",
       "      <th></th>\n",
       "      <th>Consensus_gene_demux</th>\n",
       "      <th>run_gene_demux</th>\n",
       "    </tr>\n",
       "  </thead>\n",
       "  <tbody>\n",
       "    <tr>\n",
       "      <th>AAACCCAAGACTTCGT-1</th>\n",
       "      <td>CTL08A</td>\n",
       "      <td>503</td>\n",
       "    </tr>\n",
       "    <tr>\n",
       "      <th>AAACCCAAGAGTCAGC-1</th>\n",
       "      <td>CTL04E</td>\n",
       "      <td>503</td>\n",
       "    </tr>\n",
       "    <tr>\n",
       "      <th>AAACCCAAGCCTCAGC-1</th>\n",
       "      <td>CTL08A</td>\n",
       "      <td>503</td>\n",
       "    </tr>\n",
       "    <tr>\n",
       "      <th>AAACCCAAGCTACTGT-1</th>\n",
       "      <td>CTL08A</td>\n",
       "      <td>503</td>\n",
       "    </tr>\n",
       "    <tr>\n",
       "      <th>AAACCCAAGCTTGTGT-1</th>\n",
       "      <td>CTL04E</td>\n",
       "      <td>503</td>\n",
       "    </tr>\n",
       "  </tbody>\n",
       "</table>\n",
       "</div>"
      ],
      "text/plain": [
       "                   Consensus_gene_demux  run_gene_demux\n",
       "AAACCCAAGACTTCGT-1               CTL08A             503\n",
       "AAACCCAAGAGTCAGC-1               CTL04E             503\n",
       "AAACCCAAGCCTCAGC-1               CTL08A             503\n",
       "AAACCCAAGCTACTGT-1               CTL08A             503\n",
       "AAACCCAAGCTTGTGT-1               CTL04E             503"
      ]
     },
     "execution_count": 19,
     "metadata": {},
     "output_type": "execute_result"
    }
   ],
   "source": [
    "aggregatedCalls_combined.head()"
   ]
  },
  {
   "cell_type": "code",
   "execution_count": 20,
   "metadata": {},
   "outputs": [
    {
     "name": "stdout",
     "output_type": "stream",
     "text": [
      "Warning: 106982 duplicate indices found in aggregatedCalls_combined.\n"
     ]
    }
   ],
   "source": [
    "if aggregatedCalls_combined.index.duplicated().any():\n",
    "    duplicate_count = aggregatedCalls_combined.index.duplicated().sum()\n",
    "    print(f\"Warning: {duplicate_count} duplicate indices found in aggregatedCalls_combined.\")\n",
    "    # processed_data_combined = processed_data_combined[~processed_data_combined.index.duplicated(keep='first')]\n",
    "    # processed_data_combined = aggregatedCalls_combined[~aggregatedCalls_combined.index.duplicated(keep=False)]\n",
    "    # print(f\"Removed {duplicate_count} rows. New shape of processed_data_combined: {processed_data_combined.shape}\")"
   ]
  },
  {
   "cell_type": "code",
   "execution_count": 21,
   "metadata": {},
   "outputs": [],
   "source": [
    "aggregatedCalls_combined = aggregatedCalls_combined.reset_index()\n",
    "aggregatedCalls_combined['unique_index'] = aggregatedCalls_combined[\"index\"].astype(str) + '-' + aggregatedCalls_combined['run_gene_demux'].astype(str)\n",
    "aggregatedCalls_combined = aggregatedCalls_combined.set_index('unique_index')"
   ]
  },
  {
   "cell_type": "code",
   "execution_count": 22,
   "metadata": {},
   "outputs": [
    {
     "data": {
      "text/html": [
       "<div>\n",
       "<style scoped>\n",
       "    .dataframe tbody tr th:only-of-type {\n",
       "        vertical-align: middle;\n",
       "    }\n",
       "\n",
       "    .dataframe tbody tr th {\n",
       "        vertical-align: top;\n",
       "    }\n",
       "\n",
       "    .dataframe thead th {\n",
       "        text-align: right;\n",
       "    }\n",
       "</style>\n",
       "<table border=\"1\" class=\"dataframe\">\n",
       "  <thead>\n",
       "    <tr style=\"text-align: right;\">\n",
       "      <th></th>\n",
       "      <th>index</th>\n",
       "      <th>Consensus_gene_demux</th>\n",
       "      <th>run_gene_demux</th>\n",
       "    </tr>\n",
       "    <tr>\n",
       "      <th>unique_index</th>\n",
       "      <th></th>\n",
       "      <th></th>\n",
       "      <th></th>\n",
       "    </tr>\n",
       "  </thead>\n",
       "  <tbody>\n",
       "    <tr>\n",
       "      <th>AAACCCAAGACTTCGT-1-503</th>\n",
       "      <td>AAACCCAAGACTTCGT-1</td>\n",
       "      <td>CTL08A</td>\n",
       "      <td>503</td>\n",
       "    </tr>\n",
       "    <tr>\n",
       "      <th>AAACCCAAGAGTCAGC-1-503</th>\n",
       "      <td>AAACCCAAGAGTCAGC-1</td>\n",
       "      <td>CTL04E</td>\n",
       "      <td>503</td>\n",
       "    </tr>\n",
       "    <tr>\n",
       "      <th>AAACCCAAGCCTCAGC-1-503</th>\n",
       "      <td>AAACCCAAGCCTCAGC-1</td>\n",
       "      <td>CTL08A</td>\n",
       "      <td>503</td>\n",
       "    </tr>\n",
       "    <tr>\n",
       "      <th>AAACCCAAGCTACTGT-1-503</th>\n",
       "      <td>AAACCCAAGCTACTGT-1</td>\n",
       "      <td>CTL08A</td>\n",
       "      <td>503</td>\n",
       "    </tr>\n",
       "    <tr>\n",
       "      <th>AAACCCAAGCTTGTGT-1-503</th>\n",
       "      <td>AAACCCAAGCTTGTGT-1</td>\n",
       "      <td>CTL04E</td>\n",
       "      <td>503</td>\n",
       "    </tr>\n",
       "  </tbody>\n",
       "</table>\n",
       "</div>"
      ],
      "text/plain": [
       "                                     index Consensus_gene_demux  \\\n",
       "unique_index                                                      \n",
       "AAACCCAAGACTTCGT-1-503  AAACCCAAGACTTCGT-1               CTL08A   \n",
       "AAACCCAAGAGTCAGC-1-503  AAACCCAAGAGTCAGC-1               CTL04E   \n",
       "AAACCCAAGCCTCAGC-1-503  AAACCCAAGCCTCAGC-1               CTL08A   \n",
       "AAACCCAAGCTACTGT-1-503  AAACCCAAGCTACTGT-1               CTL08A   \n",
       "AAACCCAAGCTTGTGT-1-503  AAACCCAAGCTTGTGT-1               CTL04E   \n",
       "\n",
       "                        run_gene_demux  \n",
       "unique_index                            \n",
       "AAACCCAAGACTTCGT-1-503             503  \n",
       "AAACCCAAGAGTCAGC-1-503             503  \n",
       "AAACCCAAGCCTCAGC-1-503             503  \n",
       "AAACCCAAGCTACTGT-1-503             503  \n",
       "AAACCCAAGCTTGTGT-1-503             503  "
      ]
     },
     "execution_count": 22,
     "metadata": {},
     "output_type": "execute_result"
    }
   ],
   "source": [
    "aggregatedCalls_combined.head()"
   ]
  },
  {
   "cell_type": "code",
   "execution_count": 23,
   "metadata": {},
   "outputs": [],
   "source": [
    "if aggregatedCalls_combined.index.duplicated().any():\n",
    "    duplicate_count = aggregatedCalls_combined.index.duplicated().sum()\n",
    "    print(f\"Warning: {duplicate_count} duplicate indices found in aggregatedCalls_combined.\")"
   ]
  },
  {
   "cell_type": "code",
   "execution_count": 24,
   "metadata": {},
   "outputs": [
    {
     "name": "stdout",
     "output_type": "stream",
     "text": [
      "runs_aggregatedCalls_combined: {512, 513, 393, 394, 491, 492, 493, 494, 495, 496, 497, 498, 499, 500, 501, 502, 503, 504, 505, 506, 507, 508, 509, 510, 511}\n",
      "runs_adata: {512, 513, 393, 394, 491, 492, 493, 494, 495, 496, 497, 498, 499, 500, 501, 502, 503, 504, 505, 506, 507, 508, 509, 510, 511}\n",
      "Runs not shared: set()\n"
     ]
    }
   ],
   "source": [
    "runs_aggregatedCalls = set(aggregatedCalls_combined['run_gene_demux'].unique())\n",
    "print(f\"runs_aggregatedCalls_combined: {runs_aggregatedCalls}\")\n",
    "runs_adata = set(adata.obs['run'].unique())\n",
    "print(f\"runs_adata: {runs_adata}\")\n",
    "\n",
    "print(f\"Runs not shared: {runs_aggregatedCalls.symmetric_difference(runs_adata)}\")"
   ]
  },
  {
   "cell_type": "code",
   "execution_count": 25,
   "metadata": {},
   "outputs": [],
   "source": [
    "# runs_to_keep = runs_aggregatedCalls.intersection(runs_adata)\n",
    "\n",
    "# Remove non-shared runs from aggregatedCalls_combined\n",
    "# aggregatedCalls_combined = aggregatedCalls_combined[aggregatedCalls_combined['run_gene_demux'].isin(runs_to_keep)]\n",
    "\n",
    "# Remove non-shared runs from adata\n",
    "# adata = adata[adata.obs['run'].isin(runs_to_keep)]"
   ]
  },
  {
   "cell_type": "code",
   "execution_count": 26,
   "metadata": {},
   "outputs": [
    {
     "data": {
      "image/png": "[encoded data removed]",
      "text/plain": [
       "<Figure size 1200x800 with 2 Axes>"
      ]
     },
     "metadata": {},
     "output_type": "display_data"
    }
   ],
   "source": [
    "fig, axes = plt.subplots(1, 2, figsize=(12, 8))\n",
    "\n",
    "axes = axes.flatten()\n",
    "\n",
    "columns = ['Consensus_gene_demux', 'run_gene_demux']\n",
    "\n",
    "for ax, column in zip(axes, columns):\n",
    "    aggregatedCalls_combined[column].value_counts().plot.bar(ax=ax, color='gray')\n",
    "    ax.set_title(column)\n",
    "    ax.set_ylabel('Count')\n",
    "    ax.tick_params(axis='x', rotation=90)\n",
    "\n",
    "plt.tight_layout()\n",
    "plt.show()"
   ]
  },
  {
   "cell_type": "markdown",
   "metadata": {},
   "source": [
    "# 4. Combine data"
   ]
  },
  {
   "cell_type": "code",
   "execution_count": 27,
   "metadata": {},
   "outputs": [],
   "source": [
    "adata.obs = adata.obs.join(aggregatedCalls_combined, how='left')"
   ]
  },
  {
   "cell_type": "code",
   "execution_count": 28,
   "metadata": {},
   "outputs": [
    {
     "name": "stdout",
     "output_type": "stream",
     "text": [
      "[393, 394, 491, 492, 493, 494, 495, 496, 497, 498, 499, 500, 501, 502, 503, 504, 505, 506, 507, 508, 509, 510, 511, 512, 513]\n"
     ]
    }
   ],
   "source": [
    "print(sorted(list(adata.obs.run.unique())))"
   ]
  },
  {
   "cell_type": "code",
   "execution_count": 29,
   "metadata": {},
   "outputs": [
    {
     "name": "stdout",
     "output_type": "stream",
     "text": [
      "Total rows in adata.obs: 621573\n",
      "Total rows in aggregatedCalls_combined: 937779\n",
      "Rows in adata.obs with data from aggregatedCalls_combined: 621573\n",
      "\n",
      "\n",
      "Percentage of rows from adata.obs: 100.00%\n",
      "Percentage of rows from aggregatedCalls_combined: 66.28%\n"
     ]
    }
   ],
   "source": [
    "total_rows_aggregatedCalls_combined = aggregatedCalls_combined.shape[0]\n",
    "total_rows_adata = adata.obs.shape[0]\n",
    "\n",
    "# Count rows where new columns are not NaN\n",
    "combined_rows = adata.obs.dropna(subset=['Consensus_gene_demux', 'run_gene_demux']).shape[0]\n",
    "\n",
    "print(f\"Total rows in adata.obs: {total_rows_adata}\")\n",
    "print(f\"Total rows in aggregatedCalls_combined: {total_rows_aggregatedCalls_combined}\")\n",
    "print(f\"Rows in adata.obs with data from aggregatedCalls_combined: {combined_rows}\")\n",
    "print('\\n')\n",
    "percentage_combined = (combined_rows / total_rows_adata) * 100\n",
    "print(f\"Percentage of rows from adata.obs: {percentage_combined:.2f}%\")\n",
    "percentage_combined = (combined_rows / total_rows_aggregatedCalls_combined) * 100\n",
    "print(f\"Percentage of rows from aggregatedCalls_combined: {percentage_combined:.2f}%\")"
   ]
  },
  {
   "cell_type": "code",
   "execution_count": 30,
   "metadata": {},
   "outputs": [
    {
     "name": "stdout",
     "output_type": "stream",
     "text": [
      "Number of rows in adata.obs that didn't match to aggregatedCalls_combined: 0\n"
     ]
    }
   ],
   "source": [
    "# Check for any rows in adata.obs that didn't match\n",
    "unmatched_rows = adata.obs.index.difference(aggregatedCalls_combined.index)\n",
    "print(f\"Number of rows in adata.obs that didn't match to aggregatedCalls_combined: {len(unmatched_rows)}\")\n",
    "\n",
    "if len(unmatched_rows) > 0:\n",
    "    print(\"First few unmatched row indexes:\")\n",
    "    print(unmatched_rows[:5].tolist())"
   ]
  },
  {
   "cell_type": "code",
   "execution_count": 31,
   "metadata": {},
   "outputs": [
    {
     "name": "stdout",
     "output_type": "stream",
     "text": [
      "Number of rows in aggregatedCalls_combined that didn't match to adata.obs: 316206\n",
      "First few unmatched row indexes:\n",
      "['AAACCCAAGAACTGAT-1-501', 'AAACCCAAGAAGCGCT-1-491', 'AAACCCAAGAAGCTCG-1-505', 'AAACCCAAGAAGTGTT-1-493', 'AAACCCAAGACAAGCC-1-510']\n"
     ]
    }
   ],
   "source": [
    "# Check for any rows in aggregatedCalls_combined that didn't match\n",
    "unmatched_rows = aggregatedCalls_combined.index.difference(adata.obs.index)\n",
    "print(f\"Number of rows in aggregatedCalls_combined that didn't match to adata.obs: {len(unmatched_rows)}\")\n",
    "\n",
    "if len(unmatched_rows) > 0:\n",
    "    print(\"First few unmatched row indexes:\")\n",
    "    print(unmatched_rows[:5].tolist())"
   ]
  },
  {
   "cell_type": "code",
   "execution_count": 32,
   "metadata": {},
   "outputs": [
    {
     "data": {
      "text/html": [
       "<div>\n",
       "<style scoped>\n",
       "    .dataframe tbody tr th:only-of-type {\n",
       "        vertical-align: middle;\n",
       "    }\n",
       "\n",
       "    .dataframe tbody tr th {\n",
       "        vertical-align: top;\n",
       "    }\n",
       "\n",
       "    .dataframe thead th {\n",
       "        text-align: right;\n",
       "    }\n",
       "</style>\n",
       "<table border=\"1\" class=\"dataframe\">\n",
       "  <thead>\n",
       "    <tr style=\"text-align: right;\">\n",
       "      <th></th>\n",
       "      <th>index</th>\n",
       "      <th>Consensus_gene_demux</th>\n",
       "      <th>run_gene_demux</th>\n",
       "    </tr>\n",
       "  </thead>\n",
       "  <tbody>\n",
       "    <tr>\n",
       "      <th>AAACCCAAGAACTGAT-1-501</th>\n",
       "      <td>AAACCCAAGAACTGAT-1</td>\n",
       "      <td>doublet</td>\n",
       "      <td>501</td>\n",
       "    </tr>\n",
       "    <tr>\n",
       "      <th>AAACCCAAGAAGCGCT-1-491</th>\n",
       "      <td>AAACCCAAGAAGCGCT-1</td>\n",
       "      <td>doublet</td>\n",
       "      <td>491</td>\n",
       "    </tr>\n",
       "    <tr>\n",
       "      <th>AAACCCAAGAAGCTCG-1-505</th>\n",
       "      <td>AAACCCAAGAAGCTCG-1</td>\n",
       "      <td>CTL04E</td>\n",
       "      <td>505</td>\n",
       "    </tr>\n",
       "    <tr>\n",
       "      <th>AAACCCAAGAAGTGTT-1-493</th>\n",
       "      <td>AAACCCAAGAAGTGTT-1</td>\n",
       "      <td>CTL08A</td>\n",
       "      <td>493</td>\n",
       "    </tr>\n",
       "    <tr>\n",
       "      <th>AAACCCAAGACAAGCC-1-510</th>\n",
       "      <td>AAACCCAAGACAAGCC-1</td>\n",
       "      <td>CTL04E</td>\n",
       "      <td>510</td>\n",
       "    </tr>\n",
       "  </tbody>\n",
       "</table>\n",
       "</div>"
      ],
      "text/plain": [
       "                                     index Consensus_gene_demux  \\\n",
       "AAACCCAAGAACTGAT-1-501  AAACCCAAGAACTGAT-1              doublet   \n",
       "AAACCCAAGAAGCGCT-1-491  AAACCCAAGAAGCGCT-1              doublet   \n",
       "AAACCCAAGAAGCTCG-1-505  AAACCCAAGAAGCTCG-1               CTL04E   \n",
       "AAACCCAAGAAGTGTT-1-493  AAACCCAAGAAGTGTT-1               CTL08A   \n",
       "AAACCCAAGACAAGCC-1-510  AAACCCAAGACAAGCC-1               CTL04E   \n",
       "\n",
       "                        run_gene_demux  \n",
       "AAACCCAAGAACTGAT-1-501             501  \n",
       "AAACCCAAGAAGCGCT-1-491             491  \n",
       "AAACCCAAGAAGCTCG-1-505             505  \n",
       "AAACCCAAGAAGTGTT-1-493             493  \n",
       "AAACCCAAGACAAGCC-1-510             510  "
      ]
     },
     "execution_count": 32,
     "metadata": {},
     "output_type": "execute_result"
    }
   ],
   "source": [
    "unmatched = aggregatedCalls_combined.loc[unmatched_rows]\n",
    "unmatched.head()"
   ]
  },
  {
   "cell_type": "code",
   "execution_count": 33,
   "metadata": {},
   "outputs": [
    {
     "data": {
      "text/plain": [
       "<Axes: xlabel='run_gene_demux'>"
      ]
     },
     "execution_count": 33,
     "metadata": {},
     "output_type": "execute_result"
    },
    {
     "data": {
      "image/png": "[encoded data removed]",
      "text/plain": [
       "<Figure size 640x480 with 1 Axes>"
      ]
     },
     "metadata": {},
     "output_type": "display_data"
    }
   ],
   "source": [
    "sorted_runs = sorted(unmatched['run_gene_demux'].unique())\n",
    "unmatched['run_gene_demux'].value_counts().reindex(sorted_runs).plot.bar(color='orange')"
   ]
  },
  {
   "cell_type": "code",
   "execution_count": 34,
   "metadata": {},
   "outputs": [
    {
     "data": {
      "text/plain": [
       "array(['doublet', 'CTL04E', 'CTL08A', 'LowQuality'], dtype=object)"
      ]
     },
     "execution_count": 34,
     "metadata": {},
     "output_type": "execute_result"
    }
   ],
   "source": [
    "unmatched['Consensus_gene_demux'].unique()"
   ]
  },
  {
   "cell_type": "code",
   "execution_count": 35,
   "metadata": {},
   "outputs": [
    {
     "data": {
      "text/plain": [
       "<Axes: xlabel='Consensus_gene_demux'>"
      ]
     },
     "execution_count": 35,
     "metadata": {},
     "output_type": "execute_result"
    },
    {
     "data": {
      "image/png": "[encoded data removed]",
      "text/plain": [
       "<Figure size 640x480 with 1 Axes>"
      ]
     },
     "metadata": {},
     "output_type": "display_data"
    }
   ],
   "source": [
    "unmatched['Consensus_gene_demux'].value_counts().plot.bar(color=['orange'])"
   ]
  },
  {
   "cell_type": "code",
   "execution_count": 36,
   "metadata": {},
   "outputs": [
    {
     "data": {
      "image/png": "[encoded data removed]",
      "text/plain": [
       "<Figure size 1500x800 with 1 Axes>"
      ]
     },
     "metadata": {},
     "output_type": "display_data"
    }
   ],
   "source": [
    "# Count the occurrences of each run_gene_demux\n",
    "run_counts = unmatched['run_gene_demux'].value_counts()\n",
    "\n",
    "# Calculate the counts of doublets for each run\n",
    "doublet_counts = unmatched[unmatched['Consensus_gene_demux'] == 'doublet']['run_gene_demux'].value_counts()\n",
    "\n",
    "# Ensure all runs are represented in doublet_counts\n",
    "doublet_counts = doublet_counts.reindex(run_counts.index, fill_value=0)\n",
    "\n",
    "# Calculate the non-doublet counts\n",
    "non_doublet_counts = run_counts - doublet_counts\n",
    "\n",
    "df = pd.DataFrame({'Non-doublet': non_doublet_counts, 'Doublet': doublet_counts})\n",
    "df['Total'] = df['Non-doublet'] + df['Doublet']\n",
    "df = df.sort_values('Total', ascending=False)\n",
    "\n",
    "fig, ax = plt.subplots(figsize=(15, 8))\n",
    "\n",
    "# Plot the stacked bar chart\n",
    "bar_width = 0.8\n",
    "bars = ax.bar(range(len(df)), df['Non-doublet'], color='orange', width=bar_width, label='Non-doublet')\n",
    "ax.bar(range(len(df)), df['Doublet'], bottom=df['Non-doublet'], color='red', width=bar_width, label='Doublet')\n",
    "\n",
    "ax.set_xlabel('run_gene_demux')\n",
    "ax.set_ylabel('Count')\n",
    "ax.set_title('run_gene_demux Counts with Doublet Proportion')\n",
    "\n",
    "ax.set_xticks(range(len(df)))\n",
    "ax.set_xticklabels(df.index, rotation=90, ha='right')\n",
    "\n",
    "ax.legend()\n",
    "\n",
    "plt.tight_layout()\n",
    "plt.show()"
   ]
  },
  {
   "cell_type": "code",
   "execution_count": 37,
   "metadata": {},
   "outputs": [
    {
     "data": {
      "text/plain": [
       "AnnData object with n_obs × n_vars = 621573 × 36601\n",
       "    obs: 'tags', 'run', 'cmo', 'condition', 'line', 'replicate', 'condition_clean', 'index', 'Consensus_gene_demux', 'run_gene_demux'\n",
       "    var: 'gene_ids', 'feature_types', 'genome'"
      ]
     },
     "execution_count": 37,
     "metadata": {},
     "output_type": "execute_result"
    }
   ],
   "source": [
    "adata"
   ]
  },
  {
   "cell_type": "code",
   "execution_count": 38,
   "metadata": {},
   "outputs": [
    {
     "data": {
      "text/html": [
       "<div>\n",
       "<style scoped>\n",
       "    .dataframe tbody tr th:only-of-type {\n",
       "        vertical-align: middle;\n",
       "    }\n",
       "\n",
       "    .dataframe tbody tr th {\n",
       "        vertical-align: top;\n",
       "    }\n",
       "\n",
       "    .dataframe thead th {\n",
       "        text-align: right;\n",
       "    }\n",
       "</style>\n",
       "<table border=\"1\" class=\"dataframe\">\n",
       "  <thead>\n",
       "    <tr style=\"text-align: right;\">\n",
       "      <th></th>\n",
       "      <th>tags</th>\n",
       "      <th>run</th>\n",
       "      <th>cmo</th>\n",
       "      <th>condition</th>\n",
       "      <th>line</th>\n",
       "      <th>replicate</th>\n",
       "      <th>condition_clean</th>\n",
       "      <th>index</th>\n",
       "      <th>Consensus_gene_demux</th>\n",
       "      <th>run_gene_demux</th>\n",
       "    </tr>\n",
       "  </thead>\n",
       "  <tbody>\n",
       "    <tr>\n",
       "      <th>AAACCCAAGAAACCCG-1-501</th>\n",
       "      <td>AAACCCAAGAAACCCG-1</td>\n",
       "      <td>501</td>\n",
       "      <td>303.0</td>\n",
       "      <td>THYROID_AGONIST</td>\n",
       "      <td>CTL04E</td>\n",
       "      <td>3</td>\n",
       "      <td>THYROID_AGONIST</td>\n",
       "      <td>AAACCCAAGAAACCCG-1</td>\n",
       "      <td>doublet</td>\n",
       "      <td>501</td>\n",
       "    </tr>\n",
       "    <tr>\n",
       "      <th>AAACCCAAGGACGCAT-1-501</th>\n",
       "      <td>AAACCCAAGGACGCAT-1</td>\n",
       "      <td>501</td>\n",
       "      <td>306.0</td>\n",
       "      <td>THYROID_AGONIST</td>\n",
       "      <td>CTL08A</td>\n",
       "      <td>3</td>\n",
       "      <td>THYROID_AGONIST</td>\n",
       "      <td>AAACCCAAGGACGCAT-1</td>\n",
       "      <td>CTL08A</td>\n",
       "      <td>501</td>\n",
       "    </tr>\n",
       "    <tr>\n",
       "      <th>AAACCCAAGTTGAAAC-1-501</th>\n",
       "      <td>AAACCCAAGTTGAAAC-1</td>\n",
       "      <td>501</td>\n",
       "      <td>305.0</td>\n",
       "      <td>THYROID_AGONIST</td>\n",
       "      <td>CTL08A</td>\n",
       "      <td>2</td>\n",
       "      <td>THYROID_AGONIST</td>\n",
       "      <td>AAACCCAAGTTGAAAC-1</td>\n",
       "      <td>CTL08A</td>\n",
       "      <td>501</td>\n",
       "    </tr>\n",
       "    <tr>\n",
       "      <th>AAACCCACAACGGGTA-1-501</th>\n",
       "      <td>AAACCCACAACGGGTA-1</td>\n",
       "      <td>501</td>\n",
       "      <td>306.0</td>\n",
       "      <td>THYROID_AGONIST</td>\n",
       "      <td>CTL08A</td>\n",
       "      <td>3</td>\n",
       "      <td>THYROID_AGONIST</td>\n",
       "      <td>AAACCCACAACGGGTA-1</td>\n",
       "      <td>CTL08A</td>\n",
       "      <td>501</td>\n",
       "    </tr>\n",
       "    <tr>\n",
       "      <th>AAACCCACAAGATCCT-1-501</th>\n",
       "      <td>AAACCCACAAGATCCT-1</td>\n",
       "      <td>501</td>\n",
       "      <td>303.0</td>\n",
       "      <td>THYROID_AGONIST</td>\n",
       "      <td>CTL04E</td>\n",
       "      <td>3</td>\n",
       "      <td>THYROID_AGONIST</td>\n",
       "      <td>AAACCCACAAGATCCT-1</td>\n",
       "      <td>CTL04E</td>\n",
       "      <td>501</td>\n",
       "    </tr>\n",
       "  </tbody>\n",
       "</table>\n",
       "</div>"
      ],
      "text/plain": [
       "                                      tags  run    cmo        condition  \\\n",
       "AAACCCAAGAAACCCG-1-501  AAACCCAAGAAACCCG-1  501  303.0  THYROID_AGONIST   \n",
       "AAACCCAAGGACGCAT-1-501  AAACCCAAGGACGCAT-1  501  306.0  THYROID_AGONIST   \n",
       "AAACCCAAGTTGAAAC-1-501  AAACCCAAGTTGAAAC-1  501  305.0  THYROID_AGONIST   \n",
       "AAACCCACAACGGGTA-1-501  AAACCCACAACGGGTA-1  501  306.0  THYROID_AGONIST   \n",
       "AAACCCACAAGATCCT-1-501  AAACCCACAAGATCCT-1  501  303.0  THYROID_AGONIST   \n",
       "\n",
       "                          line replicate  condition_clean               index  \\\n",
       "AAACCCAAGAAACCCG-1-501  CTL04E         3  THYROID_AGONIST  AAACCCAAGAAACCCG-1   \n",
       "AAACCCAAGGACGCAT-1-501  CTL08A         3  THYROID_AGONIST  AAACCCAAGGACGCAT-1   \n",
       "AAACCCAAGTTGAAAC-1-501  CTL08A         2  THYROID_AGONIST  AAACCCAAGTTGAAAC-1   \n",
       "AAACCCACAACGGGTA-1-501  CTL08A         3  THYROID_AGONIST  AAACCCACAACGGGTA-1   \n",
       "AAACCCACAAGATCCT-1-501  CTL04E         3  THYROID_AGONIST  AAACCCACAAGATCCT-1   \n",
       "\n",
       "                       Consensus_gene_demux  run_gene_demux  \n",
       "AAACCCAAGAAACCCG-1-501              doublet             501  \n",
       "AAACCCAAGGACGCAT-1-501               CTL08A             501  \n",
       "AAACCCAAGTTGAAAC-1-501               CTL08A             501  \n",
       "AAACCCACAACGGGTA-1-501               CTL08A             501  \n",
       "AAACCCACAAGATCCT-1-501               CTL04E             501  "
      ]
     },
     "execution_count": 38,
     "metadata": {},
     "output_type": "execute_result"
    }
   ],
   "source": [
    "adata.obs.head()"
   ]
  },
  {
   "cell_type": "code",
   "execution_count": 39,
   "metadata": {},
   "outputs": [
    {
     "name": "stdout",
     "output_type": "stream",
     "text": [
      "[393, 394, 491, 492, 493, 494, 495, 496, 497, 498, 499, 500, 501, 502, 503, 504, 505, 506, 507, 508, 509, 510, 511, 512, 513]\n"
     ]
    }
   ],
   "source": [
    "print(sorted(list(adata.obs.run.unique())))"
   ]
  },
  {
   "cell_type": "code",
   "execution_count": 40,
   "metadata": {},
   "outputs": [],
   "source": [
    "# adata.write_h5ad(os.path.join(output_dir, 'combined_scRNA_seq_data_with_genetic_demux.h5ad'))"
   ]
  },
  {
   "cell_type": "code",
   "execution_count": 41,
   "metadata": {},
   "outputs": [
    {
     "name": "stdout",
     "output_type": "stream",
     "text": [
      "Number of cells before filtering: 621573\n"
     ]
    }
   ],
   "source": [
    "print(f\"Number of cells before filtering: {adata.n_obs}\")"
   ]
  },
  {
   "cell_type": "code",
   "execution_count": 42,
   "metadata": {},
   "outputs": [
    {
     "data": {
      "text/html": [
       "<div>\n",
       "<style scoped>\n",
       "    .dataframe tbody tr th:only-of-type {\n",
       "        vertical-align: middle;\n",
       "    }\n",
       "\n",
       "    .dataframe tbody tr th {\n",
       "        vertical-align: top;\n",
       "    }\n",
       "\n",
       "    .dataframe thead th {\n",
       "        text-align: right;\n",
       "    }\n",
       "</style>\n",
       "<table border=\"1\" class=\"dataframe\">\n",
       "  <thead>\n",
       "    <tr style=\"text-align: right;\">\n",
       "      <th></th>\n",
       "      <th>tags</th>\n",
       "      <th>run</th>\n",
       "      <th>cmo</th>\n",
       "      <th>condition</th>\n",
       "      <th>line</th>\n",
       "      <th>replicate</th>\n",
       "      <th>condition_clean</th>\n",
       "      <th>index</th>\n",
       "      <th>Consensus_gene_demux</th>\n",
       "      <th>run_gene_demux</th>\n",
       "    </tr>\n",
       "  </thead>\n",
       "  <tbody>\n",
       "    <tr>\n",
       "      <th>AAACCCAAGAGGTCGT-1-508</th>\n",
       "      <td>AAACCCAAGAGGTCGT-1</td>\n",
       "      <td>508</td>\n",
       "      <td>NaN</td>\n",
       "      <td>RET_AGONIST</td>\n",
       "      <td>NaN</td>\n",
       "      <td>NaN</td>\n",
       "      <td>RET_AGONIST</td>\n",
       "      <td>AAACCCAAGAGGTCGT-1</td>\n",
       "      <td>CTL08A</td>\n",
       "      <td>508</td>\n",
       "    </tr>\n",
       "    <tr>\n",
       "      <th>AAACCCAAGATTGGGC-1-508</th>\n",
       "      <td>AAACCCAAGATTGGGC-1</td>\n",
       "      <td>508</td>\n",
       "      <td>NaN</td>\n",
       "      <td>RET_AGONIST</td>\n",
       "      <td>NaN</td>\n",
       "      <td>NaN</td>\n",
       "      <td>RET_AGONIST</td>\n",
       "      <td>AAACCCAAGATTGGGC-1</td>\n",
       "      <td>doublet</td>\n",
       "      <td>508</td>\n",
       "    </tr>\n",
       "    <tr>\n",
       "      <th>AAACCCAAGCAATTAG-1-508</th>\n",
       "      <td>AAACCCAAGCAATTAG-1</td>\n",
       "      <td>508</td>\n",
       "      <td>NaN</td>\n",
       "      <td>RET_AGONIST</td>\n",
       "      <td>NaN</td>\n",
       "      <td>NaN</td>\n",
       "      <td>RET_AGONIST</td>\n",
       "      <td>AAACCCAAGCAATTAG-1</td>\n",
       "      <td>doublet</td>\n",
       "      <td>508</td>\n",
       "    </tr>\n",
       "    <tr>\n",
       "      <th>AAACCCAAGCTGCCAC-1-508</th>\n",
       "      <td>AAACCCAAGCTGCCAC-1</td>\n",
       "      <td>508</td>\n",
       "      <td>NaN</td>\n",
       "      <td>RET_AGONIST</td>\n",
       "      <td>NaN</td>\n",
       "      <td>NaN</td>\n",
       "      <td>RET_AGONIST</td>\n",
       "      <td>AAACCCAAGCTGCCAC-1</td>\n",
       "      <td>doublet</td>\n",
       "      <td>508</td>\n",
       "    </tr>\n",
       "    <tr>\n",
       "      <th>AAACCCAAGGATTCCT-1-508</th>\n",
       "      <td>AAACCCAAGGATTCCT-1</td>\n",
       "      <td>508</td>\n",
       "      <td>NaN</td>\n",
       "      <td>RET_AGONIST</td>\n",
       "      <td>NaN</td>\n",
       "      <td>NaN</td>\n",
       "      <td>RET_AGONIST</td>\n",
       "      <td>AAACCCAAGGATTCCT-1</td>\n",
       "      <td>CTL08A</td>\n",
       "      <td>508</td>\n",
       "    </tr>\n",
       "  </tbody>\n",
       "</table>\n",
       "</div>"
      ],
      "text/plain": [
       "                                      tags  run  cmo    condition line  \\\n",
       "AAACCCAAGAGGTCGT-1-508  AAACCCAAGAGGTCGT-1  508  NaN  RET_AGONIST  NaN   \n",
       "AAACCCAAGATTGGGC-1-508  AAACCCAAGATTGGGC-1  508  NaN  RET_AGONIST  NaN   \n",
       "AAACCCAAGCAATTAG-1-508  AAACCCAAGCAATTAG-1  508  NaN  RET_AGONIST  NaN   \n",
       "AAACCCAAGCTGCCAC-1-508  AAACCCAAGCTGCCAC-1  508  NaN  RET_AGONIST  NaN   \n",
       "AAACCCAAGGATTCCT-1-508  AAACCCAAGGATTCCT-1  508  NaN  RET_AGONIST  NaN   \n",
       "\n",
       "                       replicate condition_clean               index  \\\n",
       "AAACCCAAGAGGTCGT-1-508       NaN     RET_AGONIST  AAACCCAAGAGGTCGT-1   \n",
       "AAACCCAAGATTGGGC-1-508       NaN     RET_AGONIST  AAACCCAAGATTGGGC-1   \n",
       "AAACCCAAGCAATTAG-1-508       NaN     RET_AGONIST  AAACCCAAGCAATTAG-1   \n",
       "AAACCCAAGCTGCCAC-1-508       NaN     RET_AGONIST  AAACCCAAGCTGCCAC-1   \n",
       "AAACCCAAGGATTCCT-1-508       NaN     RET_AGONIST  AAACCCAAGGATTCCT-1   \n",
       "\n",
       "                       Consensus_gene_demux  run_gene_demux  \n",
       "AAACCCAAGAGGTCGT-1-508               CTL08A             508  \n",
       "AAACCCAAGATTGGGC-1-508              doublet             508  \n",
       "AAACCCAAGCAATTAG-1-508              doublet             508  \n",
       "AAACCCAAGCTGCCAC-1-508              doublet             508  \n",
       "AAACCCAAGGATTCCT-1-508               CTL08A             508  "
      ]
     },
     "execution_count": 42,
     "metadata": {},
     "output_type": "execute_result"
    }
   ],
   "source": [
    "adata.obs[adata.obs.run == 508].head()"
   ]
  },
  {
   "cell_type": "code",
   "execution_count": 43,
   "metadata": {},
   "outputs": [
    {
     "name": "stdout",
     "output_type": "stream",
     "text": [
      "Number of cells after filtering NaN: 621573\n"
     ]
    }
   ],
   "source": [
    "mask = ~adata.obs['Consensus_gene_demux'].isna() & (adata.obs['Consensus_gene_demux'] != '')\n",
    "\n",
    "adata = adata[mask, :]\n",
    "\n",
    "print(f\"Number of cells after filtering NaN: {adata.n_obs}\")"
   ]
  },
  {
   "cell_type": "code",
   "execution_count": 44,
   "metadata": {},
   "outputs": [
    {
     "name": "stdout",
     "output_type": "stream",
     "text": [
      "Number of cells after filtering LowQuality: 605046\n"
     ]
    }
   ],
   "source": [
    "mask = adata.obs['Consensus_gene_demux'] != 'LowQuality'\n",
    "\n",
    "adata = adata[mask, :]\n",
    "\n",
    "print(f\"Number of cells after filtering LowQuality: {adata.n_obs}\")"
   ]
  },
  {
   "cell_type": "code",
   "execution_count": 45,
   "metadata": {},
   "outputs": [
    {
     "name": "stdout",
     "output_type": "stream",
     "text": [
      "Number of cells after filtering doublet: 494164\n"
     ]
    }
   ],
   "source": [
    "mask = adata.obs['Consensus_gene_demux'] != 'doublet'\n",
    "\n",
    "adata = adata[mask, :]\n",
    "\n",
    "print(f\"Number of cells after filtering doublet: {adata.n_obs}\")"
   ]
  },
  {
   "cell_type": "code",
   "execution_count": 46,
   "metadata": {},
   "outputs": [
    {
     "data": {
      "text/html": [
       "<div>\n",
       "<style scoped>\n",
       "    .dataframe tbody tr th:only-of-type {\n",
       "        vertical-align: middle;\n",
       "    }\n",
       "\n",
       "    .dataframe tbody tr th {\n",
       "        vertical-align: top;\n",
       "    }\n",
       "\n",
       "    .dataframe thead th {\n",
       "        text-align: right;\n",
       "    }\n",
       "</style>\n",
       "<table border=\"1\" class=\"dataframe\">\n",
       "  <thead>\n",
       "    <tr style=\"text-align: right;\">\n",
       "      <th></th>\n",
       "      <th>tags</th>\n",
       "      <th>run</th>\n",
       "      <th>cmo</th>\n",
       "      <th>condition</th>\n",
       "      <th>line</th>\n",
       "      <th>replicate</th>\n",
       "      <th>condition_clean</th>\n",
       "      <th>index</th>\n",
       "      <th>Consensus_gene_demux</th>\n",
       "      <th>run_gene_demux</th>\n",
       "    </tr>\n",
       "  </thead>\n",
       "  <tbody>\n",
       "    <tr>\n",
       "      <th>AAACCCAAGGACGCAT-1-501</th>\n",
       "      <td>AAACCCAAGGACGCAT-1</td>\n",
       "      <td>501</td>\n",
       "      <td>306.0</td>\n",
       "      <td>THYROID_AGONIST</td>\n",
       "      <td>CTL08A</td>\n",
       "      <td>3</td>\n",
       "      <td>THYROID_AGONIST</td>\n",
       "      <td>AAACCCAAGGACGCAT-1</td>\n",
       "      <td>CTL08A</td>\n",
       "      <td>501</td>\n",
       "    </tr>\n",
       "    <tr>\n",
       "      <th>AAACCCAAGTTGAAAC-1-501</th>\n",
       "      <td>AAACCCAAGTTGAAAC-1</td>\n",
       "      <td>501</td>\n",
       "      <td>305.0</td>\n",
       "      <td>THYROID_AGONIST</td>\n",
       "      <td>CTL08A</td>\n",
       "      <td>2</td>\n",
       "      <td>THYROID_AGONIST</td>\n",
       "      <td>AAACCCAAGTTGAAAC-1</td>\n",
       "      <td>CTL08A</td>\n",
       "      <td>501</td>\n",
       "    </tr>\n",
       "    <tr>\n",
       "      <th>AAACCCACAACGGGTA-1-501</th>\n",
       "      <td>AAACCCACAACGGGTA-1</td>\n",
       "      <td>501</td>\n",
       "      <td>306.0</td>\n",
       "      <td>THYROID_AGONIST</td>\n",
       "      <td>CTL08A</td>\n",
       "      <td>3</td>\n",
       "      <td>THYROID_AGONIST</td>\n",
       "      <td>AAACCCACAACGGGTA-1</td>\n",
       "      <td>CTL08A</td>\n",
       "      <td>501</td>\n",
       "    </tr>\n",
       "    <tr>\n",
       "      <th>AAACCCACAAGATCCT-1-501</th>\n",
       "      <td>AAACCCACAAGATCCT-1</td>\n",
       "      <td>501</td>\n",
       "      <td>303.0</td>\n",
       "      <td>THYROID_AGONIST</td>\n",
       "      <td>CTL04E</td>\n",
       "      <td>3</td>\n",
       "      <td>THYROID_AGONIST</td>\n",
       "      <td>AAACCCACAAGATCCT-1</td>\n",
       "      <td>CTL04E</td>\n",
       "      <td>501</td>\n",
       "    </tr>\n",
       "    <tr>\n",
       "      <th>AAACCCACAATCAAGA-1-501</th>\n",
       "      <td>AAACCCACAATCAAGA-1</td>\n",
       "      <td>501</td>\n",
       "      <td>301.0</td>\n",
       "      <td>THYROID_AGONIST</td>\n",
       "      <td>CTL04E</td>\n",
       "      <td>1</td>\n",
       "      <td>THYROID_AGONIST</td>\n",
       "      <td>AAACCCACAATCAAGA-1</td>\n",
       "      <td>CTL04E</td>\n",
       "      <td>501</td>\n",
       "    </tr>\n",
       "  </tbody>\n",
       "</table>\n",
       "</div>"
      ],
      "text/plain": [
       "                                      tags  run    cmo        condition  \\\n",
       "AAACCCAAGGACGCAT-1-501  AAACCCAAGGACGCAT-1  501  306.0  THYROID_AGONIST   \n",
       "AAACCCAAGTTGAAAC-1-501  AAACCCAAGTTGAAAC-1  501  305.0  THYROID_AGONIST   \n",
       "AAACCCACAACGGGTA-1-501  AAACCCACAACGGGTA-1  501  306.0  THYROID_AGONIST   \n",
       "AAACCCACAAGATCCT-1-501  AAACCCACAAGATCCT-1  501  303.0  THYROID_AGONIST   \n",
       "AAACCCACAATCAAGA-1-501  AAACCCACAATCAAGA-1  501  301.0  THYROID_AGONIST   \n",
       "\n",
       "                          line replicate  condition_clean               index  \\\n",
       "AAACCCAAGGACGCAT-1-501  CTL08A         3  THYROID_AGONIST  AAACCCAAGGACGCAT-1   \n",
       "AAACCCAAGTTGAAAC-1-501  CTL08A         2  THYROID_AGONIST  AAACCCAAGTTGAAAC-1   \n",
       "AAACCCACAACGGGTA-1-501  CTL08A         3  THYROID_AGONIST  AAACCCACAACGGGTA-1   \n",
       "AAACCCACAAGATCCT-1-501  CTL04E         3  THYROID_AGONIST  AAACCCACAAGATCCT-1   \n",
       "AAACCCACAATCAAGA-1-501  CTL04E         1  THYROID_AGONIST  AAACCCACAATCAAGA-1   \n",
       "\n",
       "                       Consensus_gene_demux  run_gene_demux  \n",
       "AAACCCAAGGACGCAT-1-501               CTL08A             501  \n",
       "AAACCCAAGTTGAAAC-1-501               CTL08A             501  \n",
       "AAACCCACAACGGGTA-1-501               CTL08A             501  \n",
       "AAACCCACAAGATCCT-1-501               CTL04E             501  \n",
       "AAACCCACAATCAAGA-1-501               CTL04E             501  "
      ]
     },
     "execution_count": 46,
     "metadata": {},
     "output_type": "execute_result"
    }
   ],
   "source": [
    "adata.obs.head()"
   ]
  },
  {
   "cell_type": "code",
   "execution_count": 47,
   "metadata": {},
   "outputs": [
    {
     "name": "stdout",
     "output_type": "stream",
     "text": [
      "[393, 394, 491, 492, 493, 494, 495, 496, 497, 498, 499, 500, 501, 502, 503, 504, 505, 506, 507, 508, 509, 510, 511, 512, 513]\n"
     ]
    }
   ],
   "source": [
    "print(sorted(list(adata.obs.run.unique())))"
   ]
  },
  {
   "cell_type": "code",
   "execution_count": 48,
   "metadata": {},
   "outputs": [
    {
     "data": {
      "text/plain": [
       "array(['CTL08A', 'CTL04E', 'CTL01A', 'CTL02A'], dtype=object)"
      ]
     },
     "execution_count": 48,
     "metadata": {},
     "output_type": "execute_result"
    }
   ],
   "source": [
    "adata.obs.Consensus_gene_demux.unique()"
   ]
  },
  {
   "cell_type": "code",
   "execution_count": 49,
   "metadata": {},
   "outputs": [],
   "source": [
    "# adata.write_h5ad(os.path.join(output_dir, 'combined_scRNA_seq_data_with_genetic_demux_filtered.h5ad'))"
   ]
  },
  {
   "cell_type": "markdown",
   "metadata": {},
   "source": [
    "# 5. Check data consistency"
   ]
  },
  {
   "cell_type": "code",
   "execution_count": 128,
   "metadata": {},
   "outputs": [],
   "source": [
    "# adata = ad.read_h5ad(os.path.join(output_dir, 'combined_scRNA_seq_data_with_genetic_demux_filtered.h5ad'))"
   ]
  },
  {
   "cell_type": "code",
   "execution_count": 143,
   "metadata": {},
   "outputs": [
    {
     "data": {
      "text/html": [
       "<div>\n",
       "<style scoped>\n",
       "    .dataframe tbody tr th:only-of-type {\n",
       "        vertical-align: middle;\n",
       "    }\n",
       "\n",
       "    .dataframe tbody tr th {\n",
       "        vertical-align: top;\n",
       "    }\n",
       "\n",
       "    .dataframe thead th {\n",
       "        text-align: right;\n",
       "    }\n",
       "</style>\n",
       "<table border=\"1\" class=\"dataframe\">\n",
       "  <thead>\n",
       "    <tr style=\"text-align: right;\">\n",
       "      <th></th>\n",
       "      <th>tags</th>\n",
       "      <th>run</th>\n",
       "      <th>cmo</th>\n",
       "      <th>condition</th>\n",
       "      <th>line</th>\n",
       "      <th>replicate</th>\n",
       "      <th>condition_clean</th>\n",
       "      <th>index</th>\n",
       "      <th>Consensus_gene_demux</th>\n",
       "      <th>run_gene_demux</th>\n",
       "      <th>is_consistent</th>\n",
       "    </tr>\n",
       "  </thead>\n",
       "  <tbody>\n",
       "    <tr>\n",
       "      <th>AAACCCAAGCACTCAT-1-393</th>\n",
       "      <td>AAACCCAAGCACTCAT-1</td>\n",
       "      <td>393</td>\n",
       "      <td>NaN</td>\n",
       "      <td>MTR_393_3GEX</td>\n",
       "      <td>NaN</td>\n",
       "      <td>NaN</td>\n",
       "      <td>NaN</td>\n",
       "      <td>AAACCCAAGCACTCAT-1</td>\n",
       "      <td>CTL01A</td>\n",
       "      <td>393</td>\n",
       "      <td>True</td>\n",
       "    </tr>\n",
       "    <tr>\n",
       "      <th>AAACCCAAGCCTGCCA-1-393</th>\n",
       "      <td>AAACCCAAGCCTGCCA-1</td>\n",
       "      <td>393</td>\n",
       "      <td>NaN</td>\n",
       "      <td>MTR_393_3GEX</td>\n",
       "      <td>NaN</td>\n",
       "      <td>NaN</td>\n",
       "      <td>NaN</td>\n",
       "      <td>AAACCCAAGCCTGCCA-1</td>\n",
       "      <td>CTL01A</td>\n",
       "      <td>393</td>\n",
       "      <td>True</td>\n",
       "    </tr>\n",
       "    <tr>\n",
       "      <th>AAACCCAAGGGATGTC-1-393</th>\n",
       "      <td>AAACCCAAGGGATGTC-1</td>\n",
       "      <td>393</td>\n",
       "      <td>NaN</td>\n",
       "      <td>MTR_393_3GEX</td>\n",
       "      <td>NaN</td>\n",
       "      <td>NaN</td>\n",
       "      <td>NaN</td>\n",
       "      <td>AAACCCAAGGGATGTC-1</td>\n",
       "      <td>CTL01A</td>\n",
       "      <td>393</td>\n",
       "      <td>True</td>\n",
       "    </tr>\n",
       "    <tr>\n",
       "      <th>AAACCCACAATCGCAT-1-393</th>\n",
       "      <td>AAACCCACAATCGCAT-1</td>\n",
       "      <td>393</td>\n",
       "      <td>NaN</td>\n",
       "      <td>MTR_393_3GEX</td>\n",
       "      <td>NaN</td>\n",
       "      <td>NaN</td>\n",
       "      <td>NaN</td>\n",
       "      <td>AAACCCACAATCGCAT-1</td>\n",
       "      <td>CTL02A</td>\n",
       "      <td>393</td>\n",
       "      <td>True</td>\n",
       "    </tr>\n",
       "    <tr>\n",
       "      <th>AAACCCACAGCTGAAG-1-393</th>\n",
       "      <td>AAACCCACAGCTGAAG-1</td>\n",
       "      <td>393</td>\n",
       "      <td>NaN</td>\n",
       "      <td>MTR_393_3GEX</td>\n",
       "      <td>NaN</td>\n",
       "      <td>NaN</td>\n",
       "      <td>NaN</td>\n",
       "      <td>AAACCCACAGCTGAAG-1</td>\n",
       "      <td>CTL01A</td>\n",
       "      <td>393</td>\n",
       "      <td>True</td>\n",
       "    </tr>\n",
       "  </tbody>\n",
       "</table>\n",
       "</div>"
      ],
      "text/plain": [
       "                                      tags  run  cmo     condition line  \\\n",
       "AAACCCAAGCACTCAT-1-393  AAACCCAAGCACTCAT-1  393  NaN  MTR_393_3GEX  NaN   \n",
       "AAACCCAAGCCTGCCA-1-393  AAACCCAAGCCTGCCA-1  393  NaN  MTR_393_3GEX  NaN   \n",
       "AAACCCAAGGGATGTC-1-393  AAACCCAAGGGATGTC-1  393  NaN  MTR_393_3GEX  NaN   \n",
       "AAACCCACAATCGCAT-1-393  AAACCCACAATCGCAT-1  393  NaN  MTR_393_3GEX  NaN   \n",
       "AAACCCACAGCTGAAG-1-393  AAACCCACAGCTGAAG-1  393  NaN  MTR_393_3GEX  NaN   \n",
       "\n",
       "                       replicate condition_clean               index  \\\n",
       "AAACCCAAGCACTCAT-1-393       NaN             NaN  AAACCCAAGCACTCAT-1   \n",
       "AAACCCAAGCCTGCCA-1-393       NaN             NaN  AAACCCAAGCCTGCCA-1   \n",
       "AAACCCAAGGGATGTC-1-393       NaN             NaN  AAACCCAAGGGATGTC-1   \n",
       "AAACCCACAATCGCAT-1-393       NaN             NaN  AAACCCACAATCGCAT-1   \n",
       "AAACCCACAGCTGAAG-1-393       NaN             NaN  AAACCCACAGCTGAAG-1   \n",
       "\n",
       "                       Consensus_gene_demux  run_gene_demux  is_consistent  \n",
       "AAACCCAAGCACTCAT-1-393               CTL01A             393           True  \n",
       "AAACCCAAGCCTGCCA-1-393               CTL01A             393           True  \n",
       "AAACCCAAGGGATGTC-1-393               CTL01A             393           True  \n",
       "AAACCCACAATCGCAT-1-393               CTL02A             393           True  \n",
       "AAACCCACAGCTGAAG-1-393               CTL01A             393           True  "
      ]
     },
     "execution_count": 143,
     "metadata": {},
     "output_type": "execute_result"
    }
   ],
   "source": [
    "adata[adata.obs['Consensus_gene_demux'].isin(['CTL01A', 'CTL02A'])].obs.head()"
   ]
  },
  {
   "cell_type": "code",
   "execution_count": 144,
   "metadata": {},
   "outputs": [
    {
     "data": {
      "text/html": [
       "<div>\n",
       "<style scoped>\n",
       "    .dataframe tbody tr th:only-of-type {\n",
       "        vertical-align: middle;\n",
       "    }\n",
       "\n",
       "    .dataframe tbody tr th {\n",
       "        vertical-align: top;\n",
       "    }\n",
       "\n",
       "    .dataframe thead th {\n",
       "        text-align: right;\n",
       "    }\n",
       "</style>\n",
       "<table border=\"1\" class=\"dataframe\">\n",
       "  <thead>\n",
       "    <tr style=\"text-align: right;\">\n",
       "      <th></th>\n",
       "      <th>tags</th>\n",
       "      <th>run</th>\n",
       "      <th>cmo</th>\n",
       "      <th>condition</th>\n",
       "      <th>line</th>\n",
       "      <th>replicate</th>\n",
       "      <th>condition_clean</th>\n",
       "      <th>index</th>\n",
       "      <th>Consensus_gene_demux</th>\n",
       "      <th>run_gene_demux</th>\n",
       "      <th>is_consistent</th>\n",
       "    </tr>\n",
       "  </thead>\n",
       "  <tbody>\n",
       "    <tr>\n",
       "      <th>AAACCCAAGAGGTCGT-1-508</th>\n",
       "      <td>AAACCCAAGAGGTCGT-1</td>\n",
       "      <td>508</td>\n",
       "      <td>NaN</td>\n",
       "      <td>RET_AGONIST</td>\n",
       "      <td>NaN</td>\n",
       "      <td>NaN</td>\n",
       "      <td>RET_AGONIST</td>\n",
       "      <td>AAACCCAAGAGGTCGT-1</td>\n",
       "      <td>CTL08A</td>\n",
       "      <td>508</td>\n",
       "      <td>True</td>\n",
       "    </tr>\n",
       "    <tr>\n",
       "      <th>AAACCCAAGGATTCCT-1-508</th>\n",
       "      <td>AAACCCAAGGATTCCT-1</td>\n",
       "      <td>508</td>\n",
       "      <td>NaN</td>\n",
       "      <td>RET_AGONIST</td>\n",
       "      <td>NaN</td>\n",
       "      <td>NaN</td>\n",
       "      <td>RET_AGONIST</td>\n",
       "      <td>AAACCCAAGGATTCCT-1</td>\n",
       "      <td>CTL08A</td>\n",
       "      <td>508</td>\n",
       "      <td>True</td>\n",
       "    </tr>\n",
       "    <tr>\n",
       "      <th>AAACCCAAGGGAACAA-1-508</th>\n",
       "      <td>AAACCCAAGGGAACAA-1</td>\n",
       "      <td>508</td>\n",
       "      <td>NaN</td>\n",
       "      <td>RET_AGONIST</td>\n",
       "      <td>NaN</td>\n",
       "      <td>NaN</td>\n",
       "      <td>RET_AGONIST</td>\n",
       "      <td>AAACCCAAGGGAACAA-1</td>\n",
       "      <td>CTL04E</td>\n",
       "      <td>508</td>\n",
       "      <td>True</td>\n",
       "    </tr>\n",
       "    <tr>\n",
       "      <th>AAACCCAAGGTTAAAC-1-508</th>\n",
       "      <td>AAACCCAAGGTTAAAC-1</td>\n",
       "      <td>508</td>\n",
       "      <td>NaN</td>\n",
       "      <td>RET_AGONIST</td>\n",
       "      <td>NaN</td>\n",
       "      <td>NaN</td>\n",
       "      <td>RET_AGONIST</td>\n",
       "      <td>AAACCCAAGGTTAAAC-1</td>\n",
       "      <td>CTL08A</td>\n",
       "      <td>508</td>\n",
       "      <td>True</td>\n",
       "    </tr>\n",
       "    <tr>\n",
       "      <th>AAACCCAAGTCGTTAC-1-508</th>\n",
       "      <td>AAACCCAAGTCGTTAC-1</td>\n",
       "      <td>508</td>\n",
       "      <td>NaN</td>\n",
       "      <td>RET_AGONIST</td>\n",
       "      <td>NaN</td>\n",
       "      <td>NaN</td>\n",
       "      <td>RET_AGONIST</td>\n",
       "      <td>AAACCCAAGTCGTTAC-1</td>\n",
       "      <td>CTL04E</td>\n",
       "      <td>508</td>\n",
       "      <td>True</td>\n",
       "    </tr>\n",
       "  </tbody>\n",
       "</table>\n",
       "</div>"
      ],
      "text/plain": [
       "                                      tags  run  cmo    condition line  \\\n",
       "AAACCCAAGAGGTCGT-1-508  AAACCCAAGAGGTCGT-1  508  NaN  RET_AGONIST  NaN   \n",
       "AAACCCAAGGATTCCT-1-508  AAACCCAAGGATTCCT-1  508  NaN  RET_AGONIST  NaN   \n",
       "AAACCCAAGGGAACAA-1-508  AAACCCAAGGGAACAA-1  508  NaN  RET_AGONIST  NaN   \n",
       "AAACCCAAGGTTAAAC-1-508  AAACCCAAGGTTAAAC-1  508  NaN  RET_AGONIST  NaN   \n",
       "AAACCCAAGTCGTTAC-1-508  AAACCCAAGTCGTTAC-1  508  NaN  RET_AGONIST  NaN   \n",
       "\n",
       "                       replicate condition_clean               index  \\\n",
       "AAACCCAAGAGGTCGT-1-508       NaN     RET_AGONIST  AAACCCAAGAGGTCGT-1   \n",
       "AAACCCAAGGATTCCT-1-508       NaN     RET_AGONIST  AAACCCAAGGATTCCT-1   \n",
       "AAACCCAAGGGAACAA-1-508       NaN     RET_AGONIST  AAACCCAAGGGAACAA-1   \n",
       "AAACCCAAGGTTAAAC-1-508       NaN     RET_AGONIST  AAACCCAAGGTTAAAC-1   \n",
       "AAACCCAAGTCGTTAC-1-508       NaN     RET_AGONIST  AAACCCAAGTCGTTAC-1   \n",
       "\n",
       "                       Consensus_gene_demux  run_gene_demux  is_consistent  \n",
       "AAACCCAAGAGGTCGT-1-508               CTL08A             508           True  \n",
       "AAACCCAAGGATTCCT-1-508               CTL08A             508           True  \n",
       "AAACCCAAGGGAACAA-1-508               CTL04E             508           True  \n",
       "AAACCCAAGGTTAAAC-1-508               CTL08A             508           True  \n",
       "AAACCCAAGTCGTTAC-1-508               CTL04E             508           True  "
      ]
     },
     "execution_count": 144,
     "metadata": {},
     "output_type": "execute_result"
    }
   ],
   "source": [
    "adata[adata.obs.run == 508].obs.head()"
   ]
  },
  {
   "cell_type": "code",
   "execution_count": 59,
   "metadata": {},
   "outputs": [],
   "source": [
    "def check_consistency(df):\n",
    "    # Create a mask for rows to include in the consistency check\n",
    "    include_mask = ~df.run.isin([508,393,394])\n",
    "    \n",
    "    run_consistent = (df['run'] == df['run_gene_demux'])\n",
    "\n",
    "    tag_consistent = (df['tags'] == df['index'])\n",
    "    \n",
    "    # Convert categorical columns to string for comparison\n",
    "    line_str = df['line'].astype(str)\n",
    "    consensus_str = df['Consensus_gene_demux'].astype(str)\n",
    "    \n",
    "    line_consistent = ((line_str == consensus_str) | ~include_mask)\n",
    "    \n",
    "    return run_consistent & line_consistent & tag_consistent"
   ]
  },
  {
   "cell_type": "code",
   "execution_count": 60,
   "metadata": {},
   "outputs": [
    {
     "name": "stdout",
     "output_type": "stream",
     "text": [
      "Total rows: 494164\n",
      "Rows included in consistency check: 409234\n",
      "Inconsistent rows: 13664\n",
      "Consistency percentage: 97.23%\n"
     ]
    }
   ],
   "source": [
    "# consistency check\n",
    "adata.obs['is_consistent'] = check_consistency(adata.obs)\n",
    "\n",
    "# Count inconsistencies and calculate consistency percentage\n",
    "total_count = len(adata.obs)\n",
    "included_count = (~adata.obs.run.isin([508,393,394])).sum()\n",
    "inconsistent_count = (~adata.obs['is_consistent']).sum()\n",
    "consistency_percentage = (adata.obs['is_consistent'].sum()/ total_count) * 100\n",
    "\n",
    "print(f\"Total rows: {total_count}\")\n",
    "print(f\"Rows included in consistency check: {included_count}\")\n",
    "print(f\"Inconsistent rows: {inconsistent_count}\")\n",
    "print(f\"Consistency percentage: {consistency_percentage:.2f}%\")"
   ]
  },
  {
   "cell_type": "code",
   "execution_count": 61,
   "metadata": {},
   "outputs": [
    {
     "name": "stdout",
     "output_type": "stream",
     "text": [
      "Number of None values remaining: 0\n"
     ]
    }
   ],
   "source": [
    "none_count = adata.obs['is_consistent'].isna().sum()\n",
    "print(f\"Number of None values remaining: {none_count}\")"
   ]
  },
  {
   "cell_type": "code",
   "execution_count": 62,
   "metadata": {},
   "outputs": [],
   "source": [
    "adata.obs['is_consistent'] = adata.obs['is_consistent'].fillna(True)"
   ]
  },
  {
   "cell_type": "code",
   "execution_count": 63,
   "metadata": {},
   "outputs": [
    {
     "data": {
      "text/html": [
       "<div>\n",
       "<style scoped>\n",
       "    .dataframe tbody tr th:only-of-type {\n",
       "        vertical-align: middle;\n",
       "    }\n",
       "\n",
       "    .dataframe tbody tr th {\n",
       "        vertical-align: top;\n",
       "    }\n",
       "\n",
       "    .dataframe thead th {\n",
       "        text-align: right;\n",
       "    }\n",
       "</style>\n",
       "<table border=\"1\" class=\"dataframe\">\n",
       "  <thead>\n",
       "    <tr style=\"text-align: right;\">\n",
       "      <th></th>\n",
       "      <th>tags</th>\n",
       "      <th>run</th>\n",
       "      <th>cmo</th>\n",
       "      <th>condition</th>\n",
       "      <th>line</th>\n",
       "      <th>replicate</th>\n",
       "      <th>condition_clean</th>\n",
       "      <th>index</th>\n",
       "      <th>Consensus_gene_demux</th>\n",
       "      <th>run_gene_demux</th>\n",
       "      <th>is_consistent</th>\n",
       "    </tr>\n",
       "  </thead>\n",
       "  <tbody>\n",
       "    <tr>\n",
       "      <th>AAACGAAAGGGAGGGT-1-501</th>\n",
       "      <td>AAACGAAAGGGAGGGT-1</td>\n",
       "      <td>501</td>\n",
       "      <td>302.0</td>\n",
       "      <td>THYROID_AGONIST</td>\n",
       "      <td>CTL04E</td>\n",
       "      <td>2</td>\n",
       "      <td>THYROID_AGONIST</td>\n",
       "      <td>AAACGAAAGGGAGGGT-1</td>\n",
       "      <td>CTL08A</td>\n",
       "      <td>501</td>\n",
       "      <td>False</td>\n",
       "    </tr>\n",
       "    <tr>\n",
       "      <th>AAACGAACAGCGAGTA-1-501</th>\n",
       "      <td>AAACGAACAGCGAGTA-1</td>\n",
       "      <td>501</td>\n",
       "      <td>303.0</td>\n",
       "      <td>THYROID_AGONIST</td>\n",
       "      <td>CTL04E</td>\n",
       "      <td>3</td>\n",
       "      <td>THYROID_AGONIST</td>\n",
       "      <td>AAACGAACAGCGAGTA-1</td>\n",
       "      <td>CTL08A</td>\n",
       "      <td>501</td>\n",
       "      <td>False</td>\n",
       "    </tr>\n",
       "    <tr>\n",
       "      <th>AAACGCTTCCCAGTGG-1-501</th>\n",
       "      <td>AAACGCTTCCCAGTGG-1</td>\n",
       "      <td>501</td>\n",
       "      <td>305.0</td>\n",
       "      <td>THYROID_AGONIST</td>\n",
       "      <td>CTL08A</td>\n",
       "      <td>2</td>\n",
       "      <td>THYROID_AGONIST</td>\n",
       "      <td>AAACGCTTCCCAGTGG-1</td>\n",
       "      <td>CTL04E</td>\n",
       "      <td>501</td>\n",
       "      <td>False</td>\n",
       "    </tr>\n",
       "    <tr>\n",
       "      <th>AAAGGGCGTACGGGAT-1-501</th>\n",
       "      <td>AAAGGGCGTACGGGAT-1</td>\n",
       "      <td>501</td>\n",
       "      <td>305.0</td>\n",
       "      <td>THYROID_AGONIST</td>\n",
       "      <td>CTL08A</td>\n",
       "      <td>2</td>\n",
       "      <td>THYROID_AGONIST</td>\n",
       "      <td>AAAGGGCGTACGGGAT-1</td>\n",
       "      <td>CTL04E</td>\n",
       "      <td>501</td>\n",
       "      <td>False</td>\n",
       "    </tr>\n",
       "    <tr>\n",
       "      <th>AAAGTCCCAAAGACTA-1-501</th>\n",
       "      <td>AAAGTCCCAAAGACTA-1</td>\n",
       "      <td>501</td>\n",
       "      <td>306.0</td>\n",
       "      <td>THYROID_AGONIST</td>\n",
       "      <td>CTL08A</td>\n",
       "      <td>3</td>\n",
       "      <td>THYROID_AGONIST</td>\n",
       "      <td>AAAGTCCCAAAGACTA-1</td>\n",
       "      <td>CTL04E</td>\n",
       "      <td>501</td>\n",
       "      <td>False</td>\n",
       "    </tr>\n",
       "  </tbody>\n",
       "</table>\n",
       "</div>"
      ],
      "text/plain": [
       "                                      tags  run    cmo        condition  \\\n",
       "AAACGAAAGGGAGGGT-1-501  AAACGAAAGGGAGGGT-1  501  302.0  THYROID_AGONIST   \n",
       "AAACGAACAGCGAGTA-1-501  AAACGAACAGCGAGTA-1  501  303.0  THYROID_AGONIST   \n",
       "AAACGCTTCCCAGTGG-1-501  AAACGCTTCCCAGTGG-1  501  305.0  THYROID_AGONIST   \n",
       "AAAGGGCGTACGGGAT-1-501  AAAGGGCGTACGGGAT-1  501  305.0  THYROID_AGONIST   \n",
       "AAAGTCCCAAAGACTA-1-501  AAAGTCCCAAAGACTA-1  501  306.0  THYROID_AGONIST   \n",
       "\n",
       "                          line replicate  condition_clean               index  \\\n",
       "AAACGAAAGGGAGGGT-1-501  CTL04E         2  THYROID_AGONIST  AAACGAAAGGGAGGGT-1   \n",
       "AAACGAACAGCGAGTA-1-501  CTL04E         3  THYROID_AGONIST  AAACGAACAGCGAGTA-1   \n",
       "AAACGCTTCCCAGTGG-1-501  CTL08A         2  THYROID_AGONIST  AAACGCTTCCCAGTGG-1   \n",
       "AAAGGGCGTACGGGAT-1-501  CTL08A         2  THYROID_AGONIST  AAAGGGCGTACGGGAT-1   \n",
       "AAAGTCCCAAAGACTA-1-501  CTL08A         3  THYROID_AGONIST  AAAGTCCCAAAGACTA-1   \n",
       "\n",
       "                       Consensus_gene_demux  run_gene_demux  is_consistent  \n",
       "AAACGAAAGGGAGGGT-1-501               CTL08A             501          False  \n",
       "AAACGAACAGCGAGTA-1-501               CTL08A             501          False  \n",
       "AAACGCTTCCCAGTGG-1-501               CTL04E             501          False  \n",
       "AAAGGGCGTACGGGAT-1-501               CTL04E             501          False  \n",
       "AAAGTCCCAAAGACTA-1-501               CTL04E             501          False  "
      ]
     },
     "execution_count": 63,
     "metadata": {},
     "output_type": "execute_result"
    }
   ],
   "source": [
    "adata.obs[~adata.obs['is_consistent']].head()"
   ]
  },
  {
   "cell_type": "code",
   "execution_count": 64,
   "metadata": {},
   "outputs": [
    {
     "name": "stdout",
     "output_type": "stream",
     "text": [
      "['CTL08A' 'CTL04E' 'CTL01A' 'CTL02A']\n",
      "['CTL08A', 'CTL04E', NaN]\n",
      "Categories (2, object): ['CTL04E', 'CTL08A']\n"
     ]
    }
   ],
   "source": [
    "print(adata.obs.Consensus_gene_demux.unique())\n",
    "print(adata.obs.line.unique())"
   ]
  },
  {
   "cell_type": "code",
   "execution_count": 80,
   "metadata": {},
   "outputs": [
    {
     "name": "stdout",
     "output_type": "stream",
     "text": [
      "Rows with mismatched run: 0\n",
      "Rows with mismatched tags: 0\n",
      "Rows with mismatched line/Consensus: 47480\n"
     ]
    }
   ],
   "source": [
    "if inconsistent_count > 0:\n",
    "    # Analyze types of inconsistencies\n",
    "    run_mismatch = adata.obs[adata.obs['run'] != adata.obs['run_gene_demux']]\n",
    "\n",
    "    tag_mismatch = adata.obs[adata.obs['tags'] != adata.obs['index']]\n",
    "    \n",
    "    # Convert categorical columns to string for comparison\n",
    "    line_str = adata.obs['line'].astype(str)\n",
    "    consensus_str = adata.obs['Consensus_gene_demux'].astype(str)\n",
    "    \n",
    "    # Exclude 'CTL01A' and 'CTL02A' from line mismatch check\n",
    "    line_mismatch = adata.obs[\n",
    "        (line_str != consensus_str) & \n",
    "        ~(adata.obs['Consensus_gene_demux'].isin(['CTL01A', 'CTL02A']) | (adata.obs.run == 508))\n",
    "    ]\n",
    "    \n",
    "    print(f\"Rows with mismatched run: {len(run_mismatch)}\")\n",
    "    print(f\"Rows with mismatched tags: {len(tag_mismatch)}\")\n",
    "    print(f\"Rows with mismatched line/Consensus: {len(line_mismatch)}\")"
   ]
  },
  {
   "cell_type": "code",
   "execution_count": 81,
   "metadata": {},
   "outputs": [
    {
     "name": "stdout",
     "output_type": "stream",
     "text": [
      "Number of cells before filtering: 494164\n",
      "Number of cells after filtering: 480500\n",
      "Number of cells removed: 13664\n",
      "Percentage of cells kept: 97.23%\n"
     ]
    }
   ],
   "source": [
    "n_cells_before = adata.n_obs\n",
    "\n",
    "# Filter the AnnData object to keep only consistent records\n",
    "adata_filtered = adata[adata.obs['is_consistent']]\n",
    "\n",
    "n_cells_after = adata_filtered.n_obs\n",
    "\n",
    "print(f\"Number of cells before filtering: {n_cells_before}\")\n",
    "print(f\"Number of cells after filtering: {n_cells_after}\")\n",
    "print(f\"Number of cells removed: {n_cells_before - n_cells_after}\")\n",
    "print(f\"Percentage of cells kept: {(n_cells_after / n_cells_before) * 100:.2f}%\")"
   ]
  },
  {
   "cell_type": "code",
   "execution_count": 82,
   "metadata": {},
   "outputs": [
    {
     "data": {
      "text/html": [
       "<div>\n",
       "<style scoped>\n",
       "    .dataframe tbody tr th:only-of-type {\n",
       "        vertical-align: middle;\n",
       "    }\n",
       "\n",
       "    .dataframe tbody tr th {\n",
       "        vertical-align: top;\n",
       "    }\n",
       "\n",
       "    .dataframe thead th {\n",
       "        text-align: right;\n",
       "    }\n",
       "</style>\n",
       "<table border=\"1\" class=\"dataframe\">\n",
       "  <thead>\n",
       "    <tr style=\"text-align: right;\">\n",
       "      <th></th>\n",
       "      <th>tags</th>\n",
       "      <th>run</th>\n",
       "      <th>cmo</th>\n",
       "      <th>condition</th>\n",
       "      <th>line</th>\n",
       "      <th>replicate</th>\n",
       "      <th>condition_clean</th>\n",
       "      <th>index</th>\n",
       "      <th>Consensus_gene_demux</th>\n",
       "      <th>run_gene_demux</th>\n",
       "      <th>is_consistent</th>\n",
       "    </tr>\n",
       "  </thead>\n",
       "  <tbody>\n",
       "    <tr>\n",
       "      <th>AAACCCAAGGACGCAT-1-501</th>\n",
       "      <td>AAACCCAAGGACGCAT-1</td>\n",
       "      <td>501</td>\n",
       "      <td>306.0</td>\n",
       "      <td>THYROID_AGONIST</td>\n",
       "      <td>CTL08A</td>\n",
       "      <td>3</td>\n",
       "      <td>THYROID_AGONIST</td>\n",
       "      <td>AAACCCAAGGACGCAT-1</td>\n",
       "      <td>CTL08A</td>\n",
       "      <td>501</td>\n",
       "      <td>True</td>\n",
       "    </tr>\n",
       "    <tr>\n",
       "      <th>AAACCCAAGTTGAAAC-1-501</th>\n",
       "      <td>AAACCCAAGTTGAAAC-1</td>\n",
       "      <td>501</td>\n",
       "      <td>305.0</td>\n",
       "      <td>THYROID_AGONIST</td>\n",
       "      <td>CTL08A</td>\n",
       "      <td>2</td>\n",
       "      <td>THYROID_AGONIST</td>\n",
       "      <td>AAACCCAAGTTGAAAC-1</td>\n",
       "      <td>CTL08A</td>\n",
       "      <td>501</td>\n",
       "      <td>True</td>\n",
       "    </tr>\n",
       "    <tr>\n",
       "      <th>AAACCCACAACGGGTA-1-501</th>\n",
       "      <td>AAACCCACAACGGGTA-1</td>\n",
       "      <td>501</td>\n",
       "      <td>306.0</td>\n",
       "      <td>THYROID_AGONIST</td>\n",
       "      <td>CTL08A</td>\n",
       "      <td>3</td>\n",
       "      <td>THYROID_AGONIST</td>\n",
       "      <td>AAACCCACAACGGGTA-1</td>\n",
       "      <td>CTL08A</td>\n",
       "      <td>501</td>\n",
       "      <td>True</td>\n",
       "    </tr>\n",
       "    <tr>\n",
       "      <th>AAACCCACAAGATCCT-1-501</th>\n",
       "      <td>AAACCCACAAGATCCT-1</td>\n",
       "      <td>501</td>\n",
       "      <td>303.0</td>\n",
       "      <td>THYROID_AGONIST</td>\n",
       "      <td>CTL04E</td>\n",
       "      <td>3</td>\n",
       "      <td>THYROID_AGONIST</td>\n",
       "      <td>AAACCCACAAGATCCT-1</td>\n",
       "      <td>CTL04E</td>\n",
       "      <td>501</td>\n",
       "      <td>True</td>\n",
       "    </tr>\n",
       "    <tr>\n",
       "      <th>AAACCCACAATCAAGA-1-501</th>\n",
       "      <td>AAACCCACAATCAAGA-1</td>\n",
       "      <td>501</td>\n",
       "      <td>301.0</td>\n",
       "      <td>THYROID_AGONIST</td>\n",
       "      <td>CTL04E</td>\n",
       "      <td>1</td>\n",
       "      <td>THYROID_AGONIST</td>\n",
       "      <td>AAACCCACAATCAAGA-1</td>\n",
       "      <td>CTL04E</td>\n",
       "      <td>501</td>\n",
       "      <td>True</td>\n",
       "    </tr>\n",
       "  </tbody>\n",
       "</table>\n",
       "</div>"
      ],
      "text/plain": [
       "                                      tags  run    cmo        condition  \\\n",
       "AAACCCAAGGACGCAT-1-501  AAACCCAAGGACGCAT-1  501  306.0  THYROID_AGONIST   \n",
       "AAACCCAAGTTGAAAC-1-501  AAACCCAAGTTGAAAC-1  501  305.0  THYROID_AGONIST   \n",
       "AAACCCACAACGGGTA-1-501  AAACCCACAACGGGTA-1  501  306.0  THYROID_AGONIST   \n",
       "AAACCCACAAGATCCT-1-501  AAACCCACAAGATCCT-1  501  303.0  THYROID_AGONIST   \n",
       "AAACCCACAATCAAGA-1-501  AAACCCACAATCAAGA-1  501  301.0  THYROID_AGONIST   \n",
       "\n",
       "                          line replicate  condition_clean               index  \\\n",
       "AAACCCAAGGACGCAT-1-501  CTL08A         3  THYROID_AGONIST  AAACCCAAGGACGCAT-1   \n",
       "AAACCCAAGTTGAAAC-1-501  CTL08A         2  THYROID_AGONIST  AAACCCAAGTTGAAAC-1   \n",
       "AAACCCACAACGGGTA-1-501  CTL08A         3  THYROID_AGONIST  AAACCCACAACGGGTA-1   \n",
       "AAACCCACAAGATCCT-1-501  CTL04E         3  THYROID_AGONIST  AAACCCACAAGATCCT-1   \n",
       "AAACCCACAATCAAGA-1-501  CTL04E         1  THYROID_AGONIST  AAACCCACAATCAAGA-1   \n",
       "\n",
       "                       Consensus_gene_demux  run_gene_demux  is_consistent  \n",
       "AAACCCAAGGACGCAT-1-501               CTL08A             501           True  \n",
       "AAACCCAAGTTGAAAC-1-501               CTL08A             501           True  \n",
       "AAACCCACAACGGGTA-1-501               CTL08A             501           True  \n",
       "AAACCCACAAGATCCT-1-501               CTL04E             501           True  \n",
       "AAACCCACAATCAAGA-1-501               CTL04E             501           True  "
      ]
     },
     "execution_count": 82,
     "metadata": {},
     "output_type": "execute_result"
    }
   ],
   "source": [
    "adata_filtered.obs.head()"
   ]
  },
  {
   "cell_type": "code",
   "execution_count": 83,
   "metadata": {},
   "outputs": [],
   "source": [
    "adata_filtered.obs = adata_filtered.obs.drop(columns=['is_consistent'])\n",
    "adata_filtered.obs = adata_filtered.obs.drop(columns=['index'])\n",
    "adata_filtered.obs = adata_filtered.obs.drop(columns=['run'])\n",
    "adata_filtered.obs = adata_filtered.obs.drop(columns=['line'])"
   ]
  },
  {
   "cell_type": "code",
   "execution_count": 84,
   "metadata": {},
   "outputs": [
    {
     "data": {
      "text/html": [
       "<div>\n",
       "<style scoped>\n",
       "    .dataframe tbody tr th:only-of-type {\n",
       "        vertical-align: middle;\n",
       "    }\n",
       "\n",
       "    .dataframe tbody tr th {\n",
       "        vertical-align: top;\n",
       "    }\n",
       "\n",
       "    .dataframe thead th {\n",
       "        text-align: right;\n",
       "    }\n",
       "</style>\n",
       "<table border=\"1\" class=\"dataframe\">\n",
       "  <thead>\n",
       "    <tr style=\"text-align: right;\">\n",
       "      <th></th>\n",
       "      <th>tags</th>\n",
       "      <th>cmo</th>\n",
       "      <th>condition</th>\n",
       "      <th>replicate</th>\n",
       "      <th>condition_clean</th>\n",
       "      <th>Consensus_gene_demux</th>\n",
       "      <th>run_gene_demux</th>\n",
       "    </tr>\n",
       "  </thead>\n",
       "  <tbody>\n",
       "    <tr>\n",
       "      <th>AAACCCAAGGACGCAT-1-501</th>\n",
       "      <td>AAACCCAAGGACGCAT-1</td>\n",
       "      <td>306.0</td>\n",
       "      <td>THYROID_AGONIST</td>\n",
       "      <td>3</td>\n",
       "      <td>THYROID_AGONIST</td>\n",
       "      <td>CTL08A</td>\n",
       "      <td>501</td>\n",
       "    </tr>\n",
       "    <tr>\n",
       "      <th>AAACCCAAGTTGAAAC-1-501</th>\n",
       "      <td>AAACCCAAGTTGAAAC-1</td>\n",
       "      <td>305.0</td>\n",
       "      <td>THYROID_AGONIST</td>\n",
       "      <td>2</td>\n",
       "      <td>THYROID_AGONIST</td>\n",
       "      <td>CTL08A</td>\n",
       "      <td>501</td>\n",
       "    </tr>\n",
       "    <tr>\n",
       "      <th>AAACCCACAACGGGTA-1-501</th>\n",
       "      <td>AAACCCACAACGGGTA-1</td>\n",
       "      <td>306.0</td>\n",
       "      <td>THYROID_AGONIST</td>\n",
       "      <td>3</td>\n",
       "      <td>THYROID_AGONIST</td>\n",
       "      <td>CTL08A</td>\n",
       "      <td>501</td>\n",
       "    </tr>\n",
       "    <tr>\n",
       "      <th>AAACCCACAAGATCCT-1-501</th>\n",
       "      <td>AAACCCACAAGATCCT-1</td>\n",
       "      <td>303.0</td>\n",
       "      <td>THYROID_AGONIST</td>\n",
       "      <td>3</td>\n",
       "      <td>THYROID_AGONIST</td>\n",
       "      <td>CTL04E</td>\n",
       "      <td>501</td>\n",
       "    </tr>\n",
       "    <tr>\n",
       "      <th>AAACCCACAATCAAGA-1-501</th>\n",
       "      <td>AAACCCACAATCAAGA-1</td>\n",
       "      <td>301.0</td>\n",
       "      <td>THYROID_AGONIST</td>\n",
       "      <td>1</td>\n",
       "      <td>THYROID_AGONIST</td>\n",
       "      <td>CTL04E</td>\n",
       "      <td>501</td>\n",
       "    </tr>\n",
       "  </tbody>\n",
       "</table>\n",
       "</div>"
      ],
      "text/plain": [
       "                                      tags    cmo        condition replicate  \\\n",
       "AAACCCAAGGACGCAT-1-501  AAACCCAAGGACGCAT-1  306.0  THYROID_AGONIST         3   \n",
       "AAACCCAAGTTGAAAC-1-501  AAACCCAAGTTGAAAC-1  305.0  THYROID_AGONIST         2   \n",
       "AAACCCACAACGGGTA-1-501  AAACCCACAACGGGTA-1  306.0  THYROID_AGONIST         3   \n",
       "AAACCCACAAGATCCT-1-501  AAACCCACAAGATCCT-1  303.0  THYROID_AGONIST         3   \n",
       "AAACCCACAATCAAGA-1-501  AAACCCACAATCAAGA-1  301.0  THYROID_AGONIST         1   \n",
       "\n",
       "                        condition_clean Consensus_gene_demux  run_gene_demux  \n",
       "AAACCCAAGGACGCAT-1-501  THYROID_AGONIST               CTL08A             501  \n",
       "AAACCCAAGTTGAAAC-1-501  THYROID_AGONIST               CTL08A             501  \n",
       "AAACCCACAACGGGTA-1-501  THYROID_AGONIST               CTL08A             501  \n",
       "AAACCCACAAGATCCT-1-501  THYROID_AGONIST               CTL04E             501  \n",
       "AAACCCACAATCAAGA-1-501  THYROID_AGONIST               CTL04E             501  "
      ]
     },
     "execution_count": 84,
     "metadata": {},
     "output_type": "execute_result"
    }
   ],
   "source": [
    "adata_filtered.obs.head()"
   ]
  },
  {
   "cell_type": "code",
   "execution_count": 85,
   "metadata": {},
   "outputs": [],
   "source": [
    "adata_filtered.obs = adata_filtered.obs.rename(columns={\n",
    "    'Consensus_gene_demux': 'line', \n",
    "    'run_gene_demux': 'run'\n",
    "    })"
   ]
  },
  {
   "cell_type": "code",
   "execution_count": 86,
   "metadata": {},
   "outputs": [
    {
     "name": "stdout",
     "output_type": "stream",
     "text": [
      "Unique values in 'cmo' after conversion: [306 305 303 301 302 304 312 310 309 308 307 311  -1]\n",
      "Number of -1 values (originally NaN): 84930\n"
     ]
    }
   ],
   "source": [
    "adata_filtered.obs['cmo'] = pd.to_numeric(adata_filtered.obs['cmo'], errors='coerce')\n",
    "    \n",
    "# Replace NaN with the specified value\n",
    "adata_filtered.obs['cmo'] = adata_filtered.obs['cmo'].fillna(-1)\n",
    "\n",
    "# Convert to integer\n",
    "adata_filtered.obs['cmo'] = adata_filtered.obs['cmo'].astype(int)\n",
    "\n",
    "# Print some information about the conversion\n",
    "print(f\"Unique values in 'cmo' after conversion: {adata_filtered.obs['cmo'].unique()}\")\n",
    "print(f\"Number of -1 values (originally NaN): {(adata_filtered.obs['cmo'] == -1).sum()}\")"
   ]
  },
  {
   "cell_type": "code",
   "execution_count": 87,
   "metadata": {},
   "outputs": [
    {
     "data": {
      "text/html": [
       "<div>\n",
       "<style scoped>\n",
       "    .dataframe tbody tr th:only-of-type {\n",
       "        vertical-align: middle;\n",
       "    }\n",
       "\n",
       "    .dataframe tbody tr th {\n",
       "        vertical-align: top;\n",
       "    }\n",
       "\n",
       "    .dataframe thead th {\n",
       "        text-align: right;\n",
       "    }\n",
       "</style>\n",
       "<table border=\"1\" class=\"dataframe\">\n",
       "  <thead>\n",
       "    <tr style=\"text-align: right;\">\n",
       "      <th></th>\n",
       "      <th>tags</th>\n",
       "      <th>cmo</th>\n",
       "      <th>condition</th>\n",
       "      <th>replicate</th>\n",
       "      <th>condition_clean</th>\n",
       "      <th>line</th>\n",
       "      <th>run</th>\n",
       "    </tr>\n",
       "  </thead>\n",
       "  <tbody>\n",
       "    <tr>\n",
       "      <th>AAACCCAAGAGGTCGT-1-508</th>\n",
       "      <td>AAACCCAAGAGGTCGT-1</td>\n",
       "      <td>-1</td>\n",
       "      <td>RET_AGONIST</td>\n",
       "      <td>NaN</td>\n",
       "      <td>RET_AGONIST</td>\n",
       "      <td>CTL08A</td>\n",
       "      <td>508</td>\n",
       "    </tr>\n",
       "    <tr>\n",
       "      <th>AAACCCAAGGATTCCT-1-508</th>\n",
       "      <td>AAACCCAAGGATTCCT-1</td>\n",
       "      <td>-1</td>\n",
       "      <td>RET_AGONIST</td>\n",
       "      <td>NaN</td>\n",
       "      <td>RET_AGONIST</td>\n",
       "      <td>CTL08A</td>\n",
       "      <td>508</td>\n",
       "    </tr>\n",
       "    <tr>\n",
       "      <th>AAACCCAAGGGAACAA-1-508</th>\n",
       "      <td>AAACCCAAGGGAACAA-1</td>\n",
       "      <td>-1</td>\n",
       "      <td>RET_AGONIST</td>\n",
       "      <td>NaN</td>\n",
       "      <td>RET_AGONIST</td>\n",
       "      <td>CTL04E</td>\n",
       "      <td>508</td>\n",
       "    </tr>\n",
       "    <tr>\n",
       "      <th>AAACCCAAGGTTAAAC-1-508</th>\n",
       "      <td>AAACCCAAGGTTAAAC-1</td>\n",
       "      <td>-1</td>\n",
       "      <td>RET_AGONIST</td>\n",
       "      <td>NaN</td>\n",
       "      <td>RET_AGONIST</td>\n",
       "      <td>CTL08A</td>\n",
       "      <td>508</td>\n",
       "    </tr>\n",
       "    <tr>\n",
       "      <th>AAACCCAAGTCGTTAC-1-508</th>\n",
       "      <td>AAACCCAAGTCGTTAC-1</td>\n",
       "      <td>-1</td>\n",
       "      <td>RET_AGONIST</td>\n",
       "      <td>NaN</td>\n",
       "      <td>RET_AGONIST</td>\n",
       "      <td>CTL04E</td>\n",
       "      <td>508</td>\n",
       "    </tr>\n",
       "  </tbody>\n",
       "</table>\n",
       "</div>"
      ],
      "text/plain": [
       "                                      tags  cmo    condition replicate  \\\n",
       "AAACCCAAGAGGTCGT-1-508  AAACCCAAGAGGTCGT-1   -1  RET_AGONIST       NaN   \n",
       "AAACCCAAGGATTCCT-1-508  AAACCCAAGGATTCCT-1   -1  RET_AGONIST       NaN   \n",
       "AAACCCAAGGGAACAA-1-508  AAACCCAAGGGAACAA-1   -1  RET_AGONIST       NaN   \n",
       "AAACCCAAGGTTAAAC-1-508  AAACCCAAGGTTAAAC-1   -1  RET_AGONIST       NaN   \n",
       "AAACCCAAGTCGTTAC-1-508  AAACCCAAGTCGTTAC-1   -1  RET_AGONIST       NaN   \n",
       "\n",
       "                       condition_clean    line  run  \n",
       "AAACCCAAGAGGTCGT-1-508     RET_AGONIST  CTL08A  508  \n",
       "AAACCCAAGGATTCCT-1-508     RET_AGONIST  CTL08A  508  \n",
       "AAACCCAAGGGAACAA-1-508     RET_AGONIST  CTL04E  508  \n",
       "AAACCCAAGGTTAAAC-1-508     RET_AGONIST  CTL08A  508  \n",
       "AAACCCAAGTCGTTAC-1-508     RET_AGONIST  CTL04E  508  "
      ]
     },
     "execution_count": 87,
     "metadata": {},
     "output_type": "execute_result"
    }
   ],
   "source": [
    "adata_filtered[adata_filtered.obs.cmo==-1].obs.head()"
   ]
  },
  {
   "cell_type": "code",
   "execution_count": 88,
   "metadata": {},
   "outputs": [
    {
     "data": {
      "image/png": "[encoded data removed]",
      "text/plain": [
       "<Figure size 1200x800 with 4 Axes>"
      ]
     },
     "metadata": {},
     "output_type": "display_data"
    }
   ],
   "source": [
    "fig, axes = plt.subplots(2, 2, figsize=(12, 8))\n",
    "\n",
    "axes = axes.flatten()\n",
    "\n",
    "columns = ['run', 'line', 'condition', 'replicate']\n",
    "\n",
    "for ax, column in zip(axes, columns):\n",
    "    adata_filtered.obs[column].value_counts().plot.bar(ax=ax, color='gray')\n",
    "    ax.set_title(column)\n",
    "    ax.set_ylabel('Count')\n",
    "    ax.tick_params(axis='x', rotation=90)\n",
    "\n",
    "plt.tight_layout()\n",
    "plt.show()"
   ]
  },
  {
   "cell_type": "code",
   "execution_count": 89,
   "metadata": {},
   "outputs": [
    {
     "data": {
      "text/plain": [
       "AnnData object with n_obs × n_vars = 480500 × 36601\n",
       "    obs: 'tags', 'cmo', 'condition', 'replicate', 'condition_clean', 'line', 'run'\n",
       "    var: 'gene_ids', 'feature_types', 'genome'"
      ]
     },
     "execution_count": 89,
     "metadata": {},
     "output_type": "execute_result"
    }
   ],
   "source": [
    "adata_filtered"
   ]
  },
  {
   "cell_type": "code",
   "execution_count": 90,
   "metadata": {},
   "outputs": [],
   "source": [
    "adata_filtered.write_h5ad('./adatas/combined_scRNA_seq_data_with_genetic_demux_filtered_consistent.h5ad')"
   ]
  }
 ],
 "metadata": {
  "kernelspec": {
   "display_name": "Python 3",
   "language": "python",
   "name": "python3"
  },
  "language_info": {
   "codemirror_mode": {
    "name": "ipython",
    "version": 3
   },
   "file_extension": ".py",
   "mimetype": "text/x-python",
   "name": "python",
   "nbconvert_exporter": "python",
   "pygments_lexer": "ipython3",
   "version": "3.10.14"
  }
 },
 "nbformat": 4,
 "nbformat_minor": 2
}
